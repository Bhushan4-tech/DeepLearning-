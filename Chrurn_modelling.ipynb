{
  "nbformat": 4,
  "nbformat_minor": 0,
  "metadata": {
    "colab": {
      "provenance": [],
      "collapsed_sections": [],
      "include_colab_link": true
    },
    "kernelspec": {
      "name": "python3",
      "display_name": "Python 3"
    },
    "language_info": {
      "name": "python"
    },
    "accelerator": "GPU",
    "gpuClass": "standard"
  },
  "cells": [
    {
      "cell_type": "markdown",
      "metadata": {
        "id": "view-in-github",
        "colab_type": "text"
      },
      "source": [
        "<a href=\"https://colab.research.google.com/github/Bhushan4-tech/DeepLearning-/blob/main/Chrurn_modelling.ipynb\" target=\"_parent\"><img src=\"https://colab.research.google.com/assets/colab-badge.svg\" alt=\"Open In Colab\"/></a>"
      ]
    },
    {
      "cell_type": "code",
      "source": [
        "from google.colab import drive\n",
        "drive.mount(\"/content/grive\")"
      ],
      "metadata": {
        "colab": {
          "base_uri": "https://localhost:8080/"
        },
        "id": "HnN7cPVXgz55",
        "outputId": "c7b25f4e-7b74-4240-82a9-b8e63b99064c"
      },
      "execution_count": 1,
      "outputs": [
        {
          "output_type": "stream",
          "name": "stdout",
          "text": [
            "Drive already mounted at /content/grive; to attempt to forcibly remount, call drive.mount(\"/content/grive\", force_remount=True).\n"
          ]
        }
      ]
    },
    {
      "cell_type": "code",
      "execution_count": 2,
      "metadata": {
        "colab": {
          "base_uri": "https://localhost:8080/"
        },
        "id": "BD4A7DCQGJQG",
        "outputId": "ec2971b2-5176-4803-d4f1-7306ea184d52"
      },
      "outputs": [
        {
          "output_type": "stream",
          "name": "stdout",
          "text": [
            "Mon Sep 19 04:52:57 2022       \n",
            "+-----------------------------------------------------------------------------+\n",
            "| NVIDIA-SMI 460.32.03    Driver Version: 460.32.03    CUDA Version: 11.2     |\n",
            "|-------------------------------+----------------------+----------------------+\n",
            "| GPU  Name        Persistence-M| Bus-Id        Disp.A | Volatile Uncorr. ECC |\n",
            "| Fan  Temp  Perf  Pwr:Usage/Cap|         Memory-Usage | GPU-Util  Compute M. |\n",
            "|                               |                      |               MIG M. |\n",
            "|===============================+======================+======================|\n",
            "|   0  Tesla T4            Off  | 00000000:00:04.0 Off |                    0 |\n",
            "| N/A   36C    P8    10W /  70W |      0MiB / 15109MiB |      0%      Default |\n",
            "|                               |                      |                  N/A |\n",
            "+-------------------------------+----------------------+----------------------+\n",
            "                                                                               \n",
            "+-----------------------------------------------------------------------------+\n",
            "| Processes:                                                                  |\n",
            "|  GPU   GI   CI        PID   Type   Process name                  GPU Memory |\n",
            "|        ID   ID                                                   Usage      |\n",
            "|=============================================================================|\n",
            "|  No running processes found                                                 |\n",
            "+-----------------------------------------------------------------------------+\n"
          ]
        }
      ],
      "source": [
        "!nvidia-smi"
      ]
    },
    {
      "cell_type": "code",
      "source": [
        "import os\n",
        "import numpy as np\n",
        "import pandas as pd\n",
        "\n",
        "import seaborn as sns\n",
        "import matplotlib.pyplot as plt\n",
        "\n",
        "import warnings\n",
        "warnings.filterwarnings(\"ignore\")\n",
        "\n",
        "\n",
        "from sklearn.model_selection import train_test_split\n",
        "from sklearn.preprocessing import MinMaxScaler\n",
        "\n",
        "%matplotlib inline"
      ],
      "metadata": {
        "id": "W56fxIygImFT"
      },
      "execution_count": 68,
      "outputs": []
    },
    {
      "cell_type": "code",
      "source": [
        "df = pd.read_csv(\"/content/grive/MyDrive/Churn_Modelling.csv\")\n",
        "df"
      ],
      "metadata": {
        "id": "W4E_dNzwI3SZ",
        "colab": {
          "base_uri": "https://localhost:8080/",
          "height": 424
        },
        "outputId": "be493238-7be0-43c0-a258-5ebf18a820c0"
      },
      "execution_count": 4,
      "outputs": [
        {
          "output_type": "execute_result",
          "data": {
            "text/plain": [
              "      RowNumber  CustomerId    Surname  CreditScore Geography  Gender  Age  \\\n",
              "0             1    15634602   Hargrave          619    France  Female   42   \n",
              "1             2    15647311       Hill          608     Spain  Female   41   \n",
              "2             3    15619304       Onio          502    France  Female   42   \n",
              "3             4    15701354       Boni          699    France  Female   39   \n",
              "4             5    15737888   Mitchell          850     Spain  Female   43   \n",
              "...         ...         ...        ...          ...       ...     ...  ...   \n",
              "9995       9996    15606229   Obijiaku          771    France    Male   39   \n",
              "9996       9997    15569892  Johnstone          516    France    Male   35   \n",
              "9997       9998    15584532        Liu          709    France  Female   36   \n",
              "9998       9999    15682355  Sabbatini          772   Germany    Male   42   \n",
              "9999      10000    15628319     Walker          792    France  Female   28   \n",
              "\n",
              "      Tenure    Balance  NumOfProducts  HasCrCard  IsActiveMember  \\\n",
              "0          2       0.00              1          1               1   \n",
              "1          1   83807.86              1          0               1   \n",
              "2          8  159660.80              3          1               0   \n",
              "3          1       0.00              2          0               0   \n",
              "4          2  125510.82              1          1               1   \n",
              "...      ...        ...            ...        ...             ...   \n",
              "9995       5       0.00              2          1               0   \n",
              "9996      10   57369.61              1          1               1   \n",
              "9997       7       0.00              1          0               1   \n",
              "9998       3   75075.31              2          1               0   \n",
              "9999       4  130142.79              1          1               0   \n",
              "\n",
              "      EstimatedSalary  Exited  \n",
              "0           101348.88       1  \n",
              "1           112542.58       0  \n",
              "2           113931.57       1  \n",
              "3            93826.63       0  \n",
              "4            79084.10       0  \n",
              "...               ...     ...  \n",
              "9995         96270.64       0  \n",
              "9996        101699.77       0  \n",
              "9997         42085.58       1  \n",
              "9998         92888.52       1  \n",
              "9999         38190.78       0  \n",
              "\n",
              "[10000 rows x 14 columns]"
            ],
            "text/html": [
              "\n",
              "  <div id=\"df-95a14821-ca64-4bcf-8861-056efc56ff75\">\n",
              "    <div class=\"colab-df-container\">\n",
              "      <div>\n",
              "<style scoped>\n",
              "    .dataframe tbody tr th:only-of-type {\n",
              "        vertical-align: middle;\n",
              "    }\n",
              "\n",
              "    .dataframe tbody tr th {\n",
              "        vertical-align: top;\n",
              "    }\n",
              "\n",
              "    .dataframe thead th {\n",
              "        text-align: right;\n",
              "    }\n",
              "</style>\n",
              "<table border=\"1\" class=\"dataframe\">\n",
              "  <thead>\n",
              "    <tr style=\"text-align: right;\">\n",
              "      <th></th>\n",
              "      <th>RowNumber</th>\n",
              "      <th>CustomerId</th>\n",
              "      <th>Surname</th>\n",
              "      <th>CreditScore</th>\n",
              "      <th>Geography</th>\n",
              "      <th>Gender</th>\n",
              "      <th>Age</th>\n",
              "      <th>Tenure</th>\n",
              "      <th>Balance</th>\n",
              "      <th>NumOfProducts</th>\n",
              "      <th>HasCrCard</th>\n",
              "      <th>IsActiveMember</th>\n",
              "      <th>EstimatedSalary</th>\n",
              "      <th>Exited</th>\n",
              "    </tr>\n",
              "  </thead>\n",
              "  <tbody>\n",
              "    <tr>\n",
              "      <th>0</th>\n",
              "      <td>1</td>\n",
              "      <td>15634602</td>\n",
              "      <td>Hargrave</td>\n",
              "      <td>619</td>\n",
              "      <td>France</td>\n",
              "      <td>Female</td>\n",
              "      <td>42</td>\n",
              "      <td>2</td>\n",
              "      <td>0.00</td>\n",
              "      <td>1</td>\n",
              "      <td>1</td>\n",
              "      <td>1</td>\n",
              "      <td>101348.88</td>\n",
              "      <td>1</td>\n",
              "    </tr>\n",
              "    <tr>\n",
              "      <th>1</th>\n",
              "      <td>2</td>\n",
              "      <td>15647311</td>\n",
              "      <td>Hill</td>\n",
              "      <td>608</td>\n",
              "      <td>Spain</td>\n",
              "      <td>Female</td>\n",
              "      <td>41</td>\n",
              "      <td>1</td>\n",
              "      <td>83807.86</td>\n",
              "      <td>1</td>\n",
              "      <td>0</td>\n",
              "      <td>1</td>\n",
              "      <td>112542.58</td>\n",
              "      <td>0</td>\n",
              "    </tr>\n",
              "    <tr>\n",
              "      <th>2</th>\n",
              "      <td>3</td>\n",
              "      <td>15619304</td>\n",
              "      <td>Onio</td>\n",
              "      <td>502</td>\n",
              "      <td>France</td>\n",
              "      <td>Female</td>\n",
              "      <td>42</td>\n",
              "      <td>8</td>\n",
              "      <td>159660.80</td>\n",
              "      <td>3</td>\n",
              "      <td>1</td>\n",
              "      <td>0</td>\n",
              "      <td>113931.57</td>\n",
              "      <td>1</td>\n",
              "    </tr>\n",
              "    <tr>\n",
              "      <th>3</th>\n",
              "      <td>4</td>\n",
              "      <td>15701354</td>\n",
              "      <td>Boni</td>\n",
              "      <td>699</td>\n",
              "      <td>France</td>\n",
              "      <td>Female</td>\n",
              "      <td>39</td>\n",
              "      <td>1</td>\n",
              "      <td>0.00</td>\n",
              "      <td>2</td>\n",
              "      <td>0</td>\n",
              "      <td>0</td>\n",
              "      <td>93826.63</td>\n",
              "      <td>0</td>\n",
              "    </tr>\n",
              "    <tr>\n",
              "      <th>4</th>\n",
              "      <td>5</td>\n",
              "      <td>15737888</td>\n",
              "      <td>Mitchell</td>\n",
              "      <td>850</td>\n",
              "      <td>Spain</td>\n",
              "      <td>Female</td>\n",
              "      <td>43</td>\n",
              "      <td>2</td>\n",
              "      <td>125510.82</td>\n",
              "      <td>1</td>\n",
              "      <td>1</td>\n",
              "      <td>1</td>\n",
              "      <td>79084.10</td>\n",
              "      <td>0</td>\n",
              "    </tr>\n",
              "    <tr>\n",
              "      <th>...</th>\n",
              "      <td>...</td>\n",
              "      <td>...</td>\n",
              "      <td>...</td>\n",
              "      <td>...</td>\n",
              "      <td>...</td>\n",
              "      <td>...</td>\n",
              "      <td>...</td>\n",
              "      <td>...</td>\n",
              "      <td>...</td>\n",
              "      <td>...</td>\n",
              "      <td>...</td>\n",
              "      <td>...</td>\n",
              "      <td>...</td>\n",
              "      <td>...</td>\n",
              "    </tr>\n",
              "    <tr>\n",
              "      <th>9995</th>\n",
              "      <td>9996</td>\n",
              "      <td>15606229</td>\n",
              "      <td>Obijiaku</td>\n",
              "      <td>771</td>\n",
              "      <td>France</td>\n",
              "      <td>Male</td>\n",
              "      <td>39</td>\n",
              "      <td>5</td>\n",
              "      <td>0.00</td>\n",
              "      <td>2</td>\n",
              "      <td>1</td>\n",
              "      <td>0</td>\n",
              "      <td>96270.64</td>\n",
              "      <td>0</td>\n",
              "    </tr>\n",
              "    <tr>\n",
              "      <th>9996</th>\n",
              "      <td>9997</td>\n",
              "      <td>15569892</td>\n",
              "      <td>Johnstone</td>\n",
              "      <td>516</td>\n",
              "      <td>France</td>\n",
              "      <td>Male</td>\n",
              "      <td>35</td>\n",
              "      <td>10</td>\n",
              "      <td>57369.61</td>\n",
              "      <td>1</td>\n",
              "      <td>1</td>\n",
              "      <td>1</td>\n",
              "      <td>101699.77</td>\n",
              "      <td>0</td>\n",
              "    </tr>\n",
              "    <tr>\n",
              "      <th>9997</th>\n",
              "      <td>9998</td>\n",
              "      <td>15584532</td>\n",
              "      <td>Liu</td>\n",
              "      <td>709</td>\n",
              "      <td>France</td>\n",
              "      <td>Female</td>\n",
              "      <td>36</td>\n",
              "      <td>7</td>\n",
              "      <td>0.00</td>\n",
              "      <td>1</td>\n",
              "      <td>0</td>\n",
              "      <td>1</td>\n",
              "      <td>42085.58</td>\n",
              "      <td>1</td>\n",
              "    </tr>\n",
              "    <tr>\n",
              "      <th>9998</th>\n",
              "      <td>9999</td>\n",
              "      <td>15682355</td>\n",
              "      <td>Sabbatini</td>\n",
              "      <td>772</td>\n",
              "      <td>Germany</td>\n",
              "      <td>Male</td>\n",
              "      <td>42</td>\n",
              "      <td>3</td>\n",
              "      <td>75075.31</td>\n",
              "      <td>2</td>\n",
              "      <td>1</td>\n",
              "      <td>0</td>\n",
              "      <td>92888.52</td>\n",
              "      <td>1</td>\n",
              "    </tr>\n",
              "    <tr>\n",
              "      <th>9999</th>\n",
              "      <td>10000</td>\n",
              "      <td>15628319</td>\n",
              "      <td>Walker</td>\n",
              "      <td>792</td>\n",
              "      <td>France</td>\n",
              "      <td>Female</td>\n",
              "      <td>28</td>\n",
              "      <td>4</td>\n",
              "      <td>130142.79</td>\n",
              "      <td>1</td>\n",
              "      <td>1</td>\n",
              "      <td>0</td>\n",
              "      <td>38190.78</td>\n",
              "      <td>0</td>\n",
              "    </tr>\n",
              "  </tbody>\n",
              "</table>\n",
              "<p>10000 rows × 14 columns</p>\n",
              "</div>\n",
              "      <button class=\"colab-df-convert\" onclick=\"convertToInteractive('df-95a14821-ca64-4bcf-8861-056efc56ff75')\"\n",
              "              title=\"Convert this dataframe to an interactive table.\"\n",
              "              style=\"display:none;\">\n",
              "        \n",
              "  <svg xmlns=\"http://www.w3.org/2000/svg\" height=\"24px\"viewBox=\"0 0 24 24\"\n",
              "       width=\"24px\">\n",
              "    <path d=\"M0 0h24v24H0V0z\" fill=\"none\"/>\n",
              "    <path d=\"M18.56 5.44l.94 2.06.94-2.06 2.06-.94-2.06-.94-.94-2.06-.94 2.06-2.06.94zm-11 1L8.5 8.5l.94-2.06 2.06-.94-2.06-.94L8.5 2.5l-.94 2.06-2.06.94zm10 10l.94 2.06.94-2.06 2.06-.94-2.06-.94-.94-2.06-.94 2.06-2.06.94z\"/><path d=\"M17.41 7.96l-1.37-1.37c-.4-.4-.92-.59-1.43-.59-.52 0-1.04.2-1.43.59L10.3 9.45l-7.72 7.72c-.78.78-.78 2.05 0 2.83L4 21.41c.39.39.9.59 1.41.59.51 0 1.02-.2 1.41-.59l7.78-7.78 2.81-2.81c.8-.78.8-2.07 0-2.86zM5.41 20L4 18.59l7.72-7.72 1.47 1.35L5.41 20z\"/>\n",
              "  </svg>\n",
              "      </button>\n",
              "      \n",
              "  <style>\n",
              "    .colab-df-container {\n",
              "      display:flex;\n",
              "      flex-wrap:wrap;\n",
              "      gap: 12px;\n",
              "    }\n",
              "\n",
              "    .colab-df-convert {\n",
              "      background-color: #E8F0FE;\n",
              "      border: none;\n",
              "      border-radius: 50%;\n",
              "      cursor: pointer;\n",
              "      display: none;\n",
              "      fill: #1967D2;\n",
              "      height: 32px;\n",
              "      padding: 0 0 0 0;\n",
              "      width: 32px;\n",
              "    }\n",
              "\n",
              "    .colab-df-convert:hover {\n",
              "      background-color: #E2EBFA;\n",
              "      box-shadow: 0px 1px 2px rgba(60, 64, 67, 0.3), 0px 1px 3px 1px rgba(60, 64, 67, 0.15);\n",
              "      fill: #174EA6;\n",
              "    }\n",
              "\n",
              "    [theme=dark] .colab-df-convert {\n",
              "      background-color: #3B4455;\n",
              "      fill: #D2E3FC;\n",
              "    }\n",
              "\n",
              "    [theme=dark] .colab-df-convert:hover {\n",
              "      background-color: #434B5C;\n",
              "      box-shadow: 0px 1px 3px 1px rgba(0, 0, 0, 0.15);\n",
              "      filter: drop-shadow(0px 1px 2px rgba(0, 0, 0, 0.3));\n",
              "      fill: #FFFFFF;\n",
              "    }\n",
              "  </style>\n",
              "\n",
              "      <script>\n",
              "        const buttonEl =\n",
              "          document.querySelector('#df-95a14821-ca64-4bcf-8861-056efc56ff75 button.colab-df-convert');\n",
              "        buttonEl.style.display =\n",
              "          google.colab.kernel.accessAllowed ? 'block' : 'none';\n",
              "\n",
              "        async function convertToInteractive(key) {\n",
              "          const element = document.querySelector('#df-95a14821-ca64-4bcf-8861-056efc56ff75');\n",
              "          const dataTable =\n",
              "            await google.colab.kernel.invokeFunction('convertToInteractive',\n",
              "                                                     [key], {});\n",
              "          if (!dataTable) return;\n",
              "\n",
              "          const docLinkHtml = 'Like what you see? Visit the ' +\n",
              "            '<a target=\"_blank\" href=https://colab.research.google.com/notebooks/data_table.ipynb>data table notebook</a>'\n",
              "            + ' to learn more about interactive tables.';\n",
              "          element.innerHTML = '';\n",
              "          dataTable['output_type'] = 'display_data';\n",
              "          await google.colab.output.renderOutput(dataTable, element);\n",
              "          const docLink = document.createElement('div');\n",
              "          docLink.innerHTML = docLinkHtml;\n",
              "          element.appendChild(docLink);\n",
              "        }\n",
              "      </script>\n",
              "    </div>\n",
              "  </div>\n",
              "  "
            ]
          },
          "metadata": {},
          "execution_count": 4
        }
      ]
    },
    {
      "cell_type": "code",
      "source": [
        "df.columns"
      ],
      "metadata": {
        "colab": {
          "base_uri": "https://localhost:8080/"
        },
        "id": "ykyjacBXJFjP",
        "outputId": "0701510d-ec5b-4605-b128-bd81c904cb14"
      },
      "execution_count": 5,
      "outputs": [
        {
          "output_type": "execute_result",
          "data": {
            "text/plain": [
              "Index(['RowNumber', 'CustomerId', 'Surname', 'CreditScore', 'Geography',\n",
              "       'Gender', 'Age', 'Tenure', 'Balance', 'NumOfProducts', 'HasCrCard',\n",
              "       'IsActiveMember', 'EstimatedSalary', 'Exited'],\n",
              "      dtype='object')"
            ]
          },
          "metadata": {},
          "execution_count": 5
        }
      ]
    },
    {
      "cell_type": "markdown",
      "source": [
        "We drop unusable feature"
      ],
      "metadata": {
        "id": "DK5joLQgFhcp"
      }
    },
    {
      "cell_type": "code",
      "source": [
        "df = df.drop(columns = ['RowNumber', 'CustomerId', 'Surname'])\n",
        "df.head(3)"
      ],
      "metadata": {
        "colab": {
          "base_uri": "https://localhost:8080/",
          "height": 143
        },
        "id": "8UbA-cNOMKJ1",
        "outputId": "32791f94-6bf7-481b-8681-8c625f68e287"
      },
      "execution_count": 6,
      "outputs": [
        {
          "output_type": "execute_result",
          "data": {
            "text/plain": [
              "   CreditScore Geography  Gender  Age  Tenure    Balance  NumOfProducts  \\\n",
              "0          619    France  Female   42       2       0.00              1   \n",
              "1          608     Spain  Female   41       1   83807.86              1   \n",
              "2          502    France  Female   42       8  159660.80              3   \n",
              "\n",
              "   HasCrCard  IsActiveMember  EstimatedSalary  Exited  \n",
              "0          1               1        101348.88       1  \n",
              "1          0               1        112542.58       0  \n",
              "2          1               0        113931.57       1  "
            ],
            "text/html": [
              "\n",
              "  <div id=\"df-326171b8-a3c4-4b60-a95b-e8261d502bda\">\n",
              "    <div class=\"colab-df-container\">\n",
              "      <div>\n",
              "<style scoped>\n",
              "    .dataframe tbody tr th:only-of-type {\n",
              "        vertical-align: middle;\n",
              "    }\n",
              "\n",
              "    .dataframe tbody tr th {\n",
              "        vertical-align: top;\n",
              "    }\n",
              "\n",
              "    .dataframe thead th {\n",
              "        text-align: right;\n",
              "    }\n",
              "</style>\n",
              "<table border=\"1\" class=\"dataframe\">\n",
              "  <thead>\n",
              "    <tr style=\"text-align: right;\">\n",
              "      <th></th>\n",
              "      <th>CreditScore</th>\n",
              "      <th>Geography</th>\n",
              "      <th>Gender</th>\n",
              "      <th>Age</th>\n",
              "      <th>Tenure</th>\n",
              "      <th>Balance</th>\n",
              "      <th>NumOfProducts</th>\n",
              "      <th>HasCrCard</th>\n",
              "      <th>IsActiveMember</th>\n",
              "      <th>EstimatedSalary</th>\n",
              "      <th>Exited</th>\n",
              "    </tr>\n",
              "  </thead>\n",
              "  <tbody>\n",
              "    <tr>\n",
              "      <th>0</th>\n",
              "      <td>619</td>\n",
              "      <td>France</td>\n",
              "      <td>Female</td>\n",
              "      <td>42</td>\n",
              "      <td>2</td>\n",
              "      <td>0.00</td>\n",
              "      <td>1</td>\n",
              "      <td>1</td>\n",
              "      <td>1</td>\n",
              "      <td>101348.88</td>\n",
              "      <td>1</td>\n",
              "    </tr>\n",
              "    <tr>\n",
              "      <th>1</th>\n",
              "      <td>608</td>\n",
              "      <td>Spain</td>\n",
              "      <td>Female</td>\n",
              "      <td>41</td>\n",
              "      <td>1</td>\n",
              "      <td>83807.86</td>\n",
              "      <td>1</td>\n",
              "      <td>0</td>\n",
              "      <td>1</td>\n",
              "      <td>112542.58</td>\n",
              "      <td>0</td>\n",
              "    </tr>\n",
              "    <tr>\n",
              "      <th>2</th>\n",
              "      <td>502</td>\n",
              "      <td>France</td>\n",
              "      <td>Female</td>\n",
              "      <td>42</td>\n",
              "      <td>8</td>\n",
              "      <td>159660.80</td>\n",
              "      <td>3</td>\n",
              "      <td>1</td>\n",
              "      <td>0</td>\n",
              "      <td>113931.57</td>\n",
              "      <td>1</td>\n",
              "    </tr>\n",
              "  </tbody>\n",
              "</table>\n",
              "</div>\n",
              "      <button class=\"colab-df-convert\" onclick=\"convertToInteractive('df-326171b8-a3c4-4b60-a95b-e8261d502bda')\"\n",
              "              title=\"Convert this dataframe to an interactive table.\"\n",
              "              style=\"display:none;\">\n",
              "        \n",
              "  <svg xmlns=\"http://www.w3.org/2000/svg\" height=\"24px\"viewBox=\"0 0 24 24\"\n",
              "       width=\"24px\">\n",
              "    <path d=\"M0 0h24v24H0V0z\" fill=\"none\"/>\n",
              "    <path d=\"M18.56 5.44l.94 2.06.94-2.06 2.06-.94-2.06-.94-.94-2.06-.94 2.06-2.06.94zm-11 1L8.5 8.5l.94-2.06 2.06-.94-2.06-.94L8.5 2.5l-.94 2.06-2.06.94zm10 10l.94 2.06.94-2.06 2.06-.94-2.06-.94-.94-2.06-.94 2.06-2.06.94z\"/><path d=\"M17.41 7.96l-1.37-1.37c-.4-.4-.92-.59-1.43-.59-.52 0-1.04.2-1.43.59L10.3 9.45l-7.72 7.72c-.78.78-.78 2.05 0 2.83L4 21.41c.39.39.9.59 1.41.59.51 0 1.02-.2 1.41-.59l7.78-7.78 2.81-2.81c.8-.78.8-2.07 0-2.86zM5.41 20L4 18.59l7.72-7.72 1.47 1.35L5.41 20z\"/>\n",
              "  </svg>\n",
              "      </button>\n",
              "      \n",
              "  <style>\n",
              "    .colab-df-container {\n",
              "      display:flex;\n",
              "      flex-wrap:wrap;\n",
              "      gap: 12px;\n",
              "    }\n",
              "\n",
              "    .colab-df-convert {\n",
              "      background-color: #E8F0FE;\n",
              "      border: none;\n",
              "      border-radius: 50%;\n",
              "      cursor: pointer;\n",
              "      display: none;\n",
              "      fill: #1967D2;\n",
              "      height: 32px;\n",
              "      padding: 0 0 0 0;\n",
              "      width: 32px;\n",
              "    }\n",
              "\n",
              "    .colab-df-convert:hover {\n",
              "      background-color: #E2EBFA;\n",
              "      box-shadow: 0px 1px 2px rgba(60, 64, 67, 0.3), 0px 1px 3px 1px rgba(60, 64, 67, 0.15);\n",
              "      fill: #174EA6;\n",
              "    }\n",
              "\n",
              "    [theme=dark] .colab-df-convert {\n",
              "      background-color: #3B4455;\n",
              "      fill: #D2E3FC;\n",
              "    }\n",
              "\n",
              "    [theme=dark] .colab-df-convert:hover {\n",
              "      background-color: #434B5C;\n",
              "      box-shadow: 0px 1px 3px 1px rgba(0, 0, 0, 0.15);\n",
              "      filter: drop-shadow(0px 1px 2px rgba(0, 0, 0, 0.3));\n",
              "      fill: #FFFFFF;\n",
              "    }\n",
              "  </style>\n",
              "\n",
              "      <script>\n",
              "        const buttonEl =\n",
              "          document.querySelector('#df-326171b8-a3c4-4b60-a95b-e8261d502bda button.colab-df-convert');\n",
              "        buttonEl.style.display =\n",
              "          google.colab.kernel.accessAllowed ? 'block' : 'none';\n",
              "\n",
              "        async function convertToInteractive(key) {\n",
              "          const element = document.querySelector('#df-326171b8-a3c4-4b60-a95b-e8261d502bda');\n",
              "          const dataTable =\n",
              "            await google.colab.kernel.invokeFunction('convertToInteractive',\n",
              "                                                     [key], {});\n",
              "          if (!dataTable) return;\n",
              "\n",
              "          const docLinkHtml = 'Like what you see? Visit the ' +\n",
              "            '<a target=\"_blank\" href=https://colab.research.google.com/notebooks/data_table.ipynb>data table notebook</a>'\n",
              "            + ' to learn more about interactive tables.';\n",
              "          element.innerHTML = '';\n",
              "          dataTable['output_type'] = 'display_data';\n",
              "          await google.colab.output.renderOutput(dataTable, element);\n",
              "          const docLink = document.createElement('div');\n",
              "          docLink.innerHTML = docLinkHtml;\n",
              "          element.appendChild(docLink);\n",
              "        }\n",
              "      </script>\n",
              "    </div>\n",
              "  </div>\n",
              "  "
            ]
          },
          "metadata": {},
          "execution_count": 6
        }
      ]
    },
    {
      "cell_type": "code",
      "source": [],
      "metadata": {
        "id": "0ro13dPfGQsk"
      },
      "execution_count": null,
      "outputs": []
    },
    {
      "cell_type": "markdown",
      "source": [
        "In CreditScore"
      ],
      "metadata": {
        "id": "1VvLN6AsILYF"
      }
    },
    {
      "cell_type": "code",
      "source": [
        "sns.distplot(df[\"CreditScore\"])"
      ],
      "metadata": {
        "colab": {
          "base_uri": "https://localhost:8080/",
          "height": 296
        },
        "id": "IhShH49XIQVR",
        "outputId": "4163c95e-d61e-47f4-a4ab-cdb8208c71bb"
      },
      "execution_count": 69,
      "outputs": [
        {
          "output_type": "execute_result",
          "data": {
            "text/plain": [
              "<matplotlib.axes._subplots.AxesSubplot at 0x7f4eacab6c10>"
            ]
          },
          "metadata": {},
          "execution_count": 69
        },
        {
          "output_type": "display_data",
          "data": {
            "text/plain": [
              "<Figure size 432x288 with 1 Axes>"
            ],
            "image/png": "[encoded data removed]"
          },
          "metadata": {
            "needs_background": "light"
          }
        }
      ]
    },
    {
      "cell_type": "markdown",
      "source": [
        "In Geography"
      ],
      "metadata": {
        "id": "7ngnaZvzGf1j"
      }
    },
    {
      "cell_type": "code",
      "source": [
        "df.Geography.nunique(),df.Geography.unique()"
      ],
      "metadata": {
        "colab": {
          "base_uri": "https://localhost:8080/"
        },
        "id": "udkK62H_OCNn",
        "outputId": "d208c614-a98d-4ca3-8eb8-2f72f484c504"
      },
      "execution_count": 7,
      "outputs": [
        {
          "output_type": "execute_result",
          "data": {
            "text/plain": [
              "(3, array(['France', 'Spain', 'Germany'], dtype=object))"
            ]
          },
          "metadata": {},
          "execution_count": 7
        }
      ]
    },
    {
      "cell_type": "code",
      "source": [
        "sns.countplot(df[\"Geography\"],hue = df[\"Exited\"])"
      ],
      "metadata": {
        "colab": {
          "base_uri": "https://localhost:8080/",
          "height": 296
        },
        "id": "3yHbj0a4Gq4P",
        "outputId": "e99e5124-fbce-4a20-d367-5ab7219019b7"
      },
      "execution_count": 70,
      "outputs": [
        {
          "output_type": "execute_result",
          "data": {
            "text/plain": [
              "<matplotlib.axes._subplots.AxesSubplot at 0x7f4eac8ed1d0>"
            ]
          },
          "metadata": {},
          "execution_count": 70
        },
        {
          "output_type": "display_data",
          "data": {
            "text/plain": [
              "<Figure size 432x288 with 1 Axes>"
            ],
            "image/png": "[encoded data removed]"
          },
          "metadata": {
            "needs_background": "light"
          }
        }
      ]
    },
    {
      "cell_type": "markdown",
      "source": [
        "In Gender"
      ],
      "metadata": {
        "id": "tPg7qdosJgWa"
      }
    },
    {
      "cell_type": "code",
      "source": [
        "df.Gender.nunique(),df.Gender.unique()"
      ],
      "metadata": {
        "colab": {
          "base_uri": "https://localhost:8080/"
        },
        "id": "E7AFEaNZOL9o",
        "outputId": "5db54537-7755-4ba4-e4a2-60d394aa09cf"
      },
      "execution_count": 8,
      "outputs": [
        {
          "output_type": "execute_result",
          "data": {
            "text/plain": [
              "(2, array(['Female', 'Male'], dtype=object))"
            ]
          },
          "metadata": {},
          "execution_count": 8
        }
      ]
    },
    {
      "cell_type": "code",
      "source": [
        "sns.countplot(df[\"Gender\"],hue = df[\"Exited\"])"
      ],
      "metadata": {
        "colab": {
          "base_uri": "https://localhost:8080/",
          "height": 296
        },
        "id": "f12aVLjXHSb8",
        "outputId": "416629a8-54d0-4a2b-ab21-d9c9233b14f2"
      },
      "execution_count": 71,
      "outputs": [
        {
          "output_type": "execute_result",
          "data": {
            "text/plain": [
              "<matplotlib.axes._subplots.AxesSubplot at 0x7f4eac958b90>"
            ]
          },
          "metadata": {},
          "execution_count": 71
        },
        {
          "output_type": "display_data",
          "data": {
            "text/plain": [
              "<Figure size 432x288 with 1 Axes>"
            ],
            "image/png": "[encoded data removed]"
          },
          "metadata": {
            "needs_background": "light"
          }
        }
      ]
    },
    {
      "cell_type": "code",
      "source": [
        "sns.countplot(df[\"NumOfProducts\"],hue = df[\"Exited\"])"
      ],
      "metadata": {
        "colab": {
          "base_uri": "https://localhost:8080/",
          "height": 296
        },
        "id": "vrwV0KKzJm1V",
        "outputId": "7f1faf61-fb8d-420e-d227-15544040ed28"
      },
      "execution_count": 74,
      "outputs": [
        {
          "output_type": "execute_result",
          "data": {
            "text/plain": [
              "<matplotlib.axes._subplots.AxesSubplot at 0x7f4e9ffbe9d0>"
            ]
          },
          "metadata": {},
          "execution_count": 74
        },
        {
          "output_type": "display_data",
          "data": {
            "text/plain": [
              "<Figure size 432x288 with 1 Axes>"
            ],
            "image/png": "[encoded data removed]"
          },
          "metadata": {
            "needs_background": "light"
          }
        }
      ]
    },
    {
      "cell_type": "code",
      "source": [
        "sns.countplot(df[\"HasCrCard\"],hue = df[\"Exited\"])"
      ],
      "metadata": {
        "colab": {
          "base_uri": "https://localhost:8080/",
          "height": 296
        },
        "id": "6HlB98hnJmoB",
        "outputId": "f4c66f27-5fff-4b2d-f01f-8eef860a5e60"
      },
      "execution_count": 75,
      "outputs": [
        {
          "output_type": "execute_result",
          "data": {
            "text/plain": [
              "<matplotlib.axes._subplots.AxesSubplot at 0x7f4e9ff38390>"
            ]
          },
          "metadata": {},
          "execution_count": 75
        },
        {
          "output_type": "display_data",
          "data": {
            "text/plain": [
              "<Figure size 432x288 with 1 Axes>"
            ],
            "image/png": "[encoded data removed]"
          },
          "metadata": {
            "needs_background": "light"
          }
        }
      ]
    },
    {
      "cell_type": "code",
      "source": [
        "sns.countplot(df[\"IsActiveMember\"],hue = df[\"Exited\"])"
      ],
      "metadata": {
        "colab": {
          "base_uri": "https://localhost:8080/",
          "height": 296
        },
        "id": "Sek4tYpIJmkz",
        "outputId": "6581a5c7-c765-4733-b078-b87d1f766c17"
      },
      "execution_count": 76,
      "outputs": [
        {
          "output_type": "execute_result",
          "data": {
            "text/plain": [
              "<matplotlib.axes._subplots.AxesSubplot at 0x7f4e9fee7290>"
            ]
          },
          "metadata": {},
          "execution_count": 76
        },
        {
          "output_type": "display_data",
          "data": {
            "text/plain": [
              "<Figure size 432x288 with 1 Axes>"
            ],
            "image/png": "[encoded data removed]"
          },
          "metadata": {
            "needs_background": "light"
          }
        }
      ]
    },
    {
      "cell_type": "code",
      "source": [
        "In EstimatedSalary"
      ],
      "metadata": {
        "id": "idZ3SU4oKbZF"
      },
      "execution_count": null,
      "outputs": []
    },
    {
      "cell_type": "code",
      "source": [
        "sns.distplot(df[\"EstimatedSalary\"])"
      ],
      "metadata": {
        "colab": {
          "base_uri": "https://localhost:8080/",
          "height": 307
        },
        "id": "P-1Q696RKjeQ",
        "outputId": "542725ad-7d10-496a-f5d8-786e2f35f3bd"
      },
      "execution_count": 77,
      "outputs": [
        {
          "output_type": "execute_result",
          "data": {
            "text/plain": [
              "<matplotlib.axes._subplots.AxesSubplot at 0x7f4e9fe34510>"
            ]
          },
          "metadata": {},
          "execution_count": 77
        },
        {
          "output_type": "display_data",
          "data": {
            "text/plain": [
              "<Figure size 432x288 with 1 Axes>"
            ],
            "image/png": "[encoded data removed]"
          },
          "metadata": {
            "needs_background": "light"
          }
        }
      ]
    },
    {
      "cell_type": "markdown",
      "source": [
        "Encoding"
      ],
      "metadata": {
        "id": "3lXe1Tk1LiPT"
      }
    },
    {
      "cell_type": "code",
      "source": [
        "geo_ohe = pd.get_dummies(data = df.Geography, prefix = 'Geography')\n",
        "geo_ohe.head()"
      ],
      "metadata": {
        "colab": {
          "base_uri": "https://localhost:8080/",
          "height": 206
        },
        "id": "OPKIzvYMORrT",
        "outputId": "a9fe9783-ca77-45da-9369-c4da21199151"
      },
      "execution_count": 9,
      "outputs": [
        {
          "output_type": "execute_result",
          "data": {
            "text/plain": [
              "   Geography_France  Geography_Germany  Geography_Spain\n",
              "0                 1                  0                0\n",
              "1                 0                  0                1\n",
              "2                 1                  0                0\n",
              "3                 1                  0                0\n",
              "4                 0                  0                1"
            ],
            "text/html": [
              "\n",
              "  <div id=\"df-e07c075e-1513-4a0c-8e0c-1a9c4125dd5c\">\n",
              "    <div class=\"colab-df-container\">\n",
              "      <div>\n",
              "<style scoped>\n",
              "    .dataframe tbody tr th:only-of-type {\n",
              "        vertical-align: middle;\n",
              "    }\n",
              "\n",
              "    .dataframe tbody tr th {\n",
              "        vertical-align: top;\n",
              "    }\n",
              "\n",
              "    .dataframe thead th {\n",
              "        text-align: right;\n",
              "    }\n",
              "</style>\n",
              "<table border=\"1\" class=\"dataframe\">\n",
              "  <thead>\n",
              "    <tr style=\"text-align: right;\">\n",
              "      <th></th>\n",
              "      <th>Geography_France</th>\n",
              "      <th>Geography_Germany</th>\n",
              "      <th>Geography_Spain</th>\n",
              "    </tr>\n",
              "  </thead>\n",
              "  <tbody>\n",
              "    <tr>\n",
              "      <th>0</th>\n",
              "      <td>1</td>\n",
              "      <td>0</td>\n",
              "      <td>0</td>\n",
              "    </tr>\n",
              "    <tr>\n",
              "      <th>1</th>\n",
              "      <td>0</td>\n",
              "      <td>0</td>\n",
              "      <td>1</td>\n",
              "    </tr>\n",
              "    <tr>\n",
              "      <th>2</th>\n",
              "      <td>1</td>\n",
              "      <td>0</td>\n",
              "      <td>0</td>\n",
              "    </tr>\n",
              "    <tr>\n",
              "      <th>3</th>\n",
              "      <td>1</td>\n",
              "      <td>0</td>\n",
              "      <td>0</td>\n",
              "    </tr>\n",
              "    <tr>\n",
              "      <th>4</th>\n",
              "      <td>0</td>\n",
              "      <td>0</td>\n",
              "      <td>1</td>\n",
              "    </tr>\n",
              "  </tbody>\n",
              "</table>\n",
              "</div>\n",
              "      <button class=\"colab-df-convert\" onclick=\"convertToInteractive('df-e07c075e-1513-4a0c-8e0c-1a9c4125dd5c')\"\n",
              "              title=\"Convert this dataframe to an interactive table.\"\n",
              "              style=\"display:none;\">\n",
              "        \n",
              "  <svg xmlns=\"http://www.w3.org/2000/svg\" height=\"24px\"viewBox=\"0 0 24 24\"\n",
              "       width=\"24px\">\n",
              "    <path d=\"M0 0h24v24H0V0z\" fill=\"none\"/>\n",
              "    <path d=\"M18.56 5.44l.94 2.06.94-2.06 2.06-.94-2.06-.94-.94-2.06-.94 2.06-2.06.94zm-11 1L8.5 8.5l.94-2.06 2.06-.94-2.06-.94L8.5 2.5l-.94 2.06-2.06.94zm10 10l.94 2.06.94-2.06 2.06-.94-2.06-.94-.94-2.06-.94 2.06-2.06.94z\"/><path d=\"M17.41 7.96l-1.37-1.37c-.4-.4-.92-.59-1.43-.59-.52 0-1.04.2-1.43.59L10.3 9.45l-7.72 7.72c-.78.78-.78 2.05 0 2.83L4 21.41c.39.39.9.59 1.41.59.51 0 1.02-.2 1.41-.59l7.78-7.78 2.81-2.81c.8-.78.8-2.07 0-2.86zM5.41 20L4 18.59l7.72-7.72 1.47 1.35L5.41 20z\"/>\n",
              "  </svg>\n",
              "      </button>\n",
              "      \n",
              "  <style>\n",
              "    .colab-df-container {\n",
              "      display:flex;\n",
              "      flex-wrap:wrap;\n",
              "      gap: 12px;\n",
              "    }\n",
              "\n",
              "    .colab-df-convert {\n",
              "      background-color: #E8F0FE;\n",
              "      border: none;\n",
              "      border-radius: 50%;\n",
              "      cursor: pointer;\n",
              "      display: none;\n",
              "      fill: #1967D2;\n",
              "      height: 32px;\n",
              "      padding: 0 0 0 0;\n",
              "      width: 32px;\n",
              "    }\n",
              "\n",
              "    .colab-df-convert:hover {\n",
              "      background-color: #E2EBFA;\n",
              "      box-shadow: 0px 1px 2px rgba(60, 64, 67, 0.3), 0px 1px 3px 1px rgba(60, 64, 67, 0.15);\n",
              "      fill: #174EA6;\n",
              "    }\n",
              "\n",
              "    [theme=dark] .colab-df-convert {\n",
              "      background-color: #3B4455;\n",
              "      fill: #D2E3FC;\n",
              "    }\n",
              "\n",
              "    [theme=dark] .colab-df-convert:hover {\n",
              "      background-color: #434B5C;\n",
              "      box-shadow: 0px 1px 3px 1px rgba(0, 0, 0, 0.15);\n",
              "      filter: drop-shadow(0px 1px 2px rgba(0, 0, 0, 0.3));\n",
              "      fill: #FFFFFF;\n",
              "    }\n",
              "  </style>\n",
              "\n",
              "      <script>\n",
              "        const buttonEl =\n",
              "          document.querySelector('#df-e07c075e-1513-4a0c-8e0c-1a9c4125dd5c button.colab-df-convert');\n",
              "        buttonEl.style.display =\n",
              "          google.colab.kernel.accessAllowed ? 'block' : 'none';\n",
              "\n",
              "        async function convertToInteractive(key) {\n",
              "          const element = document.querySelector('#df-e07c075e-1513-4a0c-8e0c-1a9c4125dd5c');\n",
              "          const dataTable =\n",
              "            await google.colab.kernel.invokeFunction('convertToInteractive',\n",
              "                                                     [key], {});\n",
              "          if (!dataTable) return;\n",
              "\n",
              "          const docLinkHtml = 'Like what you see? Visit the ' +\n",
              "            '<a target=\"_blank\" href=https://colab.research.google.com/notebooks/data_table.ipynb>data table notebook</a>'\n",
              "            + ' to learn more about interactive tables.';\n",
              "          element.innerHTML = '';\n",
              "          dataTable['output_type'] = 'display_data';\n",
              "          await google.colab.output.renderOutput(dataTable, element);\n",
              "          const docLink = document.createElement('div');\n",
              "          docLink.innerHTML = docLinkHtml;\n",
              "          element.appendChild(docLink);\n",
              "        }\n",
              "      </script>\n",
              "    </div>\n",
              "  </div>\n",
              "  "
            ]
          },
          "metadata": {},
          "execution_count": 9
        }
      ]
    },
    {
      "cell_type": "code",
      "source": [
        "df['Gender_encoded'] = df.Gender.replace({'Female':0,'Male':1})\n",
        "df.head()"
      ],
      "metadata": {
        "colab": {
          "base_uri": "https://localhost:8080/",
          "height": 206
        },
        "id": "4daEg0cMOusq",
        "outputId": "691c9d19-d8b9-4d0e-d7e2-5b49ed6174d7"
      },
      "execution_count": 10,
      "outputs": [
        {
          "output_type": "execute_result",
          "data": {
            "text/plain": [
              "   CreditScore Geography  Gender  Age  Tenure    Balance  NumOfProducts  \\\n",
              "0          619    France  Female   42       2       0.00              1   \n",
              "1          608     Spain  Female   41       1   83807.86              1   \n",
              "2          502    France  Female   42       8  159660.80              3   \n",
              "3          699    France  Female   39       1       0.00              2   \n",
              "4          850     Spain  Female   43       2  125510.82              1   \n",
              "\n",
              "   HasCrCard  IsActiveMember  EstimatedSalary  Exited  Gender_encoded  \n",
              "0          1               1        101348.88       1               0  \n",
              "1          0               1        112542.58       0               0  \n",
              "2          1               0        113931.57       1               0  \n",
              "3          0               0         93826.63       0               0  \n",
              "4          1               1         79084.10       0               0  "
            ],
            "text/html": [
              "\n",
              "  <div id=\"df-981c7008-6d3a-4aa4-8f18-2187b6c03318\">\n",
              "    <div class=\"colab-df-container\">\n",
              "      <div>\n",
              "<style scoped>\n",
              "    .dataframe tbody tr th:only-of-type {\n",
              "        vertical-align: middle;\n",
              "    }\n",
              "\n",
              "    .dataframe tbody tr th {\n",
              "        vertical-align: top;\n",
              "    }\n",
              "\n",
              "    .dataframe thead th {\n",
              "        text-align: right;\n",
              "    }\n",
              "</style>\n",
              "<table border=\"1\" class=\"dataframe\">\n",
              "  <thead>\n",
              "    <tr style=\"text-align: right;\">\n",
              "      <th></th>\n",
              "      <th>CreditScore</th>\n",
              "      <th>Geography</th>\n",
              "      <th>Gender</th>\n",
              "      <th>Age</th>\n",
              "      <th>Tenure</th>\n",
              "      <th>Balance</th>\n",
              "      <th>NumOfProducts</th>\n",
              "      <th>HasCrCard</th>\n",
              "      <th>IsActiveMember</th>\n",
              "      <th>EstimatedSalary</th>\n",
              "      <th>Exited</th>\n",
              "      <th>Gender_encoded</th>\n",
              "    </tr>\n",
              "  </thead>\n",
              "  <tbody>\n",
              "    <tr>\n",
              "      <th>0</th>\n",
              "      <td>619</td>\n",
              "      <td>France</td>\n",
              "      <td>Female</td>\n",
              "      <td>42</td>\n",
              "      <td>2</td>\n",
              "      <td>0.00</td>\n",
              "      <td>1</td>\n",
              "      <td>1</td>\n",
              "      <td>1</td>\n",
              "      <td>101348.88</td>\n",
              "      <td>1</td>\n",
              "      <td>0</td>\n",
              "    </tr>\n",
              "    <tr>\n",
              "      <th>1</th>\n",
              "      <td>608</td>\n",
              "      <td>Spain</td>\n",
              "      <td>Female</td>\n",
              "      <td>41</td>\n",
              "      <td>1</td>\n",
              "      <td>83807.86</td>\n",
              "      <td>1</td>\n",
              "      <td>0</td>\n",
              "      <td>1</td>\n",
              "      <td>112542.58</td>\n",
              "      <td>0</td>\n",
              "      <td>0</td>\n",
              "    </tr>\n",
              "    <tr>\n",
              "      <th>2</th>\n",
              "      <td>502</td>\n",
              "      <td>France</td>\n",
              "      <td>Female</td>\n",
              "      <td>42</td>\n",
              "      <td>8</td>\n",
              "      <td>159660.80</td>\n",
              "      <td>3</td>\n",
              "      <td>1</td>\n",
              "      <td>0</td>\n",
              "      <td>113931.57</td>\n",
              "      <td>1</td>\n",
              "      <td>0</td>\n",
              "    </tr>\n",
              "    <tr>\n",
              "      <th>3</th>\n",
              "      <td>699</td>\n",
              "      <td>France</td>\n",
              "      <td>Female</td>\n",
              "      <td>39</td>\n",
              "      <td>1</td>\n",
              "      <td>0.00</td>\n",
              "      <td>2</td>\n",
              "      <td>0</td>\n",
              "      <td>0</td>\n",
              "      <td>93826.63</td>\n",
              "      <td>0</td>\n",
              "      <td>0</td>\n",
              "    </tr>\n",
              "    <tr>\n",
              "      <th>4</th>\n",
              "      <td>850</td>\n",
              "      <td>Spain</td>\n",
              "      <td>Female</td>\n",
              "      <td>43</td>\n",
              "      <td>2</td>\n",
              "      <td>125510.82</td>\n",
              "      <td>1</td>\n",
              "      <td>1</td>\n",
              "      <td>1</td>\n",
              "      <td>79084.10</td>\n",
              "      <td>0</td>\n",
              "      <td>0</td>\n",
              "    </tr>\n",
              "  </tbody>\n",
              "</table>\n",
              "</div>\n",
              "      <button class=\"colab-df-convert\" onclick=\"convertToInteractive('df-981c7008-6d3a-4aa4-8f18-2187b6c03318')\"\n",
              "              title=\"Convert this dataframe to an interactive table.\"\n",
              "              style=\"display:none;\">\n",
              "        \n",
              "  <svg xmlns=\"http://www.w3.org/2000/svg\" height=\"24px\"viewBox=\"0 0 24 24\"\n",
              "       width=\"24px\">\n",
              "    <path d=\"M0 0h24v24H0V0z\" fill=\"none\"/>\n",
              "    <path d=\"M18.56 5.44l.94 2.06.94-2.06 2.06-.94-2.06-.94-.94-2.06-.94 2.06-2.06.94zm-11 1L8.5 8.5l.94-2.06 2.06-.94-2.06-.94L8.5 2.5l-.94 2.06-2.06.94zm10 10l.94 2.06.94-2.06 2.06-.94-2.06-.94-.94-2.06-.94 2.06-2.06.94z\"/><path d=\"M17.41 7.96l-1.37-1.37c-.4-.4-.92-.59-1.43-.59-.52 0-1.04.2-1.43.59L10.3 9.45l-7.72 7.72c-.78.78-.78 2.05 0 2.83L4 21.41c.39.39.9.59 1.41.59.51 0 1.02-.2 1.41-.59l7.78-7.78 2.81-2.81c.8-.78.8-2.07 0-2.86zM5.41 20L4 18.59l7.72-7.72 1.47 1.35L5.41 20z\"/>\n",
              "  </svg>\n",
              "      </button>\n",
              "      \n",
              "  <style>\n",
              "    .colab-df-container {\n",
              "      display:flex;\n",
              "      flex-wrap:wrap;\n",
              "      gap: 12px;\n",
              "    }\n",
              "\n",
              "    .colab-df-convert {\n",
              "      background-color: #E8F0FE;\n",
              "      border: none;\n",
              "      border-radius: 50%;\n",
              "      cursor: pointer;\n",
              "      display: none;\n",
              "      fill: #1967D2;\n",
              "      height: 32px;\n",
              "      padding: 0 0 0 0;\n",
              "      width: 32px;\n",
              "    }\n",
              "\n",
              "    .colab-df-convert:hover {\n",
              "      background-color: #E2EBFA;\n",
              "      box-shadow: 0px 1px 2px rgba(60, 64, 67, 0.3), 0px 1px 3px 1px rgba(60, 64, 67, 0.15);\n",
              "      fill: #174EA6;\n",
              "    }\n",
              "\n",
              "    [theme=dark] .colab-df-convert {\n",
              "      background-color: #3B4455;\n",
              "      fill: #D2E3FC;\n",
              "    }\n",
              "\n",
              "    [theme=dark] .colab-df-convert:hover {\n",
              "      background-color: #434B5C;\n",
              "      box-shadow: 0px 1px 3px 1px rgba(0, 0, 0, 0.15);\n",
              "      filter: drop-shadow(0px 1px 2px rgba(0, 0, 0, 0.3));\n",
              "      fill: #FFFFFF;\n",
              "    }\n",
              "  </style>\n",
              "\n",
              "      <script>\n",
              "        const buttonEl =\n",
              "          document.querySelector('#df-981c7008-6d3a-4aa4-8f18-2187b6c03318 button.colab-df-convert');\n",
              "        buttonEl.style.display =\n",
              "          google.colab.kernel.accessAllowed ? 'block' : 'none';\n",
              "\n",
              "        async function convertToInteractive(key) {\n",
              "          const element = document.querySelector('#df-981c7008-6d3a-4aa4-8f18-2187b6c03318');\n",
              "          const dataTable =\n",
              "            await google.colab.kernel.invokeFunction('convertToInteractive',\n",
              "                                                     [key], {});\n",
              "          if (!dataTable) return;\n",
              "\n",
              "          const docLinkHtml = 'Like what you see? Visit the ' +\n",
              "            '<a target=\"_blank\" href=https://colab.research.google.com/notebooks/data_table.ipynb>data table notebook</a>'\n",
              "            + ' to learn more about interactive tables.';\n",
              "          element.innerHTML = '';\n",
              "          dataTable['output_type'] = 'display_data';\n",
              "          await google.colab.output.renderOutput(dataTable, element);\n",
              "          const docLink = document.createElement('div');\n",
              "          docLink.innerHTML = docLinkHtml;\n",
              "          element.appendChild(docLink);\n",
              "        }\n",
              "      </script>\n",
              "    </div>\n",
              "  </div>\n",
              "  "
            ]
          },
          "metadata": {},
          "execution_count": 10
        }
      ]
    },
    {
      "cell_type": "code",
      "source": [
        "final_df = pd.concat((df,geo_ohe), axis = 'columns')\n",
        "final_df.head()"
      ],
      "metadata": {
        "colab": {
          "base_uri": "https://localhost:8080/",
          "height": 270
        },
        "id": "DYCyieuMPPls",
        "outputId": "87d4383a-b3b3-4e66-ab2f-22af1e07722b"
      },
      "execution_count": 11,
      "outputs": [
        {
          "output_type": "execute_result",
          "data": {
            "text/plain": [
              "   CreditScore Geography  Gender  Age  Tenure    Balance  NumOfProducts  \\\n",
              "0          619    France  Female   42       2       0.00              1   \n",
              "1          608     Spain  Female   41       1   83807.86              1   \n",
              "2          502    France  Female   42       8  159660.80              3   \n",
              "3          699    France  Female   39       1       0.00              2   \n",
              "4          850     Spain  Female   43       2  125510.82              1   \n",
              "\n",
              "   HasCrCard  IsActiveMember  EstimatedSalary  Exited  Gender_encoded  \\\n",
              "0          1               1        101348.88       1               0   \n",
              "1          0               1        112542.58       0               0   \n",
              "2          1               0        113931.57       1               0   \n",
              "3          0               0         93826.63       0               0   \n",
              "4          1               1         79084.10       0               0   \n",
              "\n",
              "   Geography_France  Geography_Germany  Geography_Spain  \n",
              "0                 1                  0                0  \n",
              "1                 0                  0                1  \n",
              "2                 1                  0                0  \n",
              "3                 1                  0                0  \n",
              "4                 0                  0                1  "
            ],
            "text/html": [
              "\n",
              "  <div id=\"df-0bee06ba-d207-4259-99de-38dfa7c619ab\">\n",
              "    <div class=\"colab-df-container\">\n",
              "      <div>\n",
              "<style scoped>\n",
              "    .dataframe tbody tr th:only-of-type {\n",
              "        vertical-align: middle;\n",
              "    }\n",
              "\n",
              "    .dataframe tbody tr th {\n",
              "        vertical-align: top;\n",
              "    }\n",
              "\n",
              "    .dataframe thead th {\n",
              "        text-align: right;\n",
              "    }\n",
              "</style>\n",
              "<table border=\"1\" class=\"dataframe\">\n",
              "  <thead>\n",
              "    <tr style=\"text-align: right;\">\n",
              "      <th></th>\n",
              "      <th>CreditScore</th>\n",
              "      <th>Geography</th>\n",
              "      <th>Gender</th>\n",
              "      <th>Age</th>\n",
              "      <th>Tenure</th>\n",
              "      <th>Balance</th>\n",
              "      <th>NumOfProducts</th>\n",
              "      <th>HasCrCard</th>\n",
              "      <th>IsActiveMember</th>\n",
              "      <th>EstimatedSalary</th>\n",
              "      <th>Exited</th>\n",
              "      <th>Gender_encoded</th>\n",
              "      <th>Geography_France</th>\n",
              "      <th>Geography_Germany</th>\n",
              "      <th>Geography_Spain</th>\n",
              "    </tr>\n",
              "  </thead>\n",
              "  <tbody>\n",
              "    <tr>\n",
              "      <th>0</th>\n",
              "      <td>619</td>\n",
              "      <td>France</td>\n",
              "      <td>Female</td>\n",
              "      <td>42</td>\n",
              "      <td>2</td>\n",
              "      <td>0.00</td>\n",
              "      <td>1</td>\n",
              "      <td>1</td>\n",
              "      <td>1</td>\n",
              "      <td>101348.88</td>\n",
              "      <td>1</td>\n",
              "      <td>0</td>\n",
              "      <td>1</td>\n",
              "      <td>0</td>\n",
              "      <td>0</td>\n",
              "    </tr>\n",
              "    <tr>\n",
              "      <th>1</th>\n",
              "      <td>608</td>\n",
              "      <td>Spain</td>\n",
              "      <td>Female</td>\n",
              "      <td>41</td>\n",
              "      <td>1</td>\n",
              "      <td>83807.86</td>\n",
              "      <td>1</td>\n",
              "      <td>0</td>\n",
              "      <td>1</td>\n",
              "      <td>112542.58</td>\n",
              "      <td>0</td>\n",
              "      <td>0</td>\n",
              "      <td>0</td>\n",
              "      <td>0</td>\n",
              "      <td>1</td>\n",
              "    </tr>\n",
              "    <tr>\n",
              "      <th>2</th>\n",
              "      <td>502</td>\n",
              "      <td>France</td>\n",
              "      <td>Female</td>\n",
              "      <td>42</td>\n",
              "      <td>8</td>\n",
              "      <td>159660.80</td>\n",
              "      <td>3</td>\n",
              "      <td>1</td>\n",
              "      <td>0</td>\n",
              "      <td>113931.57</td>\n",
              "      <td>1</td>\n",
              "      <td>0</td>\n",
              "      <td>1</td>\n",
              "      <td>0</td>\n",
              "      <td>0</td>\n",
              "    </tr>\n",
              "    <tr>\n",
              "      <th>3</th>\n",
              "      <td>699</td>\n",
              "      <td>France</td>\n",
              "      <td>Female</td>\n",
              "      <td>39</td>\n",
              "      <td>1</td>\n",
              "      <td>0.00</td>\n",
              "      <td>2</td>\n",
              "      <td>0</td>\n",
              "      <td>0</td>\n",
              "      <td>93826.63</td>\n",
              "      <td>0</td>\n",
              "      <td>0</td>\n",
              "      <td>1</td>\n",
              "      <td>0</td>\n",
              "      <td>0</td>\n",
              "    </tr>\n",
              "    <tr>\n",
              "      <th>4</th>\n",
              "      <td>850</td>\n",
              "      <td>Spain</td>\n",
              "      <td>Female</td>\n",
              "      <td>43</td>\n",
              "      <td>2</td>\n",
              "      <td>125510.82</td>\n",
              "      <td>1</td>\n",
              "      <td>1</td>\n",
              "      <td>1</td>\n",
              "      <td>79084.10</td>\n",
              "      <td>0</td>\n",
              "      <td>0</td>\n",
              "      <td>0</td>\n",
              "      <td>0</td>\n",
              "      <td>1</td>\n",
              "    </tr>\n",
              "  </tbody>\n",
              "</table>\n",
              "</div>\n",
              "      <button class=\"colab-df-convert\" onclick=\"convertToInteractive('df-0bee06ba-d207-4259-99de-38dfa7c619ab')\"\n",
              "              title=\"Convert this dataframe to an interactive table.\"\n",
              "              style=\"display:none;\">\n",
              "        \n",
              "  <svg xmlns=\"http://www.w3.org/2000/svg\" height=\"24px\"viewBox=\"0 0 24 24\"\n",
              "       width=\"24px\">\n",
              "    <path d=\"M0 0h24v24H0V0z\" fill=\"none\"/>\n",
              "    <path d=\"M18.56 5.44l.94 2.06.94-2.06 2.06-.94-2.06-.94-.94-2.06-.94 2.06-2.06.94zm-11 1L8.5 8.5l.94-2.06 2.06-.94-2.06-.94L8.5 2.5l-.94 2.06-2.06.94zm10 10l.94 2.06.94-2.06 2.06-.94-2.06-.94-.94-2.06-.94 2.06-2.06.94z\"/><path d=\"M17.41 7.96l-1.37-1.37c-.4-.4-.92-.59-1.43-.59-.52 0-1.04.2-1.43.59L10.3 9.45l-7.72 7.72c-.78.78-.78 2.05 0 2.83L4 21.41c.39.39.9.59 1.41.59.51 0 1.02-.2 1.41-.59l7.78-7.78 2.81-2.81c.8-.78.8-2.07 0-2.86zM5.41 20L4 18.59l7.72-7.72 1.47 1.35L5.41 20z\"/>\n",
              "  </svg>\n",
              "      </button>\n",
              "      \n",
              "  <style>\n",
              "    .colab-df-container {\n",
              "      display:flex;\n",
              "      flex-wrap:wrap;\n",
              "      gap: 12px;\n",
              "    }\n",
              "\n",
              "    .colab-df-convert {\n",
              "      background-color: #E8F0FE;\n",
              "      border: none;\n",
              "      border-radius: 50%;\n",
              "      cursor: pointer;\n",
              "      display: none;\n",
              "      fill: #1967D2;\n",
              "      height: 32px;\n",
              "      padding: 0 0 0 0;\n",
              "      width: 32px;\n",
              "    }\n",
              "\n",
              "    .colab-df-convert:hover {\n",
              "      background-color: #E2EBFA;\n",
              "      box-shadow: 0px 1px 2px rgba(60, 64, 67, 0.3), 0px 1px 3px 1px rgba(60, 64, 67, 0.15);\n",
              "      fill: #174EA6;\n",
              "    }\n",
              "\n",
              "    [theme=dark] .colab-df-convert {\n",
              "      background-color: #3B4455;\n",
              "      fill: #D2E3FC;\n",
              "    }\n",
              "\n",
              "    [theme=dark] .colab-df-convert:hover {\n",
              "      background-color: #434B5C;\n",
              "      box-shadow: 0px 1px 3px 1px rgba(0, 0, 0, 0.15);\n",
              "      filter: drop-shadow(0px 1px 2px rgba(0, 0, 0, 0.3));\n",
              "      fill: #FFFFFF;\n",
              "    }\n",
              "  </style>\n",
              "\n",
              "      <script>\n",
              "        const buttonEl =\n",
              "          document.querySelector('#df-0bee06ba-d207-4259-99de-38dfa7c619ab button.colab-df-convert');\n",
              "        buttonEl.style.display =\n",
              "          google.colab.kernel.accessAllowed ? 'block' : 'none';\n",
              "\n",
              "        async function convertToInteractive(key) {\n",
              "          const element = document.querySelector('#df-0bee06ba-d207-4259-99de-38dfa7c619ab');\n",
              "          const dataTable =\n",
              "            await google.colab.kernel.invokeFunction('convertToInteractive',\n",
              "                                                     [key], {});\n",
              "          if (!dataTable) return;\n",
              "\n",
              "          const docLinkHtml = 'Like what you see? Visit the ' +\n",
              "            '<a target=\"_blank\" href=https://colab.research.google.com/notebooks/data_table.ipynb>data table notebook</a>'\n",
              "            + ' to learn more about interactive tables.';\n",
              "          element.innerHTML = '';\n",
              "          dataTable['output_type'] = 'display_data';\n",
              "          await google.colab.output.renderOutput(dataTable, element);\n",
              "          const docLink = document.createElement('div');\n",
              "          docLink.innerHTML = docLinkHtml;\n",
              "          element.appendChild(docLink);\n",
              "        }\n",
              "      </script>\n",
              "    </div>\n",
              "  </div>\n",
              "  "
            ]
          },
          "metadata": {},
          "execution_count": 11
        }
      ]
    },
    {
      "cell_type": "code",
      "source": [
        "final_df = final_df.drop(columns = ['Geography','Gender'])\n",
        "final_df.head()"
      ],
      "metadata": {
        "colab": {
          "base_uri": "https://localhost:8080/",
          "height": 206
        },
        "id": "abx3-r9FPcxW",
        "outputId": "b3d3a372-2b36-425a-9535-d86755b0257c"
      },
      "execution_count": 12,
      "outputs": [
        {
          "output_type": "execute_result",
          "data": {
            "text/plain": [
              "   CreditScore  Age  Tenure    Balance  NumOfProducts  HasCrCard  \\\n",
              "0          619   42       2       0.00              1          1   \n",
              "1          608   41       1   83807.86              1          0   \n",
              "2          502   42       8  159660.80              3          1   \n",
              "3          699   39       1       0.00              2          0   \n",
              "4          850   43       2  125510.82              1          1   \n",
              "\n",
              "   IsActiveMember  EstimatedSalary  Exited  Gender_encoded  Geography_France  \\\n",
              "0               1        101348.88       1               0                 1   \n",
              "1               1        112542.58       0               0                 0   \n",
              "2               0        113931.57       1               0                 1   \n",
              "3               0         93826.63       0               0                 1   \n",
              "4               1         79084.10       0               0                 0   \n",
              "\n",
              "   Geography_Germany  Geography_Spain  \n",
              "0                  0                0  \n",
              "1                  0                1  \n",
              "2                  0                0  \n",
              "3                  0                0  \n",
              "4                  0                1  "
            ],
            "text/html": [
              "\n",
              "  <div id=\"df-97d0fb71-f8bd-4c62-b9db-a7ee52d79192\">\n",
              "    <div class=\"colab-df-container\">\n",
              "      <div>\n",
              "<style scoped>\n",
              "    .dataframe tbody tr th:only-of-type {\n",
              "        vertical-align: middle;\n",
              "    }\n",
              "\n",
              "    .dataframe tbody tr th {\n",
              "        vertical-align: top;\n",
              "    }\n",
              "\n",
              "    .dataframe thead th {\n",
              "        text-align: right;\n",
              "    }\n",
              "</style>\n",
              "<table border=\"1\" class=\"dataframe\">\n",
              "  <thead>\n",
              "    <tr style=\"text-align: right;\">\n",
              "      <th></th>\n",
              "      <th>CreditScore</th>\n",
              "      <th>Age</th>\n",
              "      <th>Tenure</th>\n",
              "      <th>Balance</th>\n",
              "      <th>NumOfProducts</th>\n",
              "      <th>HasCrCard</th>\n",
              "      <th>IsActiveMember</th>\n",
              "      <th>EstimatedSalary</th>\n",
              "      <th>Exited</th>\n",
              "      <th>Gender_encoded</th>\n",
              "      <th>Geography_France</th>\n",
              "      <th>Geography_Germany</th>\n",
              "      <th>Geography_Spain</th>\n",
              "    </tr>\n",
              "  </thead>\n",
              "  <tbody>\n",
              "    <tr>\n",
              "      <th>0</th>\n",
              "      <td>619</td>\n",
              "      <td>42</td>\n",
              "      <td>2</td>\n",
              "      <td>0.00</td>\n",
              "      <td>1</td>\n",
              "      <td>1</td>\n",
              "      <td>1</td>\n",
              "      <td>101348.88</td>\n",
              "      <td>1</td>\n",
              "      <td>0</td>\n",
              "      <td>1</td>\n",
              "      <td>0</td>\n",
              "      <td>0</td>\n",
              "    </tr>\n",
              "    <tr>\n",
              "      <th>1</th>\n",
              "      <td>608</td>\n",
              "      <td>41</td>\n",
              "      <td>1</td>\n",
              "      <td>83807.86</td>\n",
              "      <td>1</td>\n",
              "      <td>0</td>\n",
              "      <td>1</td>\n",
              "      <td>112542.58</td>\n",
              "      <td>0</td>\n",
              "      <td>0</td>\n",
              "      <td>0</td>\n",
              "      <td>0</td>\n",
              "      <td>1</td>\n",
              "    </tr>\n",
              "    <tr>\n",
              "      <th>2</th>\n",
              "      <td>502</td>\n",
              "      <td>42</td>\n",
              "      <td>8</td>\n",
              "      <td>159660.80</td>\n",
              "      <td>3</td>\n",
              "      <td>1</td>\n",
              "      <td>0</td>\n",
              "      <td>113931.57</td>\n",
              "      <td>1</td>\n",
              "      <td>0</td>\n",
              "      <td>1</td>\n",
              "      <td>0</td>\n",
              "      <td>0</td>\n",
              "    </tr>\n",
              "    <tr>\n",
              "      <th>3</th>\n",
              "      <td>699</td>\n",
              "      <td>39</td>\n",
              "      <td>1</td>\n",
              "      <td>0.00</td>\n",
              "      <td>2</td>\n",
              "      <td>0</td>\n",
              "      <td>0</td>\n",
              "      <td>93826.63</td>\n",
              "      <td>0</td>\n",
              "      <td>0</td>\n",
              "      <td>1</td>\n",
              "      <td>0</td>\n",
              "      <td>0</td>\n",
              "    </tr>\n",
              "    <tr>\n",
              "      <th>4</th>\n",
              "      <td>850</td>\n",
              "      <td>43</td>\n",
              "      <td>2</td>\n",
              "      <td>125510.82</td>\n",
              "      <td>1</td>\n",
              "      <td>1</td>\n",
              "      <td>1</td>\n",
              "      <td>79084.10</td>\n",
              "      <td>0</td>\n",
              "      <td>0</td>\n",
              "      <td>0</td>\n",
              "      <td>0</td>\n",
              "      <td>1</td>\n",
              "    </tr>\n",
              "  </tbody>\n",
              "</table>\n",
              "</div>\n",
              "      <button class=\"colab-df-convert\" onclick=\"convertToInteractive('df-97d0fb71-f8bd-4c62-b9db-a7ee52d79192')\"\n",
              "              title=\"Convert this dataframe to an interactive table.\"\n",
              "              style=\"display:none;\">\n",
              "        \n",
              "  <svg xmlns=\"http://www.w3.org/2000/svg\" height=\"24px\"viewBox=\"0 0 24 24\"\n",
              "       width=\"24px\">\n",
              "    <path d=\"M0 0h24v24H0V0z\" fill=\"none\"/>\n",
              "    <path d=\"M18.56 5.44l.94 2.06.94-2.06 2.06-.94-2.06-.94-.94-2.06-.94 2.06-2.06.94zm-11 1L8.5 8.5l.94-2.06 2.06-.94-2.06-.94L8.5 2.5l-.94 2.06-2.06.94zm10 10l.94 2.06.94-2.06 2.06-.94-2.06-.94-.94-2.06-.94 2.06-2.06.94z\"/><path d=\"M17.41 7.96l-1.37-1.37c-.4-.4-.92-.59-1.43-.59-.52 0-1.04.2-1.43.59L10.3 9.45l-7.72 7.72c-.78.78-.78 2.05 0 2.83L4 21.41c.39.39.9.59 1.41.59.51 0 1.02-.2 1.41-.59l7.78-7.78 2.81-2.81c.8-.78.8-2.07 0-2.86zM5.41 20L4 18.59l7.72-7.72 1.47 1.35L5.41 20z\"/>\n",
              "  </svg>\n",
              "      </button>\n",
              "      \n",
              "  <style>\n",
              "    .colab-df-container {\n",
              "      display:flex;\n",
              "      flex-wrap:wrap;\n",
              "      gap: 12px;\n",
              "    }\n",
              "\n",
              "    .colab-df-convert {\n",
              "      background-color: #E8F0FE;\n",
              "      border: none;\n",
              "      border-radius: 50%;\n",
              "      cursor: pointer;\n",
              "      display: none;\n",
              "      fill: #1967D2;\n",
              "      height: 32px;\n",
              "      padding: 0 0 0 0;\n",
              "      width: 32px;\n",
              "    }\n",
              "\n",
              "    .colab-df-convert:hover {\n",
              "      background-color: #E2EBFA;\n",
              "      box-shadow: 0px 1px 2px rgba(60, 64, 67, 0.3), 0px 1px 3px 1px rgba(60, 64, 67, 0.15);\n",
              "      fill: #174EA6;\n",
              "    }\n",
              "\n",
              "    [theme=dark] .colab-df-convert {\n",
              "      background-color: #3B4455;\n",
              "      fill: #D2E3FC;\n",
              "    }\n",
              "\n",
              "    [theme=dark] .colab-df-convert:hover {\n",
              "      background-color: #434B5C;\n",
              "      box-shadow: 0px 1px 3px 1px rgba(0, 0, 0, 0.15);\n",
              "      filter: drop-shadow(0px 1px 2px rgba(0, 0, 0, 0.3));\n",
              "      fill: #FFFFFF;\n",
              "    }\n",
              "  </style>\n",
              "\n",
              "      <script>\n",
              "        const buttonEl =\n",
              "          document.querySelector('#df-97d0fb71-f8bd-4c62-b9db-a7ee52d79192 button.colab-df-convert');\n",
              "        buttonEl.style.display =\n",
              "          google.colab.kernel.accessAllowed ? 'block' : 'none';\n",
              "\n",
              "        async function convertToInteractive(key) {\n",
              "          const element = document.querySelector('#df-97d0fb71-f8bd-4c62-b9db-a7ee52d79192');\n",
              "          const dataTable =\n",
              "            await google.colab.kernel.invokeFunction('convertToInteractive',\n",
              "                                                     [key], {});\n",
              "          if (!dataTable) return;\n",
              "\n",
              "          const docLinkHtml = 'Like what you see? Visit the ' +\n",
              "            '<a target=\"_blank\" href=https://colab.research.google.com/notebooks/data_table.ipynb>data table notebook</a>'\n",
              "            + ' to learn more about interactive tables.';\n",
              "          element.innerHTML = '';\n",
              "          dataTable['output_type'] = 'display_data';\n",
              "          await google.colab.output.renderOutput(dataTable, element);\n",
              "          const docLink = document.createElement('div');\n",
              "          docLink.innerHTML = docLinkHtml;\n",
              "          element.appendChild(docLink);\n",
              "        }\n",
              "      </script>\n",
              "    </div>\n",
              "  </div>\n",
              "  "
            ]
          },
          "metadata": {},
          "execution_count": 12
        }
      ]
    },
    {
      "cell_type": "code",
      "source": [
        "final_df.describe()"
      ],
      "metadata": {
        "colab": {
          "base_uri": "https://localhost:8080/",
          "height": 364
        },
        "id": "n1yg5wjdP2aY",
        "outputId": "3ece32da-bf07-48ea-acfe-c23026249953"
      },
      "execution_count": 13,
      "outputs": [
        {
          "output_type": "execute_result",
          "data": {
            "text/plain": [
              "        CreditScore           Age        Tenure        Balance  NumOfProducts  \\\n",
              "count  10000.000000  10000.000000  10000.000000   10000.000000   10000.000000   \n",
              "mean     650.528800     38.921800      5.012800   76485.889288       1.530200   \n",
              "std       96.653299     10.487806      2.892174   62397.405202       0.581654   \n",
              "min      350.000000     18.000000      0.000000       0.000000       1.000000   \n",
              "25%      584.000000     32.000000      3.000000       0.000000       1.000000   \n",
              "50%      652.000000     37.000000      5.000000   97198.540000       1.000000   \n",
              "75%      718.000000     44.000000      7.000000  127644.240000       2.000000   \n",
              "max      850.000000     92.000000     10.000000  250898.090000       4.000000   \n",
              "\n",
              "         HasCrCard  IsActiveMember  EstimatedSalary        Exited  \\\n",
              "count  10000.00000    10000.000000     10000.000000  10000.000000   \n",
              "mean       0.70550        0.515100    100090.239881      0.203700   \n",
              "std        0.45584        0.499797     57510.492818      0.402769   \n",
              "min        0.00000        0.000000        11.580000      0.000000   \n",
              "25%        0.00000        0.000000     51002.110000      0.000000   \n",
              "50%        1.00000        1.000000    100193.915000      0.000000   \n",
              "75%        1.00000        1.000000    149388.247500      0.000000   \n",
              "max        1.00000        1.000000    199992.480000      1.000000   \n",
              "\n",
              "       Gender_encoded  Geography_France  Geography_Germany  Geography_Spain  \n",
              "count    10000.000000      10000.000000       10000.000000     10000.000000  \n",
              "mean         0.545700          0.501400           0.250900         0.247700  \n",
              "std          0.497932          0.500023           0.433553         0.431698  \n",
              "min          0.000000          0.000000           0.000000         0.000000  \n",
              "25%          0.000000          0.000000           0.000000         0.000000  \n",
              "50%          1.000000          1.000000           0.000000         0.000000  \n",
              "75%          1.000000          1.000000           1.000000         0.000000  \n",
              "max          1.000000          1.000000           1.000000         1.000000  "
            ],
            "text/html": [
              "\n",
              "  <div id=\"df-1e92b122-dc8d-483e-9feb-2b5875450878\">\n",
              "    <div class=\"colab-df-container\">\n",
              "      <div>\n",
              "<style scoped>\n",
              "    .dataframe tbody tr th:only-of-type {\n",
              "        vertical-align: middle;\n",
              "    }\n",
              "\n",
              "    .dataframe tbody tr th {\n",
              "        vertical-align: top;\n",
              "    }\n",
              "\n",
              "    .dataframe thead th {\n",
              "        text-align: right;\n",
              "    }\n",
              "</style>\n",
              "<table border=\"1\" class=\"dataframe\">\n",
              "  <thead>\n",
              "    <tr style=\"text-align: right;\">\n",
              "      <th></th>\n",
              "      <th>CreditScore</th>\n",
              "      <th>Age</th>\n",
              "      <th>Tenure</th>\n",
              "      <th>Balance</th>\n",
              "      <th>NumOfProducts</th>\n",
              "      <th>HasCrCard</th>\n",
              "      <th>IsActiveMember</th>\n",
              "      <th>EstimatedSalary</th>\n",
              "      <th>Exited</th>\n",
              "      <th>Gender_encoded</th>\n",
              "      <th>Geography_France</th>\n",
              "      <th>Geography_Germany</th>\n",
              "      <th>Geography_Spain</th>\n",
              "    </tr>\n",
              "  </thead>\n",
              "  <tbody>\n",
              "    <tr>\n",
              "      <th>count</th>\n",
              "      <td>10000.000000</td>\n",
              "      <td>10000.000000</td>\n",
              "      <td>10000.000000</td>\n",
              "      <td>10000.000000</td>\n",
              "      <td>10000.000000</td>\n",
              "      <td>10000.00000</td>\n",
              "      <td>10000.000000</td>\n",
              "      <td>10000.000000</td>\n",
              "      <td>10000.000000</td>\n",
              "      <td>10000.000000</td>\n",
              "      <td>10000.000000</td>\n",
              "      <td>10000.000000</td>\n",
              "      <td>10000.000000</td>\n",
              "    </tr>\n",
              "    <tr>\n",
              "      <th>mean</th>\n",
              "      <td>650.528800</td>\n",
              "      <td>38.921800</td>\n",
              "      <td>5.012800</td>\n",
              "      <td>76485.889288</td>\n",
              "      <td>1.530200</td>\n",
              "      <td>0.70550</td>\n",
              "      <td>0.515100</td>\n",
              "      <td>100090.239881</td>\n",
              "      <td>0.203700</td>\n",
              "      <td>0.545700</td>\n",
              "      <td>0.501400</td>\n",
              "      <td>0.250900</td>\n",
              "      <td>0.247700</td>\n",
              "    </tr>\n",
              "    <tr>\n",
              "      <th>std</th>\n",
              "      <td>96.653299</td>\n",
              "      <td>10.487806</td>\n",
              "      <td>2.892174</td>\n",
              "      <td>62397.405202</td>\n",
              "      <td>0.581654</td>\n",
              "      <td>0.45584</td>\n",
              "      <td>0.499797</td>\n",
              "      <td>57510.492818</td>\n",
              "      <td>0.402769</td>\n",
              "      <td>0.497932</td>\n",
              "      <td>0.500023</td>\n",
              "      <td>0.433553</td>\n",
              "      <td>0.431698</td>\n",
              "    </tr>\n",
              "    <tr>\n",
              "      <th>min</th>\n",
              "      <td>350.000000</td>\n",
              "      <td>18.000000</td>\n",
              "      <td>0.000000</td>\n",
              "      <td>0.000000</td>\n",
              "      <td>1.000000</td>\n",
              "      <td>0.00000</td>\n",
              "      <td>0.000000</td>\n",
              "      <td>11.580000</td>\n",
              "      <td>0.000000</td>\n",
              "      <td>0.000000</td>\n",
              "      <td>0.000000</td>\n",
              "      <td>0.000000</td>\n",
              "      <td>0.000000</td>\n",
              "    </tr>\n",
              "    <tr>\n",
              "      <th>25%</th>\n",
              "      <td>584.000000</td>\n",
              "      <td>32.000000</td>\n",
              "      <td>3.000000</td>\n",
              "      <td>0.000000</td>\n",
              "      <td>1.000000</td>\n",
              "      <td>0.00000</td>\n",
              "      <td>0.000000</td>\n",
              "      <td>51002.110000</td>\n",
              "      <td>0.000000</td>\n",
              "      <td>0.000000</td>\n",
              "      <td>0.000000</td>\n",
              "      <td>0.000000</td>\n",
              "      <td>0.000000</td>\n",
              "    </tr>\n",
              "    <tr>\n",
              "      <th>50%</th>\n",
              "      <td>652.000000</td>\n",
              "      <td>37.000000</td>\n",
              "      <td>5.000000</td>\n",
              "      <td>97198.540000</td>\n",
              "      <td>1.000000</td>\n",
              "      <td>1.00000</td>\n",
              "      <td>1.000000</td>\n",
              "      <td>100193.915000</td>\n",
              "      <td>0.000000</td>\n",
              "      <td>1.000000</td>\n",
              "      <td>1.000000</td>\n",
              "      <td>0.000000</td>\n",
              "      <td>0.000000</td>\n",
              "    </tr>\n",
              "    <tr>\n",
              "      <th>75%</th>\n",
              "      <td>718.000000</td>\n",
              "      <td>44.000000</td>\n",
              "      <td>7.000000</td>\n",
              "      <td>127644.240000</td>\n",
              "      <td>2.000000</td>\n",
              "      <td>1.00000</td>\n",
              "      <td>1.000000</td>\n",
              "      <td>149388.247500</td>\n",
              "      <td>0.000000</td>\n",
              "      <td>1.000000</td>\n",
              "      <td>1.000000</td>\n",
              "      <td>1.000000</td>\n",
              "      <td>0.000000</td>\n",
              "    </tr>\n",
              "    <tr>\n",
              "      <th>max</th>\n",
              "      <td>850.000000</td>\n",
              "      <td>92.000000</td>\n",
              "      <td>10.000000</td>\n",
              "      <td>250898.090000</td>\n",
              "      <td>4.000000</td>\n",
              "      <td>1.00000</td>\n",
              "      <td>1.000000</td>\n",
              "      <td>199992.480000</td>\n",
              "      <td>1.000000</td>\n",
              "      <td>1.000000</td>\n",
              "      <td>1.000000</td>\n",
              "      <td>1.000000</td>\n",
              "      <td>1.000000</td>\n",
              "    </tr>\n",
              "  </tbody>\n",
              "</table>\n",
              "</div>\n",
              "      <button class=\"colab-df-convert\" onclick=\"convertToInteractive('df-1e92b122-dc8d-483e-9feb-2b5875450878')\"\n",
              "              title=\"Convert this dataframe to an interactive table.\"\n",
              "              style=\"display:none;\">\n",
              "        \n",
              "  <svg xmlns=\"http://www.w3.org/2000/svg\" height=\"24px\"viewBox=\"0 0 24 24\"\n",
              "       width=\"24px\">\n",
              "    <path d=\"M0 0h24v24H0V0z\" fill=\"none\"/>\n",
              "    <path d=\"M18.56 5.44l.94 2.06.94-2.06 2.06-.94-2.06-.94-.94-2.06-.94 2.06-2.06.94zm-11 1L8.5 8.5l.94-2.06 2.06-.94-2.06-.94L8.5 2.5l-.94 2.06-2.06.94zm10 10l.94 2.06.94-2.06 2.06-.94-2.06-.94-.94-2.06-.94 2.06-2.06.94z\"/><path d=\"M17.41 7.96l-1.37-1.37c-.4-.4-.92-.59-1.43-.59-.52 0-1.04.2-1.43.59L10.3 9.45l-7.72 7.72c-.78.78-.78 2.05 0 2.83L4 21.41c.39.39.9.59 1.41.59.51 0 1.02-.2 1.41-.59l7.78-7.78 2.81-2.81c.8-.78.8-2.07 0-2.86zM5.41 20L4 18.59l7.72-7.72 1.47 1.35L5.41 20z\"/>\n",
              "  </svg>\n",
              "      </button>\n",
              "      \n",
              "  <style>\n",
              "    .colab-df-container {\n",
              "      display:flex;\n",
              "      flex-wrap:wrap;\n",
              "      gap: 12px;\n",
              "    }\n",
              "\n",
              "    .colab-df-convert {\n",
              "      background-color: #E8F0FE;\n",
              "      border: none;\n",
              "      border-radius: 50%;\n",
              "      cursor: pointer;\n",
              "      display: none;\n",
              "      fill: #1967D2;\n",
              "      height: 32px;\n",
              "      padding: 0 0 0 0;\n",
              "      width: 32px;\n",
              "    }\n",
              "\n",
              "    .colab-df-convert:hover {\n",
              "      background-color: #E2EBFA;\n",
              "      box-shadow: 0px 1px 2px rgba(60, 64, 67, 0.3), 0px 1px 3px 1px rgba(60, 64, 67, 0.15);\n",
              "      fill: #174EA6;\n",
              "    }\n",
              "\n",
              "    [theme=dark] .colab-df-convert {\n",
              "      background-color: #3B4455;\n",
              "      fill: #D2E3FC;\n",
              "    }\n",
              "\n",
              "    [theme=dark] .colab-df-convert:hover {\n",
              "      background-color: #434B5C;\n",
              "      box-shadow: 0px 1px 3px 1px rgba(0, 0, 0, 0.15);\n",
              "      filter: drop-shadow(0px 1px 2px rgba(0, 0, 0, 0.3));\n",
              "      fill: #FFFFFF;\n",
              "    }\n",
              "  </style>\n",
              "\n",
              "      <script>\n",
              "        const buttonEl =\n",
              "          document.querySelector('#df-1e92b122-dc8d-483e-9feb-2b5875450878 button.colab-df-convert');\n",
              "        buttonEl.style.display =\n",
              "          google.colab.kernel.accessAllowed ? 'block' : 'none';\n",
              "\n",
              "        async function convertToInteractive(key) {\n",
              "          const element = document.querySelector('#df-1e92b122-dc8d-483e-9feb-2b5875450878');\n",
              "          const dataTable =\n",
              "            await google.colab.kernel.invokeFunction('convertToInteractive',\n",
              "                                                     [key], {});\n",
              "          if (!dataTable) return;\n",
              "\n",
              "          const docLinkHtml = 'Like what you see? Visit the ' +\n",
              "            '<a target=\"_blank\" href=https://colab.research.google.com/notebooks/data_table.ipynb>data table notebook</a>'\n",
              "            + ' to learn more about interactive tables.';\n",
              "          element.innerHTML = '';\n",
              "          dataTable['output_type'] = 'display_data';\n",
              "          await google.colab.output.renderOutput(dataTable, element);\n",
              "          const docLink = document.createElement('div');\n",
              "          docLink.innerHTML = docLinkHtml;\n",
              "          element.appendChild(docLink);\n",
              "        }\n",
              "      </script>\n",
              "    </div>\n",
              "  </div>\n",
              "  "
            ]
          },
          "metadata": {},
          "execution_count": 13
        }
      ]
    },
    {
      "cell_type": "markdown",
      "source": [
        "**Model** **Building** "
      ],
      "metadata": {
        "id": "bKELJwKFL1mR"
      }
    },
    {
      "cell_type": "code",
      "source": [
        "train, test = train_test_split(final_df, test_size = 0.2, random_state = 64)\n",
        "\n",
        "train.shape, test.shape"
      ],
      "metadata": {
        "colab": {
          "base_uri": "https://localhost:8080/"
        },
        "id": "K2aC9hPZRONT",
        "outputId": "0458655c-d8e7-4caf-a5c6-1bdc1d961766"
      },
      "execution_count": 78,
      "outputs": [
        {
          "output_type": "execute_result",
          "data": {
            "text/plain": [
              "((8000, 13), (2000, 13))"
            ]
          },
          "metadata": {},
          "execution_count": 78
        }
      ]
    },
    {
      "cell_type": "markdown",
      "source": [
        "#### For scaling we apply MinMaxScaler"
      ],
      "metadata": {
        "id": "5BLPXfkKO2-z"
      }
    },
    {
      "cell_type": "code",
      "source": [
        "train_scaler, test_scaler = MinMaxScaler(), MinMaxScaler()\n",
        "\n",
        "train_scaled = train_scaler.fit_transform(train)\n",
        "test_scaled = test_scaler.fit_transform(test)"
      ],
      "metadata": {
        "id": "fma-kWc3Rgir"
      },
      "execution_count": 79,
      "outputs": []
    },
    {
      "cell_type": "code",
      "source": [
        "train_scaled = pd.DataFrame(train_scaled, columns = train.columns)\n",
        "test_scaled = pd.DataFrame(test_scaled, columns = test.columns)"
      ],
      "metadata": {
        "id": "qPwBPVlBRoPm"
      },
      "execution_count": 80,
      "outputs": []
    },
    {
      "cell_type": "code",
      "source": [
        "train_x, train_y = train_scaled.drop(columns = 'Exited'), train_scaled.Exited\n",
        "test_x, test_y = test_scaled.drop(columns = 'Exited'), test_scaled.Exited"
      ],
      "metadata": {
        "id": "g2ZDUxxOYrVB"
      },
      "execution_count": 81,
      "outputs": []
    },
    {
      "cell_type": "code",
      "source": [
        "train_x.shape"
      ],
      "metadata": {
        "colab": {
          "base_uri": "https://localhost:8080/"
        },
        "id": "4YpraBFZgGWJ",
        "outputId": "73106271-b888-425a-aa0b-790fbab627d4"
      },
      "execution_count": 82,
      "outputs": [
        {
          "output_type": "execute_result",
          "data": {
            "text/plain": [
              "(8000, 12)"
            ]
          },
          "metadata": {},
          "execution_count": 82
        }
      ]
    },
    {
      "cell_type": "markdown",
      "source": [
        "# Creating the NN"
      ],
      "metadata": {
        "id": "QTJUyIgSdb4D"
      }
    },
    {
      "cell_type": "code",
      "source": [
        "import tensorflow as tf"
      ],
      "metadata": {
        "id": "IUDlCOWQdbyk"
      },
      "execution_count": 83,
      "outputs": []
    },
    {
      "cell_type": "code",
      "source": [
        "# Instantiating ELU\n",
        "elu = tf.keras.layers.ELU(alpha = 0.95)\n",
        "\n",
        "# Instantiating the Sequential model\n",
        "model = tf.keras.Sequential()\n",
        "\n",
        "# Adding the input layer\n",
        "model.add(tf.keras.layers.Input(shape = (12,)))\n",
        "\n",
        "# Adding the hidden layers\n",
        "model.add(tf.keras.layers.Dense(units = 6,\n",
        "                                activation = 'relu',\n",
        "                                kernel_initializer = 'he_uniform'))\n",
        "model.add(tf.keras.layers.Dense(units = 8,\n",
        "                                activation = elu,\n",
        "                                kernel_initializer = 'he_uniform'))\n",
        "\n",
        "# Adding the output layer\n",
        "model.add(tf.keras.layers.Dense(units = 1,\n",
        "                                activation = 'sigmoid',\n",
        "                                kernel_initializer = 'glorot_uniform'))"
      ],
      "metadata": {
        "id": "gecGFs42hDTq"
      },
      "execution_count": 84,
      "outputs": []
    },
    {
      "cell_type": "code",
      "source": [
        "model.summary()"
      ],
      "metadata": {
        "colab": {
          "base_uri": "https://localhost:8080/"
        },
        "id": "uZXU0xBHgzFD",
        "outputId": "59fa6d0f-9703-453e-f7a4-6dc43d972249"
      },
      "execution_count": 85,
      "outputs": [
        {
          "output_type": "stream",
          "name": "stdout",
          "text": [
            "Model: \"sequential_1\"\n",
            "_________________________________________________________________\n",
            " Layer (type)                Output Shape              Param #   \n",
            "=================================================================\n",
            " dense_2 (Dense)             (None, 6)                 78        \n",
            "                                                                 \n",
            " dense_3 (Dense)             (None, 8)                 56        \n",
            "                                                                 \n",
            " dense_4 (Dense)             (None, 1)                 9         \n",
            "                                                                 \n",
            "=================================================================\n",
            "Total params: 143\n",
            "Trainable params: 143\n",
            "Non-trainable params: 0\n",
            "_________________________________________________________________\n"
          ]
        }
      ]
    },
    {
      "cell_type": "code",
      "source": [
        "# Compiling the model\n",
        "model.compile(optimizer = 'Adam',\n",
        "              loss = 'binary_crossentropy',\n",
        "              metrics = ['accuracy','Recall'])"
      ],
      "metadata": {
        "id": "hv3dR6ivgArT"
      },
      "execution_count": 86,
      "outputs": []
    },
    {
      "cell_type": "code",
      "source": [
        "# Training the model and saving the training logs\n",
        "history_object = model.fit(x = train_x, \n",
        "                           y = train_y,\n",
        "                           batch_size = 256,\n",
        "                           epochs = 100,\n",
        "                           validation_data = (test_x, test_y),\n",
        "                           use_multiprocessing = True,\n",
        "                           workers = 20)"
      ],
      "metadata": {
        "id": "lctC0srygAk_",
        "colab": {
          "base_uri": "https://localhost:8080/"
        },
        "outputId": "b370ef60-fd2c-4ae0-ac34-c8949bcd3986"
      },
      "execution_count": 87,
      "outputs": [
        {
          "output_type": "stream",
          "name": "stdout",
          "text": [
            "Epoch 1/100\n",
            "32/32 [==============================] - 1s 13ms/step - loss: 0.6597 - accuracy: 0.6066 - recall: 0.4243 - val_loss: 0.5995 - val_accuracy: 0.7545 - val_recall: 0.1378\n",
            "Epoch 2/100\n",
            "32/32 [==============================] - 0s 5ms/step - loss: 0.5660 - accuracy: 0.7809 - recall: 0.0426 - val_loss: 0.5323 - val_accuracy: 0.8015 - val_recall: 0.0077\n",
            "Epoch 3/100\n",
            "32/32 [==============================] - 0s 5ms/step - loss: 0.5233 - accuracy: 0.7945 - recall: 0.0030 - val_loss: 0.5028 - val_accuracy: 0.8040 - val_recall: 0.0000e+00\n",
            "Epoch 4/100\n",
            "32/32 [==============================] - 0s 5ms/step - loss: 0.5056 - accuracy: 0.7944 - recall: 0.0000e+00 - val_loss: 0.4902 - val_accuracy: 0.8040 - val_recall: 0.0000e+00\n",
            "Epoch 5/100\n",
            "32/32 [==============================] - 0s 5ms/step - loss: 0.4969 - accuracy: 0.7944 - recall: 0.0000e+00 - val_loss: 0.4828 - val_accuracy: 0.8040 - val_recall: 0.0000e+00\n",
            "Epoch 6/100\n",
            "32/32 [==============================] - 0s 5ms/step - loss: 0.4912 - accuracy: 0.7944 - recall: 0.0000e+00 - val_loss: 0.4770 - val_accuracy: 0.8040 - val_recall: 0.0000e+00\n",
            "Epoch 7/100\n",
            "32/32 [==============================] - 0s 5ms/step - loss: 0.4868 - accuracy: 0.7944 - recall: 0.0000e+00 - val_loss: 0.4722 - val_accuracy: 0.8040 - val_recall: 0.0000e+00\n",
            "Epoch 8/100\n",
            "32/32 [==============================] - 0s 5ms/step - loss: 0.4830 - accuracy: 0.7944 - recall: 0.0000e+00 - val_loss: 0.4682 - val_accuracy: 0.8040 - val_recall: 0.0000e+00\n",
            "Epoch 9/100\n",
            "32/32 [==============================] - 0s 5ms/step - loss: 0.4798 - accuracy: 0.7944 - recall: 0.0000e+00 - val_loss: 0.4647 - val_accuracy: 0.8040 - val_recall: 0.0000e+00\n",
            "Epoch 10/100\n",
            "32/32 [==============================] - 0s 5ms/step - loss: 0.4767 - accuracy: 0.7944 - recall: 6.0790e-04 - val_loss: 0.4616 - val_accuracy: 0.8040 - val_recall: 0.0000e+00\n",
            "Epoch 11/100\n",
            "32/32 [==============================] - 0s 5ms/step - loss: 0.4737 - accuracy: 0.7944 - recall: 6.0790e-04 - val_loss: 0.4581 - val_accuracy: 0.8045 - val_recall: 0.0026\n",
            "Epoch 12/100\n",
            "32/32 [==============================] - 0s 5ms/step - loss: 0.4708 - accuracy: 0.7946 - recall: 0.0018 - val_loss: 0.4552 - val_accuracy: 0.8070 - val_recall: 0.0153\n",
            "Epoch 13/100\n",
            "32/32 [==============================] - 0s 5ms/step - loss: 0.4679 - accuracy: 0.7952 - recall: 0.0061 - val_loss: 0.4527 - val_accuracy: 0.8090 - val_recall: 0.0281\n",
            "Epoch 14/100\n",
            "32/32 [==============================] - 0s 5ms/step - loss: 0.4650 - accuracy: 0.7971 - recall: 0.0158 - val_loss: 0.4496 - val_accuracy: 0.8090 - val_recall: 0.0408\n",
            "Epoch 15/100\n",
            "32/32 [==============================] - 0s 5ms/step - loss: 0.4619 - accuracy: 0.8002 - recall: 0.0347 - val_loss: 0.4473 - val_accuracy: 0.8095 - val_recall: 0.0765\n",
            "Epoch 16/100\n",
            "32/32 [==============================] - 0s 5ms/step - loss: 0.4591 - accuracy: 0.8020 - recall: 0.0517 - val_loss: 0.4444 - val_accuracy: 0.8110 - val_recall: 0.0918\n",
            "Epoch 17/100\n",
            "32/32 [==============================] - 0s 5ms/step - loss: 0.4562 - accuracy: 0.8035 - recall: 0.0650 - val_loss: 0.4429 - val_accuracy: 0.8125 - val_recall: 0.1173\n",
            "Epoch 18/100\n",
            "32/32 [==============================] - 0s 5ms/step - loss: 0.4534 - accuracy: 0.8051 - recall: 0.0748 - val_loss: 0.4414 - val_accuracy: 0.8140 - val_recall: 0.1403\n",
            "Epoch 19/100\n",
            "32/32 [==============================] - 0s 4ms/step - loss: 0.4507 - accuracy: 0.8069 - recall: 0.0979 - val_loss: 0.4389 - val_accuracy: 0.8180 - val_recall: 0.1633\n",
            "Epoch 20/100\n",
            "32/32 [==============================] - 0s 5ms/step - loss: 0.4484 - accuracy: 0.8062 - recall: 0.1058 - val_loss: 0.4366 - val_accuracy: 0.8180 - val_recall: 0.1786\n",
            "Epoch 21/100\n",
            "32/32 [==============================] - 0s 5ms/step - loss: 0.4460 - accuracy: 0.8070 - recall: 0.1070 - val_loss: 0.4367 - val_accuracy: 0.8205 - val_recall: 0.2168\n",
            "Epoch 22/100\n",
            "32/32 [==============================] - 0s 5ms/step - loss: 0.4445 - accuracy: 0.8067 - recall: 0.1392 - val_loss: 0.4327 - val_accuracy: 0.8175 - val_recall: 0.1888\n",
            "Epoch 23/100\n",
            "32/32 [==============================] - 0s 6ms/step - loss: 0.4419 - accuracy: 0.8081 - recall: 0.1216 - val_loss: 0.4364 - val_accuracy: 0.8170 - val_recall: 0.2474\n",
            "Epoch 24/100\n",
            "32/32 [==============================] - 0s 5ms/step - loss: 0.4410 - accuracy: 0.8094 - recall: 0.1581 - val_loss: 0.4311 - val_accuracy: 0.8185 - val_recall: 0.2270\n",
            "Epoch 25/100\n",
            "32/32 [==============================] - 0s 5ms/step - loss: 0.4388 - accuracy: 0.8098 - recall: 0.1605 - val_loss: 0.4313 - val_accuracy: 0.8190 - val_recall: 0.2500\n",
            "Epoch 26/100\n",
            "32/32 [==============================] - 0s 5ms/step - loss: 0.4373 - accuracy: 0.8116 - recall: 0.1605 - val_loss: 0.4327 - val_accuracy: 0.8175 - val_recall: 0.2832\n",
            "Epoch 27/100\n",
            "32/32 [==============================] - 0s 5ms/step - loss: 0.4358 - accuracy: 0.8119 - recall: 0.1720 - val_loss: 0.4290 - val_accuracy: 0.8200 - val_recall: 0.2679\n",
            "Epoch 28/100\n",
            "32/32 [==============================] - 0s 5ms/step - loss: 0.4347 - accuracy: 0.8135 - recall: 0.1854 - val_loss: 0.4290 - val_accuracy: 0.8205 - val_recall: 0.2832\n",
            "Epoch 29/100\n",
            "32/32 [==============================] - 0s 5ms/step - loss: 0.4335 - accuracy: 0.8121 - recall: 0.1763 - val_loss: 0.4296 - val_accuracy: 0.8195 - val_recall: 0.3036\n",
            "Epoch 30/100\n",
            "32/32 [==============================] - 0s 5ms/step - loss: 0.4325 - accuracy: 0.8139 - recall: 0.1860 - val_loss: 0.4291 - val_accuracy: 0.8205 - val_recall: 0.3138\n",
            "Epoch 31/100\n",
            "32/32 [==============================] - 0s 5ms/step - loss: 0.4315 - accuracy: 0.8155 - recall: 0.2067 - val_loss: 0.4252 - val_accuracy: 0.8215 - val_recall: 0.2857\n",
            "Epoch 32/100\n",
            "32/32 [==============================] - 0s 5ms/step - loss: 0.4310 - accuracy: 0.8139 - recall: 0.1964 - val_loss: 0.4274 - val_accuracy: 0.8205 - val_recall: 0.3138\n",
            "Epoch 33/100\n",
            "32/32 [==============================] - 0s 5ms/step - loss: 0.4300 - accuracy: 0.8149 - recall: 0.1939 - val_loss: 0.4289 - val_accuracy: 0.8200 - val_recall: 0.3265\n",
            "Epoch 34/100\n",
            "32/32 [==============================] - 0s 5ms/step - loss: 0.4290 - accuracy: 0.8154 - recall: 0.2140 - val_loss: 0.4266 - val_accuracy: 0.8200 - val_recall: 0.3265\n",
            "Epoch 35/100\n",
            "32/32 [==============================] - 0s 5ms/step - loss: 0.4284 - accuracy: 0.8158 - recall: 0.2116 - val_loss: 0.4268 - val_accuracy: 0.8200 - val_recall: 0.3291\n",
            "Epoch 36/100\n",
            "32/32 [==============================] - 0s 5ms/step - loss: 0.4279 - accuracy: 0.8146 - recall: 0.2158 - val_loss: 0.4287 - val_accuracy: 0.8155 - val_recall: 0.3418\n",
            "Epoch 37/100\n",
            "32/32 [==============================] - 0s 5ms/step - loss: 0.4272 - accuracy: 0.8150 - recall: 0.2140 - val_loss: 0.4287 - val_accuracy: 0.8135 - val_recall: 0.3367\n",
            "Epoch 38/100\n",
            "32/32 [==============================] - 0s 5ms/step - loss: 0.4266 - accuracy: 0.8159 - recall: 0.2274 - val_loss: 0.4264 - val_accuracy: 0.8155 - val_recall: 0.3367\n",
            "Epoch 39/100\n",
            "32/32 [==============================] - 0s 5ms/step - loss: 0.4260 - accuracy: 0.8159 - recall: 0.2286 - val_loss: 0.4231 - val_accuracy: 0.8225 - val_recall: 0.3291\n",
            "Epoch 40/100\n",
            "32/32 [==============================] - 0s 5ms/step - loss: 0.4255 - accuracy: 0.8173 - recall: 0.2328 - val_loss: 0.4268 - val_accuracy: 0.8140 - val_recall: 0.3469\n",
            "Epoch 41/100\n",
            "32/32 [==============================] - 0s 5ms/step - loss: 0.4249 - accuracy: 0.8158 - recall: 0.2304 - val_loss: 0.4243 - val_accuracy: 0.8190 - val_recall: 0.3393\n",
            "Epoch 42/100\n",
            "32/32 [==============================] - 0s 5ms/step - loss: 0.4245 - accuracy: 0.8173 - recall: 0.2444 - val_loss: 0.4204 - val_accuracy: 0.8260 - val_recall: 0.3214\n",
            "Epoch 43/100\n",
            "32/32 [==============================] - 0s 5ms/step - loss: 0.4249 - accuracy: 0.8166 - recall: 0.2298 - val_loss: 0.4278 - val_accuracy: 0.8145 - val_recall: 0.3648\n",
            "Epoch 44/100\n",
            "32/32 [==============================] - 0s 5ms/step - loss: 0.4237 - accuracy: 0.8165 - recall: 0.2334 - val_loss: 0.4286 - val_accuracy: 0.8150 - val_recall: 0.3673\n",
            "Epoch 45/100\n",
            "32/32 [==============================] - 0s 5ms/step - loss: 0.4231 - accuracy: 0.8177 - recall: 0.2444 - val_loss: 0.4247 - val_accuracy: 0.8170 - val_recall: 0.3546\n",
            "Epoch 46/100\n",
            "32/32 [==============================] - 0s 5ms/step - loss: 0.4225 - accuracy: 0.8180 - recall: 0.2492 - val_loss: 0.4258 - val_accuracy: 0.8165 - val_recall: 0.3648\n",
            "Epoch 47/100\n",
            "32/32 [==============================] - 0s 5ms/step - loss: 0.4221 - accuracy: 0.8189 - recall: 0.2565 - val_loss: 0.4211 - val_accuracy: 0.8215 - val_recall: 0.3444\n",
            "Epoch 48/100\n",
            "32/32 [==============================] - 0s 6ms/step - loss: 0.4217 - accuracy: 0.8183 - recall: 0.2426 - val_loss: 0.4235 - val_accuracy: 0.8190 - val_recall: 0.3520\n",
            "Epoch 49/100\n",
            "32/32 [==============================] - 0s 5ms/step - loss: 0.4211 - accuracy: 0.8191 - recall: 0.2389 - val_loss: 0.4288 - val_accuracy: 0.8155 - val_recall: 0.3827\n",
            "Epoch 50/100\n",
            "32/32 [==============================] - 0s 5ms/step - loss: 0.4206 - accuracy: 0.8198 - recall: 0.2620 - val_loss: 0.4212 - val_accuracy: 0.8185 - val_recall: 0.3418\n",
            "Epoch 51/100\n",
            "32/32 [==============================] - 0s 5ms/step - loss: 0.4204 - accuracy: 0.8201 - recall: 0.2505 - val_loss: 0.4215 - val_accuracy: 0.8190 - val_recall: 0.3495\n",
            "Epoch 52/100\n",
            "32/32 [==============================] - 0s 5ms/step - loss: 0.4196 - accuracy: 0.8200 - recall: 0.2620 - val_loss: 0.4219 - val_accuracy: 0.8185 - val_recall: 0.3571\n",
            "Epoch 53/100\n",
            "32/32 [==============================] - 0s 5ms/step - loss: 0.4192 - accuracy: 0.8196 - recall: 0.2553 - val_loss: 0.4250 - val_accuracy: 0.8155 - val_recall: 0.3699\n",
            "Epoch 54/100\n",
            "32/32 [==============================] - 0s 5ms/step - loss: 0.4188 - accuracy: 0.8205 - recall: 0.2480 - val_loss: 0.4271 - val_accuracy: 0.8160 - val_recall: 0.3827\n",
            "Epoch 55/100\n",
            "32/32 [==============================] - 0s 5ms/step - loss: 0.4184 - accuracy: 0.8205 - recall: 0.2711 - val_loss: 0.4246 - val_accuracy: 0.8170 - val_recall: 0.3801\n",
            "Epoch 56/100\n",
            "32/32 [==============================] - 0s 5ms/step - loss: 0.4179 - accuracy: 0.8199 - recall: 0.2644 - val_loss: 0.4229 - val_accuracy: 0.8190 - val_recall: 0.3776\n",
            "Epoch 57/100\n",
            "32/32 [==============================] - 0s 5ms/step - loss: 0.4170 - accuracy: 0.8202 - recall: 0.2553 - val_loss: 0.4191 - val_accuracy: 0.8195 - val_recall: 0.3571\n",
            "Epoch 58/100\n",
            "32/32 [==============================] - 0s 5ms/step - loss: 0.4164 - accuracy: 0.8213 - recall: 0.2608 - val_loss: 0.4206 - val_accuracy: 0.8175 - val_recall: 0.3673\n",
            "Epoch 59/100\n",
            "32/32 [==============================] - 0s 5ms/step - loss: 0.4158 - accuracy: 0.8215 - recall: 0.2614 - val_loss: 0.4197 - val_accuracy: 0.8185 - val_recall: 0.3673\n",
            "Epoch 60/100\n",
            "32/32 [==============================] - 0s 5ms/step - loss: 0.4151 - accuracy: 0.8214 - recall: 0.2657 - val_loss: 0.4213 - val_accuracy: 0.8170 - val_recall: 0.3750\n",
            "Epoch 61/100\n",
            "32/32 [==============================] - 0s 5ms/step - loss: 0.4146 - accuracy: 0.8238 - recall: 0.2772 - val_loss: 0.4213 - val_accuracy: 0.8170 - val_recall: 0.3801\n",
            "Epoch 62/100\n",
            "32/32 [==============================] - 0s 5ms/step - loss: 0.4135 - accuracy: 0.8226 - recall: 0.2663 - val_loss: 0.4183 - val_accuracy: 0.8175 - val_recall: 0.3673\n",
            "Epoch 63/100\n",
            "32/32 [==============================] - 0s 5ms/step - loss: 0.4129 - accuracy: 0.8232 - recall: 0.2729 - val_loss: 0.4184 - val_accuracy: 0.8175 - val_recall: 0.3724\n",
            "Epoch 64/100\n",
            "32/32 [==============================] - 0s 5ms/step - loss: 0.4118 - accuracy: 0.8245 - recall: 0.2851 - val_loss: 0.4184 - val_accuracy: 0.8170 - val_recall: 0.3776\n",
            "Epoch 65/100\n",
            "32/32 [==============================] - 0s 5ms/step - loss: 0.4109 - accuracy: 0.8246 - recall: 0.2815 - val_loss: 0.4216 - val_accuracy: 0.8130 - val_recall: 0.3878\n",
            "Epoch 66/100\n",
            "32/32 [==============================] - 0s 5ms/step - loss: 0.4098 - accuracy: 0.8267 - recall: 0.2912 - val_loss: 0.4150 - val_accuracy: 0.8200 - val_recall: 0.3776\n",
            "Epoch 67/100\n",
            "32/32 [==============================] - 0s 5ms/step - loss: 0.4086 - accuracy: 0.8275 - recall: 0.3040 - val_loss: 0.4143 - val_accuracy: 0.8195 - val_recall: 0.3827\n",
            "Epoch 68/100\n",
            "32/32 [==============================] - 0s 5ms/step - loss: 0.4073 - accuracy: 0.8292 - recall: 0.2991 - val_loss: 0.4142 - val_accuracy: 0.8180 - val_recall: 0.3827\n",
            "Epoch 69/100\n",
            "32/32 [==============================] - 0s 5ms/step - loss: 0.4067 - accuracy: 0.8279 - recall: 0.3021 - val_loss: 0.4114 - val_accuracy: 0.8200 - val_recall: 0.3827\n",
            "Epoch 70/100\n",
            "32/32 [==============================] - 0s 5ms/step - loss: 0.4047 - accuracy: 0.8290 - recall: 0.2991 - val_loss: 0.4146 - val_accuracy: 0.8180 - val_recall: 0.4133\n",
            "Epoch 71/100\n",
            "32/32 [==============================] - 0s 5ms/step - loss: 0.4027 - accuracy: 0.8309 - recall: 0.3125 - val_loss: 0.4115 - val_accuracy: 0.8180 - val_recall: 0.4031\n",
            "Epoch 72/100\n",
            "32/32 [==============================] - 0s 5ms/step - loss: 0.4006 - accuracy: 0.8321 - recall: 0.3167 - val_loss: 0.4061 - val_accuracy: 0.8205 - val_recall: 0.3903\n",
            "Epoch 73/100\n",
            "32/32 [==============================] - 0s 5ms/step - loss: 0.3988 - accuracy: 0.8344 - recall: 0.3234 - val_loss: 0.4052 - val_accuracy: 0.8240 - val_recall: 0.4107\n",
            "Epoch 74/100\n",
            "32/32 [==============================] - 0s 5ms/step - loss: 0.3963 - accuracy: 0.8361 - recall: 0.3374 - val_loss: 0.3995 - val_accuracy: 0.8240 - val_recall: 0.3980\n",
            "Epoch 75/100\n",
            "32/32 [==============================] - 0s 5ms/step - loss: 0.3940 - accuracy: 0.8346 - recall: 0.3240 - val_loss: 0.4039 - val_accuracy: 0.8225 - val_recall: 0.4362\n",
            "Epoch 76/100\n",
            "32/32 [==============================] - 0s 5ms/step - loss: 0.3919 - accuracy: 0.8366 - recall: 0.3398 - val_loss: 0.4013 - val_accuracy: 0.8245 - val_recall: 0.4362\n",
            "Epoch 77/100\n",
            "32/32 [==============================] - 0s 5ms/step - loss: 0.3899 - accuracy: 0.8389 - recall: 0.3502 - val_loss: 0.3955 - val_accuracy: 0.8285 - val_recall: 0.4311\n",
            "Epoch 78/100\n",
            "32/32 [==============================] - 0s 5ms/step - loss: 0.3874 - accuracy: 0.8400 - recall: 0.3568 - val_loss: 0.3914 - val_accuracy: 0.8295 - val_recall: 0.4286\n",
            "Epoch 79/100\n",
            "32/32 [==============================] - 0s 5ms/step - loss: 0.3852 - accuracy: 0.8404 - recall: 0.3392 - val_loss: 0.4005 - val_accuracy: 0.8250 - val_recall: 0.4847\n",
            "Epoch 80/100\n",
            "32/32 [==============================] - 0s 5ms/step - loss: 0.3841 - accuracy: 0.8429 - recall: 0.3684 - val_loss: 0.3902 - val_accuracy: 0.8290 - val_recall: 0.4592\n",
            "Epoch 81/100\n",
            "32/32 [==============================] - 0s 5ms/step - loss: 0.3814 - accuracy: 0.8450 - recall: 0.3915 - val_loss: 0.3803 - val_accuracy: 0.8340 - val_recall: 0.4107\n",
            "Epoch 82/100\n",
            "32/32 [==============================] - 0s 5ms/step - loss: 0.3800 - accuracy: 0.8446 - recall: 0.3653 - val_loss: 0.3870 - val_accuracy: 0.8310 - val_recall: 0.4694\n",
            "Epoch 83/100\n",
            "32/32 [==============================] - 0s 5ms/step - loss: 0.3779 - accuracy: 0.8457 - recall: 0.3769 - val_loss: 0.3886 - val_accuracy: 0.8305 - val_recall: 0.4872\n",
            "Epoch 84/100\n",
            "32/32 [==============================] - 0s 5ms/step - loss: 0.3763 - accuracy: 0.8462 - recall: 0.3891 - val_loss: 0.3793 - val_accuracy: 0.8375 - val_recall: 0.4566\n",
            "Epoch 85/100\n",
            "32/32 [==============================] - 0s 5ms/step - loss: 0.3747 - accuracy: 0.8465 - recall: 0.3805 - val_loss: 0.3841 - val_accuracy: 0.8330 - val_recall: 0.4796\n",
            "Epoch 86/100\n",
            "32/32 [==============================] - 0s 5ms/step - loss: 0.3733 - accuracy: 0.8478 - recall: 0.3866 - val_loss: 0.3814 - val_accuracy: 0.8345 - val_recall: 0.4847\n",
            "Epoch 87/100\n",
            "32/32 [==============================] - 0s 5ms/step - loss: 0.3720 - accuracy: 0.8493 - recall: 0.4097 - val_loss: 0.3768 - val_accuracy: 0.8370 - val_recall: 0.4719\n",
            "Epoch 88/100\n",
            "32/32 [==============================] - 0s 5ms/step - loss: 0.3705 - accuracy: 0.8506 - recall: 0.4055 - val_loss: 0.3738 - val_accuracy: 0.8390 - val_recall: 0.4694\n",
            "Epoch 89/100\n",
            "32/32 [==============================] - 0s 5ms/step - loss: 0.3692 - accuracy: 0.8508 - recall: 0.4024 - val_loss: 0.3769 - val_accuracy: 0.8395 - val_recall: 0.4949\n",
            "Epoch 90/100\n",
            "32/32 [==============================] - 0s 5ms/step - loss: 0.3680 - accuracy: 0.8514 - recall: 0.4116 - val_loss: 0.3697 - val_accuracy: 0.8425 - val_recall: 0.4719\n",
            "Epoch 91/100\n",
            "32/32 [==============================] - 0s 5ms/step - loss: 0.3668 - accuracy: 0.8510 - recall: 0.4085 - val_loss: 0.3723 - val_accuracy: 0.8420 - val_recall: 0.4949\n",
            "Epoch 92/100\n",
            "32/32 [==============================] - 0s 5ms/step - loss: 0.3655 - accuracy: 0.8529 - recall: 0.4134 - val_loss: 0.3682 - val_accuracy: 0.8445 - val_recall: 0.4847\n",
            "Epoch 93/100\n",
            "32/32 [==============================] - 0s 5ms/step - loss: 0.3649 - accuracy: 0.8530 - recall: 0.4182 - val_loss: 0.3679 - val_accuracy: 0.8450 - val_recall: 0.4923\n",
            "Epoch 94/100\n",
            "32/32 [==============================] - 0s 5ms/step - loss: 0.3639 - accuracy: 0.8535 - recall: 0.4091 - val_loss: 0.3713 - val_accuracy: 0.8435 - val_recall: 0.5128\n",
            "Epoch 95/100\n",
            "32/32 [==============================] - 0s 5ms/step - loss: 0.3629 - accuracy: 0.8543 - recall: 0.4334 - val_loss: 0.3651 - val_accuracy: 0.8450 - val_recall: 0.4898\n",
            "Epoch 96/100\n",
            "32/32 [==============================] - 0s 5ms/step - loss: 0.3624 - accuracy: 0.8534 - recall: 0.4195 - val_loss: 0.3657 - val_accuracy: 0.8470 - val_recall: 0.5000\n",
            "Epoch 97/100\n",
            "32/32 [==============================] - 0s 5ms/step - loss: 0.3619 - accuracy: 0.8553 - recall: 0.4322 - val_loss: 0.3681 - val_accuracy: 0.8435 - val_recall: 0.5102\n",
            "Epoch 98/100\n",
            "32/32 [==============================] - 0s 5ms/step - loss: 0.3607 - accuracy: 0.8564 - recall: 0.4347 - val_loss: 0.3626 - val_accuracy: 0.8450 - val_recall: 0.4872\n",
            "Epoch 99/100\n",
            "32/32 [==============================] - 0s 5ms/step - loss: 0.3600 - accuracy: 0.8543 - recall: 0.4274 - val_loss: 0.3704 - val_accuracy: 0.8390 - val_recall: 0.5179\n",
            "Epoch 100/100\n",
            "32/32 [==============================] - 0s 5ms/step - loss: 0.3599 - accuracy: 0.8550 - recall: 0.4359 - val_loss: 0.3696 - val_accuracy: 0.8395 - val_recall: 0.5281\n"
          ]
        }
      ]
    },
    {
      "cell_type": "code",
      "source": [
        "# Playing with the history object\n",
        "dir(history_object)"
      ],
      "metadata": {
        "id": "iXMxLPAFgAch",
        "colab": {
          "base_uri": "https://localhost:8080/"
        },
        "outputId": "638740f0-7df3-44df-e656-3ffab349f210"
      },
      "execution_count": 24,
      "outputs": [
        {
          "output_type": "execute_result",
          "data": {
            "text/plain": [
              "['__class__',\n",
              " '__delattr__',\n",
              " '__dict__',\n",
              " '__dir__',\n",
              " '__doc__',\n",
              " '__eq__',\n",
              " '__format__',\n",
              " '__ge__',\n",
              " '__getattribute__',\n",
              " '__gt__',\n",
              " '__hash__',\n",
              " '__init__',\n",
              " '__init_subclass__',\n",
              " '__le__',\n",
              " '__lt__',\n",
              " '__module__',\n",
              " '__ne__',\n",
              " '__new__',\n",
              " '__reduce__',\n",
              " '__reduce_ex__',\n",
              " '__repr__',\n",
              " '__setattr__',\n",
              " '__sizeof__',\n",
              " '__str__',\n",
              " '__subclasshook__',\n",
              " '__weakref__',\n",
              " '_chief_worker_only',\n",
              " '_implements_predict_batch_hooks',\n",
              " '_implements_test_batch_hooks',\n",
              " '_implements_train_batch_hooks',\n",
              " '_keras_api_names',\n",
              " '_keras_api_names_v1',\n",
              " '_supports_tf_logs',\n",
              " 'epoch',\n",
              " 'history',\n",
              " 'model',\n",
              " 'on_batch_begin',\n",
              " 'on_batch_end',\n",
              " 'on_epoch_begin',\n",
              " 'on_epoch_end',\n",
              " 'on_predict_batch_begin',\n",
              " 'on_predict_batch_end',\n",
              " 'on_predict_begin',\n",
              " 'on_predict_end',\n",
              " 'on_test_batch_begin',\n",
              " 'on_test_batch_end',\n",
              " 'on_test_begin',\n",
              " 'on_test_end',\n",
              " 'on_train_batch_begin',\n",
              " 'on_train_batch_end',\n",
              " 'on_train_begin',\n",
              " 'on_train_end',\n",
              " 'params',\n",
              " 'set_model',\n",
              " 'set_params',\n",
              " 'validation_data']"
            ]
          },
          "metadata": {},
          "execution_count": 24
        }
      ]
    },
    {
      "cell_type": "code",
      "source": [
        "hist = history_object.history\n",
        "hist.keys()"
      ],
      "metadata": {
        "colab": {
          "base_uri": "https://localhost:8080/"
        },
        "id": "v7WejKG8gAZ5",
        "outputId": "d585582b-373a-48c0-f905-18c76d90a93e"
      },
      "execution_count": 25,
      "outputs": [
        {
          "output_type": "execute_result",
          "data": {
            "text/plain": [
              "dict_keys(['loss', 'accuracy', 'recall', 'val_loss', 'val_accuracy', 'val_recall'])"
            ]
          },
          "metadata": {},
          "execution_count": 25
        }
      ]
    },
    {
      "cell_type": "code",
      "source": [
        "def history_visualizer(history_obj, keyword):\n",
        "  epochs = history_obj.epoch\n",
        "  hist = history_obj.history\n",
        "\n",
        "  train_key = keyword\n",
        "  val_key = f'val_{keyword}'\n",
        "\n",
        "  train_data = hist.get(train_key)\n",
        "  val_data = hist.get(val_key)\n",
        "\n",
        "  plt.figure(figsize = (15,8))\n",
        "  sns.lineplot(x = epochs, y = train_data)\n",
        "  sns.lineplot(x = epochs, y = val_data)\n",
        "  plt.legend(labels = [keyword.title(), val_key.title()])\n",
        "\n",
        "  plt.show()"
      ],
      "metadata": {
        "id": "noWaf7JxgAXh"
      },
      "execution_count": 26,
      "outputs": []
    },
    {
      "cell_type": "code",
      "source": [
        "history_visualizer(history_object,'loss')"
      ],
      "metadata": {
        "id": "_uFxgOGWgAU_",
        "colab": {
          "base_uri": "https://localhost:8080/",
          "height": 483
        },
        "outputId": "4c1575c3-19fb-463a-b3d3-97966b9c5e65"
      },
      "execution_count": 27,
      "outputs": [
        {
          "output_type": "display_data",
          "data": {
            "text/plain": [
              "<Figure size 1080x576 with 1 Axes>"
            ],
            "image/png": "[encoded data removed]"
          },
          "metadata": {
            "needs_background": "light"
          }
        }
      ]
    },
    {
      "cell_type": "code",
      "source": [
        "history_visualizer(history_object,'accuracy')"
      ],
      "metadata": {
        "id": "AowfoiwRgANz",
        "colab": {
          "base_uri": "https://localhost:8080/",
          "height": 483
        },
        "outputId": "cb90833b-fcef-4bc1-9f22-26696a5bac2c"
      },
      "execution_count": 28,
      "outputs": [
        {
          "output_type": "display_data",
          "data": {
            "text/plain": [
              "<Figure size 1080x576 with 1 Axes>"
            ],
            "image/png": "[encoded data removed]"
          },
          "metadata": {
            "needs_background": "light"
          }
        }
      ]
    },
    {
      "cell_type": "code",
      "source": [
        "history_visualizer(history_object,'recall')"
      ],
      "metadata": {
        "id": "l2lCdF56qoVd",
        "colab": {
          "base_uri": "https://localhost:8080/",
          "height": 483
        },
        "outputId": "62c12b1f-781d-4947-babb-8a20619a31f3"
      },
      "execution_count": 29,
      "outputs": [
        {
          "output_type": "display_data",
          "data": {
            "text/plain": [
              "<Figure size 1080x576 with 1 Axes>"
            ],
            "image/png": "[encoded data removed]"
          },
          "metadata": {
            "needs_background": "light"
          }
        }
      ]
    },
    {
      "cell_type": "code",
      "source": [
        "model.summary()"
      ],
      "metadata": {
        "colab": {
          "base_uri": "https://localhost:8080/"
        },
        "id": "e0CtoC7Nj-xb",
        "outputId": "7b174c0b-cd76-4baf-d2f3-27a0ad4087cc"
      },
      "execution_count": 30,
      "outputs": [
        {
          "output_type": "stream",
          "name": "stdout",
          "text": [
            "Model: \"sequential\"\n",
            "_________________________________________________________________\n",
            " Layer (type)                Output Shape              Param #   \n",
            "=================================================================\n",
            " dense (Dense)               (None, 6)                 78        \n",
            "                                                                 \n",
            " dense_1 (Dense)             (None, 8)                 56        \n",
            "                                                                 \n",
            " dense_2 (Dense)             (None, 1)                 9         \n",
            "                                                                 \n",
            "=================================================================\n",
            "Total params: 143\n",
            "Trainable params: 143\n",
            "Non-trainable params: 0\n",
            "_________________________________________________________________\n"
          ]
        }
      ]
    },
    {
      "cell_type": "code",
      "source": [
        "[i for i in dir(model) if i.lower().__contains__('conf')]"
      ],
      "metadata": {
        "id": "UvoQ6mccj-vD",
        "colab": {
          "base_uri": "https://localhost:8080/"
        },
        "outputId": "bfff404b-6271-4781-81c8-9bf20c30065b"
      },
      "execution_count": 31,
      "outputs": [
        {
          "output_type": "execute_result",
          "data": {
            "text/plain": [
              "['_configure_steps_per_execution',\n",
              " '_conform_to_reference_input',\n",
              " '_must_restore_from_config',\n",
              " '_preserve_input_structure_in_config',\n",
              " '_updated_config',\n",
              " 'from_config',\n",
              " 'get_config']"
            ]
          },
          "metadata": {},
          "execution_count": 31
        }
      ]
    },
    {
      "cell_type": "code",
      "source": [
        "model.get_config()"
      ],
      "metadata": {
        "id": "6yWaNwI0j-sf",
        "colab": {
          "base_uri": "https://localhost:8080/"
        },
        "outputId": "6d2ed6dc-5120-4217-dcd0-c3609dc0b8ca"
      },
      "execution_count": 32,
      "outputs": [
        {
          "output_type": "execute_result",
          "data": {
            "text/plain": [
              "{'name': 'sequential',\n",
              " 'layers': [{'class_name': 'InputLayer',\n",
              "   'config': {'batch_input_shape': (None, 12),\n",
              "    'dtype': 'float32',\n",
              "    'sparse': False,\n",
              "    'ragged': False,\n",
              "    'name': 'input_1'}},\n",
              "  {'class_name': 'Dense',\n",
              "   'config': {'name': 'dense',\n",
              "    'trainable': True,\n",
              "    'dtype': 'float32',\n",
              "    'units': 6,\n",
              "    'activation': 'relu',\n",
              "    'use_bias': True,\n",
              "    'kernel_initializer': {'class_name': 'HeUniform',\n",
              "     'config': {'seed': None}},\n",
              "    'bias_initializer': {'class_name': 'Zeros', 'config': {}},\n",
              "    'kernel_regularizer': None,\n",
              "    'bias_regularizer': None,\n",
              "    'activity_regularizer': None,\n",
              "    'kernel_constraint': None,\n",
              "    'bias_constraint': None}},\n",
              "  {'class_name': 'Dense',\n",
              "   'config': {'name': 'dense_1',\n",
              "    'trainable': True,\n",
              "    'dtype': 'float32',\n",
              "    'units': 8,\n",
              "    'activation': {'class_name': 'ELU',\n",
              "     'config': {'name': 'elu',\n",
              "      'trainable': True,\n",
              "      'dtype': 'float32',\n",
              "      'alpha': 0.949999988079071}},\n",
              "    'use_bias': True,\n",
              "    'kernel_initializer': {'class_name': 'HeUniform',\n",
              "     'config': {'seed': None}},\n",
              "    'bias_initializer': {'class_name': 'Zeros', 'config': {}},\n",
              "    'kernel_regularizer': None,\n",
              "    'bias_regularizer': None,\n",
              "    'activity_regularizer': None,\n",
              "    'kernel_constraint': None,\n",
              "    'bias_constraint': None}},\n",
              "  {'class_name': 'Dense',\n",
              "   'config': {'name': 'dense_2',\n",
              "    'trainable': True,\n",
              "    'dtype': 'float32',\n",
              "    'units': 1,\n",
              "    'activation': 'sigmoid',\n",
              "    'use_bias': True,\n",
              "    'kernel_initializer': {'class_name': 'GlorotUniform',\n",
              "     'config': {'seed': None}},\n",
              "    'bias_initializer': {'class_name': 'Zeros', 'config': {}},\n",
              "    'kernel_regularizer': None,\n",
              "    'bias_regularizer': None,\n",
              "    'activity_regularizer': None,\n",
              "    'kernel_constraint': None,\n",
              "    'bias_constraint': None}}]}"
            ]
          },
          "metadata": {},
          "execution_count": 32
        }
      ]
    },
    {
      "cell_type": "markdown",
      "source": [
        "# Saving and loading the models"
      ],
      "metadata": {
        "id": "bNO3ESJYmhQU"
      }
    },
    {
      "cell_type": "code",
      "source": [
        "# Saving the trained models\n",
        "model_weights_path = 'TrainedModels'\n",
        "os.makedirs(model_weights_path, exist_ok = True)\n",
        "\n",
        "model.save(os.path.join(model_weights_path,'base_model.tf'),save_format = 'tf')"
      ],
      "metadata": {
        "colab": {
          "base_uri": "https://localhost:8080/"
        },
        "id": "YEmGHqBgj-m-",
        "outputId": "ed4fdfa6-c950-4879-a833-f48658f7f5a0"
      },
      "execution_count": 33,
      "outputs": [
        {
          "output_type": "stream",
          "name": "stderr",
          "text": [
            "WARNING:absl:Found untraced functions such as elu_layer_call_fn, elu_layer_call_and_return_conditional_losses while saving (showing 2 of 2). These functions will not be directly callable after loading.\n"
          ]
        }
      ]
    },
    {
      "cell_type": "code",
      "source": [
        "# Loading the saved models\n",
        "loaded_model = tf.keras.models.load_model(os.path.join(model_weights_path,'base_model.tf'))"
      ],
      "metadata": {
        "id": "BLHrSHDvj-p3"
      },
      "execution_count": 34,
      "outputs": []
    },
    {
      "cell_type": "code",
      "source": [
        "loaded_model.summary()"
      ],
      "metadata": {
        "colab": {
          "base_uri": "https://localhost:8080/"
        },
        "id": "akJs5M1pqJhs",
        "outputId": "61ac991a-9e2f-4bd1-84bd-c1d9d7e677e8"
      },
      "execution_count": 35,
      "outputs": [
        {
          "output_type": "stream",
          "name": "stdout",
          "text": [
            "Model: \"sequential\"\n",
            "_________________________________________________________________\n",
            " Layer (type)                Output Shape              Param #   \n",
            "=================================================================\n",
            " dense (Dense)               (None, 6)                 78        \n",
            "                                                                 \n",
            " dense_1 (Dense)             (None, 8)                 56        \n",
            "                                                                 \n",
            " dense_2 (Dense)             (None, 1)                 9         \n",
            "                                                                 \n",
            "=================================================================\n",
            "Total params: 143\n",
            "Trainable params: 143\n",
            "Non-trainable params: 0\n",
            "_________________________________________________________________\n"
          ]
        }
      ]
    },
    {
      "cell_type": "markdown",
      "source": [
        "# tensorflow calbacks"
      ],
      "metadata": {
        "id": "zbVPAVIQpxsr"
      }
    },
    {
      "cell_type": "code",
      "source": [
        "dir(tf.keras.callbacks)"
      ],
      "metadata": {
        "id": "KIBB5Q3FqlRL",
        "colab": {
          "base_uri": "https://localhost:8080/"
        },
        "outputId": "bf727746-813f-441e-d3af-64e5346868a8"
      },
      "execution_count": 36,
      "outputs": [
        {
          "output_type": "execute_result",
          "data": {
            "text/plain": [
              "['BackupAndRestore',\n",
              " 'BaseLogger',\n",
              " 'CSVLogger',\n",
              " 'Callback',\n",
              " 'CallbackList',\n",
              " 'EarlyStopping',\n",
              " 'History',\n",
              " 'LambdaCallback',\n",
              " 'LearningRateScheduler',\n",
              " 'ModelCheckpoint',\n",
              " 'ProgbarLogger',\n",
              " 'ReduceLROnPlateau',\n",
              " 'RemoteMonitor',\n",
              " 'TensorBoard',\n",
              " 'TerminateOnNaN',\n",
              " '__builtins__',\n",
              " '__cached__',\n",
              " '__doc__',\n",
              " '__file__',\n",
              " '__loader__',\n",
              " '__name__',\n",
              " '__package__',\n",
              " '__path__',\n",
              " '__spec__',\n",
              " '_sys',\n",
              " 'experimental']"
            ]
          },
          "metadata": {},
          "execution_count": 36
        }
      ]
    },
    {
      "cell_type": "code",
      "source": [
        "class MyCalbacks(tf.keras.callbacks.Callback):\n",
        "  def on_epoch_end(self, epochs, logs = {}):\n",
        "    if (logs.get('accuracy')>0.8) & (logs.get('val_accuracy')>0.8):\n",
        "      self.model.stop_training = True\n",
        "      print()\n",
        "      print('Condition Satisfied !')\n",
        "      print()"
      ],
      "metadata": {
        "id": "zN9xUpw6qlbr"
      },
      "execution_count": 37,
      "outputs": []
    },
    {
      "cell_type": "code",
      "source": [
        "conditional_callback = MyCalbacks()"
      ],
      "metadata": {
        "id": "IZiUj5a2qlgb"
      },
      "execution_count": 38,
      "outputs": []
    },
    {
      "cell_type": "code",
      "source": [
        "# Building the model\n",
        "\n",
        "# Instantiating ELU\n",
        "elu = tf.keras.layers.ELU(alpha = 0.95)\n",
        "\n",
        "# Instantiating the Sequential model\n",
        "model_c = tf.keras.Sequential()\n",
        "\n",
        "# Adding the input layer\n",
        "model_c.add(tf.keras.layers.Input(shape = (12,)))\n",
        "\n",
        "# Adding the hidden layers\n",
        "model_c.add(tf.keras.layers.Dense(units = 6,\n",
        "                                activation = 'relu',\n",
        "                                kernel_initializer = 'he_uniform'))\n",
        "model_c.add(tf.keras.layers.Dense(units = 8,\n",
        "                                activation = elu,\n",
        "                                kernel_initializer = 'he_uniform'))\n",
        "\n",
        "# Adding the output layer\n",
        "model_c.add(tf.keras.layers.Dense(units = 1,\n",
        "                                activation = 'sigmoid',\n",
        "                                kernel_initializer = 'glorot_uniform'))\n",
        "\n",
        "\n",
        "# Compiling the model\n",
        "model_c.compile(optimizer = 'Adam',\n",
        "                loss = 'binary_crossentropy',\n",
        "                metrics = ['accuracy','Precision','Recall'])"
      ],
      "metadata": {
        "id": "6CGR6AiBqllG"
      },
      "execution_count": 39,
      "outputs": []
    },
    {
      "cell_type": "code",
      "source": [
        "# Training the model and saving the training logs\n",
        "history_object_c = model_c.fit(x = train_x, \n",
        "                           y = train_y,\n",
        "                           batch_size = 256,\n",
        "                           epochs = 100,\n",
        "                           validation_data = (test_x, test_y),\n",
        "                           use_multiprocessing = True,\n",
        "                           workers = 20,\n",
        "                           callbacks = [conditional_callback])"
      ],
      "metadata": {
        "colab": {
          "base_uri": "https://localhost:8080/"
        },
        "id": "TG_trqjFqlp3",
        "outputId": "08e8e191-5036-4f45-a72e-79a9f57eba1d"
      },
      "execution_count": 40,
      "outputs": [
        {
          "output_type": "stream",
          "name": "stdout",
          "text": [
            "Epoch 1/100\n",
            "32/32 [==============================] - 1s 16ms/step - loss: 0.6746 - accuracy: 0.5680 - precision: 0.1718 - recall: 0.2881 - val_loss: 0.6103 - val_accuracy: 0.7675 - val_precision: 0.1456 - val_recall: 0.0383\n",
            "Epoch 2/100\n",
            "32/32 [==============================] - 0s 5ms/step - loss: 0.5894 - accuracy: 0.7834 - precision: 0.0926 - recall: 0.0061 - val_loss: 0.5520 - val_accuracy: 0.8025 - val_precision: 0.0000e+00 - val_recall: 0.0000e+00\n",
            "Epoch 3/100\n",
            "32/32 [==============================] - 0s 6ms/step - loss: 0.5495 - accuracy: 0.7940 - precision: 0.0000e+00 - recall: 0.0000e+00 - val_loss: 0.5206 - val_accuracy: 0.8040 - val_precision: 0.0000e+00 - val_recall: 0.0000e+00\n",
            "Epoch 4/100\n",
            "32/32 [==============================] - 0s 5ms/step - loss: 0.5275 - accuracy: 0.7944 - precision: 0.0000e+00 - recall: 0.0000e+00 - val_loss: 0.5010 - val_accuracy: 0.8040 - val_precision: 0.0000e+00 - val_recall: 0.0000e+00\n",
            "Epoch 5/100\n",
            "32/32 [==============================] - 0s 8ms/step - loss: 0.5134 - accuracy: 0.7944 - precision: 0.0000e+00 - recall: 0.0000e+00 - val_loss: 0.4885 - val_accuracy: 0.8040 - val_precision: 0.0000e+00 - val_recall: 0.0000e+00\n",
            "Epoch 6/100\n",
            "32/32 [==============================] - 0s 5ms/step - loss: 0.5039 - accuracy: 0.7944 - precision: 0.0000e+00 - recall: 0.0000e+00 - val_loss: 0.4805 - val_accuracy: 0.8040 - val_precision: 0.0000e+00 - val_recall: 0.0000e+00\n",
            "Epoch 7/100\n",
            "32/32 [==============================] - 0s 6ms/step - loss: 0.4971 - accuracy: 0.7944 - precision: 0.0000e+00 - recall: 0.0000e+00 - val_loss: 0.4746 - val_accuracy: 0.8040 - val_precision: 0.0000e+00 - val_recall: 0.0000e+00\n",
            "Epoch 8/100\n",
            "32/32 [==============================] - 0s 7ms/step - loss: 0.4921 - accuracy: 0.7944 - precision: 0.0000e+00 - recall: 0.0000e+00 - val_loss: 0.4703 - val_accuracy: 0.8040 - val_precision: 0.0000e+00 - val_recall: 0.0000e+00\n",
            "Epoch 9/100\n",
            "32/32 [==============================] - 0s 5ms/step - loss: 0.4882 - accuracy: 0.7944 - precision: 0.0000e+00 - recall: 0.0000e+00 - val_loss: 0.4672 - val_accuracy: 0.8040 - val_precision: 0.0000e+00 - val_recall: 0.0000e+00\n",
            "Epoch 10/100\n",
            "32/32 [==============================] - 0s 6ms/step - loss: 0.4851 - accuracy: 0.7944 - precision: 0.0000e+00 - recall: 0.0000e+00 - val_loss: 0.4647 - val_accuracy: 0.8040 - val_precision: 0.0000e+00 - val_recall: 0.0000e+00\n",
            "Epoch 11/100\n",
            "32/32 [==============================] - 0s 5ms/step - loss: 0.4824 - accuracy: 0.7944 - precision: 0.0000e+00 - recall: 0.0000e+00 - val_loss: 0.4627 - val_accuracy: 0.8040 - val_precision: 0.0000e+00 - val_recall: 0.0000e+00\n",
            "Epoch 12/100\n",
            "32/32 [==============================] - 0s 5ms/step - loss: 0.4801 - accuracy: 0.7944 - precision: 0.0000e+00 - recall: 0.0000e+00 - val_loss: 0.4606 - val_accuracy: 0.8040 - val_precision: 0.0000e+00 - val_recall: 0.0000e+00\n",
            "Epoch 13/100\n",
            "32/32 [==============================] - 0s 5ms/step - loss: 0.4781 - accuracy: 0.7944 - precision: 0.0000e+00 - recall: 0.0000e+00 - val_loss: 0.4586 - val_accuracy: 0.8040 - val_precision: 0.0000e+00 - val_recall: 0.0000e+00\n",
            "Epoch 14/100\n",
            "32/32 [==============================] - 0s 5ms/step - loss: 0.4760 - accuracy: 0.7944 - precision: 0.0000e+00 - recall: 0.0000e+00 - val_loss: 0.4572 - val_accuracy: 0.8040 - val_precision: 0.0000e+00 - val_recall: 0.0000e+00\n",
            "Epoch 15/100\n",
            "32/32 [==============================] - 0s 5ms/step - loss: 0.4742 - accuracy: 0.7944 - precision: 0.0000e+00 - recall: 0.0000e+00 - val_loss: 0.4555 - val_accuracy: 0.8040 - val_precision: 0.0000e+00 - val_recall: 0.0000e+00\n",
            "Epoch 16/100\n",
            "32/32 [==============================] - 0s 6ms/step - loss: 0.4724 - accuracy: 0.7944 - precision: 0.0000e+00 - recall: 0.0000e+00 - val_loss: 0.4539 - val_accuracy: 0.8040 - val_precision: 0.0000e+00 - val_recall: 0.0000e+00\n",
            "Epoch 17/100\n",
            "32/32 [==============================] - 0s 5ms/step - loss: 0.4708 - accuracy: 0.7944 - precision: 0.0000e+00 - recall: 0.0000e+00 - val_loss: 0.4528 - val_accuracy: 0.8040 - val_precision: 0.0000e+00 - val_recall: 0.0000e+00\n",
            "Epoch 18/100\n",
            "32/32 [==============================] - 0s 5ms/step - loss: 0.4691 - accuracy: 0.7944 - precision: 0.0000e+00 - recall: 0.0000e+00 - val_loss: 0.4508 - val_accuracy: 0.8040 - val_precision: 0.0000e+00 - val_recall: 0.0000e+00\n",
            "Epoch 19/100\n",
            "32/32 [==============================] - 0s 6ms/step - loss: 0.4676 - accuracy: 0.7944 - precision: 0.0000e+00 - recall: 0.0000e+00 - val_loss: 0.4493 - val_accuracy: 0.8040 - val_precision: 0.0000e+00 - val_recall: 0.0000e+00\n",
            "Epoch 20/100\n",
            "32/32 [==============================] - 0s 5ms/step - loss: 0.4660 - accuracy: 0.7944 - precision: 0.0000e+00 - recall: 0.0000e+00 - val_loss: 0.4481 - val_accuracy: 0.8040 - val_precision: 0.0000e+00 - val_recall: 0.0000e+00\n",
            "Epoch 21/100\n",
            "32/32 [==============================] - 0s 6ms/step - loss: 0.4644 - accuracy: 0.7944 - precision: 0.0000e+00 - recall: 0.0000e+00 - val_loss: 0.4467 - val_accuracy: 0.8040 - val_precision: 0.0000e+00 - val_recall: 0.0000e+00\n",
            "Epoch 22/100\n",
            "32/32 [==============================] - 0s 5ms/step - loss: 0.4629 - accuracy: 0.7944 - precision: 0.0000e+00 - recall: 0.0000e+00 - val_loss: 0.4452 - val_accuracy: 0.8040 - val_precision: 0.0000e+00 - val_recall: 0.0000e+00\n",
            "Epoch 23/100\n",
            "32/32 [==============================] - 0s 5ms/step - loss: 0.4613 - accuracy: 0.7943 - precision: 0.3333 - recall: 6.0790e-04 - val_loss: 0.4442 - val_accuracy: 0.8040 - val_precision: 0.5000 - val_recall: 0.0026\n",
            "Epoch 24/100\n",
            "32/32 [==============================] - 0s 6ms/step - loss: 0.4598 - accuracy: 0.7944 - precision: 0.5000 - recall: 0.0067 - val_loss: 0.4428 - val_accuracy: 0.8070 - val_precision: 0.6250 - val_recall: 0.0383\n",
            "Epoch 25/100\n",
            "32/32 [==============================] - 0s 5ms/step - loss: 0.4585 - accuracy: 0.7960 - precision: 0.6512 - recall: 0.0170 - val_loss: 0.4418 - val_accuracy: 0.8070 - val_precision: 0.5938 - val_recall: 0.0485\n",
            "Epoch 26/100\n",
            "32/32 [==============================] - 0s 5ms/step - loss: 0.4570 - accuracy: 0.7965 - precision: 0.6667 - recall: 0.0207 - val_loss: 0.4405 - val_accuracy: 0.8075 - val_precision: 0.6000 - val_recall: 0.0536\n",
            "Epoch 27/100\n",
            "32/32 [==============================] - 0s 6ms/step - loss: 0.4555 - accuracy: 0.7965 - precision: 0.6164 - recall: 0.0274 - val_loss: 0.4394 - val_accuracy: 0.8095 - val_precision: 0.6222 - val_recall: 0.0714\n",
            "Epoch 28/100\n",
            "32/32 [==============================] - 0s 6ms/step - loss: 0.4542 - accuracy: 0.7972 - precision: 0.6237 - recall: 0.0353 - val_loss: 0.4382 - val_accuracy: 0.8090 - val_precision: 0.6042 - val_recall: 0.0740\n",
            "Epoch 29/100\n",
            "32/32 [==============================] - 0s 5ms/step - loss: 0.4528 - accuracy: 0.7976 - precision: 0.6121 - recall: 0.0432 - val_loss: 0.4380 - val_accuracy: 0.8130 - val_precision: 0.6364 - val_recall: 0.1071\n",
            "Epoch 30/100\n",
            "32/32 [==============================] - 0s 6ms/step - loss: 0.4516 - accuracy: 0.7997 - precision: 0.6483 - recall: 0.0571 - val_loss: 0.4363 - val_accuracy: 0.8130 - val_precision: 0.6364 - val_recall: 0.1071\n",
            "Epoch 31/100\n",
            "26/32 [=======================>......] - ETA: 0s - loss: 0.4505 - accuracy: 0.8002 - precision: 0.6308 - recall: 0.0601\n",
            "Condition Satisfied !\n",
            "\n",
            "32/32 [==============================] - 0s 6ms/step - loss: 0.4501 - accuracy: 0.8005 - precision: 0.6485 - recall: 0.0650 - val_loss: 0.4350 - val_accuracy: 0.8125 - val_precision: 0.6164 - val_recall: 0.1148\n"
          ]
        }
      ]
    },
    {
      "cell_type": "code",
      "source": [
        "history_object_c.epoch"
      ],
      "metadata": {
        "colab": {
          "base_uri": "https://localhost:8080/"
        },
        "id": "sEZ8ii2fqly4",
        "outputId": "7c065d61-ed4a-4203-fbab-f04df451a04a"
      },
      "execution_count": 41,
      "outputs": [
        {
          "output_type": "execute_result",
          "data": {
            "text/plain": [
              "[0,\n",
              " 1,\n",
              " 2,\n",
              " 3,\n",
              " 4,\n",
              " 5,\n",
              " 6,\n",
              " 7,\n",
              " 8,\n",
              " 9,\n",
              " 10,\n",
              " 11,\n",
              " 12,\n",
              " 13,\n",
              " 14,\n",
              " 15,\n",
              " 16,\n",
              " 17,\n",
              " 18,\n",
              " 19,\n",
              " 20,\n",
              " 21,\n",
              " 22,\n",
              " 23,\n",
              " 24,\n",
              " 25,\n",
              " 26,\n",
              " 27,\n",
              " 28,\n",
              " 29,\n",
              " 30]"
            ]
          },
          "metadata": {},
          "execution_count": 41
        }
      ]
    },
    {
      "cell_type": "code",
      "source": [
        "history_visualizer(history_object_c,'loss')"
      ],
      "metadata": {
        "id": "zhNy72vIql3R",
        "colab": {
          "base_uri": "https://localhost:8080/",
          "height": 483
        },
        "outputId": "8dc4fced-8852-4075-c360-73ed5982d5be"
      },
      "execution_count": 42,
      "outputs": [
        {
          "output_type": "display_data",
          "data": {
            "text/plain": [
              "<Figure size 1080x576 with 1 Axes>"
            ],
            "image/png": "[encoded data removed]"
          },
          "metadata": {
            "needs_background": "light"
          }
        }
      ]
    },
    {
      "cell_type": "code",
      "source": [
        "history_visualizer(history_object_c,'accuracy')"
      ],
      "metadata": {
        "id": "pi6z_ucxql71",
        "colab": {
          "base_uri": "https://localhost:8080/",
          "height": 483
        },
        "outputId": "30e4336b-cdaa-4894-a655-26d5499f152b"
      },
      "execution_count": 43,
      "outputs": [
        {
          "output_type": "display_data",
          "data": {
            "text/plain": [
              "<Figure size 1080x576 with 1 Axes>"
            ],
            "image/png": "[encoded data removed]"
          },
          "metadata": {
            "needs_background": "light"
          }
        }
      ]
    },
    {
      "cell_type": "code",
      "source": [
        "history_visualizer(history_object_c,'precision')"
      ],
      "metadata": {
        "id": "FY-9lrzeuAOQ",
        "colab": {
          "base_uri": "https://localhost:8080/",
          "height": 487
        },
        "outputId": "a003e127-810a-4bed-fff9-5d3a8b630ffc"
      },
      "execution_count": 44,
      "outputs": [
        {
          "output_type": "display_data",
          "data": {
            "text/plain": [
              "<Figure size 1080x576 with 1 Axes>"
            ],
            "image/png": "[encoded data removed]"
          },
          "metadata": {
            "needs_background": "light"
          }
        }
      ]
    },
    {
      "cell_type": "code",
      "source": [
        "history_visualizer(history_object_c,'recall')"
      ],
      "metadata": {
        "id": "cChe1sdpuEHN",
        "colab": {
          "base_uri": "https://localhost:8080/",
          "height": 483
        },
        "outputId": "8b7bc6d7-6ee7-4045-d871-16186a44d26e"
      },
      "execution_count": 45,
      "outputs": [
        {
          "output_type": "display_data",
          "data": {
            "text/plain": [
              "<Figure size 1080x576 with 1 Axes>"
            ],
            "image/png": "[encoded data removed]"
          },
          "metadata": {
            "needs_background": "light"
          }
        }
      ]
    },
    {
      "cell_type": "code",
      "source": [
        "# Early Stopper Callbacks\n",
        "EarlyStopper = tf.keras.callbacks.EarlyStopping(monitor = 'accuracy', patience = 5)\n",
        "\n",
        "# Conditional callback\n",
        "class MyCallbacks(tf.keras.callbacks.Callback):\n",
        "  def on_epoch_end(self, epochs, logs = {}):\n",
        "    if (logs.get('accuracy')>0.94) & (logs.get('val_accuracy')>0.94):\n",
        "      self.model.stop_training = True\n",
        "      print()\n",
        "      print('Condition Satisfied !')\n",
        "      print()\n",
        "\n",
        "cond_callback2 = MyCallbacks()"
      ],
      "metadata": {
        "id": "7NA8TWK4uGQV"
      },
      "execution_count": 46,
      "outputs": []
    },
    {
      "cell_type": "code",
      "source": [
        "# Building the model\n",
        "\n",
        "# Instantiating ELU\n",
        "elu = tf.keras.layers.ELU(alpha = 0.95)\n",
        "\n",
        "# Instantiating the Sequential model\n",
        "model_es = tf.keras.Sequential()\n",
        "\n",
        "# Adding the input layer\n",
        "model_es.add(tf.keras.layers.Input(shape = (12,)))\n",
        "\n",
        "# Adding the hidden layers\n",
        "model_es.add(tf.keras.layers.Dense(units = 6,\n",
        "                                activation = 'relu',\n",
        "                                kernel_initializer = 'he_uniform'))\n",
        "model_es.add(tf.keras.layers.Dense(units = 8,\n",
        "                                activation = elu,\n",
        "                                kernel_initializer = 'he_uniform'))\n",
        "\n",
        "# Adding the output layer\n",
        "model_es.add(tf.keras.layers.Dense(units = 1,\n",
        "                                activation = 'sigmoid',\n",
        "                                kernel_initializer = 'glorot_uniform'))\n",
        "\n",
        "\n",
        "# Compiling the model\n",
        "model_es.compile(optimizer = 'rmsprop',\n",
        "                loss = 'binary_crossentropy',\n",
        "                metrics = ['accuracy','Precision','Recall'])"
      ],
      "metadata": {
        "id": "La2cuHvyulh_"
      },
      "execution_count": 47,
      "outputs": []
    },
    {
      "cell_type": "code",
      "source": [
        "# Training the model and saving the training logs\n",
        "history_object_es = model_es.fit(x = train_x, \n",
        "                           y = train_y,\n",
        "                           batch_size = 256,\n",
        "                           epochs = 500,\n",
        "                           validation_data = (test_x, test_y),\n",
        "                           use_multiprocessing = True,\n",
        "                           workers = 20,\n",
        "                           callbacks = [EarlyStopper,cond_callback2])"
      ],
      "metadata": {
        "colab": {
          "base_uri": "https://localhost:8080/"
        },
        "id": "L9FLXkN9umg3",
        "outputId": "da565946-0445-4207-f0cc-e72febd83821"
      },
      "execution_count": 48,
      "outputs": [
        {
          "output_type": "stream",
          "name": "stdout",
          "text": [
            "Epoch 1/500\n",
            "32/32 [==============================] - 2s 15ms/step - loss: 0.7513 - accuracy: 0.4412 - precision: 0.2034 - recall: 0.5891 - val_loss: 0.6872 - val_accuracy: 0.5800 - val_precision: 0.1981 - val_recall: 0.3750\n",
            "Epoch 2/500\n",
            "32/32 [==============================] - 0s 6ms/step - loss: 0.6581 - accuracy: 0.6625 - precision: 0.1855 - recall: 0.1891 - val_loss: 0.6093 - val_accuracy: 0.7715 - val_precision: 0.1782 - val_recall: 0.0459\n",
            "Epoch 3/500\n",
            "32/32 [==============================] - 0s 7ms/step - loss: 0.5928 - accuracy: 0.7810 - precision: 0.1796 - recall: 0.0182 - val_loss: 0.5502 - val_accuracy: 0.8035 - val_precision: 0.0000e+00 - val_recall: 0.0000e+00\n",
            "Epoch 4/500\n",
            "32/32 [==============================] - 0s 6ms/step - loss: 0.5483 - accuracy: 0.7943 - precision: 0.3333 - recall: 6.0790e-04 - val_loss: 0.5169 - val_accuracy: 0.8040 - val_precision: 0.0000e+00 - val_recall: 0.0000e+00\n",
            "Epoch 5/500\n",
            "32/32 [==============================] - 0s 6ms/step - loss: 0.5243 - accuracy: 0.7944 - precision: 0.0000e+00 - recall: 0.0000e+00 - val_loss: 0.4993 - val_accuracy: 0.8040 - val_precision: 0.0000e+00 - val_recall: 0.0000e+00\n",
            "Epoch 6/500\n",
            "32/32 [==============================] - 0s 6ms/step - loss: 0.5118 - accuracy: 0.7944 - precision: 0.0000e+00 - recall: 0.0000e+00 - val_loss: 0.4904 - val_accuracy: 0.8040 - val_precision: 0.0000e+00 - val_recall: 0.0000e+00\n",
            "Epoch 7/500\n",
            "32/32 [==============================] - 0s 6ms/step - loss: 0.5042 - accuracy: 0.7944 - precision: 0.0000e+00 - recall: 0.0000e+00 - val_loss: 0.4845 - val_accuracy: 0.8040 - val_precision: 0.0000e+00 - val_recall: 0.0000e+00\n",
            "Epoch 8/500\n",
            "32/32 [==============================] - 0s 6ms/step - loss: 0.4986 - accuracy: 0.7944 - precision: 0.0000e+00 - recall: 0.0000e+00 - val_loss: 0.4800 - val_accuracy: 0.8040 - val_precision: 0.0000e+00 - val_recall: 0.0000e+00\n",
            "Epoch 9/500\n",
            "32/32 [==============================] - 0s 6ms/step - loss: 0.4942 - accuracy: 0.7944 - precision: 0.0000e+00 - recall: 0.0000e+00 - val_loss: 0.4765 - val_accuracy: 0.8040 - val_precision: 0.0000e+00 - val_recall: 0.0000e+00\n",
            "Epoch 10/500\n",
            "32/32 [==============================] - 0s 6ms/step - loss: 0.4908 - accuracy: 0.7944 - precision: 0.0000e+00 - recall: 0.0000e+00 - val_loss: 0.4727 - val_accuracy: 0.8040 - val_precision: 0.0000e+00 - val_recall: 0.0000e+00\n"
          ]
        }
      ]
    },
    {
      "cell_type": "code",
      "source": [
        "!pip install keras-tuner"
      ],
      "metadata": {
        "colab": {
          "base_uri": "https://localhost:8080/"
        },
        "id": "X319uO8iYWY2",
        "outputId": "c21631ee-be06-40d1-ce57-9c22db66d599"
      },
      "execution_count": 49,
      "outputs": [
        {
          "output_type": "stream",
          "name": "stdout",
          "text": [
            "Looking in indexes: https://pypi.org/simple, https://us-python.pkg.dev/colab-wheels/public/simple/\n",
            "Collecting keras-tuner\n",
            "  Downloading keras_tuner-1.1.3-py3-none-any.whl (135 kB)\n",
            "\u001b[K     |████████████████████████████████| 135 kB 38.0 MB/s \n",
            "\u001b[?25hRequirement already satisfied: requests in /usr/local/lib/python3.7/dist-packages (from keras-tuner) (2.23.0)\n",
            "Requirement already satisfied: tensorboard in /usr/local/lib/python3.7/dist-packages (from keras-tuner) (2.8.0)\n",
            "Requirement already satisfied: packaging in /usr/local/lib/python3.7/dist-packages (from keras-tuner) (21.3)\n",
            "Collecting kt-legacy\n",
            "  Downloading kt_legacy-1.0.4-py3-none-any.whl (9.6 kB)\n",
            "Requirement already satisfied: numpy in /usr/local/lib/python3.7/dist-packages (from keras-tuner) (1.21.6)\n",
            "Requirement already satisfied: ipython in /usr/local/lib/python3.7/dist-packages (from keras-tuner) (7.9.0)\n",
            "Requirement already satisfied: setuptools>=18.5 in /usr/local/lib/python3.7/dist-packages (from ipython->keras-tuner) (57.4.0)\n",
            "Requirement already satisfied: pygments in /usr/local/lib/python3.7/dist-packages (from ipython->keras-tuner) (2.6.1)\n",
            "Requirement already satisfied: backcall in /usr/local/lib/python3.7/dist-packages (from ipython->keras-tuner) (0.2.0)\n",
            "Requirement already satisfied: traitlets>=4.2 in /usr/local/lib/python3.7/dist-packages (from ipython->keras-tuner) (5.1.1)\n",
            "Collecting jedi>=0.10\n",
            "  Downloading jedi-0.18.1-py2.py3-none-any.whl (1.6 MB)\n",
            "\u001b[K     |████████████████████████████████| 1.6 MB 51.1 MB/s \n",
            "\u001b[?25hRequirement already satisfied: pickleshare in /usr/local/lib/python3.7/dist-packages (from ipython->keras-tuner) (0.7.5)\n",
            "Requirement already satisfied: prompt-toolkit<2.1.0,>=2.0.0 in /usr/local/lib/python3.7/dist-packages (from ipython->keras-tuner) (2.0.10)\n",
            "Requirement already satisfied: pexpect in /usr/local/lib/python3.7/dist-packages (from ipython->keras-tuner) (4.8.0)\n",
            "Requirement already satisfied: decorator in /usr/local/lib/python3.7/dist-packages (from ipython->keras-tuner) (4.4.2)\n",
            "Requirement already satisfied: parso<0.9.0,>=0.8.0 in /usr/local/lib/python3.7/dist-packages (from jedi>=0.10->ipython->keras-tuner) (0.8.3)\n",
            "Requirement already satisfied: wcwidth in /usr/local/lib/python3.7/dist-packages (from prompt-toolkit<2.1.0,>=2.0.0->ipython->keras-tuner) (0.2.5)\n",
            "Requirement already satisfied: six>=1.9.0 in /usr/local/lib/python3.7/dist-packages (from prompt-toolkit<2.1.0,>=2.0.0->ipython->keras-tuner) (1.15.0)\n",
            "Requirement already satisfied: pyparsing!=3.0.5,>=2.0.2 in /usr/local/lib/python3.7/dist-packages (from packaging->keras-tuner) (3.0.9)\n",
            "Requirement already satisfied: ptyprocess>=0.5 in /usr/local/lib/python3.7/dist-packages (from pexpect->ipython->keras-tuner) (0.7.0)\n",
            "Requirement already satisfied: urllib3!=1.25.0,!=1.25.1,<1.26,>=1.21.1 in /usr/local/lib/python3.7/dist-packages (from requests->keras-tuner) (1.24.3)\n",
            "Requirement already satisfied: chardet<4,>=3.0.2 in /usr/local/lib/python3.7/dist-packages (from requests->keras-tuner) (3.0.4)\n",
            "Requirement already satisfied: idna<3,>=2.5 in /usr/local/lib/python3.7/dist-packages (from requests->keras-tuner) (2.10)\n",
            "Requirement already satisfied: certifi>=2017.4.17 in /usr/local/lib/python3.7/dist-packages (from requests->keras-tuner) (2022.6.15)\n",
            "Requirement already satisfied: protobuf>=3.6.0 in /usr/local/lib/python3.7/dist-packages (from tensorboard->keras-tuner) (3.17.3)\n",
            "Requirement already satisfied: google-auth<3,>=1.6.3 in /usr/local/lib/python3.7/dist-packages (from tensorboard->keras-tuner) (1.35.0)\n",
            "Requirement already satisfied: absl-py>=0.4 in /usr/local/lib/python3.7/dist-packages (from tensorboard->keras-tuner) (1.2.0)\n",
            "Requirement already satisfied: google-auth-oauthlib<0.5,>=0.4.1 in /usr/local/lib/python3.7/dist-packages (from tensorboard->keras-tuner) (0.4.6)\n",
            "Requirement already satisfied: markdown>=2.6.8 in /usr/local/lib/python3.7/dist-packages (from tensorboard->keras-tuner) (3.4.1)\n",
            "Requirement already satisfied: wheel>=0.26 in /usr/local/lib/python3.7/dist-packages (from tensorboard->keras-tuner) (0.37.1)\n",
            "Requirement already satisfied: werkzeug>=0.11.15 in /usr/local/lib/python3.7/dist-packages (from tensorboard->keras-tuner) (1.0.1)\n",
            "Requirement already satisfied: tensorboard-data-server<0.7.0,>=0.6.0 in /usr/local/lib/python3.7/dist-packages (from tensorboard->keras-tuner) (0.6.1)\n",
            "Requirement already satisfied: tensorboard-plugin-wit>=1.6.0 in /usr/local/lib/python3.7/dist-packages (from tensorboard->keras-tuner) (1.8.1)\n",
            "Requirement already satisfied: grpcio>=1.24.3 in /usr/local/lib/python3.7/dist-packages (from tensorboard->keras-tuner) (1.48.1)\n",
            "Requirement already satisfied: cachetools<5.0,>=2.0.0 in /usr/local/lib/python3.7/dist-packages (from google-auth<3,>=1.6.3->tensorboard->keras-tuner) (4.2.4)\n",
            "Requirement already satisfied: pyasn1-modules>=0.2.1 in /usr/local/lib/python3.7/dist-packages (from google-auth<3,>=1.6.3->tensorboard->keras-tuner) (0.2.8)\n",
            "Requirement already satisfied: rsa<5,>=3.1.4 in /usr/local/lib/python3.7/dist-packages (from google-auth<3,>=1.6.3->tensorboard->keras-tuner) (4.9)\n",
            "Requirement already satisfied: requests-oauthlib>=0.7.0 in /usr/local/lib/python3.7/dist-packages (from google-auth-oauthlib<0.5,>=0.4.1->tensorboard->keras-tuner) (1.3.1)\n",
            "Requirement already satisfied: importlib-metadata>=4.4 in /usr/local/lib/python3.7/dist-packages (from markdown>=2.6.8->tensorboard->keras-tuner) (4.12.0)\n",
            "Requirement already satisfied: typing-extensions>=3.6.4 in /usr/local/lib/python3.7/dist-packages (from importlib-metadata>=4.4->markdown>=2.6.8->tensorboard->keras-tuner) (4.1.1)\n",
            "Requirement already satisfied: zipp>=0.5 in /usr/local/lib/python3.7/dist-packages (from importlib-metadata>=4.4->markdown>=2.6.8->tensorboard->keras-tuner) (3.8.1)\n",
            "Requirement already satisfied: pyasn1<0.5.0,>=0.4.6 in /usr/local/lib/python3.7/dist-packages (from pyasn1-modules>=0.2.1->google-auth<3,>=1.6.3->tensorboard->keras-tuner) (0.4.8)\n",
            "Requirement already satisfied: oauthlib>=3.0.0 in /usr/local/lib/python3.7/dist-packages (from requests-oauthlib>=0.7.0->google-auth-oauthlib<0.5,>=0.4.1->tensorboard->keras-tuner) (3.2.0)\n",
            "Installing collected packages: jedi, kt-legacy, keras-tuner\n",
            "Successfully installed jedi-0.18.1 keras-tuner-1.1.3 kt-legacy-1.0.4\n"
          ]
        }
      ]
    },
    {
      "cell_type": "code",
      "source": [
        "from keras_tuner.tuners import RandomSearch"
      ],
      "metadata": {
        "id": "LkN6z_k4w25B"
      },
      "execution_count": 50,
      "outputs": []
    },
    {
      "cell_type": "code",
      "source": [
        "# RandomSearch -> hypermodel\n",
        "# hypermodel >> function that would be generating and compiling the entire model for us\n",
        "\n",
        "# Datatypes for hyperparameter tuning\n",
        "# Int > for tuning from a range of elements/numbers.  eg. range(5,15)\n",
        "#------------syntax : hyp_key.Int('keyword specifying the purpose of this data',min_value, max_value, step)\n",
        "# Choice > for tuning from a list of elements.     eg. [he_uniform, he_normal, glorot_unoform, glorot_normal]\n",
        "#------------syntax : hyp_key.Choice('keyword specifying the purpose of this data',[list of elements])"
      ],
      "metadata": {
        "id": "sK4TBiQTw3IE"
      },
      "execution_count": 51,
      "outputs": []
    },
    {
      "cell_type": "code",
      "source": [],
      "metadata": {
        "id": "FwKh61Zo8CGS"
      },
      "execution_count": 51,
      "outputs": []
    },
    {
      "cell_type": "code",
      "source": [
        "def hypermodel(hyp_key):\n",
        "  model_ = tf.keras.Sequential()\n",
        "\n",
        "  model_.add(tf.keras.layers.Input(shape = (12,)))\n",
        "  \n",
        "  for i in range(hyp_key.Int('number of hidden layers', 1,7)):\n",
        "    model_.add(tf.keras.layers.Dense(units = hyp_key.Int(f'number of neurons in hidden layer # {i}',4,13), \n",
        "                                     activation = hyp_key.Choice(f'activation function for hidden layer # {i}',['relu','elu','sigmoid']), \n",
        "                                     kernel_initializer = hyp_key.Choice(f'kernel_initializer for hidden layer # {i}',['he_normal','he_uniform','glorot_normal','glorot_uniform'])))\n",
        "  \n",
        "  model_.add(tf.keras.layers.Dense(units = 1, \n",
        "                                   activation = 'sigmoid', \n",
        "                                   kernel_initializer = hyp_key.Choice(f'kernel_initializer for output layer',['he_normal','he_uniform','glorot_normal','glorot_uniform'])))\n",
        "\n",
        "  model_.compile(optimizer = hyp_key.Choice('Optimizer function',['Adam','rmsprop']),\n",
        "                loss = 'binary_crossentropy',\n",
        "                metrics = ['accuracy', 'Precision', 'Recall'])\n",
        "  \n",
        "  return model_"
      ],
      "metadata": {
        "id": "ux1kIkxtw3NJ"
      },
      "execution_count": 52,
      "outputs": []
    },
    {
      "cell_type": "code",
      "source": [
        "# Generating the tuner object\n",
        "tuner_obj = RandomSearch(hypermodel = hypermodel,\n",
        "                         objective = 'accuracy',\n",
        "                         max_trials = 20,\n",
        "                         seed = 64)"
      ],
      "metadata": {
        "id": "OXpNu1yAwiuk"
      },
      "execution_count": 53,
      "outputs": []
    },
    {
      "cell_type": "code",
      "source": [
        "# validating the search space summary of the tuner object\n",
        "tuner_obj.search_space_summary()"
      ],
      "metadata": {
        "colab": {
          "base_uri": "https://localhost:8080/"
        },
        "id": "Jkc-eD477INH",
        "outputId": "69107282-5595-4891-e36c-1d8c3a088f66"
      },
      "execution_count": 54,
      "outputs": [
        {
          "output_type": "stream",
          "name": "stdout",
          "text": [
            "Search space summary\n",
            "Default search space size: 6\n",
            "number of hidden layers (Int)\n",
            "{'default': None, 'conditions': [], 'min_value': 1, 'max_value': 7, 'step': 1, 'sampling': None}\n",
            "number of neurons in hidden layer # 0 (Int)\n",
            "{'default': None, 'conditions': [], 'min_value': 4, 'max_value': 13, 'step': 1, 'sampling': None}\n",
            "activation function for hidden layer # 0 (Choice)\n",
            "{'default': 'relu', 'conditions': [], 'values': ['relu', 'elu', 'sigmoid'], 'ordered': False}\n",
            "kernel_initializer for hidden layer # 0 (Choice)\n",
            "{'default': 'he_normal', 'conditions': [], 'values': ['he_normal', 'he_uniform', 'glorot_normal', 'glorot_uniform'], 'ordered': False}\n",
            "kernel_initializer for output layer (Choice)\n",
            "{'default': 'he_normal', 'conditions': [], 'values': ['he_normal', 'he_uniform', 'glorot_normal', 'glorot_uniform'], 'ordered': False}\n",
            "Optimizer function (Choice)\n",
            "{'default': 'Adam', 'conditions': [], 'values': ['Adam', 'rmsprop'], 'ordered': False}\n"
          ]
        }
      ]
    },
    {
      "cell_type": "code",
      "source": [
        "# Finding the best model\n",
        "tuner_obj.search(train_x,\n",
        "                 train_y,\n",
        "                 batch_size = 64)"
      ],
      "metadata": {
        "colab": {
          "base_uri": "https://localhost:8080/"
        },
        "id": "PwaLJVMl-GBO",
        "outputId": "b08241ae-ad22-4223-ae5c-ea1be38cd0ef"
      },
      "execution_count": 55,
      "outputs": [
        {
          "output_type": "stream",
          "name": "stdout",
          "text": [
            "Trial 20 Complete [00h 00m 02s]\n",
            "accuracy: 0.7850000262260437\n",
            "\n",
            "Best accuracy So Far: 0.7943750023841858\n",
            "Total elapsed time: 00h 00m 51s\n"
          ]
        }
      ]
    },
    {
      "cell_type": "code",
      "source": [
        "dir(tuner_obj)"
      ],
      "metadata": {
        "colab": {
          "base_uri": "https://localhost:8080/"
        },
        "id": "cQ36xgjz-9Qy",
        "outputId": "18fc0a40-da18-4b7b-dad3-429345df5b33"
      },
      "execution_count": 56,
      "outputs": [
        {
          "output_type": "execute_result",
          "data": {
            "text/plain": [
              "['__class__',\n",
              " '__delattr__',\n",
              " '__dict__',\n",
              " '__dir__',\n",
              " '__doc__',\n",
              " '__eq__',\n",
              " '__format__',\n",
              " '__ge__',\n",
              " '__getattribute__',\n",
              " '__gt__',\n",
              " '__hash__',\n",
              " '__init__',\n",
              " '__init_subclass__',\n",
              " '__le__',\n",
              " '__lt__',\n",
              " '__module__',\n",
              " '__ne__',\n",
              " '__new__',\n",
              " '__reduce__',\n",
              " '__reduce_ex__',\n",
              " '__repr__',\n",
              " '__setattr__',\n",
              " '__sizeof__',\n",
              " '__str__',\n",
              " '__subclasshook__',\n",
              " '__weakref__',\n",
              " '_build_and_fit_model',\n",
              " '_build_hypermodel',\n",
              " '_configure_tensorboard_dir',\n",
              " '_deepcopy_callbacks',\n",
              " '_display',\n",
              " '_get_checkpoint_fname',\n",
              " '_get_tensorboard_dir',\n",
              " '_get_tuner_fname',\n",
              " '_override_compile_args',\n",
              " '_populate_initial_space',\n",
              " '_save_n_checkpoints',\n",
              " '_try_build',\n",
              " 'directory',\n",
              " 'distribution_strategy',\n",
              " 'executions_per_trial',\n",
              " 'get_best_hyperparameters',\n",
              " 'get_best_models',\n",
              " 'get_state',\n",
              " 'get_trial_dir',\n",
              " 'hypermodel',\n",
              " 'load_model',\n",
              " 'logger',\n",
              " 'loss',\n",
              " 'max_model_size',\n",
              " 'metrics',\n",
              " 'on_batch_begin',\n",
              " 'on_batch_end',\n",
              " 'on_epoch_begin',\n",
              " 'on_epoch_end',\n",
              " 'on_search_begin',\n",
              " 'on_search_end',\n",
              " 'on_trial_begin',\n",
              " 'on_trial_end',\n",
              " 'optimizer',\n",
              " 'oracle',\n",
              " 'pre_create_trial',\n",
              " 'project_dir',\n",
              " 'project_name',\n",
              " 'reload',\n",
              " 'remaining_trials',\n",
              " 'results_summary',\n",
              " 'run_trial',\n",
              " 'save',\n",
              " 'save_model',\n",
              " 'search',\n",
              " 'search_space_summary',\n",
              " 'seed',\n",
              " 'set_state',\n",
              " 'tuner_id']"
            ]
          },
          "metadata": {},
          "execution_count": 56
        }
      ]
    },
    {
      "cell_type": "code",
      "source": [
        "tuner_obj.results_summary()"
      ],
      "metadata": {
        "id": "eO0DNuoK_hgV",
        "colab": {
          "base_uri": "https://localhost:8080/"
        },
        "outputId": "ce5b9c31-c51c-4c4d-fc79-6a8c8d42e72b"
      },
      "execution_count": 57,
      "outputs": [
        {
          "output_type": "stream",
          "name": "stdout",
          "text": [
            "Results summary\n",
            "Results in ./untitled_project\n",
            "Showing 10 best trials\n",
            "<keras_tuner.engine.objective.Objective object at 0x7f4eaff51090>\n",
            "Trial summary\n",
            "Hyperparameters:\n",
            "number of hidden layers: 4\n",
            "number of neurons in hidden layer # 0: 7\n",
            "activation function for hidden layer # 0: relu\n",
            "kernel_initializer for hidden layer # 0: glorot_uniform\n",
            "kernel_initializer for output layer: glorot_normal\n",
            "Optimizer function: Adam\n",
            "number of neurons in hidden layer # 1: 4\n",
            "activation function for hidden layer # 1: relu\n",
            "kernel_initializer for hidden layer # 1: glorot_uniform\n",
            "number of neurons in hidden layer # 2: 7\n",
            "activation function for hidden layer # 2: sigmoid\n",
            "kernel_initializer for hidden layer # 2: glorot_normal\n",
            "number of neurons in hidden layer # 3: 11\n",
            "activation function for hidden layer # 3: relu\n",
            "kernel_initializer for hidden layer # 3: he_uniform\n",
            "number of neurons in hidden layer # 4: 11\n",
            "activation function for hidden layer # 4: relu\n",
            "kernel_initializer for hidden layer # 4: he_uniform\n",
            "number of neurons in hidden layer # 5: 8\n",
            "activation function for hidden layer # 5: elu\n",
            "kernel_initializer for hidden layer # 5: he_uniform\n",
            "Score: 0.7943750023841858\n",
            "Trial summary\n",
            "Hyperparameters:\n",
            "number of hidden layers: 6\n",
            "number of neurons in hidden layer # 0: 5\n",
            "activation function for hidden layer # 0: sigmoid\n",
            "kernel_initializer for hidden layer # 0: he_uniform\n",
            "kernel_initializer for output layer: glorot_normal\n",
            "Optimizer function: rmsprop\n",
            "number of neurons in hidden layer # 1: 8\n",
            "activation function for hidden layer # 1: sigmoid\n",
            "kernel_initializer for hidden layer # 1: he_normal\n",
            "number of neurons in hidden layer # 2: 5\n",
            "activation function for hidden layer # 2: relu\n",
            "kernel_initializer for hidden layer # 2: glorot_uniform\n",
            "number of neurons in hidden layer # 3: 10\n",
            "activation function for hidden layer # 3: relu\n",
            "kernel_initializer for hidden layer # 3: he_normal\n",
            "number of neurons in hidden layer # 4: 9\n",
            "activation function for hidden layer # 4: elu\n",
            "kernel_initializer for hidden layer # 4: he_uniform\n",
            "number of neurons in hidden layer # 5: 9\n",
            "activation function for hidden layer # 5: relu\n",
            "kernel_initializer for hidden layer # 5: glorot_uniform\n",
            "Score: 0.7943750023841858\n",
            "Trial summary\n",
            "Hyperparameters:\n",
            "number of hidden layers: 1\n",
            "number of neurons in hidden layer # 0: 8\n",
            "activation function for hidden layer # 0: sigmoid\n",
            "kernel_initializer for hidden layer # 0: he_uniform\n",
            "kernel_initializer for output layer: glorot_uniform\n",
            "Optimizer function: rmsprop\n",
            "number of neurons in hidden layer # 1: 12\n",
            "activation function for hidden layer # 1: sigmoid\n",
            "kernel_initializer for hidden layer # 1: he_uniform\n",
            "number of neurons in hidden layer # 2: 9\n",
            "activation function for hidden layer # 2: relu\n",
            "kernel_initializer for hidden layer # 2: he_normal\n",
            "number of neurons in hidden layer # 3: 10\n",
            "activation function for hidden layer # 3: elu\n",
            "kernel_initializer for hidden layer # 3: he_normal\n",
            "number of neurons in hidden layer # 4: 12\n",
            "activation function for hidden layer # 4: relu\n",
            "kernel_initializer for hidden layer # 4: glorot_normal\n",
            "number of neurons in hidden layer # 5: 12\n",
            "activation function for hidden layer # 5: relu\n",
            "kernel_initializer for hidden layer # 5: he_normal\n",
            "Score: 0.7943750023841858\n",
            "Trial summary\n",
            "Hyperparameters:\n",
            "number of hidden layers: 6\n",
            "number of neurons in hidden layer # 0: 7\n",
            "activation function for hidden layer # 0: relu\n",
            "kernel_initializer for hidden layer # 0: glorot_normal\n",
            "kernel_initializer for output layer: he_normal\n",
            "Optimizer function: rmsprop\n",
            "number of neurons in hidden layer # 1: 7\n",
            "activation function for hidden layer # 1: elu\n",
            "kernel_initializer for hidden layer # 1: he_uniform\n",
            "number of neurons in hidden layer # 2: 5\n",
            "activation function for hidden layer # 2: elu\n",
            "kernel_initializer for hidden layer # 2: glorot_uniform\n",
            "number of neurons in hidden layer # 3: 5\n",
            "activation function for hidden layer # 3: elu\n",
            "kernel_initializer for hidden layer # 3: glorot_normal\n",
            "number of neurons in hidden layer # 4: 4\n",
            "activation function for hidden layer # 4: relu\n",
            "kernel_initializer for hidden layer # 4: he_normal\n",
            "number of neurons in hidden layer # 5: 4\n",
            "activation function for hidden layer # 5: relu\n",
            "kernel_initializer for hidden layer # 5: he_normal\n",
            "Score: 0.7942500114440918\n",
            "Trial summary\n",
            "Hyperparameters:\n",
            "number of hidden layers: 1\n",
            "number of neurons in hidden layer # 0: 12\n",
            "activation function for hidden layer # 0: elu\n",
            "kernel_initializer for hidden layer # 0: he_normal\n",
            "kernel_initializer for output layer: glorot_uniform\n",
            "Optimizer function: rmsprop\n",
            "number of neurons in hidden layer # 1: 12\n",
            "activation function for hidden layer # 1: sigmoid\n",
            "kernel_initializer for hidden layer # 1: glorot_uniform\n",
            "number of neurons in hidden layer # 2: 11\n",
            "activation function for hidden layer # 2: sigmoid\n",
            "kernel_initializer for hidden layer # 2: he_normal\n",
            "number of neurons in hidden layer # 3: 8\n",
            "activation function for hidden layer # 3: sigmoid\n",
            "kernel_initializer for hidden layer # 3: glorot_normal\n",
            "number of neurons in hidden layer # 4: 13\n",
            "activation function for hidden layer # 4: elu\n",
            "kernel_initializer for hidden layer # 4: he_normal\n",
            "number of neurons in hidden layer # 5: 5\n",
            "activation function for hidden layer # 5: elu\n",
            "kernel_initializer for hidden layer # 5: he_normal\n",
            "Score: 0.7913749814033508\n",
            "Trial summary\n",
            "Hyperparameters:\n",
            "number of hidden layers: 2\n",
            "number of neurons in hidden layer # 0: 11\n",
            "activation function for hidden layer # 0: elu\n",
            "kernel_initializer for hidden layer # 0: he_normal\n",
            "kernel_initializer for output layer: glorot_normal\n",
            "Optimizer function: rmsprop\n",
            "number of neurons in hidden layer # 1: 7\n",
            "activation function for hidden layer # 1: relu\n",
            "kernel_initializer for hidden layer # 1: he_normal\n",
            "number of neurons in hidden layer # 2: 11\n",
            "activation function for hidden layer # 2: relu\n",
            "kernel_initializer for hidden layer # 2: glorot_normal\n",
            "number of neurons in hidden layer # 3: 8\n",
            "activation function for hidden layer # 3: sigmoid\n",
            "kernel_initializer for hidden layer # 3: glorot_normal\n",
            "number of neurons in hidden layer # 4: 12\n",
            "activation function for hidden layer # 4: sigmoid\n",
            "kernel_initializer for hidden layer # 4: glorot_uniform\n",
            "number of neurons in hidden layer # 5: 11\n",
            "activation function for hidden layer # 5: elu\n",
            "kernel_initializer for hidden layer # 5: he_uniform\n",
            "Score: 0.7893750071525574\n",
            "Trial summary\n",
            "Hyperparameters:\n",
            "number of hidden layers: 3\n",
            "number of neurons in hidden layer # 0: 11\n",
            "activation function for hidden layer # 0: elu\n",
            "kernel_initializer for hidden layer # 0: glorot_uniform\n",
            "kernel_initializer for output layer: glorot_uniform\n",
            "Optimizer function: rmsprop\n",
            "number of neurons in hidden layer # 1: 7\n",
            "activation function for hidden layer # 1: relu\n",
            "kernel_initializer for hidden layer # 1: he_normal\n",
            "number of neurons in hidden layer # 2: 4\n",
            "activation function for hidden layer # 2: elu\n",
            "kernel_initializer for hidden layer # 2: he_uniform\n",
            "number of neurons in hidden layer # 3: 7\n",
            "activation function for hidden layer # 3: sigmoid\n",
            "kernel_initializer for hidden layer # 3: glorot_uniform\n",
            "number of neurons in hidden layer # 4: 11\n",
            "activation function for hidden layer # 4: relu\n",
            "kernel_initializer for hidden layer # 4: he_uniform\n",
            "number of neurons in hidden layer # 5: 7\n",
            "activation function for hidden layer # 5: sigmoid\n",
            "kernel_initializer for hidden layer # 5: he_normal\n",
            "Score: 0.7850000262260437\n",
            "Trial summary\n",
            "Hyperparameters:\n",
            "number of hidden layers: 3\n",
            "number of neurons in hidden layer # 0: 11\n",
            "activation function for hidden layer # 0: sigmoid\n",
            "kernel_initializer for hidden layer # 0: glorot_normal\n",
            "kernel_initializer for output layer: glorot_normal\n",
            "Optimizer function: Adam\n",
            "number of neurons in hidden layer # 1: 8\n",
            "activation function for hidden layer # 1: relu\n",
            "kernel_initializer for hidden layer # 1: he_uniform\n",
            "number of neurons in hidden layer # 2: 13\n",
            "activation function for hidden layer # 2: relu\n",
            "kernel_initializer for hidden layer # 2: he_uniform\n",
            "number of neurons in hidden layer # 3: 9\n",
            "activation function for hidden layer # 3: elu\n",
            "kernel_initializer for hidden layer # 3: he_normal\n",
            "number of neurons in hidden layer # 4: 6\n",
            "activation function for hidden layer # 4: relu\n",
            "kernel_initializer for hidden layer # 4: glorot_normal\n",
            "number of neurons in hidden layer # 5: 7\n",
            "activation function for hidden layer # 5: sigmoid\n",
            "kernel_initializer for hidden layer # 5: glorot_uniform\n",
            "Score: 0.7835000157356262\n",
            "Trial summary\n",
            "Hyperparameters:\n",
            "number of hidden layers: 3\n",
            "number of neurons in hidden layer # 0: 10\n",
            "activation function for hidden layer # 0: elu\n",
            "kernel_initializer for hidden layer # 0: glorot_normal\n",
            "kernel_initializer for output layer: glorot_normal\n",
            "Optimizer function: rmsprop\n",
            "number of neurons in hidden layer # 1: 11\n",
            "activation function for hidden layer # 1: relu\n",
            "kernel_initializer for hidden layer # 1: he_normal\n",
            "number of neurons in hidden layer # 2: 10\n",
            "activation function for hidden layer # 2: elu\n",
            "kernel_initializer for hidden layer # 2: glorot_normal\n",
            "number of neurons in hidden layer # 3: 13\n",
            "activation function for hidden layer # 3: relu\n",
            "kernel_initializer for hidden layer # 3: he_normal\n",
            "number of neurons in hidden layer # 4: 8\n",
            "activation function for hidden layer # 4: elu\n",
            "kernel_initializer for hidden layer # 4: glorot_normal\n",
            "number of neurons in hidden layer # 5: 7\n",
            "activation function for hidden layer # 5: elu\n",
            "kernel_initializer for hidden layer # 5: he_normal\n",
            "Score: 0.7753750085830688\n",
            "Trial summary\n",
            "Hyperparameters:\n",
            "number of hidden layers: 1\n",
            "number of neurons in hidden layer # 0: 11\n",
            "activation function for hidden layer # 0: elu\n",
            "kernel_initializer for hidden layer # 0: glorot_uniform\n",
            "kernel_initializer for output layer: he_normal\n",
            "Optimizer function: rmsprop\n",
            "number of neurons in hidden layer # 1: 10\n",
            "activation function for hidden layer # 1: sigmoid\n",
            "kernel_initializer for hidden layer # 1: he_normal\n",
            "number of neurons in hidden layer # 2: 7\n",
            "activation function for hidden layer # 2: relu\n",
            "kernel_initializer for hidden layer # 2: he_normal\n",
            "number of neurons in hidden layer # 3: 11\n",
            "activation function for hidden layer # 3: relu\n",
            "kernel_initializer for hidden layer # 3: glorot_uniform\n",
            "number of neurons in hidden layer # 4: 8\n",
            "activation function for hidden layer # 4: relu\n",
            "kernel_initializer for hidden layer # 4: he_uniform\n",
            "number of neurons in hidden layer # 5: 7\n",
            "activation function for hidden layer # 5: sigmoid\n",
            "kernel_initializer for hidden layer # 5: glorot_uniform\n",
            "Score: 0.7731249928474426\n"
          ]
        }
      ]
    },
    {
      "cell_type": "code",
      "source": [
        "best_5_models = tuner_obj.get_best_models(5)"
      ],
      "metadata": {
        "id": "uBfU2BbE_0B6"
      },
      "execution_count": 58,
      "outputs": []
    },
    {
      "cell_type": "code",
      "source": [
        "model_new = best_5_models[2]"
      ],
      "metadata": {
        "id": "bosIrF8nAMOH"
      },
      "execution_count": 59,
      "outputs": []
    },
    {
      "cell_type": "code",
      "source": [
        "model_new.summary()"
      ],
      "metadata": {
        "colab": {
          "base_uri": "https://localhost:8080/"
        },
        "id": "_zAgE8ROAXyw",
        "outputId": "e6e7f386-e543-44e2-ae55-07c4774c5bda"
      },
      "execution_count": 60,
      "outputs": [
        {
          "output_type": "stream",
          "name": "stdout",
          "text": [
            "Model: \"sequential\"\n",
            "_________________________________________________________________\n",
            " Layer (type)                Output Shape              Param #   \n",
            "=================================================================\n",
            " dense (Dense)               (None, 8)                 104       \n",
            "                                                                 \n",
            " dense_1 (Dense)             (None, 1)                 9         \n",
            "                                                                 \n",
            "=================================================================\n",
            "Total params: 113\n",
            "Trainable params: 113\n",
            "Non-trainable params: 0\n",
            "_________________________________________________________________\n"
          ]
        }
      ]
    },
    {
      "cell_type": "code",
      "source": [],
      "metadata": {
        "id": "bDK_xX1SAZzN"
      },
      "execution_count": 60,
      "outputs": []
    }
  ]
}