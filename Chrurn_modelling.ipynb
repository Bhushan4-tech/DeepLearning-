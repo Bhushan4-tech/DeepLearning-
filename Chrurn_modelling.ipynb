{
  "nbformat": 4,
  "nbformat_minor": 0,
  "metadata": {
    "colab": {
      "provenance": [],
      "collapsed_sections": [],
      "include_colab_link": true
    },
    "kernelspec": {
      "name": "python3",
      "display_name": "Python 3"
    },
    "language_info": {
      "name": "python"
    },
    "accelerator": "GPU",
    "gpuClass": "standard"
  },
  "cells": [
    {
      "cell_type": "markdown",
      "metadata": {
        "id": "view-in-github",
        "colab_type": "text"
      },
      "source": [
        "<a href=\"https://colab.research.google.com/github/Bhushan4-tech/DeepLearning-/blob/main/Chrurn_modelling.ipynb\" target=\"_parent\"><img src=\"https://colab.research.google.com/assets/colab-badge.svg\" alt=\"Open In Colab\"/></a>"
      ]
    },
    {
      "cell_type": "code",
      "source": [
        "from google.colab import drive\n",
        "drive.mount(\"/content/grive\")"
      ],
      "metadata": {
        "colab": {
          "base_uri": "https://localhost:8080/"
        },
        "id": "HnN7cPVXgz55",
        "outputId": "21b290d6-4b36-47d4-a015-5c5df42e069c"
      },
      "execution_count": 3,
      "outputs": [
        {
          "output_type": "stream",
          "name": "stdout",
          "text": [
            "Mounted at /content/grive\n"
          ]
        }
      ]
    },
    {
      "cell_type": "code",
      "execution_count": 5,
      "metadata": {
        "colab": {
          "base_uri": "https://localhost:8080/"
        },
        "id": "BD4A7DCQGJQG",
        "outputId": "0c64c18f-4c4c-4361-9883-0f39c95f60e2"
      },
      "outputs": [
        {
          "output_type": "stream",
          "name": "stdout",
          "text": [
            "Thu Sep  8 04:32:10 2022       \n",
            "+-----------------------------------------------------------------------------+\n",
            "| NVIDIA-SMI 460.32.03    Driver Version: 460.32.03    CUDA Version: 11.2     |\n",
            "|-------------------------------+----------------------+----------------------+\n",
            "| GPU  Name        Persistence-M| Bus-Id        Disp.A | Volatile Uncorr. ECC |\n",
            "| Fan  Temp  Perf  Pwr:Usage/Cap|         Memory-Usage | GPU-Util  Compute M. |\n",
            "|                               |                      |               MIG M. |\n",
            "|===============================+======================+======================|\n",
            "|   0  Tesla T4            Off  | 00000000:00:04.0 Off |                    0 |\n",
            "| N/A   41C    P8     9W /  70W |      0MiB / 15109MiB |      0%      Default |\n",
            "|                               |                      |                  N/A |\n",
            "+-------------------------------+----------------------+----------------------+\n",
            "                                                                               \n",
            "+-----------------------------------------------------------------------------+\n",
            "| Processes:                                                                  |\n",
            "|  GPU   GI   CI        PID   Type   Process name                  GPU Memory |\n",
            "|        ID   ID                                                   Usage      |\n",
            "|=============================================================================|\n",
            "|  No running processes found                                                 |\n",
            "+-----------------------------------------------------------------------------+\n"
          ]
        }
      ],
      "source": [
        "!nvidia-smi"
      ]
    },
    {
      "cell_type": "code",
      "source": [
        "import os\n",
        "import numpy as np\n",
        "import pandas as pd\n",
        "\n",
        "import seaborn as sns\n",
        "import matplotlib.pyplot as plt\n",
        "\n",
        "from sklearn.model_selection import train_test_split\n",
        "from sklearn.preprocessing import MinMaxScaler\n",
        "\n",
        "%matplotlib inline"
      ],
      "metadata": {
        "id": "W56fxIygImFT"
      },
      "execution_count": 6,
      "outputs": []
    },
    {
      "cell_type": "code",
      "source": [
        "df = pd.read_csv(\"/content/grive/MyDrive/Churn_Modelling.csv\")\n",
        "df"
      ],
      "metadata": {
        "id": "W4E_dNzwI3SZ",
        "colab": {
          "base_uri": "https://localhost:8080/",
          "height": 424
        },
        "outputId": "51d9c986-f925-4cfd-c276-2163f9454f9b"
      },
      "execution_count": 7,
      "outputs": [
        {
          "output_type": "execute_result",
          "data": {
            "text/plain": [
              "      RowNumber  CustomerId    Surname  CreditScore Geography  Gender  Age  \\\n",
              "0             1    15634602   Hargrave          619    France  Female   42   \n",
              "1             2    15647311       Hill          608     Spain  Female   41   \n",
              "2             3    15619304       Onio          502    France  Female   42   \n",
              "3             4    15701354       Boni          699    France  Female   39   \n",
              "4             5    15737888   Mitchell          850     Spain  Female   43   \n",
              "...         ...         ...        ...          ...       ...     ...  ...   \n",
              "9995       9996    15606229   Obijiaku          771    France    Male   39   \n",
              "9996       9997    15569892  Johnstone          516    France    Male   35   \n",
              "9997       9998    15584532        Liu          709    France  Female   36   \n",
              "9998       9999    15682355  Sabbatini          772   Germany    Male   42   \n",
              "9999      10000    15628319     Walker          792    France  Female   28   \n",
              "\n",
              "      Tenure    Balance  NumOfProducts  HasCrCard  IsActiveMember  \\\n",
              "0          2       0.00              1          1               1   \n",
              "1          1   83807.86              1          0               1   \n",
              "2          8  159660.80              3          1               0   \n",
              "3          1       0.00              2          0               0   \n",
              "4          2  125510.82              1          1               1   \n",
              "...      ...        ...            ...        ...             ...   \n",
              "9995       5       0.00              2          1               0   \n",
              "9996      10   57369.61              1          1               1   \n",
              "9997       7       0.00              1          0               1   \n",
              "9998       3   75075.31              2          1               0   \n",
              "9999       4  130142.79              1          1               0   \n",
              "\n",
              "      EstimatedSalary  Exited  \n",
              "0           101348.88       1  \n",
              "1           112542.58       0  \n",
              "2           113931.57       1  \n",
              "3            93826.63       0  \n",
              "4            79084.10       0  \n",
              "...               ...     ...  \n",
              "9995         96270.64       0  \n",
              "9996        101699.77       0  \n",
              "9997         42085.58       1  \n",
              "9998         92888.52       1  \n",
              "9999         38190.78       0  \n",
              "\n",
              "[10000 rows x 14 columns]"
            ],
            "text/html": [
              "\n",
              "  <div id=\"df-ca21c918-2fca-47e4-b721-0cb8cb4b70ec\">\n",
              "    <div class=\"colab-df-container\">\n",
              "      <div>\n",
              "<style scoped>\n",
              "    .dataframe tbody tr th:only-of-type {\n",
              "        vertical-align: middle;\n",
              "    }\n",
              "\n",
              "    .dataframe tbody tr th {\n",
              "        vertical-align: top;\n",
              "    }\n",
              "\n",
              "    .dataframe thead th {\n",
              "        text-align: right;\n",
              "    }\n",
              "</style>\n",
              "<table border=\"1\" class=\"dataframe\">\n",
              "  <thead>\n",
              "    <tr style=\"text-align: right;\">\n",
              "      <th></th>\n",
              "      <th>RowNumber</th>\n",
              "      <th>CustomerId</th>\n",
              "      <th>Surname</th>\n",
              "      <th>CreditScore</th>\n",
              "      <th>Geography</th>\n",
              "      <th>Gender</th>\n",
              "      <th>Age</th>\n",
              "      <th>Tenure</th>\n",
              "      <th>Balance</th>\n",
              "      <th>NumOfProducts</th>\n",
              "      <th>HasCrCard</th>\n",
              "      <th>IsActiveMember</th>\n",
              "      <th>EstimatedSalary</th>\n",
              "      <th>Exited</th>\n",
              "    </tr>\n",
              "  </thead>\n",
              "  <tbody>\n",
              "    <tr>\n",
              "      <th>0</th>\n",
              "      <td>1</td>\n",
              "      <td>15634602</td>\n",
              "      <td>Hargrave</td>\n",
              "      <td>619</td>\n",
              "      <td>France</td>\n",
              "      <td>Female</td>\n",
              "      <td>42</td>\n",
              "      <td>2</td>\n",
              "      <td>0.00</td>\n",
              "      <td>1</td>\n",
              "      <td>1</td>\n",
              "      <td>1</td>\n",
              "      <td>101348.88</td>\n",
              "      <td>1</td>\n",
              "    </tr>\n",
              "    <tr>\n",
              "      <th>1</th>\n",
              "      <td>2</td>\n",
              "      <td>15647311</td>\n",
              "      <td>Hill</td>\n",
              "      <td>608</td>\n",
              "      <td>Spain</td>\n",
              "      <td>Female</td>\n",
              "      <td>41</td>\n",
              "      <td>1</td>\n",
              "      <td>83807.86</td>\n",
              "      <td>1</td>\n",
              "      <td>0</td>\n",
              "      <td>1</td>\n",
              "      <td>112542.58</td>\n",
              "      <td>0</td>\n",
              "    </tr>\n",
              "    <tr>\n",
              "      <th>2</th>\n",
              "      <td>3</td>\n",
              "      <td>15619304</td>\n",
              "      <td>Onio</td>\n",
              "      <td>502</td>\n",
              "      <td>France</td>\n",
              "      <td>Female</td>\n",
              "      <td>42</td>\n",
              "      <td>8</td>\n",
              "      <td>159660.80</td>\n",
              "      <td>3</td>\n",
              "      <td>1</td>\n",
              "      <td>0</td>\n",
              "      <td>113931.57</td>\n",
              "      <td>1</td>\n",
              "    </tr>\n",
              "    <tr>\n",
              "      <th>3</th>\n",
              "      <td>4</td>\n",
              "      <td>15701354</td>\n",
              "      <td>Boni</td>\n",
              "      <td>699</td>\n",
              "      <td>France</td>\n",
              "      <td>Female</td>\n",
              "      <td>39</td>\n",
              "      <td>1</td>\n",
              "      <td>0.00</td>\n",
              "      <td>2</td>\n",
              "      <td>0</td>\n",
              "      <td>0</td>\n",
              "      <td>93826.63</td>\n",
              "      <td>0</td>\n",
              "    </tr>\n",
              "    <tr>\n",
              "      <th>4</th>\n",
              "      <td>5</td>\n",
              "      <td>15737888</td>\n",
              "      <td>Mitchell</td>\n",
              "      <td>850</td>\n",
              "      <td>Spain</td>\n",
              "      <td>Female</td>\n",
              "      <td>43</td>\n",
              "      <td>2</td>\n",
              "      <td>125510.82</td>\n",
              "      <td>1</td>\n",
              "      <td>1</td>\n",
              "      <td>1</td>\n",
              "      <td>79084.10</td>\n",
              "      <td>0</td>\n",
              "    </tr>\n",
              "    <tr>\n",
              "      <th>...</th>\n",
              "      <td>...</td>\n",
              "      <td>...</td>\n",
              "      <td>...</td>\n",
              "      <td>...</td>\n",
              "      <td>...</td>\n",
              "      <td>...</td>\n",
              "      <td>...</td>\n",
              "      <td>...</td>\n",
              "      <td>...</td>\n",
              "      <td>...</td>\n",
              "      <td>...</td>\n",
              "      <td>...</td>\n",
              "      <td>...</td>\n",
              "      <td>...</td>\n",
              "    </tr>\n",
              "    <tr>\n",
              "      <th>9995</th>\n",
              "      <td>9996</td>\n",
              "      <td>15606229</td>\n",
              "      <td>Obijiaku</td>\n",
              "      <td>771</td>\n",
              "      <td>France</td>\n",
              "      <td>Male</td>\n",
              "      <td>39</td>\n",
              "      <td>5</td>\n",
              "      <td>0.00</td>\n",
              "      <td>2</td>\n",
              "      <td>1</td>\n",
              "      <td>0</td>\n",
              "      <td>96270.64</td>\n",
              "      <td>0</td>\n",
              "    </tr>\n",
              "    <tr>\n",
              "      <th>9996</th>\n",
              "      <td>9997</td>\n",
              "      <td>15569892</td>\n",
              "      <td>Johnstone</td>\n",
              "      <td>516</td>\n",
              "      <td>France</td>\n",
              "      <td>Male</td>\n",
              "      <td>35</td>\n",
              "      <td>10</td>\n",
              "      <td>57369.61</td>\n",
              "      <td>1</td>\n",
              "      <td>1</td>\n",
              "      <td>1</td>\n",
              "      <td>101699.77</td>\n",
              "      <td>0</td>\n",
              "    </tr>\n",
              "    <tr>\n",
              "      <th>9997</th>\n",
              "      <td>9998</td>\n",
              "      <td>15584532</td>\n",
              "      <td>Liu</td>\n",
              "      <td>709</td>\n",
              "      <td>France</td>\n",
              "      <td>Female</td>\n",
              "      <td>36</td>\n",
              "      <td>7</td>\n",
              "      <td>0.00</td>\n",
              "      <td>1</td>\n",
              "      <td>0</td>\n",
              "      <td>1</td>\n",
              "      <td>42085.58</td>\n",
              "      <td>1</td>\n",
              "    </tr>\n",
              "    <tr>\n",
              "      <th>9998</th>\n",
              "      <td>9999</td>\n",
              "      <td>15682355</td>\n",
              "      <td>Sabbatini</td>\n",
              "      <td>772</td>\n",
              "      <td>Germany</td>\n",
              "      <td>Male</td>\n",
              "      <td>42</td>\n",
              "      <td>3</td>\n",
              "      <td>75075.31</td>\n",
              "      <td>2</td>\n",
              "      <td>1</td>\n",
              "      <td>0</td>\n",
              "      <td>92888.52</td>\n",
              "      <td>1</td>\n",
              "    </tr>\n",
              "    <tr>\n",
              "      <th>9999</th>\n",
              "      <td>10000</td>\n",
              "      <td>15628319</td>\n",
              "      <td>Walker</td>\n",
              "      <td>792</td>\n",
              "      <td>France</td>\n",
              "      <td>Female</td>\n",
              "      <td>28</td>\n",
              "      <td>4</td>\n",
              "      <td>130142.79</td>\n",
              "      <td>1</td>\n",
              "      <td>1</td>\n",
              "      <td>0</td>\n",
              "      <td>38190.78</td>\n",
              "      <td>0</td>\n",
              "    </tr>\n",
              "  </tbody>\n",
              "</table>\n",
              "<p>10000 rows × 14 columns</p>\n",
              "</div>\n",
              "      <button class=\"colab-df-convert\" onclick=\"convertToInteractive('df-ca21c918-2fca-47e4-b721-0cb8cb4b70ec')\"\n",
              "              title=\"Convert this dataframe to an interactive table.\"\n",
              "              style=\"display:none;\">\n",
              "        \n",
              "  <svg xmlns=\"http://www.w3.org/2000/svg\" height=\"24px\"viewBox=\"0 0 24 24\"\n",
              "       width=\"24px\">\n",
              "    <path d=\"M0 0h24v24H0V0z\" fill=\"none\"/>\n",
              "    <path d=\"M18.56 5.44l.94 2.06.94-2.06 2.06-.94-2.06-.94-.94-2.06-.94 2.06-2.06.94zm-11 1L8.5 8.5l.94-2.06 2.06-.94-2.06-.94L8.5 2.5l-.94 2.06-2.06.94zm10 10l.94 2.06.94-2.06 2.06-.94-2.06-.94-.94-2.06-.94 2.06-2.06.94z\"/><path d=\"M17.41 7.96l-1.37-1.37c-.4-.4-.92-.59-1.43-.59-.52 0-1.04.2-1.43.59L10.3 9.45l-7.72 7.72c-.78.78-.78 2.05 0 2.83L4 21.41c.39.39.9.59 1.41.59.51 0 1.02-.2 1.41-.59l7.78-7.78 2.81-2.81c.8-.78.8-2.07 0-2.86zM5.41 20L4 18.59l7.72-7.72 1.47 1.35L5.41 20z\"/>\n",
              "  </svg>\n",
              "      </button>\n",
              "      \n",
              "  <style>\n",
              "    .colab-df-container {\n",
              "      display:flex;\n",
              "      flex-wrap:wrap;\n",
              "      gap: 12px;\n",
              "    }\n",
              "\n",
              "    .colab-df-convert {\n",
              "      background-color: #E8F0FE;\n",
              "      border: none;\n",
              "      border-radius: 50%;\n",
              "      cursor: pointer;\n",
              "      display: none;\n",
              "      fill: #1967D2;\n",
              "      height: 32px;\n",
              "      padding: 0 0 0 0;\n",
              "      width: 32px;\n",
              "    }\n",
              "\n",
              "    .colab-df-convert:hover {\n",
              "      background-color: #E2EBFA;\n",
              "      box-shadow: 0px 1px 2px rgba(60, 64, 67, 0.3), 0px 1px 3px 1px rgba(60, 64, 67, 0.15);\n",
              "      fill: #174EA6;\n",
              "    }\n",
              "\n",
              "    [theme=dark] .colab-df-convert {\n",
              "      background-color: #3B4455;\n",
              "      fill: #D2E3FC;\n",
              "    }\n",
              "\n",
              "    [theme=dark] .colab-df-convert:hover {\n",
              "      background-color: #434B5C;\n",
              "      box-shadow: 0px 1px 3px 1px rgba(0, 0, 0, 0.15);\n",
              "      filter: drop-shadow(0px 1px 2px rgba(0, 0, 0, 0.3));\n",
              "      fill: #FFFFFF;\n",
              "    }\n",
              "  </style>\n",
              "\n",
              "      <script>\n",
              "        const buttonEl =\n",
              "          document.querySelector('#df-ca21c918-2fca-47e4-b721-0cb8cb4b70ec button.colab-df-convert');\n",
              "        buttonEl.style.display =\n",
              "          google.colab.kernel.accessAllowed ? 'block' : 'none';\n",
              "\n",
              "        async function convertToInteractive(key) {\n",
              "          const element = document.querySelector('#df-ca21c918-2fca-47e4-b721-0cb8cb4b70ec');\n",
              "          const dataTable =\n",
              "            await google.colab.kernel.invokeFunction('convertToInteractive',\n",
              "                                                     [key], {});\n",
              "          if (!dataTable) return;\n",
              "\n",
              "          const docLinkHtml = 'Like what you see? Visit the ' +\n",
              "            '<a target=\"_blank\" href=https://colab.research.google.com/notebooks/data_table.ipynb>data table notebook</a>'\n",
              "            + ' to learn more about interactive tables.';\n",
              "          element.innerHTML = '';\n",
              "          dataTable['output_type'] = 'display_data';\n",
              "          await google.colab.output.renderOutput(dataTable, element);\n",
              "          const docLink = document.createElement('div');\n",
              "          docLink.innerHTML = docLinkHtml;\n",
              "          element.appendChild(docLink);\n",
              "        }\n",
              "      </script>\n",
              "    </div>\n",
              "  </div>\n",
              "  "
            ]
          },
          "metadata": {},
          "execution_count": 7
        }
      ]
    },
    {
      "cell_type": "code",
      "source": [
        "df.columns"
      ],
      "metadata": {
        "colab": {
          "base_uri": "https://localhost:8080/"
        },
        "id": "ykyjacBXJFjP",
        "outputId": "f15a06d1-7c16-4809-e2c3-c7abf70c1f42"
      },
      "execution_count": 8,
      "outputs": [
        {
          "output_type": "execute_result",
          "data": {
            "text/plain": [
              "Index(['RowNumber', 'CustomerId', 'Surname', 'CreditScore', 'Geography',\n",
              "       'Gender', 'Age', 'Tenure', 'Balance', 'NumOfProducts', 'HasCrCard',\n",
              "       'IsActiveMember', 'EstimatedSalary', 'Exited'],\n",
              "      dtype='object')"
            ]
          },
          "metadata": {},
          "execution_count": 8
        }
      ]
    },
    {
      "cell_type": "code",
      "source": [
        "df = df.drop(columns = ['RowNumber', 'CustomerId', 'Surname'])\n",
        "df.head(3)"
      ],
      "metadata": {
        "colab": {
          "base_uri": "https://localhost:8080/",
          "height": 143
        },
        "id": "8UbA-cNOMKJ1",
        "outputId": "c90267ff-ce23-42eb-88e8-ebcc0001cd06"
      },
      "execution_count": 9,
      "outputs": [
        {
          "output_type": "execute_result",
          "data": {
            "text/plain": [
              "   CreditScore Geography  Gender  Age  Tenure    Balance  NumOfProducts  \\\n",
              "0          619    France  Female   42       2       0.00              1   \n",
              "1          608     Spain  Female   41       1   83807.86              1   \n",
              "2          502    France  Female   42       8  159660.80              3   \n",
              "\n",
              "   HasCrCard  IsActiveMember  EstimatedSalary  Exited  \n",
              "0          1               1        101348.88       1  \n",
              "1          0               1        112542.58       0  \n",
              "2          1               0        113931.57       1  "
            ],
            "text/html": [
              "\n",
              "  <div id=\"df-a1092a62-73a6-409e-b902-a44086a705cf\">\n",
              "    <div class=\"colab-df-container\">\n",
              "      <div>\n",
              "<style scoped>\n",
              "    .dataframe tbody tr th:only-of-type {\n",
              "        vertical-align: middle;\n",
              "    }\n",
              "\n",
              "    .dataframe tbody tr th {\n",
              "        vertical-align: top;\n",
              "    }\n",
              "\n",
              "    .dataframe thead th {\n",
              "        text-align: right;\n",
              "    }\n",
              "</style>\n",
              "<table border=\"1\" class=\"dataframe\">\n",
              "  <thead>\n",
              "    <tr style=\"text-align: right;\">\n",
              "      <th></th>\n",
              "      <th>CreditScore</th>\n",
              "      <th>Geography</th>\n",
              "      <th>Gender</th>\n",
              "      <th>Age</th>\n",
              "      <th>Tenure</th>\n",
              "      <th>Balance</th>\n",
              "      <th>NumOfProducts</th>\n",
              "      <th>HasCrCard</th>\n",
              "      <th>IsActiveMember</th>\n",
              "      <th>EstimatedSalary</th>\n",
              "      <th>Exited</th>\n",
              "    </tr>\n",
              "  </thead>\n",
              "  <tbody>\n",
              "    <tr>\n",
              "      <th>0</th>\n",
              "      <td>619</td>\n",
              "      <td>France</td>\n",
              "      <td>Female</td>\n",
              "      <td>42</td>\n",
              "      <td>2</td>\n",
              "      <td>0.00</td>\n",
              "      <td>1</td>\n",
              "      <td>1</td>\n",
              "      <td>1</td>\n",
              "      <td>101348.88</td>\n",
              "      <td>1</td>\n",
              "    </tr>\n",
              "    <tr>\n",
              "      <th>1</th>\n",
              "      <td>608</td>\n",
              "      <td>Spain</td>\n",
              "      <td>Female</td>\n",
              "      <td>41</td>\n",
              "      <td>1</td>\n",
              "      <td>83807.86</td>\n",
              "      <td>1</td>\n",
              "      <td>0</td>\n",
              "      <td>1</td>\n",
              "      <td>112542.58</td>\n",
              "      <td>0</td>\n",
              "    </tr>\n",
              "    <tr>\n",
              "      <th>2</th>\n",
              "      <td>502</td>\n",
              "      <td>France</td>\n",
              "      <td>Female</td>\n",
              "      <td>42</td>\n",
              "      <td>8</td>\n",
              "      <td>159660.80</td>\n",
              "      <td>3</td>\n",
              "      <td>1</td>\n",
              "      <td>0</td>\n",
              "      <td>113931.57</td>\n",
              "      <td>1</td>\n",
              "    </tr>\n",
              "  </tbody>\n",
              "</table>\n",
              "</div>\n",
              "      <button class=\"colab-df-convert\" onclick=\"convertToInteractive('df-a1092a62-73a6-409e-b902-a44086a705cf')\"\n",
              "              title=\"Convert this dataframe to an interactive table.\"\n",
              "              style=\"display:none;\">\n",
              "        \n",
              "  <svg xmlns=\"http://www.w3.org/2000/svg\" height=\"24px\"viewBox=\"0 0 24 24\"\n",
              "       width=\"24px\">\n",
              "    <path d=\"M0 0h24v24H0V0z\" fill=\"none\"/>\n",
              "    <path d=\"M18.56 5.44l.94 2.06.94-2.06 2.06-.94-2.06-.94-.94-2.06-.94 2.06-2.06.94zm-11 1L8.5 8.5l.94-2.06 2.06-.94-2.06-.94L8.5 2.5l-.94 2.06-2.06.94zm10 10l.94 2.06.94-2.06 2.06-.94-2.06-.94-.94-2.06-.94 2.06-2.06.94z\"/><path d=\"M17.41 7.96l-1.37-1.37c-.4-.4-.92-.59-1.43-.59-.52 0-1.04.2-1.43.59L10.3 9.45l-7.72 7.72c-.78.78-.78 2.05 0 2.83L4 21.41c.39.39.9.59 1.41.59.51 0 1.02-.2 1.41-.59l7.78-7.78 2.81-2.81c.8-.78.8-2.07 0-2.86zM5.41 20L4 18.59l7.72-7.72 1.47 1.35L5.41 20z\"/>\n",
              "  </svg>\n",
              "      </button>\n",
              "      \n",
              "  <style>\n",
              "    .colab-df-container {\n",
              "      display:flex;\n",
              "      flex-wrap:wrap;\n",
              "      gap: 12px;\n",
              "    }\n",
              "\n",
              "    .colab-df-convert {\n",
              "      background-color: #E8F0FE;\n",
              "      border: none;\n",
              "      border-radius: 50%;\n",
              "      cursor: pointer;\n",
              "      display: none;\n",
              "      fill: #1967D2;\n",
              "      height: 32px;\n",
              "      padding: 0 0 0 0;\n",
              "      width: 32px;\n",
              "    }\n",
              "\n",
              "    .colab-df-convert:hover {\n",
              "      background-color: #E2EBFA;\n",
              "      box-shadow: 0px 1px 2px rgba(60, 64, 67, 0.3), 0px 1px 3px 1px rgba(60, 64, 67, 0.15);\n",
              "      fill: #174EA6;\n",
              "    }\n",
              "\n",
              "    [theme=dark] .colab-df-convert {\n",
              "      background-color: #3B4455;\n",
              "      fill: #D2E3FC;\n",
              "    }\n",
              "\n",
              "    [theme=dark] .colab-df-convert:hover {\n",
              "      background-color: #434B5C;\n",
              "      box-shadow: 0px 1px 3px 1px rgba(0, 0, 0, 0.15);\n",
              "      filter: drop-shadow(0px 1px 2px rgba(0, 0, 0, 0.3));\n",
              "      fill: #FFFFFF;\n",
              "    }\n",
              "  </style>\n",
              "\n",
              "      <script>\n",
              "        const buttonEl =\n",
              "          document.querySelector('#df-a1092a62-73a6-409e-b902-a44086a705cf button.colab-df-convert');\n",
              "        buttonEl.style.display =\n",
              "          google.colab.kernel.accessAllowed ? 'block' : 'none';\n",
              "\n",
              "        async function convertToInteractive(key) {\n",
              "          const element = document.querySelector('#df-a1092a62-73a6-409e-b902-a44086a705cf');\n",
              "          const dataTable =\n",
              "            await google.colab.kernel.invokeFunction('convertToInteractive',\n",
              "                                                     [key], {});\n",
              "          if (!dataTable) return;\n",
              "\n",
              "          const docLinkHtml = 'Like what you see? Visit the ' +\n",
              "            '<a target=\"_blank\" href=https://colab.research.google.com/notebooks/data_table.ipynb>data table notebook</a>'\n",
              "            + ' to learn more about interactive tables.';\n",
              "          element.innerHTML = '';\n",
              "          dataTable['output_type'] = 'display_data';\n",
              "          await google.colab.output.renderOutput(dataTable, element);\n",
              "          const docLink = document.createElement('div');\n",
              "          docLink.innerHTML = docLinkHtml;\n",
              "          element.appendChild(docLink);\n",
              "        }\n",
              "      </script>\n",
              "    </div>\n",
              "  </div>\n",
              "  "
            ]
          },
          "metadata": {},
          "execution_count": 9
        }
      ]
    },
    {
      "cell_type": "code",
      "source": [
        "df.Geography.nunique(),df.Geography.unique()"
      ],
      "metadata": {
        "colab": {
          "base_uri": "https://localhost:8080/"
        },
        "id": "udkK62H_OCNn",
        "outputId": "4bffb6d9-c6bd-4323-fc92-eeee6552bcd5"
      },
      "execution_count": 10,
      "outputs": [
        {
          "output_type": "execute_result",
          "data": {
            "text/plain": [
              "(3, array(['France', 'Spain', 'Germany'], dtype=object))"
            ]
          },
          "metadata": {},
          "execution_count": 10
        }
      ]
    },
    {
      "cell_type": "code",
      "source": [
        "df.Gender.nunique(),df.Gender.unique()"
      ],
      "metadata": {
        "colab": {
          "base_uri": "https://localhost:8080/"
        },
        "id": "E7AFEaNZOL9o",
        "outputId": "b973cb0e-fe1d-4248-80a6-a199472d3a1f"
      },
      "execution_count": 11,
      "outputs": [
        {
          "output_type": "execute_result",
          "data": {
            "text/plain": [
              "(2, array(['Female', 'Male'], dtype=object))"
            ]
          },
          "metadata": {},
          "execution_count": 11
        }
      ]
    },
    {
      "cell_type": "code",
      "source": [
        "geo_ohe = pd.get_dummies(data = df.Geography, prefix = 'Geography')\n",
        "geo_ohe.head()"
      ],
      "metadata": {
        "colab": {
          "base_uri": "https://localhost:8080/",
          "height": 206
        },
        "id": "OPKIzvYMORrT",
        "outputId": "c9f863d4-4d63-4c51-d963-ad862c94f396"
      },
      "execution_count": 12,
      "outputs": [
        {
          "output_type": "execute_result",
          "data": {
            "text/plain": [
              "   Geography_France  Geography_Germany  Geography_Spain\n",
              "0                 1                  0                0\n",
              "1                 0                  0                1\n",
              "2                 1                  0                0\n",
              "3                 1                  0                0\n",
              "4                 0                  0                1"
            ],
            "text/html": [
              "\n",
              "  <div id=\"df-32e6938a-980a-4cef-a4e8-27da26dd7fbc\">\n",
              "    <div class=\"colab-df-container\">\n",
              "      <div>\n",
              "<style scoped>\n",
              "    .dataframe tbody tr th:only-of-type {\n",
              "        vertical-align: middle;\n",
              "    }\n",
              "\n",
              "    .dataframe tbody tr th {\n",
              "        vertical-align: top;\n",
              "    }\n",
              "\n",
              "    .dataframe thead th {\n",
              "        text-align: right;\n",
              "    }\n",
              "</style>\n",
              "<table border=\"1\" class=\"dataframe\">\n",
              "  <thead>\n",
              "    <tr style=\"text-align: right;\">\n",
              "      <th></th>\n",
              "      <th>Geography_France</th>\n",
              "      <th>Geography_Germany</th>\n",
              "      <th>Geography_Spain</th>\n",
              "    </tr>\n",
              "  </thead>\n",
              "  <tbody>\n",
              "    <tr>\n",
              "      <th>0</th>\n",
              "      <td>1</td>\n",
              "      <td>0</td>\n",
              "      <td>0</td>\n",
              "    </tr>\n",
              "    <tr>\n",
              "      <th>1</th>\n",
              "      <td>0</td>\n",
              "      <td>0</td>\n",
              "      <td>1</td>\n",
              "    </tr>\n",
              "    <tr>\n",
              "      <th>2</th>\n",
              "      <td>1</td>\n",
              "      <td>0</td>\n",
              "      <td>0</td>\n",
              "    </tr>\n",
              "    <tr>\n",
              "      <th>3</th>\n",
              "      <td>1</td>\n",
              "      <td>0</td>\n",
              "      <td>0</td>\n",
              "    </tr>\n",
              "    <tr>\n",
              "      <th>4</th>\n",
              "      <td>0</td>\n",
              "      <td>0</td>\n",
              "      <td>1</td>\n",
              "    </tr>\n",
              "  </tbody>\n",
              "</table>\n",
              "</div>\n",
              "      <button class=\"colab-df-convert\" onclick=\"convertToInteractive('df-32e6938a-980a-4cef-a4e8-27da26dd7fbc')\"\n",
              "              title=\"Convert this dataframe to an interactive table.\"\n",
              "              style=\"display:none;\">\n",
              "        \n",
              "  <svg xmlns=\"http://www.w3.org/2000/svg\" height=\"24px\"viewBox=\"0 0 24 24\"\n",
              "       width=\"24px\">\n",
              "    <path d=\"M0 0h24v24H0V0z\" fill=\"none\"/>\n",
              "    <path d=\"M18.56 5.44l.94 2.06.94-2.06 2.06-.94-2.06-.94-.94-2.06-.94 2.06-2.06.94zm-11 1L8.5 8.5l.94-2.06 2.06-.94-2.06-.94L8.5 2.5l-.94 2.06-2.06.94zm10 10l.94 2.06.94-2.06 2.06-.94-2.06-.94-.94-2.06-.94 2.06-2.06.94z\"/><path d=\"M17.41 7.96l-1.37-1.37c-.4-.4-.92-.59-1.43-.59-.52 0-1.04.2-1.43.59L10.3 9.45l-7.72 7.72c-.78.78-.78 2.05 0 2.83L4 21.41c.39.39.9.59 1.41.59.51 0 1.02-.2 1.41-.59l7.78-7.78 2.81-2.81c.8-.78.8-2.07 0-2.86zM5.41 20L4 18.59l7.72-7.72 1.47 1.35L5.41 20z\"/>\n",
              "  </svg>\n",
              "      </button>\n",
              "      \n",
              "  <style>\n",
              "    .colab-df-container {\n",
              "      display:flex;\n",
              "      flex-wrap:wrap;\n",
              "      gap: 12px;\n",
              "    }\n",
              "\n",
              "    .colab-df-convert {\n",
              "      background-color: #E8F0FE;\n",
              "      border: none;\n",
              "      border-radius: 50%;\n",
              "      cursor: pointer;\n",
              "      display: none;\n",
              "      fill: #1967D2;\n",
              "      height: 32px;\n",
              "      padding: 0 0 0 0;\n",
              "      width: 32px;\n",
              "    }\n",
              "\n",
              "    .colab-df-convert:hover {\n",
              "      background-color: #E2EBFA;\n",
              "      box-shadow: 0px 1px 2px rgba(60, 64, 67, 0.3), 0px 1px 3px 1px rgba(60, 64, 67, 0.15);\n",
              "      fill: #174EA6;\n",
              "    }\n",
              "\n",
              "    [theme=dark] .colab-df-convert {\n",
              "      background-color: #3B4455;\n",
              "      fill: #D2E3FC;\n",
              "    }\n",
              "\n",
              "    [theme=dark] .colab-df-convert:hover {\n",
              "      background-color: #434B5C;\n",
              "      box-shadow: 0px 1px 3px 1px rgba(0, 0, 0, 0.15);\n",
              "      filter: drop-shadow(0px 1px 2px rgba(0, 0, 0, 0.3));\n",
              "      fill: #FFFFFF;\n",
              "    }\n",
              "  </style>\n",
              "\n",
              "      <script>\n",
              "        const buttonEl =\n",
              "          document.querySelector('#df-32e6938a-980a-4cef-a4e8-27da26dd7fbc button.colab-df-convert');\n",
              "        buttonEl.style.display =\n",
              "          google.colab.kernel.accessAllowed ? 'block' : 'none';\n",
              "\n",
              "        async function convertToInteractive(key) {\n",
              "          const element = document.querySelector('#df-32e6938a-980a-4cef-a4e8-27da26dd7fbc');\n",
              "          const dataTable =\n",
              "            await google.colab.kernel.invokeFunction('convertToInteractive',\n",
              "                                                     [key], {});\n",
              "          if (!dataTable) return;\n",
              "\n",
              "          const docLinkHtml = 'Like what you see? Visit the ' +\n",
              "            '<a target=\"_blank\" href=https://colab.research.google.com/notebooks/data_table.ipynb>data table notebook</a>'\n",
              "            + ' to learn more about interactive tables.';\n",
              "          element.innerHTML = '';\n",
              "          dataTable['output_type'] = 'display_data';\n",
              "          await google.colab.output.renderOutput(dataTable, element);\n",
              "          const docLink = document.createElement('div');\n",
              "          docLink.innerHTML = docLinkHtml;\n",
              "          element.appendChild(docLink);\n",
              "        }\n",
              "      </script>\n",
              "    </div>\n",
              "  </div>\n",
              "  "
            ]
          },
          "metadata": {},
          "execution_count": 12
        }
      ]
    },
    {
      "cell_type": "code",
      "source": [
        "df['Gender_encoded'] = df.Gender.replace({'Female':0,'Male':1})\n",
        "df.head()"
      ],
      "metadata": {
        "colab": {
          "base_uri": "https://localhost:8080/",
          "height": 206
        },
        "id": "4daEg0cMOusq",
        "outputId": "fd1fa7b8-44e3-4bf7-8274-0eb99117e9b5"
      },
      "execution_count": 13,
      "outputs": [
        {
          "output_type": "execute_result",
          "data": {
            "text/plain": [
              "   CreditScore Geography  Gender  Age  Tenure    Balance  NumOfProducts  \\\n",
              "0          619    France  Female   42       2       0.00              1   \n",
              "1          608     Spain  Female   41       1   83807.86              1   \n",
              "2          502    France  Female   42       8  159660.80              3   \n",
              "3          699    France  Female   39       1       0.00              2   \n",
              "4          850     Spain  Female   43       2  125510.82              1   \n",
              "\n",
              "   HasCrCard  IsActiveMember  EstimatedSalary  Exited  Gender_encoded  \n",
              "0          1               1        101348.88       1               0  \n",
              "1          0               1        112542.58       0               0  \n",
              "2          1               0        113931.57       1               0  \n",
              "3          0               0         93826.63       0               0  \n",
              "4          1               1         79084.10       0               0  "
            ],
            "text/html": [
              "\n",
              "  <div id=\"df-654b649f-1f2c-44b6-b2c2-51e2b0a6995a\">\n",
              "    <div class=\"colab-df-container\">\n",
              "      <div>\n",
              "<style scoped>\n",
              "    .dataframe tbody tr th:only-of-type {\n",
              "        vertical-align: middle;\n",
              "    }\n",
              "\n",
              "    .dataframe tbody tr th {\n",
              "        vertical-align: top;\n",
              "    }\n",
              "\n",
              "    .dataframe thead th {\n",
              "        text-align: right;\n",
              "    }\n",
              "</style>\n",
              "<table border=\"1\" class=\"dataframe\">\n",
              "  <thead>\n",
              "    <tr style=\"text-align: right;\">\n",
              "      <th></th>\n",
              "      <th>CreditScore</th>\n",
              "      <th>Geography</th>\n",
              "      <th>Gender</th>\n",
              "      <th>Age</th>\n",
              "      <th>Tenure</th>\n",
              "      <th>Balance</th>\n",
              "      <th>NumOfProducts</th>\n",
              "      <th>HasCrCard</th>\n",
              "      <th>IsActiveMember</th>\n",
              "      <th>EstimatedSalary</th>\n",
              "      <th>Exited</th>\n",
              "      <th>Gender_encoded</th>\n",
              "    </tr>\n",
              "  </thead>\n",
              "  <tbody>\n",
              "    <tr>\n",
              "      <th>0</th>\n",
              "      <td>619</td>\n",
              "      <td>France</td>\n",
              "      <td>Female</td>\n",
              "      <td>42</td>\n",
              "      <td>2</td>\n",
              "      <td>0.00</td>\n",
              "      <td>1</td>\n",
              "      <td>1</td>\n",
              "      <td>1</td>\n",
              "      <td>101348.88</td>\n",
              "      <td>1</td>\n",
              "      <td>0</td>\n",
              "    </tr>\n",
              "    <tr>\n",
              "      <th>1</th>\n",
              "      <td>608</td>\n",
              "      <td>Spain</td>\n",
              "      <td>Female</td>\n",
              "      <td>41</td>\n",
              "      <td>1</td>\n",
              "      <td>83807.86</td>\n",
              "      <td>1</td>\n",
              "      <td>0</td>\n",
              "      <td>1</td>\n",
              "      <td>112542.58</td>\n",
              "      <td>0</td>\n",
              "      <td>0</td>\n",
              "    </tr>\n",
              "    <tr>\n",
              "      <th>2</th>\n",
              "      <td>502</td>\n",
              "      <td>France</td>\n",
              "      <td>Female</td>\n",
              "      <td>42</td>\n",
              "      <td>8</td>\n",
              "      <td>159660.80</td>\n",
              "      <td>3</td>\n",
              "      <td>1</td>\n",
              "      <td>0</td>\n",
              "      <td>113931.57</td>\n",
              "      <td>1</td>\n",
              "      <td>0</td>\n",
              "    </tr>\n",
              "    <tr>\n",
              "      <th>3</th>\n",
              "      <td>699</td>\n",
              "      <td>France</td>\n",
              "      <td>Female</td>\n",
              "      <td>39</td>\n",
              "      <td>1</td>\n",
              "      <td>0.00</td>\n",
              "      <td>2</td>\n",
              "      <td>0</td>\n",
              "      <td>0</td>\n",
              "      <td>93826.63</td>\n",
              "      <td>0</td>\n",
              "      <td>0</td>\n",
              "    </tr>\n",
              "    <tr>\n",
              "      <th>4</th>\n",
              "      <td>850</td>\n",
              "      <td>Spain</td>\n",
              "      <td>Female</td>\n",
              "      <td>43</td>\n",
              "      <td>2</td>\n",
              "      <td>125510.82</td>\n",
              "      <td>1</td>\n",
              "      <td>1</td>\n",
              "      <td>1</td>\n",
              "      <td>79084.10</td>\n",
              "      <td>0</td>\n",
              "      <td>0</td>\n",
              "    </tr>\n",
              "  </tbody>\n",
              "</table>\n",
              "</div>\n",
              "      <button class=\"colab-df-convert\" onclick=\"convertToInteractive('df-654b649f-1f2c-44b6-b2c2-51e2b0a6995a')\"\n",
              "              title=\"Convert this dataframe to an interactive table.\"\n",
              "              style=\"display:none;\">\n",
              "        \n",
              "  <svg xmlns=\"http://www.w3.org/2000/svg\" height=\"24px\"viewBox=\"0 0 24 24\"\n",
              "       width=\"24px\">\n",
              "    <path d=\"M0 0h24v24H0V0z\" fill=\"none\"/>\n",
              "    <path d=\"M18.56 5.44l.94 2.06.94-2.06 2.06-.94-2.06-.94-.94-2.06-.94 2.06-2.06.94zm-11 1L8.5 8.5l.94-2.06 2.06-.94-2.06-.94L8.5 2.5l-.94 2.06-2.06.94zm10 10l.94 2.06.94-2.06 2.06-.94-2.06-.94-.94-2.06-.94 2.06-2.06.94z\"/><path d=\"M17.41 7.96l-1.37-1.37c-.4-.4-.92-.59-1.43-.59-.52 0-1.04.2-1.43.59L10.3 9.45l-7.72 7.72c-.78.78-.78 2.05 0 2.83L4 21.41c.39.39.9.59 1.41.59.51 0 1.02-.2 1.41-.59l7.78-7.78 2.81-2.81c.8-.78.8-2.07 0-2.86zM5.41 20L4 18.59l7.72-7.72 1.47 1.35L5.41 20z\"/>\n",
              "  </svg>\n",
              "      </button>\n",
              "      \n",
              "  <style>\n",
              "    .colab-df-container {\n",
              "      display:flex;\n",
              "      flex-wrap:wrap;\n",
              "      gap: 12px;\n",
              "    }\n",
              "\n",
              "    .colab-df-convert {\n",
              "      background-color: #E8F0FE;\n",
              "      border: none;\n",
              "      border-radius: 50%;\n",
              "      cursor: pointer;\n",
              "      display: none;\n",
              "      fill: #1967D2;\n",
              "      height: 32px;\n",
              "      padding: 0 0 0 0;\n",
              "      width: 32px;\n",
              "    }\n",
              "\n",
              "    .colab-df-convert:hover {\n",
              "      background-color: #E2EBFA;\n",
              "      box-shadow: 0px 1px 2px rgba(60, 64, 67, 0.3), 0px 1px 3px 1px rgba(60, 64, 67, 0.15);\n",
              "      fill: #174EA6;\n",
              "    }\n",
              "\n",
              "    [theme=dark] .colab-df-convert {\n",
              "      background-color: #3B4455;\n",
              "      fill: #D2E3FC;\n",
              "    }\n",
              "\n",
              "    [theme=dark] .colab-df-convert:hover {\n",
              "      background-color: #434B5C;\n",
              "      box-shadow: 0px 1px 3px 1px rgba(0, 0, 0, 0.15);\n",
              "      filter: drop-shadow(0px 1px 2px rgba(0, 0, 0, 0.3));\n",
              "      fill: #FFFFFF;\n",
              "    }\n",
              "  </style>\n",
              "\n",
              "      <script>\n",
              "        const buttonEl =\n",
              "          document.querySelector('#df-654b649f-1f2c-44b6-b2c2-51e2b0a6995a button.colab-df-convert');\n",
              "        buttonEl.style.display =\n",
              "          google.colab.kernel.accessAllowed ? 'block' : 'none';\n",
              "\n",
              "        async function convertToInteractive(key) {\n",
              "          const element = document.querySelector('#df-654b649f-1f2c-44b6-b2c2-51e2b0a6995a');\n",
              "          const dataTable =\n",
              "            await google.colab.kernel.invokeFunction('convertToInteractive',\n",
              "                                                     [key], {});\n",
              "          if (!dataTable) return;\n",
              "\n",
              "          const docLinkHtml = 'Like what you see? Visit the ' +\n",
              "            '<a target=\"_blank\" href=https://colab.research.google.com/notebooks/data_table.ipynb>data table notebook</a>'\n",
              "            + ' to learn more about interactive tables.';\n",
              "          element.innerHTML = '';\n",
              "          dataTable['output_type'] = 'display_data';\n",
              "          await google.colab.output.renderOutput(dataTable, element);\n",
              "          const docLink = document.createElement('div');\n",
              "          docLink.innerHTML = docLinkHtml;\n",
              "          element.appendChild(docLink);\n",
              "        }\n",
              "      </script>\n",
              "    </div>\n",
              "  </div>\n",
              "  "
            ]
          },
          "metadata": {},
          "execution_count": 13
        }
      ]
    },
    {
      "cell_type": "code",
      "source": [
        "final_df = pd.concat((df,geo_ohe), axis = 'columns')\n",
        "final_df.head()"
      ],
      "metadata": {
        "colab": {
          "base_uri": "https://localhost:8080/",
          "height": 270
        },
        "id": "DYCyieuMPPls",
        "outputId": "e08fa3e5-053f-493f-b71d-2e61f8885fd7"
      },
      "execution_count": 14,
      "outputs": [
        {
          "output_type": "execute_result",
          "data": {
            "text/plain": [
              "   CreditScore Geography  Gender  Age  Tenure    Balance  NumOfProducts  \\\n",
              "0          619    France  Female   42       2       0.00              1   \n",
              "1          608     Spain  Female   41       1   83807.86              1   \n",
              "2          502    France  Female   42       8  159660.80              3   \n",
              "3          699    France  Female   39       1       0.00              2   \n",
              "4          850     Spain  Female   43       2  125510.82              1   \n",
              "\n",
              "   HasCrCard  IsActiveMember  EstimatedSalary  Exited  Gender_encoded  \\\n",
              "0          1               1        101348.88       1               0   \n",
              "1          0               1        112542.58       0               0   \n",
              "2          1               0        113931.57       1               0   \n",
              "3          0               0         93826.63       0               0   \n",
              "4          1               1         79084.10       0               0   \n",
              "\n",
              "   Geography_France  Geography_Germany  Geography_Spain  \n",
              "0                 1                  0                0  \n",
              "1                 0                  0                1  \n",
              "2                 1                  0                0  \n",
              "3                 1                  0                0  \n",
              "4                 0                  0                1  "
            ],
            "text/html": [
              "\n",
              "  <div id=\"df-f89c029b-7190-47f2-a66e-68729649941b\">\n",
              "    <div class=\"colab-df-container\">\n",
              "      <div>\n",
              "<style scoped>\n",
              "    .dataframe tbody tr th:only-of-type {\n",
              "        vertical-align: middle;\n",
              "    }\n",
              "\n",
              "    .dataframe tbody tr th {\n",
              "        vertical-align: top;\n",
              "    }\n",
              "\n",
              "    .dataframe thead th {\n",
              "        text-align: right;\n",
              "    }\n",
              "</style>\n",
              "<table border=\"1\" class=\"dataframe\">\n",
              "  <thead>\n",
              "    <tr style=\"text-align: right;\">\n",
              "      <th></th>\n",
              "      <th>CreditScore</th>\n",
              "      <th>Geography</th>\n",
              "      <th>Gender</th>\n",
              "      <th>Age</th>\n",
              "      <th>Tenure</th>\n",
              "      <th>Balance</th>\n",
              "      <th>NumOfProducts</th>\n",
              "      <th>HasCrCard</th>\n",
              "      <th>IsActiveMember</th>\n",
              "      <th>EstimatedSalary</th>\n",
              "      <th>Exited</th>\n",
              "      <th>Gender_encoded</th>\n",
              "      <th>Geography_France</th>\n",
              "      <th>Geography_Germany</th>\n",
              "      <th>Geography_Spain</th>\n",
              "    </tr>\n",
              "  </thead>\n",
              "  <tbody>\n",
              "    <tr>\n",
              "      <th>0</th>\n",
              "      <td>619</td>\n",
              "      <td>France</td>\n",
              "      <td>Female</td>\n",
              "      <td>42</td>\n",
              "      <td>2</td>\n",
              "      <td>0.00</td>\n",
              "      <td>1</td>\n",
              "      <td>1</td>\n",
              "      <td>1</td>\n",
              "      <td>101348.88</td>\n",
              "      <td>1</td>\n",
              "      <td>0</td>\n",
              "      <td>1</td>\n",
              "      <td>0</td>\n",
              "      <td>0</td>\n",
              "    </tr>\n",
              "    <tr>\n",
              "      <th>1</th>\n",
              "      <td>608</td>\n",
              "      <td>Spain</td>\n",
              "      <td>Female</td>\n",
              "      <td>41</td>\n",
              "      <td>1</td>\n",
              "      <td>83807.86</td>\n",
              "      <td>1</td>\n",
              "      <td>0</td>\n",
              "      <td>1</td>\n",
              "      <td>112542.58</td>\n",
              "      <td>0</td>\n",
              "      <td>0</td>\n",
              "      <td>0</td>\n",
              "      <td>0</td>\n",
              "      <td>1</td>\n",
              "    </tr>\n",
              "    <tr>\n",
              "      <th>2</th>\n",
              "      <td>502</td>\n",
              "      <td>France</td>\n",
              "      <td>Female</td>\n",
              "      <td>42</td>\n",
              "      <td>8</td>\n",
              "      <td>159660.80</td>\n",
              "      <td>3</td>\n",
              "      <td>1</td>\n",
              "      <td>0</td>\n",
              "      <td>113931.57</td>\n",
              "      <td>1</td>\n",
              "      <td>0</td>\n",
              "      <td>1</td>\n",
              "      <td>0</td>\n",
              "      <td>0</td>\n",
              "    </tr>\n",
              "    <tr>\n",
              "      <th>3</th>\n",
              "      <td>699</td>\n",
              "      <td>France</td>\n",
              "      <td>Female</td>\n",
              "      <td>39</td>\n",
              "      <td>1</td>\n",
              "      <td>0.00</td>\n",
              "      <td>2</td>\n",
              "      <td>0</td>\n",
              "      <td>0</td>\n",
              "      <td>93826.63</td>\n",
              "      <td>0</td>\n",
              "      <td>0</td>\n",
              "      <td>1</td>\n",
              "      <td>0</td>\n",
              "      <td>0</td>\n",
              "    </tr>\n",
              "    <tr>\n",
              "      <th>4</th>\n",
              "      <td>850</td>\n",
              "      <td>Spain</td>\n",
              "      <td>Female</td>\n",
              "      <td>43</td>\n",
              "      <td>2</td>\n",
              "      <td>125510.82</td>\n",
              "      <td>1</td>\n",
              "      <td>1</td>\n",
              "      <td>1</td>\n",
              "      <td>79084.10</td>\n",
              "      <td>0</td>\n",
              "      <td>0</td>\n",
              "      <td>0</td>\n",
              "      <td>0</td>\n",
              "      <td>1</td>\n",
              "    </tr>\n",
              "  </tbody>\n",
              "</table>\n",
              "</div>\n",
              "      <button class=\"colab-df-convert\" onclick=\"convertToInteractive('df-f89c029b-7190-47f2-a66e-68729649941b')\"\n",
              "              title=\"Convert this dataframe to an interactive table.\"\n",
              "              style=\"display:none;\">\n",
              "        \n",
              "  <svg xmlns=\"http://www.w3.org/2000/svg\" height=\"24px\"viewBox=\"0 0 24 24\"\n",
              "       width=\"24px\">\n",
              "    <path d=\"M0 0h24v24H0V0z\" fill=\"none\"/>\n",
              "    <path d=\"M18.56 5.44l.94 2.06.94-2.06 2.06-.94-2.06-.94-.94-2.06-.94 2.06-2.06.94zm-11 1L8.5 8.5l.94-2.06 2.06-.94-2.06-.94L8.5 2.5l-.94 2.06-2.06.94zm10 10l.94 2.06.94-2.06 2.06-.94-2.06-.94-.94-2.06-.94 2.06-2.06.94z\"/><path d=\"M17.41 7.96l-1.37-1.37c-.4-.4-.92-.59-1.43-.59-.52 0-1.04.2-1.43.59L10.3 9.45l-7.72 7.72c-.78.78-.78 2.05 0 2.83L4 21.41c.39.39.9.59 1.41.59.51 0 1.02-.2 1.41-.59l7.78-7.78 2.81-2.81c.8-.78.8-2.07 0-2.86zM5.41 20L4 18.59l7.72-7.72 1.47 1.35L5.41 20z\"/>\n",
              "  </svg>\n",
              "      </button>\n",
              "      \n",
              "  <style>\n",
              "    .colab-df-container {\n",
              "      display:flex;\n",
              "      flex-wrap:wrap;\n",
              "      gap: 12px;\n",
              "    }\n",
              "\n",
              "    .colab-df-convert {\n",
              "      background-color: #E8F0FE;\n",
              "      border: none;\n",
              "      border-radius: 50%;\n",
              "      cursor: pointer;\n",
              "      display: none;\n",
              "      fill: #1967D2;\n",
              "      height: 32px;\n",
              "      padding: 0 0 0 0;\n",
              "      width: 32px;\n",
              "    }\n",
              "\n",
              "    .colab-df-convert:hover {\n",
              "      background-color: #E2EBFA;\n",
              "      box-shadow: 0px 1px 2px rgba(60, 64, 67, 0.3), 0px 1px 3px 1px rgba(60, 64, 67, 0.15);\n",
              "      fill: #174EA6;\n",
              "    }\n",
              "\n",
              "    [theme=dark] .colab-df-convert {\n",
              "      background-color: #3B4455;\n",
              "      fill: #D2E3FC;\n",
              "    }\n",
              "\n",
              "    [theme=dark] .colab-df-convert:hover {\n",
              "      background-color: #434B5C;\n",
              "      box-shadow: 0px 1px 3px 1px rgba(0, 0, 0, 0.15);\n",
              "      filter: drop-shadow(0px 1px 2px rgba(0, 0, 0, 0.3));\n",
              "      fill: #FFFFFF;\n",
              "    }\n",
              "  </style>\n",
              "\n",
              "      <script>\n",
              "        const buttonEl =\n",
              "          document.querySelector('#df-f89c029b-7190-47f2-a66e-68729649941b button.colab-df-convert');\n",
              "        buttonEl.style.display =\n",
              "          google.colab.kernel.accessAllowed ? 'block' : 'none';\n",
              "\n",
              "        async function convertToInteractive(key) {\n",
              "          const element = document.querySelector('#df-f89c029b-7190-47f2-a66e-68729649941b');\n",
              "          const dataTable =\n",
              "            await google.colab.kernel.invokeFunction('convertToInteractive',\n",
              "                                                     [key], {});\n",
              "          if (!dataTable) return;\n",
              "\n",
              "          const docLinkHtml = 'Like what you see? Visit the ' +\n",
              "            '<a target=\"_blank\" href=https://colab.research.google.com/notebooks/data_table.ipynb>data table notebook</a>'\n",
              "            + ' to learn more about interactive tables.';\n",
              "          element.innerHTML = '';\n",
              "          dataTable['output_type'] = 'display_data';\n",
              "          await google.colab.output.renderOutput(dataTable, element);\n",
              "          const docLink = document.createElement('div');\n",
              "          docLink.innerHTML = docLinkHtml;\n",
              "          element.appendChild(docLink);\n",
              "        }\n",
              "      </script>\n",
              "    </div>\n",
              "  </div>\n",
              "  "
            ]
          },
          "metadata": {},
          "execution_count": 14
        }
      ]
    },
    {
      "cell_type": "code",
      "source": [
        "final_df = final_df.drop(columns = ['Geography','Gender'])\n",
        "final_df.head()"
      ],
      "metadata": {
        "colab": {
          "base_uri": "https://localhost:8080/",
          "height": 206
        },
        "id": "abx3-r9FPcxW",
        "outputId": "8c942588-9907-411d-9b71-5515fa461ef3"
      },
      "execution_count": 15,
      "outputs": [
        {
          "output_type": "execute_result",
          "data": {
            "text/plain": [
              "   CreditScore  Age  Tenure    Balance  NumOfProducts  HasCrCard  \\\n",
              "0          619   42       2       0.00              1          1   \n",
              "1          608   41       1   83807.86              1          0   \n",
              "2          502   42       8  159660.80              3          1   \n",
              "3          699   39       1       0.00              2          0   \n",
              "4          850   43       2  125510.82              1          1   \n",
              "\n",
              "   IsActiveMember  EstimatedSalary  Exited  Gender_encoded  Geography_France  \\\n",
              "0               1        101348.88       1               0                 1   \n",
              "1               1        112542.58       0               0                 0   \n",
              "2               0        113931.57       1               0                 1   \n",
              "3               0         93826.63       0               0                 1   \n",
              "4               1         79084.10       0               0                 0   \n",
              "\n",
              "   Geography_Germany  Geography_Spain  \n",
              "0                  0                0  \n",
              "1                  0                1  \n",
              "2                  0                0  \n",
              "3                  0                0  \n",
              "4                  0                1  "
            ],
            "text/html": [
              "\n",
              "  <div id=\"df-a8d0151d-66bd-41a1-9960-8219ac21cc41\">\n",
              "    <div class=\"colab-df-container\">\n",
              "      <div>\n",
              "<style scoped>\n",
              "    .dataframe tbody tr th:only-of-type {\n",
              "        vertical-align: middle;\n",
              "    }\n",
              "\n",
              "    .dataframe tbody tr th {\n",
              "        vertical-align: top;\n",
              "    }\n",
              "\n",
              "    .dataframe thead th {\n",
              "        text-align: right;\n",
              "    }\n",
              "</style>\n",
              "<table border=\"1\" class=\"dataframe\">\n",
              "  <thead>\n",
              "    <tr style=\"text-align: right;\">\n",
              "      <th></th>\n",
              "      <th>CreditScore</th>\n",
              "      <th>Age</th>\n",
              "      <th>Tenure</th>\n",
              "      <th>Balance</th>\n",
              "      <th>NumOfProducts</th>\n",
              "      <th>HasCrCard</th>\n",
              "      <th>IsActiveMember</th>\n",
              "      <th>EstimatedSalary</th>\n",
              "      <th>Exited</th>\n",
              "      <th>Gender_encoded</th>\n",
              "      <th>Geography_France</th>\n",
              "      <th>Geography_Germany</th>\n",
              "      <th>Geography_Spain</th>\n",
              "    </tr>\n",
              "  </thead>\n",
              "  <tbody>\n",
              "    <tr>\n",
              "      <th>0</th>\n",
              "      <td>619</td>\n",
              "      <td>42</td>\n",
              "      <td>2</td>\n",
              "      <td>0.00</td>\n",
              "      <td>1</td>\n",
              "      <td>1</td>\n",
              "      <td>1</td>\n",
              "      <td>101348.88</td>\n",
              "      <td>1</td>\n",
              "      <td>0</td>\n",
              "      <td>1</td>\n",
              "      <td>0</td>\n",
              "      <td>0</td>\n",
              "    </tr>\n",
              "    <tr>\n",
              "      <th>1</th>\n",
              "      <td>608</td>\n",
              "      <td>41</td>\n",
              "      <td>1</td>\n",
              "      <td>83807.86</td>\n",
              "      <td>1</td>\n",
              "      <td>0</td>\n",
              "      <td>1</td>\n",
              "      <td>112542.58</td>\n",
              "      <td>0</td>\n",
              "      <td>0</td>\n",
              "      <td>0</td>\n",
              "      <td>0</td>\n",
              "      <td>1</td>\n",
              "    </tr>\n",
              "    <tr>\n",
              "      <th>2</th>\n",
              "      <td>502</td>\n",
              "      <td>42</td>\n",
              "      <td>8</td>\n",
              "      <td>159660.80</td>\n",
              "      <td>3</td>\n",
              "      <td>1</td>\n",
              "      <td>0</td>\n",
              "      <td>113931.57</td>\n",
              "      <td>1</td>\n",
              "      <td>0</td>\n",
              "      <td>1</td>\n",
              "      <td>0</td>\n",
              "      <td>0</td>\n",
              "    </tr>\n",
              "    <tr>\n",
              "      <th>3</th>\n",
              "      <td>699</td>\n",
              "      <td>39</td>\n",
              "      <td>1</td>\n",
              "      <td>0.00</td>\n",
              "      <td>2</td>\n",
              "      <td>0</td>\n",
              "      <td>0</td>\n",
              "      <td>93826.63</td>\n",
              "      <td>0</td>\n",
              "      <td>0</td>\n",
              "      <td>1</td>\n",
              "      <td>0</td>\n",
              "      <td>0</td>\n",
              "    </tr>\n",
              "    <tr>\n",
              "      <th>4</th>\n",
              "      <td>850</td>\n",
              "      <td>43</td>\n",
              "      <td>2</td>\n",
              "      <td>125510.82</td>\n",
              "      <td>1</td>\n",
              "      <td>1</td>\n",
              "      <td>1</td>\n",
              "      <td>79084.10</td>\n",
              "      <td>0</td>\n",
              "      <td>0</td>\n",
              "      <td>0</td>\n",
              "      <td>0</td>\n",
              "      <td>1</td>\n",
              "    </tr>\n",
              "  </tbody>\n",
              "</table>\n",
              "</div>\n",
              "      <button class=\"colab-df-convert\" onclick=\"convertToInteractive('df-a8d0151d-66bd-41a1-9960-8219ac21cc41')\"\n",
              "              title=\"Convert this dataframe to an interactive table.\"\n",
              "              style=\"display:none;\">\n",
              "        \n",
              "  <svg xmlns=\"http://www.w3.org/2000/svg\" height=\"24px\"viewBox=\"0 0 24 24\"\n",
              "       width=\"24px\">\n",
              "    <path d=\"M0 0h24v24H0V0z\" fill=\"none\"/>\n",
              "    <path d=\"M18.56 5.44l.94 2.06.94-2.06 2.06-.94-2.06-.94-.94-2.06-.94 2.06-2.06.94zm-11 1L8.5 8.5l.94-2.06 2.06-.94-2.06-.94L8.5 2.5l-.94 2.06-2.06.94zm10 10l.94 2.06.94-2.06 2.06-.94-2.06-.94-.94-2.06-.94 2.06-2.06.94z\"/><path d=\"M17.41 7.96l-1.37-1.37c-.4-.4-.92-.59-1.43-.59-.52 0-1.04.2-1.43.59L10.3 9.45l-7.72 7.72c-.78.78-.78 2.05 0 2.83L4 21.41c.39.39.9.59 1.41.59.51 0 1.02-.2 1.41-.59l7.78-7.78 2.81-2.81c.8-.78.8-2.07 0-2.86zM5.41 20L4 18.59l7.72-7.72 1.47 1.35L5.41 20z\"/>\n",
              "  </svg>\n",
              "      </button>\n",
              "      \n",
              "  <style>\n",
              "    .colab-df-container {\n",
              "      display:flex;\n",
              "      flex-wrap:wrap;\n",
              "      gap: 12px;\n",
              "    }\n",
              "\n",
              "    .colab-df-convert {\n",
              "      background-color: #E8F0FE;\n",
              "      border: none;\n",
              "      border-radius: 50%;\n",
              "      cursor: pointer;\n",
              "      display: none;\n",
              "      fill: #1967D2;\n",
              "      height: 32px;\n",
              "      padding: 0 0 0 0;\n",
              "      width: 32px;\n",
              "    }\n",
              "\n",
              "    .colab-df-convert:hover {\n",
              "      background-color: #E2EBFA;\n",
              "      box-shadow: 0px 1px 2px rgba(60, 64, 67, 0.3), 0px 1px 3px 1px rgba(60, 64, 67, 0.15);\n",
              "      fill: #174EA6;\n",
              "    }\n",
              "\n",
              "    [theme=dark] .colab-df-convert {\n",
              "      background-color: #3B4455;\n",
              "      fill: #D2E3FC;\n",
              "    }\n",
              "\n",
              "    [theme=dark] .colab-df-convert:hover {\n",
              "      background-color: #434B5C;\n",
              "      box-shadow: 0px 1px 3px 1px rgba(0, 0, 0, 0.15);\n",
              "      filter: drop-shadow(0px 1px 2px rgba(0, 0, 0, 0.3));\n",
              "      fill: #FFFFFF;\n",
              "    }\n",
              "  </style>\n",
              "\n",
              "      <script>\n",
              "        const buttonEl =\n",
              "          document.querySelector('#df-a8d0151d-66bd-41a1-9960-8219ac21cc41 button.colab-df-convert');\n",
              "        buttonEl.style.display =\n",
              "          google.colab.kernel.accessAllowed ? 'block' : 'none';\n",
              "\n",
              "        async function convertToInteractive(key) {\n",
              "          const element = document.querySelector('#df-a8d0151d-66bd-41a1-9960-8219ac21cc41');\n",
              "          const dataTable =\n",
              "            await google.colab.kernel.invokeFunction('convertToInteractive',\n",
              "                                                     [key], {});\n",
              "          if (!dataTable) return;\n",
              "\n",
              "          const docLinkHtml = 'Like what you see? Visit the ' +\n",
              "            '<a target=\"_blank\" href=https://colab.research.google.com/notebooks/data_table.ipynb>data table notebook</a>'\n",
              "            + ' to learn more about interactive tables.';\n",
              "          element.innerHTML = '';\n",
              "          dataTable['output_type'] = 'display_data';\n",
              "          await google.colab.output.renderOutput(dataTable, element);\n",
              "          const docLink = document.createElement('div');\n",
              "          docLink.innerHTML = docLinkHtml;\n",
              "          element.appendChild(docLink);\n",
              "        }\n",
              "      </script>\n",
              "    </div>\n",
              "  </div>\n",
              "  "
            ]
          },
          "metadata": {},
          "execution_count": 15
        }
      ]
    },
    {
      "cell_type": "code",
      "source": [
        "final_df.describe()"
      ],
      "metadata": {
        "colab": {
          "base_uri": "https://localhost:8080/",
          "height": 364
        },
        "id": "n1yg5wjdP2aY",
        "outputId": "ad7939bf-b1e5-4f98-b213-0756f39d820b"
      },
      "execution_count": 16,
      "outputs": [
        {
          "output_type": "execute_result",
          "data": {
            "text/plain": [
              "        CreditScore           Age        Tenure        Balance  NumOfProducts  \\\n",
              "count  10000.000000  10000.000000  10000.000000   10000.000000   10000.000000   \n",
              "mean     650.528800     38.921800      5.012800   76485.889288       1.530200   \n",
              "std       96.653299     10.487806      2.892174   62397.405202       0.581654   \n",
              "min      350.000000     18.000000      0.000000       0.000000       1.000000   \n",
              "25%      584.000000     32.000000      3.000000       0.000000       1.000000   \n",
              "50%      652.000000     37.000000      5.000000   97198.540000       1.000000   \n",
              "75%      718.000000     44.000000      7.000000  127644.240000       2.000000   \n",
              "max      850.000000     92.000000     10.000000  250898.090000       4.000000   \n",
              "\n",
              "         HasCrCard  IsActiveMember  EstimatedSalary        Exited  \\\n",
              "count  10000.00000    10000.000000     10000.000000  10000.000000   \n",
              "mean       0.70550        0.515100    100090.239881      0.203700   \n",
              "std        0.45584        0.499797     57510.492818      0.402769   \n",
              "min        0.00000        0.000000        11.580000      0.000000   \n",
              "25%        0.00000        0.000000     51002.110000      0.000000   \n",
              "50%        1.00000        1.000000    100193.915000      0.000000   \n",
              "75%        1.00000        1.000000    149388.247500      0.000000   \n",
              "max        1.00000        1.000000    199992.480000      1.000000   \n",
              "\n",
              "       Gender_encoded  Geography_France  Geography_Germany  Geography_Spain  \n",
              "count    10000.000000      10000.000000       10000.000000     10000.000000  \n",
              "mean         0.545700          0.501400           0.250900         0.247700  \n",
              "std          0.497932          0.500023           0.433553         0.431698  \n",
              "min          0.000000          0.000000           0.000000         0.000000  \n",
              "25%          0.000000          0.000000           0.000000         0.000000  \n",
              "50%          1.000000          1.000000           0.000000         0.000000  \n",
              "75%          1.000000          1.000000           1.000000         0.000000  \n",
              "max          1.000000          1.000000           1.000000         1.000000  "
            ],
            "text/html": [
              "\n",
              "  <div id=\"df-c4e6d6a8-d587-4616-a24b-8e9ecf73f7cc\">\n",
              "    <div class=\"colab-df-container\">\n",
              "      <div>\n",
              "<style scoped>\n",
              "    .dataframe tbody tr th:only-of-type {\n",
              "        vertical-align: middle;\n",
              "    }\n",
              "\n",
              "    .dataframe tbody tr th {\n",
              "        vertical-align: top;\n",
              "    }\n",
              "\n",
              "    .dataframe thead th {\n",
              "        text-align: right;\n",
              "    }\n",
              "</style>\n",
              "<table border=\"1\" class=\"dataframe\">\n",
              "  <thead>\n",
              "    <tr style=\"text-align: right;\">\n",
              "      <th></th>\n",
              "      <th>CreditScore</th>\n",
              "      <th>Age</th>\n",
              "      <th>Tenure</th>\n",
              "      <th>Balance</th>\n",
              "      <th>NumOfProducts</th>\n",
              "      <th>HasCrCard</th>\n",
              "      <th>IsActiveMember</th>\n",
              "      <th>EstimatedSalary</th>\n",
              "      <th>Exited</th>\n",
              "      <th>Gender_encoded</th>\n",
              "      <th>Geography_France</th>\n",
              "      <th>Geography_Germany</th>\n",
              "      <th>Geography_Spain</th>\n",
              "    </tr>\n",
              "  </thead>\n",
              "  <tbody>\n",
              "    <tr>\n",
              "      <th>count</th>\n",
              "      <td>10000.000000</td>\n",
              "      <td>10000.000000</td>\n",
              "      <td>10000.000000</td>\n",
              "      <td>10000.000000</td>\n",
              "      <td>10000.000000</td>\n",
              "      <td>10000.00000</td>\n",
              "      <td>10000.000000</td>\n",
              "      <td>10000.000000</td>\n",
              "      <td>10000.000000</td>\n",
              "      <td>10000.000000</td>\n",
              "      <td>10000.000000</td>\n",
              "      <td>10000.000000</td>\n",
              "      <td>10000.000000</td>\n",
              "    </tr>\n",
              "    <tr>\n",
              "      <th>mean</th>\n",
              "      <td>650.528800</td>\n",
              "      <td>38.921800</td>\n",
              "      <td>5.012800</td>\n",
              "      <td>76485.889288</td>\n",
              "      <td>1.530200</td>\n",
              "      <td>0.70550</td>\n",
              "      <td>0.515100</td>\n",
              "      <td>100090.239881</td>\n",
              "      <td>0.203700</td>\n",
              "      <td>0.545700</td>\n",
              "      <td>0.501400</td>\n",
              "      <td>0.250900</td>\n",
              "      <td>0.247700</td>\n",
              "    </tr>\n",
              "    <tr>\n",
              "      <th>std</th>\n",
              "      <td>96.653299</td>\n",
              "      <td>10.487806</td>\n",
              "      <td>2.892174</td>\n",
              "      <td>62397.405202</td>\n",
              "      <td>0.581654</td>\n",
              "      <td>0.45584</td>\n",
              "      <td>0.499797</td>\n",
              "      <td>57510.492818</td>\n",
              "      <td>0.402769</td>\n",
              "      <td>0.497932</td>\n",
              "      <td>0.500023</td>\n",
              "      <td>0.433553</td>\n",
              "      <td>0.431698</td>\n",
              "    </tr>\n",
              "    <tr>\n",
              "      <th>min</th>\n",
              "      <td>350.000000</td>\n",
              "      <td>18.000000</td>\n",
              "      <td>0.000000</td>\n",
              "      <td>0.000000</td>\n",
              "      <td>1.000000</td>\n",
              "      <td>0.00000</td>\n",
              "      <td>0.000000</td>\n",
              "      <td>11.580000</td>\n",
              "      <td>0.000000</td>\n",
              "      <td>0.000000</td>\n",
              "      <td>0.000000</td>\n",
              "      <td>0.000000</td>\n",
              "      <td>0.000000</td>\n",
              "    </tr>\n",
              "    <tr>\n",
              "      <th>25%</th>\n",
              "      <td>584.000000</td>\n",
              "      <td>32.000000</td>\n",
              "      <td>3.000000</td>\n",
              "      <td>0.000000</td>\n",
              "      <td>1.000000</td>\n",
              "      <td>0.00000</td>\n",
              "      <td>0.000000</td>\n",
              "      <td>51002.110000</td>\n",
              "      <td>0.000000</td>\n",
              "      <td>0.000000</td>\n",
              "      <td>0.000000</td>\n",
              "      <td>0.000000</td>\n",
              "      <td>0.000000</td>\n",
              "    </tr>\n",
              "    <tr>\n",
              "      <th>50%</th>\n",
              "      <td>652.000000</td>\n",
              "      <td>37.000000</td>\n",
              "      <td>5.000000</td>\n",
              "      <td>97198.540000</td>\n",
              "      <td>1.000000</td>\n",
              "      <td>1.00000</td>\n",
              "      <td>1.000000</td>\n",
              "      <td>100193.915000</td>\n",
              "      <td>0.000000</td>\n",
              "      <td>1.000000</td>\n",
              "      <td>1.000000</td>\n",
              "      <td>0.000000</td>\n",
              "      <td>0.000000</td>\n",
              "    </tr>\n",
              "    <tr>\n",
              "      <th>75%</th>\n",
              "      <td>718.000000</td>\n",
              "      <td>44.000000</td>\n",
              "      <td>7.000000</td>\n",
              "      <td>127644.240000</td>\n",
              "      <td>2.000000</td>\n",
              "      <td>1.00000</td>\n",
              "      <td>1.000000</td>\n",
              "      <td>149388.247500</td>\n",
              "      <td>0.000000</td>\n",
              "      <td>1.000000</td>\n",
              "      <td>1.000000</td>\n",
              "      <td>1.000000</td>\n",
              "      <td>0.000000</td>\n",
              "    </tr>\n",
              "    <tr>\n",
              "      <th>max</th>\n",
              "      <td>850.000000</td>\n",
              "      <td>92.000000</td>\n",
              "      <td>10.000000</td>\n",
              "      <td>250898.090000</td>\n",
              "      <td>4.000000</td>\n",
              "      <td>1.00000</td>\n",
              "      <td>1.000000</td>\n",
              "      <td>199992.480000</td>\n",
              "      <td>1.000000</td>\n",
              "      <td>1.000000</td>\n",
              "      <td>1.000000</td>\n",
              "      <td>1.000000</td>\n",
              "      <td>1.000000</td>\n",
              "    </tr>\n",
              "  </tbody>\n",
              "</table>\n",
              "</div>\n",
              "      <button class=\"colab-df-convert\" onclick=\"convertToInteractive('df-c4e6d6a8-d587-4616-a24b-8e9ecf73f7cc')\"\n",
              "              title=\"Convert this dataframe to an interactive table.\"\n",
              "              style=\"display:none;\">\n",
              "        \n",
              "  <svg xmlns=\"http://www.w3.org/2000/svg\" height=\"24px\"viewBox=\"0 0 24 24\"\n",
              "       width=\"24px\">\n",
              "    <path d=\"M0 0h24v24H0V0z\" fill=\"none\"/>\n",
              "    <path d=\"M18.56 5.44l.94 2.06.94-2.06 2.06-.94-2.06-.94-.94-2.06-.94 2.06-2.06.94zm-11 1L8.5 8.5l.94-2.06 2.06-.94-2.06-.94L8.5 2.5l-.94 2.06-2.06.94zm10 10l.94 2.06.94-2.06 2.06-.94-2.06-.94-.94-2.06-.94 2.06-2.06.94z\"/><path d=\"M17.41 7.96l-1.37-1.37c-.4-.4-.92-.59-1.43-.59-.52 0-1.04.2-1.43.59L10.3 9.45l-7.72 7.72c-.78.78-.78 2.05 0 2.83L4 21.41c.39.39.9.59 1.41.59.51 0 1.02-.2 1.41-.59l7.78-7.78 2.81-2.81c.8-.78.8-2.07 0-2.86zM5.41 20L4 18.59l7.72-7.72 1.47 1.35L5.41 20z\"/>\n",
              "  </svg>\n",
              "      </button>\n",
              "      \n",
              "  <style>\n",
              "    .colab-df-container {\n",
              "      display:flex;\n",
              "      flex-wrap:wrap;\n",
              "      gap: 12px;\n",
              "    }\n",
              "\n",
              "    .colab-df-convert {\n",
              "      background-color: #E8F0FE;\n",
              "      border: none;\n",
              "      border-radius: 50%;\n",
              "      cursor: pointer;\n",
              "      display: none;\n",
              "      fill: #1967D2;\n",
              "      height: 32px;\n",
              "      padding: 0 0 0 0;\n",
              "      width: 32px;\n",
              "    }\n",
              "\n",
              "    .colab-df-convert:hover {\n",
              "      background-color: #E2EBFA;\n",
              "      box-shadow: 0px 1px 2px rgba(60, 64, 67, 0.3), 0px 1px 3px 1px rgba(60, 64, 67, 0.15);\n",
              "      fill: #174EA6;\n",
              "    }\n",
              "\n",
              "    [theme=dark] .colab-df-convert {\n",
              "      background-color: #3B4455;\n",
              "      fill: #D2E3FC;\n",
              "    }\n",
              "\n",
              "    [theme=dark] .colab-df-convert:hover {\n",
              "      background-color: #434B5C;\n",
              "      box-shadow: 0px 1px 3px 1px rgba(0, 0, 0, 0.15);\n",
              "      filter: drop-shadow(0px 1px 2px rgba(0, 0, 0, 0.3));\n",
              "      fill: #FFFFFF;\n",
              "    }\n",
              "  </style>\n",
              "\n",
              "      <script>\n",
              "        const buttonEl =\n",
              "          document.querySelector('#df-c4e6d6a8-d587-4616-a24b-8e9ecf73f7cc button.colab-df-convert');\n",
              "        buttonEl.style.display =\n",
              "          google.colab.kernel.accessAllowed ? 'block' : 'none';\n",
              "\n",
              "        async function convertToInteractive(key) {\n",
              "          const element = document.querySelector('#df-c4e6d6a8-d587-4616-a24b-8e9ecf73f7cc');\n",
              "          const dataTable =\n",
              "            await google.colab.kernel.invokeFunction('convertToInteractive',\n",
              "                                                     [key], {});\n",
              "          if (!dataTable) return;\n",
              "\n",
              "          const docLinkHtml = 'Like what you see? Visit the ' +\n",
              "            '<a target=\"_blank\" href=https://colab.research.google.com/notebooks/data_table.ipynb>data table notebook</a>'\n",
              "            + ' to learn more about interactive tables.';\n",
              "          element.innerHTML = '';\n",
              "          dataTable['output_type'] = 'display_data';\n",
              "          await google.colab.output.renderOutput(dataTable, element);\n",
              "          const docLink = document.createElement('div');\n",
              "          docLink.innerHTML = docLinkHtml;\n",
              "          element.appendChild(docLink);\n",
              "        }\n",
              "      </script>\n",
              "    </div>\n",
              "  </div>\n",
              "  "
            ]
          },
          "metadata": {},
          "execution_count": 16
        }
      ]
    },
    {
      "cell_type": "code",
      "source": [
        "train, test = train_test_split(final_df, test_size = 0.2, random_state = 64)\n",
        "\n",
        "train.shape, test.shape"
      ],
      "metadata": {
        "colab": {
          "base_uri": "https://localhost:8080/"
        },
        "id": "K2aC9hPZRONT",
        "outputId": "7b020c8a-4039-4f59-9adc-65e5168a9710"
      },
      "execution_count": 17,
      "outputs": [
        {
          "output_type": "execute_result",
          "data": {
            "text/plain": [
              "((8000, 13), (2000, 13))"
            ]
          },
          "metadata": {},
          "execution_count": 17
        }
      ]
    },
    {
      "cell_type": "markdown",
      "source": [
        "#### For scaling we apply MinMaxScaler"
      ],
      "metadata": {
        "id": "5BLPXfkKO2-z"
      }
    },
    {
      "cell_type": "code",
      "source": [
        "train_scaler, test_scaler = MinMaxScaler(), MinMaxScaler()\n",
        "\n",
        "train_scaled = train_scaler.fit_transform(train)\n",
        "test_scaled = test_scaler.fit_transform(test)"
      ],
      "metadata": {
        "id": "fma-kWc3Rgir"
      },
      "execution_count": 18,
      "outputs": []
    },
    {
      "cell_type": "code",
      "source": [
        "train_scaled = pd.DataFrame(train_scaled, columns = train.columns)\n",
        "test_scaled = pd.DataFrame(test_scaled, columns = test.columns)"
      ],
      "metadata": {
        "id": "qPwBPVlBRoPm"
      },
      "execution_count": 19,
      "outputs": []
    },
    {
      "cell_type": "code",
      "source": [
        "train_x, train_y = train_scaled.drop(columns = 'Exited'), train_scaled.Exited\n",
        "test_x, test_y = test_scaled.drop(columns = 'Exited'), test_scaled.Exited"
      ],
      "metadata": {
        "id": "g2ZDUxxOYrVB"
      },
      "execution_count": 20,
      "outputs": []
    },
    {
      "cell_type": "code",
      "source": [
        "train_x.shape"
      ],
      "metadata": {
        "colab": {
          "base_uri": "https://localhost:8080/"
        },
        "id": "4YpraBFZgGWJ",
        "outputId": "5e1bf3a3-6f0d-44bc-cded-fe36462d72e3"
      },
      "execution_count": 21,
      "outputs": [
        {
          "output_type": "execute_result",
          "data": {
            "text/plain": [
              "(8000, 12)"
            ]
          },
          "metadata": {},
          "execution_count": 21
        }
      ]
    },
    {
      "cell_type": "markdown",
      "source": [
        "# Creating the NN"
      ],
      "metadata": {
        "id": "QTJUyIgSdb4D"
      }
    },
    {
      "cell_type": "code",
      "source": [
        "import tensorflow as tf"
      ],
      "metadata": {
        "id": "IUDlCOWQdbyk"
      },
      "execution_count": 22,
      "outputs": []
    },
    {
      "cell_type": "code",
      "source": [
        "# Instantiating ELU\n",
        "elu = tf.keras.layers.ELU(alpha = 0.95)\n",
        "\n",
        "# Instantiating the Sequential model\n",
        "model = tf.keras.Sequential()\n",
        "\n",
        "# Adding the input layer\n",
        "model.add(tf.keras.layers.Input(shape = (12,)))\n",
        "\n",
        "# Adding the hidden layers\n",
        "model.add(tf.keras.layers.Dense(units = 6,\n",
        "                                activation = 'relu',\n",
        "                                kernel_initializer = 'he_uniform'))\n",
        "model.add(tf.keras.layers.Dense(units = 8,\n",
        "                                activation = elu,\n",
        "                                kernel_initializer = 'he_uniform'))\n",
        "\n",
        "# Adding the output layer\n",
        "model.add(tf.keras.layers.Dense(units = 1,\n",
        "                                activation = 'sigmoid',\n",
        "                                kernel_initializer = 'glorot_uniform'))"
      ],
      "metadata": {
        "id": "gecGFs42hDTq"
      },
      "execution_count": 23,
      "outputs": []
    },
    {
      "cell_type": "code",
      "source": [
        "model.summary()"
      ],
      "metadata": {
        "colab": {
          "base_uri": "https://localhost:8080/"
        },
        "id": "uZXU0xBHgzFD",
        "outputId": "bd9c024d-2f08-446e-f7dc-43c957800927"
      },
      "execution_count": 24,
      "outputs": [
        {
          "output_type": "stream",
          "name": "stdout",
          "text": [
            "Model: \"sequential\"\n",
            "_________________________________________________________________\n",
            " Layer (type)                Output Shape              Param #   \n",
            "=================================================================\n",
            " dense (Dense)               (None, 6)                 78        \n",
            "                                                                 \n",
            " dense_1 (Dense)             (None, 8)                 56        \n",
            "                                                                 \n",
            " dense_2 (Dense)             (None, 1)                 9         \n",
            "                                                                 \n",
            "=================================================================\n",
            "Total params: 143\n",
            "Trainable params: 143\n",
            "Non-trainable params: 0\n",
            "_________________________________________________________________\n"
          ]
        }
      ]
    },
    {
      "cell_type": "code",
      "source": [
        "# Compiling the model\n",
        "model.compile(optimizer = 'Adam',\n",
        "              loss = 'binary_crossentropy',\n",
        "              metrics = ['accuracy','Recall'])"
      ],
      "metadata": {
        "id": "hv3dR6ivgArT"
      },
      "execution_count": 25,
      "outputs": []
    },
    {
      "cell_type": "code",
      "source": [
        "# Training the model and saving the training logs\n",
        "history_object = model.fit(x = train_x, \n",
        "                           y = train_y,\n",
        "                           batch_size = 256,\n",
        "                           epochs = 100,\n",
        "                           validation_data = (test_x, test_y),\n",
        "                           use_multiprocessing = True,\n",
        "                           workers = 20)"
      ],
      "metadata": {
        "id": "lctC0srygAk_",
        "colab": {
          "base_uri": "https://localhost:8080/"
        },
        "outputId": "0e4377bd-123b-493c-c7a3-4d4e4fb2f5ae"
      },
      "execution_count": 26,
      "outputs": [
        {
          "output_type": "stream",
          "name": "stdout",
          "text": [
            "Epoch 1/100\n",
            "32/32 [==============================] - 5s 18ms/step - loss: 0.5995 - accuracy: 0.7508 - recall: 0.1076 - val_loss: 0.5498 - val_accuracy: 0.8020 - val_recall: 0.0077\n",
            "Epoch 2/100\n",
            "32/32 [==============================] - 0s 4ms/step - loss: 0.5340 - accuracy: 0.7941 - recall: 0.0079 - val_loss: 0.5083 - val_accuracy: 0.8040 - val_recall: 0.0000e+00\n",
            "Epoch 3/100\n",
            "32/32 [==============================] - 0s 4ms/step - loss: 0.5092 - accuracy: 0.7943 - recall: 0.0000e+00 - val_loss: 0.4935 - val_accuracy: 0.8040 - val_recall: 0.0000e+00\n",
            "Epoch 4/100\n",
            "32/32 [==============================] - 0s 5ms/step - loss: 0.5010 - accuracy: 0.7944 - recall: 0.0000e+00 - val_loss: 0.4863 - val_accuracy: 0.8040 - val_recall: 0.0000e+00\n",
            "Epoch 5/100\n",
            "32/32 [==============================] - 0s 5ms/step - loss: 0.4952 - accuracy: 0.7940 - recall: 0.0000e+00 - val_loss: 0.4788 - val_accuracy: 0.8040 - val_recall: 0.0000e+00\n",
            "Epoch 6/100\n",
            "32/32 [==============================] - 0s 5ms/step - loss: 0.4889 - accuracy: 0.7939 - recall: 0.0018 - val_loss: 0.4710 - val_accuracy: 0.8035 - val_recall: 0.0000e+00\n",
            "Epoch 7/100\n",
            "32/32 [==============================] - 0s 6ms/step - loss: 0.4832 - accuracy: 0.7944 - recall: 0.0055 - val_loss: 0.4651 - val_accuracy: 0.8040 - val_recall: 0.0026\n",
            "Epoch 8/100\n",
            "32/32 [==============================] - 0s 8ms/step - loss: 0.4791 - accuracy: 0.7944 - recall: 0.0067 - val_loss: 0.4611 - val_accuracy: 0.8045 - val_recall: 0.0102\n",
            "Epoch 9/100\n",
            "32/32 [==============================] - 0s 10ms/step - loss: 0.4758 - accuracy: 0.7936 - recall: 0.0103 - val_loss: 0.4579 - val_accuracy: 0.8055 - val_recall: 0.0153\n",
            "Epoch 10/100\n",
            "32/32 [==============================] - 0s 9ms/step - loss: 0.4727 - accuracy: 0.7937 - recall: 0.0109 - val_loss: 0.4551 - val_accuracy: 0.8060 - val_recall: 0.0153\n",
            "Epoch 11/100\n",
            "32/32 [==============================] - 0s 10ms/step - loss: 0.4699 - accuracy: 0.7946 - recall: 0.0140 - val_loss: 0.4525 - val_accuracy: 0.8065 - val_recall: 0.0204\n",
            "Epoch 12/100\n",
            "32/32 [==============================] - 0s 11ms/step - loss: 0.4672 - accuracy: 0.7952 - recall: 0.0201 - val_loss: 0.4500 - val_accuracy: 0.8070 - val_recall: 0.0255\n",
            "Epoch 13/100\n",
            "32/32 [==============================] - 0s 8ms/step - loss: 0.4647 - accuracy: 0.7962 - recall: 0.0267 - val_loss: 0.4479 - val_accuracy: 0.8085 - val_recall: 0.0383\n",
            "Epoch 14/100\n",
            "32/32 [==============================] - 0s 9ms/step - loss: 0.4623 - accuracy: 0.7993 - recall: 0.0553 - val_loss: 0.4451 - val_accuracy: 0.8080 - val_recall: 0.0357\n",
            "Epoch 15/100\n",
            "32/32 [==============================] - 0s 11ms/step - loss: 0.4597 - accuracy: 0.8008 - recall: 0.0626 - val_loss: 0.4430 - val_accuracy: 0.8115 - val_recall: 0.0587\n",
            "Epoch 16/100\n",
            "32/32 [==============================] - 0s 8ms/step - loss: 0.4571 - accuracy: 0.8031 - recall: 0.0821 - val_loss: 0.4400 - val_accuracy: 0.8130 - val_recall: 0.0689\n",
            "Epoch 17/100\n",
            "32/32 [==============================] - 0s 9ms/step - loss: 0.4545 - accuracy: 0.8043 - recall: 0.0845 - val_loss: 0.4378 - val_accuracy: 0.8160 - val_recall: 0.0893\n",
            "Epoch 18/100\n",
            "32/32 [==============================] - 0s 11ms/step - loss: 0.4516 - accuracy: 0.8066 - recall: 0.0991 - val_loss: 0.4356 - val_accuracy: 0.8140 - val_recall: 0.1173\n",
            "Epoch 19/100\n",
            "32/32 [==============================] - 0s 10ms/step - loss: 0.4484 - accuracy: 0.8083 - recall: 0.1112 - val_loss: 0.4322 - val_accuracy: 0.8155 - val_recall: 0.1352\n",
            "Epoch 20/100\n",
            "32/32 [==============================] - 0s 8ms/step - loss: 0.4453 - accuracy: 0.8098 - recall: 0.1343 - val_loss: 0.4293 - val_accuracy: 0.8200 - val_recall: 0.1633\n",
            "Epoch 21/100\n",
            "32/32 [==============================] - 0s 11ms/step - loss: 0.4419 - accuracy: 0.8106 - recall: 0.1331 - val_loss: 0.4264 - val_accuracy: 0.8215 - val_recall: 0.1811\n",
            "Epoch 22/100\n",
            "32/32 [==============================] - 0s 10ms/step - loss: 0.4385 - accuracy: 0.8115 - recall: 0.1593 - val_loss: 0.4220 - val_accuracy: 0.8245 - val_recall: 0.1990\n",
            "Epoch 23/100\n",
            "32/32 [==============================] - 0s 8ms/step - loss: 0.4349 - accuracy: 0.8127 - recall: 0.1605 - val_loss: 0.4184 - val_accuracy: 0.8265 - val_recall: 0.2321\n",
            "Epoch 24/100\n",
            "32/32 [==============================] - 0s 8ms/step - loss: 0.4311 - accuracy: 0.8126 - recall: 0.1678 - val_loss: 0.4150 - val_accuracy: 0.8275 - val_recall: 0.2577\n",
            "Epoch 25/100\n",
            "32/32 [==============================] - 0s 10ms/step - loss: 0.4278 - accuracy: 0.8149 - recall: 0.1921 - val_loss: 0.4103 - val_accuracy: 0.8275 - val_recall: 0.2474\n",
            "Epoch 26/100\n",
            "32/32 [==============================] - 0s 11ms/step - loss: 0.4230 - accuracy: 0.8181 - recall: 0.2067 - val_loss: 0.4070 - val_accuracy: 0.8275 - val_recall: 0.2806\n",
            "Epoch 27/100\n",
            "32/32 [==============================] - 0s 9ms/step - loss: 0.4185 - accuracy: 0.8232 - recall: 0.2347 - val_loss: 0.4017 - val_accuracy: 0.8275 - val_recall: 0.2883\n",
            "Epoch 28/100\n",
            "32/32 [==============================] - 0s 8ms/step - loss: 0.4137 - accuracy: 0.8238 - recall: 0.2523 - val_loss: 0.3971 - val_accuracy: 0.8280 - val_recall: 0.3010\n",
            "Epoch 29/100\n",
            "32/32 [==============================] - 0s 9ms/step - loss: 0.4094 - accuracy: 0.8261 - recall: 0.2663 - val_loss: 0.3961 - val_accuracy: 0.8320 - val_recall: 0.3469\n",
            "Epoch 30/100\n",
            "32/32 [==============================] - 0s 10ms/step - loss: 0.4064 - accuracy: 0.8273 - recall: 0.2881 - val_loss: 0.3905 - val_accuracy: 0.8365 - val_recall: 0.3393\n",
            "Epoch 31/100\n",
            "32/32 [==============================] - 0s 10ms/step - loss: 0.4028 - accuracy: 0.8290 - recall: 0.2839 - val_loss: 0.3915 - val_accuracy: 0.8370 - val_recall: 0.3903\n",
            "Epoch 32/100\n",
            "32/32 [==============================] - 0s 9ms/step - loss: 0.3996 - accuracy: 0.8294 - recall: 0.2997 - val_loss: 0.3913 - val_accuracy: 0.8355 - val_recall: 0.4184\n",
            "Epoch 33/100\n",
            "32/32 [==============================] - 0s 8ms/step - loss: 0.3965 - accuracy: 0.8311 - recall: 0.3252 - val_loss: 0.3849 - val_accuracy: 0.8360 - val_recall: 0.4005\n",
            "Epoch 34/100\n",
            "32/32 [==============================] - 0s 9ms/step - loss: 0.3936 - accuracy: 0.8340 - recall: 0.3283 - val_loss: 0.3847 - val_accuracy: 0.8360 - val_recall: 0.4235\n",
            "Epoch 35/100\n",
            "32/32 [==============================] - 0s 9ms/step - loss: 0.3909 - accuracy: 0.8332 - recall: 0.3422 - val_loss: 0.3802 - val_accuracy: 0.8385 - val_recall: 0.4260\n",
            "Epoch 36/100\n",
            "32/32 [==============================] - 0s 9ms/step - loss: 0.3892 - accuracy: 0.8345 - recall: 0.3556 - val_loss: 0.3737 - val_accuracy: 0.8390 - val_recall: 0.3954\n",
            "Epoch 37/100\n",
            "32/32 [==============================] - 0s 9ms/step - loss: 0.3864 - accuracy: 0.8356 - recall: 0.3514 - val_loss: 0.3821 - val_accuracy: 0.8375 - val_recall: 0.4847\n",
            "Epoch 38/100\n",
            "32/32 [==============================] - 0s 7ms/step - loss: 0.3841 - accuracy: 0.8369 - recall: 0.3562 - val_loss: 0.3744 - val_accuracy: 0.8385 - val_recall: 0.4490\n",
            "Epoch 39/100\n",
            "32/32 [==============================] - 0s 9ms/step - loss: 0.3822 - accuracy: 0.8376 - recall: 0.3702 - val_loss: 0.3745 - val_accuracy: 0.8400 - val_recall: 0.4694\n",
            "Epoch 40/100\n",
            "32/32 [==============================] - 0s 10ms/step - loss: 0.3808 - accuracy: 0.8372 - recall: 0.3720 - val_loss: 0.3738 - val_accuracy: 0.8395 - val_recall: 0.4668\n",
            "Epoch 41/100\n",
            "32/32 [==============================] - 0s 10ms/step - loss: 0.3789 - accuracy: 0.8385 - recall: 0.3751 - val_loss: 0.3706 - val_accuracy: 0.8380 - val_recall: 0.4490\n",
            "Epoch 42/100\n",
            "32/32 [==============================] - 0s 10ms/step - loss: 0.3779 - accuracy: 0.8386 - recall: 0.3696 - val_loss: 0.3694 - val_accuracy: 0.8410 - val_recall: 0.4592\n",
            "Epoch 43/100\n",
            "32/32 [==============================] - 0s 10ms/step - loss: 0.3769 - accuracy: 0.8400 - recall: 0.3830 - val_loss: 0.3677 - val_accuracy: 0.8410 - val_recall: 0.4566\n",
            "Epoch 44/100\n",
            "32/32 [==============================] - 0s 7ms/step - loss: 0.3758 - accuracy: 0.8406 - recall: 0.3836 - val_loss: 0.3705 - val_accuracy: 0.8420 - val_recall: 0.4898\n",
            "Epoch 45/100\n",
            "32/32 [==============================] - 0s 9ms/step - loss: 0.3751 - accuracy: 0.8406 - recall: 0.3884 - val_loss: 0.3665 - val_accuracy: 0.8405 - val_recall: 0.4566\n",
            "Epoch 46/100\n",
            "32/32 [==============================] - 0s 8ms/step - loss: 0.3739 - accuracy: 0.8426 - recall: 0.3909 - val_loss: 0.3698 - val_accuracy: 0.8400 - val_recall: 0.4974\n",
            "Epoch 47/100\n",
            "32/32 [==============================] - 0s 11ms/step - loss: 0.3745 - accuracy: 0.8404 - recall: 0.3927 - val_loss: 0.3711 - val_accuracy: 0.8390 - val_recall: 0.5000\n",
            "Epoch 48/100\n",
            "32/32 [==============================] - 0s 11ms/step - loss: 0.3730 - accuracy: 0.8425 - recall: 0.3988 - val_loss: 0.3680 - val_accuracy: 0.8410 - val_recall: 0.4974\n",
            "Epoch 49/100\n",
            "32/32 [==============================] - 0s 9ms/step - loss: 0.3719 - accuracy: 0.8428 - recall: 0.3945 - val_loss: 0.3666 - val_accuracy: 0.8410 - val_recall: 0.5000\n",
            "Epoch 50/100\n",
            "32/32 [==============================] - 0s 11ms/step - loss: 0.3712 - accuracy: 0.8420 - recall: 0.4036 - val_loss: 0.3660 - val_accuracy: 0.8395 - val_recall: 0.4974\n",
            "Epoch 51/100\n",
            "32/32 [==============================] - 0s 9ms/step - loss: 0.3706 - accuracy: 0.8431 - recall: 0.4085 - val_loss: 0.3614 - val_accuracy: 0.8440 - val_recall: 0.4694\n",
            "Epoch 52/100\n",
            "32/32 [==============================] - 0s 9ms/step - loss: 0.3702 - accuracy: 0.8439 - recall: 0.4128 - val_loss: 0.3579 - val_accuracy: 0.8470 - val_recall: 0.4490\n",
            "Epoch 53/100\n",
            "32/32 [==============================] - 0s 8ms/step - loss: 0.3702 - accuracy: 0.8428 - recall: 0.4012 - val_loss: 0.3579 - val_accuracy: 0.8470 - val_recall: 0.4490\n",
            "Epoch 54/100\n",
            "32/32 [==============================] - 0s 11ms/step - loss: 0.3699 - accuracy: 0.8421 - recall: 0.4000 - val_loss: 0.3573 - val_accuracy: 0.8450 - val_recall: 0.4337\n",
            "Epoch 55/100\n",
            "32/32 [==============================] - 0s 10ms/step - loss: 0.3700 - accuracy: 0.8430 - recall: 0.3957 - val_loss: 0.3574 - val_accuracy: 0.8465 - val_recall: 0.4464\n",
            "Epoch 56/100\n",
            "32/32 [==============================] - 0s 9ms/step - loss: 0.3693 - accuracy: 0.8434 - recall: 0.4073 - val_loss: 0.3552 - val_accuracy: 0.8500 - val_recall: 0.4260\n",
            "Epoch 57/100\n",
            "32/32 [==============================] - 0s 9ms/step - loss: 0.3684 - accuracy: 0.8444 - recall: 0.4036 - val_loss: 0.3587 - val_accuracy: 0.8465 - val_recall: 0.4745\n",
            "Epoch 58/100\n",
            "32/32 [==============================] - 0s 12ms/step - loss: 0.3676 - accuracy: 0.8468 - recall: 0.4164 - val_loss: 0.3568 - val_accuracy: 0.8460 - val_recall: 0.4592\n",
            "Epoch 59/100\n",
            "32/32 [==============================] - 0s 11ms/step - loss: 0.3675 - accuracy: 0.8453 - recall: 0.4097 - val_loss: 0.3601 - val_accuracy: 0.8430 - val_recall: 0.4872\n",
            "Epoch 60/100\n",
            "32/32 [==============================] - 0s 8ms/step - loss: 0.3673 - accuracy: 0.8450 - recall: 0.4079 - val_loss: 0.3596 - val_accuracy: 0.8435 - val_recall: 0.4821\n",
            "Epoch 61/100\n",
            "32/32 [==============================] - 0s 8ms/step - loss: 0.3669 - accuracy: 0.8460 - recall: 0.4091 - val_loss: 0.3596 - val_accuracy: 0.8415 - val_recall: 0.4821\n",
            "Epoch 62/100\n",
            "32/32 [==============================] - 0s 8ms/step - loss: 0.3666 - accuracy: 0.8468 - recall: 0.4188 - val_loss: 0.3566 - val_accuracy: 0.8460 - val_recall: 0.4745\n",
            "Epoch 63/100\n",
            "32/32 [==============================] - 0s 10ms/step - loss: 0.3659 - accuracy: 0.8465 - recall: 0.4201 - val_loss: 0.3590 - val_accuracy: 0.8415 - val_recall: 0.4770\n",
            "Epoch 64/100\n",
            "32/32 [==============================] - 0s 7ms/step - loss: 0.3661 - accuracy: 0.8470 - recall: 0.4219 - val_loss: 0.3609 - val_accuracy: 0.8410 - val_recall: 0.4923\n",
            "Epoch 65/100\n",
            "32/32 [==============================] - 0s 10ms/step - loss: 0.3660 - accuracy: 0.8456 - recall: 0.4116 - val_loss: 0.3563 - val_accuracy: 0.8440 - val_recall: 0.4694\n",
            "Epoch 66/100\n",
            "32/32 [==============================] - 0s 5ms/step - loss: 0.3651 - accuracy: 0.8471 - recall: 0.4176 - val_loss: 0.3565 - val_accuracy: 0.8460 - val_recall: 0.4745\n",
            "Epoch 67/100\n",
            "32/32 [==============================] - 0s 5ms/step - loss: 0.3651 - accuracy: 0.8468 - recall: 0.4109 - val_loss: 0.3590 - val_accuracy: 0.8425 - val_recall: 0.4974\n",
            "Epoch 68/100\n",
            "32/32 [==============================] - 0s 5ms/step - loss: 0.3650 - accuracy: 0.8464 - recall: 0.4164 - val_loss: 0.3576 - val_accuracy: 0.8435 - val_recall: 0.4898\n",
            "Epoch 69/100\n",
            "32/32 [==============================] - 0s 5ms/step - loss: 0.3640 - accuracy: 0.8481 - recall: 0.4304 - val_loss: 0.3547 - val_accuracy: 0.8455 - val_recall: 0.4694\n",
            "Epoch 70/100\n",
            "32/32 [==============================] - 0s 5ms/step - loss: 0.3641 - accuracy: 0.8474 - recall: 0.4188 - val_loss: 0.3553 - val_accuracy: 0.8435 - val_recall: 0.4643\n",
            "Epoch 71/100\n",
            "32/32 [==============================] - 0s 5ms/step - loss: 0.3636 - accuracy: 0.8481 - recall: 0.4201 - val_loss: 0.3560 - val_accuracy: 0.8440 - val_recall: 0.4872\n",
            "Epoch 72/100\n",
            "32/32 [==============================] - 0s 5ms/step - loss: 0.3634 - accuracy: 0.8490 - recall: 0.4274 - val_loss: 0.3578 - val_accuracy: 0.8415 - val_recall: 0.4898\n",
            "Epoch 73/100\n",
            "32/32 [==============================] - 0s 5ms/step - loss: 0.3634 - accuracy: 0.8469 - recall: 0.4103 - val_loss: 0.3554 - val_accuracy: 0.8455 - val_recall: 0.4847\n",
            "Epoch 74/100\n",
            "32/32 [==============================] - 0s 5ms/step - loss: 0.3630 - accuracy: 0.8486 - recall: 0.4298 - val_loss: 0.3527 - val_accuracy: 0.8465 - val_recall: 0.4694\n",
            "Epoch 75/100\n",
            "32/32 [==============================] - 0s 5ms/step - loss: 0.3629 - accuracy: 0.8486 - recall: 0.4201 - val_loss: 0.3559 - val_accuracy: 0.8435 - val_recall: 0.4898\n",
            "Epoch 76/100\n",
            "32/32 [==============================] - 0s 5ms/step - loss: 0.3621 - accuracy: 0.8493 - recall: 0.4267 - val_loss: 0.3577 - val_accuracy: 0.8400 - val_recall: 0.4923\n",
            "Epoch 77/100\n",
            "32/32 [==============================] - 0s 5ms/step - loss: 0.3632 - accuracy: 0.8481 - recall: 0.4298 - val_loss: 0.3541 - val_accuracy: 0.8450 - val_recall: 0.4847\n",
            "Epoch 78/100\n",
            "32/32 [==============================] - 0s 5ms/step - loss: 0.3624 - accuracy: 0.8490 - recall: 0.4182 - val_loss: 0.3515 - val_accuracy: 0.8485 - val_recall: 0.4668\n",
            "Epoch 79/100\n",
            "32/32 [==============================] - 0s 5ms/step - loss: 0.3618 - accuracy: 0.8487 - recall: 0.4164 - val_loss: 0.3518 - val_accuracy: 0.8485 - val_recall: 0.4770\n",
            "Epoch 80/100\n",
            "32/32 [==============================] - 0s 5ms/step - loss: 0.3614 - accuracy: 0.8493 - recall: 0.4328 - val_loss: 0.3517 - val_accuracy: 0.8485 - val_recall: 0.4643\n",
            "Epoch 81/100\n",
            "32/32 [==============================] - 0s 5ms/step - loss: 0.3611 - accuracy: 0.8481 - recall: 0.4267 - val_loss: 0.3506 - val_accuracy: 0.8475 - val_recall: 0.4694\n",
            "Epoch 82/100\n",
            "32/32 [==============================] - 0s 5ms/step - loss: 0.3609 - accuracy: 0.8482 - recall: 0.4213 - val_loss: 0.3540 - val_accuracy: 0.8440 - val_recall: 0.4923\n",
            "Epoch 83/100\n",
            "32/32 [==============================] - 0s 5ms/step - loss: 0.3604 - accuracy: 0.8500 - recall: 0.4274 - val_loss: 0.3499 - val_accuracy: 0.8475 - val_recall: 0.4566\n",
            "Epoch 84/100\n",
            "32/32 [==============================] - 0s 5ms/step - loss: 0.3598 - accuracy: 0.8499 - recall: 0.4237 - val_loss: 0.3538 - val_accuracy: 0.8430 - val_recall: 0.4974\n",
            "Epoch 85/100\n",
            "32/32 [==============================] - 0s 5ms/step - loss: 0.3596 - accuracy: 0.8505 - recall: 0.4249 - val_loss: 0.3578 - val_accuracy: 0.8395 - val_recall: 0.5281\n",
            "Epoch 86/100\n",
            "32/32 [==============================] - 0s 5ms/step - loss: 0.3592 - accuracy: 0.8501 - recall: 0.4413 - val_loss: 0.3527 - val_accuracy: 0.8430 - val_recall: 0.4949\n",
            "Epoch 87/100\n",
            "32/32 [==============================] - 0s 5ms/step - loss: 0.3579 - accuracy: 0.8520 - recall: 0.4474 - val_loss: 0.3495 - val_accuracy: 0.8495 - val_recall: 0.4643\n",
            "Epoch 88/100\n",
            "32/32 [==============================] - 0s 5ms/step - loss: 0.3578 - accuracy: 0.8504 - recall: 0.4347 - val_loss: 0.3491 - val_accuracy: 0.8480 - val_recall: 0.4770\n",
            "Epoch 89/100\n",
            "32/32 [==============================] - 0s 5ms/step - loss: 0.3567 - accuracy: 0.8512 - recall: 0.4353 - val_loss: 0.3508 - val_accuracy: 0.8440 - val_recall: 0.4821\n",
            "Epoch 90/100\n",
            "32/32 [==============================] - 0s 5ms/step - loss: 0.3559 - accuracy: 0.8518 - recall: 0.4316 - val_loss: 0.3506 - val_accuracy: 0.8445 - val_recall: 0.4872\n",
            "Epoch 91/100\n",
            "32/32 [==============================] - 0s 5ms/step - loss: 0.3549 - accuracy: 0.8518 - recall: 0.4377 - val_loss: 0.3532 - val_accuracy: 0.8445 - val_recall: 0.5051\n",
            "Epoch 92/100\n",
            "32/32 [==============================] - 0s 5ms/step - loss: 0.3542 - accuracy: 0.8534 - recall: 0.4407 - val_loss: 0.3527 - val_accuracy: 0.8445 - val_recall: 0.4949\n",
            "Epoch 93/100\n",
            "32/32 [==============================] - 0s 5ms/step - loss: 0.3538 - accuracy: 0.8535 - recall: 0.4413 - val_loss: 0.3574 - val_accuracy: 0.8410 - val_recall: 0.5230\n",
            "Epoch 94/100\n",
            "32/32 [==============================] - 0s 5ms/step - loss: 0.3527 - accuracy: 0.8536 - recall: 0.4438 - val_loss: 0.3598 - val_accuracy: 0.8370 - val_recall: 0.5230\n",
            "Epoch 95/100\n",
            "32/32 [==============================] - 0s 5ms/step - loss: 0.3519 - accuracy: 0.8540 - recall: 0.4444 - val_loss: 0.3530 - val_accuracy: 0.8445 - val_recall: 0.5102\n",
            "Epoch 96/100\n",
            "32/32 [==============================] - 0s 5ms/step - loss: 0.3511 - accuracy: 0.8546 - recall: 0.4432 - val_loss: 0.3517 - val_accuracy: 0.8480 - val_recall: 0.5026\n",
            "Epoch 97/100\n",
            "32/32 [==============================] - 0s 5ms/step - loss: 0.3509 - accuracy: 0.8554 - recall: 0.4547 - val_loss: 0.3530 - val_accuracy: 0.8465 - val_recall: 0.5026\n",
            "Epoch 98/100\n",
            "32/32 [==============================] - 0s 5ms/step - loss: 0.3500 - accuracy: 0.8540 - recall: 0.4377 - val_loss: 0.3568 - val_accuracy: 0.8420 - val_recall: 0.5281\n",
            "Epoch 99/100\n",
            "32/32 [==============================] - 0s 5ms/step - loss: 0.3494 - accuracy: 0.8562 - recall: 0.4650 - val_loss: 0.3511 - val_accuracy: 0.8475 - val_recall: 0.5051\n",
            "Epoch 100/100\n",
            "32/32 [==============================] - 0s 5ms/step - loss: 0.3489 - accuracy: 0.8566 - recall: 0.4559 - val_loss: 0.3530 - val_accuracy: 0.8450 - val_recall: 0.5153\n"
          ]
        }
      ]
    },
    {
      "cell_type": "code",
      "source": [
        "# Playing with the history object\n",
        "dir(history_object)"
      ],
      "metadata": {
        "id": "iXMxLPAFgAch",
        "colab": {
          "base_uri": "https://localhost:8080/"
        },
        "outputId": "a3e17678-9941-45f3-81e3-b0f800017686"
      },
      "execution_count": 27,
      "outputs": [
        {
          "output_type": "execute_result",
          "data": {
            "text/plain": [
              "['__class__',\n",
              " '__delattr__',\n",
              " '__dict__',\n",
              " '__dir__',\n",
              " '__doc__',\n",
              " '__eq__',\n",
              " '__format__',\n",
              " '__ge__',\n",
              " '__getattribute__',\n",
              " '__gt__',\n",
              " '__hash__',\n",
              " '__init__',\n",
              " '__init_subclass__',\n",
              " '__le__',\n",
              " '__lt__',\n",
              " '__module__',\n",
              " '__ne__',\n",
              " '__new__',\n",
              " '__reduce__',\n",
              " '__reduce_ex__',\n",
              " '__repr__',\n",
              " '__setattr__',\n",
              " '__sizeof__',\n",
              " '__str__',\n",
              " '__subclasshook__',\n",
              " '__weakref__',\n",
              " '_chief_worker_only',\n",
              " '_implements_predict_batch_hooks',\n",
              " '_implements_test_batch_hooks',\n",
              " '_implements_train_batch_hooks',\n",
              " '_keras_api_names',\n",
              " '_keras_api_names_v1',\n",
              " '_supports_tf_logs',\n",
              " 'epoch',\n",
              " 'history',\n",
              " 'model',\n",
              " 'on_batch_begin',\n",
              " 'on_batch_end',\n",
              " 'on_epoch_begin',\n",
              " 'on_epoch_end',\n",
              " 'on_predict_batch_begin',\n",
              " 'on_predict_batch_end',\n",
              " 'on_predict_begin',\n",
              " 'on_predict_end',\n",
              " 'on_test_batch_begin',\n",
              " 'on_test_batch_end',\n",
              " 'on_test_begin',\n",
              " 'on_test_end',\n",
              " 'on_train_batch_begin',\n",
              " 'on_train_batch_end',\n",
              " 'on_train_begin',\n",
              " 'on_train_end',\n",
              " 'params',\n",
              " 'set_model',\n",
              " 'set_params',\n",
              " 'validation_data']"
            ]
          },
          "metadata": {},
          "execution_count": 27
        }
      ]
    },
    {
      "cell_type": "code",
      "source": [
        "hist = history_object.history\n",
        "hist.keys()"
      ],
      "metadata": {
        "colab": {
          "base_uri": "https://localhost:8080/"
        },
        "id": "v7WejKG8gAZ5",
        "outputId": "02e31c81-96cb-46be-89d9-6c9aa19c0ead"
      },
      "execution_count": 28,
      "outputs": [
        {
          "output_type": "execute_result",
          "data": {
            "text/plain": [
              "dict_keys(['loss', 'accuracy', 'recall', 'val_loss', 'val_accuracy', 'val_recall'])"
            ]
          },
          "metadata": {},
          "execution_count": 28
        }
      ]
    },
    {
      "cell_type": "code",
      "source": [
        "def history_visualizer(history_obj, keyword):\n",
        "  epochs = history_obj.epoch\n",
        "  hist = history_obj.history\n",
        "\n",
        "  train_key = keyword\n",
        "  val_key = f'val_{keyword}'\n",
        "\n",
        "  train_data = hist.get(train_key)\n",
        "  val_data = hist.get(val_key)\n",
        "\n",
        "  plt.figure(figsize = (15,8))\n",
        "  sns.lineplot(x = epochs, y = train_data)\n",
        "  sns.lineplot(x = epochs, y = val_data)\n",
        "  plt.legend(labels = [keyword.title(), val_key.title()])\n",
        "\n",
        "  plt.show()"
      ],
      "metadata": {
        "id": "noWaf7JxgAXh"
      },
      "execution_count": 29,
      "outputs": []
    },
    {
      "cell_type": "code",
      "source": [
        "history_visualizer(history_object,'loss')"
      ],
      "metadata": {
        "id": "_uFxgOGWgAU_",
        "colab": {
          "base_uri": "https://localhost:8080/",
          "height": 483
        },
        "outputId": "3ae7e586-e6c0-41d4-8b4a-8fd5ddc12c77"
      },
      "execution_count": 30,
      "outputs": [
        {
          "output_type": "display_data",
          "data": {
            "text/plain": [
              "<Figure size 1080x576 with 1 Axes>"
            ],
            "image/png": "[encoded data removed]"
          },
          "metadata": {
            "needs_background": "light"
          }
        }
      ]
    },
    {
      "cell_type": "code",
      "source": [
        "history_visualizer(history_object,'accuracy')"
      ],
      "metadata": {
        "id": "AowfoiwRgANz",
        "colab": {
          "base_uri": "https://localhost:8080/",
          "height": 483
        },
        "outputId": "4967395a-1e8f-4f46-c288-bdac0cd83693"
      },
      "execution_count": 31,
      "outputs": [
        {
          "output_type": "display_data",
          "data": {
            "text/plain": [
              "<Figure size 1080x576 with 1 Axes>"
            ],
            "image/png": "[encoded data removed]"
          },
          "metadata": {
            "needs_background": "light"
          }
        }
      ]
    },
    {
      "cell_type": "code",
      "source": [
        "history_visualizer(history_object,'recall')"
      ],
      "metadata": {
        "id": "l2lCdF56qoVd",
        "colab": {
          "base_uri": "https://localhost:8080/",
          "height": 483
        },
        "outputId": "ee3a2c85-3b2c-4260-da4e-12bfff3de2ed"
      },
      "execution_count": 32,
      "outputs": [
        {
          "output_type": "display_data",
          "data": {
            "text/plain": [
              "<Figure size 1080x576 with 1 Axes>"
            ],
            "image/png": "[encoded data removed]"
          },
          "metadata": {
            "needs_background": "light"
          }
        }
      ]
    },
    {
      "cell_type": "code",
      "source": [
        "model.summary()"
      ],
      "metadata": {
        "colab": {
          "base_uri": "https://localhost:8080/"
        },
        "id": "e0CtoC7Nj-xb",
        "outputId": "ec089e2f-fe54-4f7a-aa37-9a4a95c4be49"
      },
      "execution_count": 33,
      "outputs": [
        {
          "output_type": "stream",
          "name": "stdout",
          "text": [
            "Model: \"sequential\"\n",
            "_________________________________________________________________\n",
            " Layer (type)                Output Shape              Param #   \n",
            "=================================================================\n",
            " dense (Dense)               (None, 6)                 78        \n",
            "                                                                 \n",
            " dense_1 (Dense)             (None, 8)                 56        \n",
            "                                                                 \n",
            " dense_2 (Dense)             (None, 1)                 9         \n",
            "                                                                 \n",
            "=================================================================\n",
            "Total params: 143\n",
            "Trainable params: 143\n",
            "Non-trainable params: 0\n",
            "_________________________________________________________________\n"
          ]
        }
      ]
    },
    {
      "cell_type": "code",
      "source": [
        "[i for i in dir(model) if i.lower().__contains__('conf')]"
      ],
      "metadata": {
        "id": "UvoQ6mccj-vD",
        "colab": {
          "base_uri": "https://localhost:8080/"
        },
        "outputId": "0f2f19a8-55dc-4935-aef7-cef57cfbe238"
      },
      "execution_count": 34,
      "outputs": [
        {
          "output_type": "execute_result",
          "data": {
            "text/plain": [
              "['_configure_steps_per_execution',\n",
              " '_conform_to_reference_input',\n",
              " '_must_restore_from_config',\n",
              " '_preserve_input_structure_in_config',\n",
              " '_updated_config',\n",
              " 'from_config',\n",
              " 'get_config']"
            ]
          },
          "metadata": {},
          "execution_count": 34
        }
      ]
    },
    {
      "cell_type": "code",
      "source": [
        "model.get_config()"
      ],
      "metadata": {
        "id": "6yWaNwI0j-sf",
        "colab": {
          "base_uri": "https://localhost:8080/"
        },
        "outputId": "76a9a4c4-2f52-4e90-b5bd-327d5602b78a"
      },
      "execution_count": 35,
      "outputs": [
        {
          "output_type": "execute_result",
          "data": {
            "text/plain": [
              "{'name': 'sequential',\n",
              " 'layers': [{'class_name': 'InputLayer',\n",
              "   'config': {'batch_input_shape': (None, 12),\n",
              "    'dtype': 'float32',\n",
              "    'sparse': False,\n",
              "    'ragged': False,\n",
              "    'name': 'input_1'}},\n",
              "  {'class_name': 'Dense',\n",
              "   'config': {'name': 'dense',\n",
              "    'trainable': True,\n",
              "    'dtype': 'float32',\n",
              "    'units': 6,\n",
              "    'activation': 'relu',\n",
              "    'use_bias': True,\n",
              "    'kernel_initializer': {'class_name': 'HeUniform',\n",
              "     'config': {'seed': None}},\n",
              "    'bias_initializer': {'class_name': 'Zeros', 'config': {}},\n",
              "    'kernel_regularizer': None,\n",
              "    'bias_regularizer': None,\n",
              "    'activity_regularizer': None,\n",
              "    'kernel_constraint': None,\n",
              "    'bias_constraint': None}},\n",
              "  {'class_name': 'Dense',\n",
              "   'config': {'name': 'dense_1',\n",
              "    'trainable': True,\n",
              "    'dtype': 'float32',\n",
              "    'units': 8,\n",
              "    'activation': {'class_name': 'ELU',\n",
              "     'config': {'name': 'elu',\n",
              "      'trainable': True,\n",
              "      'dtype': 'float32',\n",
              "      'alpha': 0.949999988079071}},\n",
              "    'use_bias': True,\n",
              "    'kernel_initializer': {'class_name': 'HeUniform',\n",
              "     'config': {'seed': None}},\n",
              "    'bias_initializer': {'class_name': 'Zeros', 'config': {}},\n",
              "    'kernel_regularizer': None,\n",
              "    'bias_regularizer': None,\n",
              "    'activity_regularizer': None,\n",
              "    'kernel_constraint': None,\n",
              "    'bias_constraint': None}},\n",
              "  {'class_name': 'Dense',\n",
              "   'config': {'name': 'dense_2',\n",
              "    'trainable': True,\n",
              "    'dtype': 'float32',\n",
              "    'units': 1,\n",
              "    'activation': 'sigmoid',\n",
              "    'use_bias': True,\n",
              "    'kernel_initializer': {'class_name': 'GlorotUniform',\n",
              "     'config': {'seed': None}},\n",
              "    'bias_initializer': {'class_name': 'Zeros', 'config': {}},\n",
              "    'kernel_regularizer': None,\n",
              "    'bias_regularizer': None,\n",
              "    'activity_regularizer': None,\n",
              "    'kernel_constraint': None,\n",
              "    'bias_constraint': None}}]}"
            ]
          },
          "metadata": {},
          "execution_count": 35
        }
      ]
    },
    {
      "cell_type": "markdown",
      "source": [
        "# Saving and loading the models"
      ],
      "metadata": {
        "id": "bNO3ESJYmhQU"
      }
    },
    {
      "cell_type": "code",
      "source": [
        "# Saving the trained models\n",
        "model_weights_path = 'TrainedModels'\n",
        "os.makedirs(model_weights_path, exist_ok = True)\n",
        "\n",
        "model.save(os.path.join(model_weights_path,'base_model.tf'),save_format = 'tf')"
      ],
      "metadata": {
        "colab": {
          "base_uri": "https://localhost:8080/"
        },
        "id": "YEmGHqBgj-m-",
        "outputId": "655ac137-3d36-469d-9220-1bcf62ac2ed4"
      },
      "execution_count": 36,
      "outputs": [
        {
          "output_type": "stream",
          "name": "stderr",
          "text": [
            "WARNING:absl:Found untraced functions such as elu_layer_call_fn, elu_layer_call_and_return_conditional_losses while saving (showing 2 of 2). These functions will not be directly callable after loading.\n"
          ]
        }
      ]
    },
    {
      "cell_type": "code",
      "source": [
        "# Loading the saved models\n",
        "loaded_model = tf.keras.models.load_model(os.path.join(model_weights_path,'base_model.tf'))"
      ],
      "metadata": {
        "id": "BLHrSHDvj-p3"
      },
      "execution_count": 37,
      "outputs": []
    },
    {
      "cell_type": "code",
      "source": [
        "loaded_model.summary()"
      ],
      "metadata": {
        "colab": {
          "base_uri": "https://localhost:8080/"
        },
        "id": "akJs5M1pqJhs",
        "outputId": "c174e787-a163-4534-c0a7-aec606b92ff0"
      },
      "execution_count": 38,
      "outputs": [
        {
          "output_type": "stream",
          "name": "stdout",
          "text": [
            "Model: \"sequential\"\n",
            "_________________________________________________________________\n",
            " Layer (type)                Output Shape              Param #   \n",
            "=================================================================\n",
            " dense (Dense)               (None, 6)                 78        \n",
            "                                                                 \n",
            " dense_1 (Dense)             (None, 8)                 56        \n",
            "                                                                 \n",
            " dense_2 (Dense)             (None, 1)                 9         \n",
            "                                                                 \n",
            "=================================================================\n",
            "Total params: 143\n",
            "Trainable params: 143\n",
            "Non-trainable params: 0\n",
            "_________________________________________________________________\n"
          ]
        }
      ]
    },
    {
      "cell_type": "markdown",
      "source": [
        "# tensorflow calbacks"
      ],
      "metadata": {
        "id": "zbVPAVIQpxsr"
      }
    },
    {
      "cell_type": "code",
      "source": [
        "dir(tf.keras.callbacks)"
      ],
      "metadata": {
        "id": "KIBB5Q3FqlRL",
        "colab": {
          "base_uri": "https://localhost:8080/"
        },
        "outputId": "de7902f2-1ac4-42d5-fd06-7f268225eb17"
      },
      "execution_count": 39,
      "outputs": [
        {
          "output_type": "execute_result",
          "data": {
            "text/plain": [
              "['BackupAndRestore',\n",
              " 'BaseLogger',\n",
              " 'CSVLogger',\n",
              " 'Callback',\n",
              " 'CallbackList',\n",
              " 'EarlyStopping',\n",
              " 'History',\n",
              " 'LambdaCallback',\n",
              " 'LearningRateScheduler',\n",
              " 'ModelCheckpoint',\n",
              " 'ProgbarLogger',\n",
              " 'ReduceLROnPlateau',\n",
              " 'RemoteMonitor',\n",
              " 'TensorBoard',\n",
              " 'TerminateOnNaN',\n",
              " '__builtins__',\n",
              " '__cached__',\n",
              " '__doc__',\n",
              " '__file__',\n",
              " '__loader__',\n",
              " '__name__',\n",
              " '__package__',\n",
              " '__path__',\n",
              " '__spec__',\n",
              " '_sys',\n",
              " 'experimental']"
            ]
          },
          "metadata": {},
          "execution_count": 39
        }
      ]
    },
    {
      "cell_type": "code",
      "source": [
        "class MyCalbacks(tf.keras.callbacks.Callback):\n",
        "  def on_epoch_end(self, epochs, logs = {}):\n",
        "    if (logs.get('accuracy')>0.8) & (logs.get('val_accuracy')>0.8):\n",
        "      self.model.stop_training = True\n",
        "      print()\n",
        "      print('Condition Satisfied !')\n",
        "      print()"
      ],
      "metadata": {
        "id": "zN9xUpw6qlbr"
      },
      "execution_count": 40,
      "outputs": []
    },
    {
      "cell_type": "code",
      "source": [
        "conditional_callback = MyCalbacks()"
      ],
      "metadata": {
        "id": "IZiUj5a2qlgb"
      },
      "execution_count": 41,
      "outputs": []
    },
    {
      "cell_type": "code",
      "source": [
        "# Building the model\n",
        "\n",
        "# Instantiating ELU\n",
        "elu = tf.keras.layers.ELU(alpha = 0.95)\n",
        "\n",
        "# Instantiating the Sequential model\n",
        "model_c = tf.keras.Sequential()\n",
        "\n",
        "# Adding the input layer\n",
        "model_c.add(tf.keras.layers.Input(shape = (12,)))\n",
        "\n",
        "# Adding the hidden layers\n",
        "model_c.add(tf.keras.layers.Dense(units = 6,\n",
        "                                activation = 'relu',\n",
        "                                kernel_initializer = 'he_uniform'))\n",
        "model_c.add(tf.keras.layers.Dense(units = 8,\n",
        "                                activation = elu,\n",
        "                                kernel_initializer = 'he_uniform'))\n",
        "\n",
        "# Adding the output layer\n",
        "model_c.add(tf.keras.layers.Dense(units = 1,\n",
        "                                activation = 'sigmoid',\n",
        "                                kernel_initializer = 'glorot_uniform'))\n",
        "\n",
        "\n",
        "# Compiling the model\n",
        "model_c.compile(optimizer = 'Adam',\n",
        "                loss = 'binary_crossentropy',\n",
        "                metrics = ['accuracy','Precision','Recall'])"
      ],
      "metadata": {
        "id": "6CGR6AiBqllG"
      },
      "execution_count": 42,
      "outputs": []
    },
    {
      "cell_type": "code",
      "source": [
        "# Training the model and saving the training logs\n",
        "history_object_c = model_c.fit(x = train_x, \n",
        "                           y = train_y,\n",
        "                           batch_size = 256,\n",
        "                           epochs = 100,\n",
        "                           validation_data = (test_x, test_y),\n",
        "                           use_multiprocessing = True,\n",
        "                           workers = 20,\n",
        "                           callbacks = [conditional_callback])"
      ],
      "metadata": {
        "colab": {
          "base_uri": "https://localhost:8080/"
        },
        "id": "TG_trqjFqlp3",
        "outputId": "88ea3b3b-7951-4d2b-d6f0-d7483c8af3d7"
      },
      "execution_count": 43,
      "outputs": [
        {
          "output_type": "stream",
          "name": "stdout",
          "text": [
            "Epoch 1/100\n",
            "32/32 [==============================] - 1s 14ms/step - loss: 0.7620 - accuracy: 0.4918 - precision: 0.2146 - recall: 0.5532 - val_loss: 0.6500 - val_accuracy: 0.6070 - val_precision: 0.2249 - val_recall: 0.4107\n",
            "Epoch 2/100\n",
            "32/32 [==============================] - 0s 5ms/step - loss: 0.6070 - accuracy: 0.6708 - precision: 0.2346 - recall: 0.2657 - val_loss: 0.5477 - val_accuracy: 0.7505 - val_precision: 0.2934 - val_recall: 0.1939\n",
            "Epoch 3/100\n",
            "32/32 [==============================] - 0s 5ms/step - loss: 0.5454 - accuracy: 0.7520 - precision: 0.2636 - recall: 0.1149 - val_loss: 0.5106 - val_accuracy: 0.7820 - val_precision: 0.2800 - val_recall: 0.0714\n",
            "Epoch 4/100\n",
            "32/32 [==============================] - 0s 5ms/step - loss: 0.5227 - accuracy: 0.7816 - precision: 0.3191 - recall: 0.0547 - val_loss: 0.4962 - val_accuracy: 0.7950 - val_precision: 0.3200 - val_recall: 0.0408\n",
            "Epoch 5/100\n",
            "32/32 [==============================] - 0s 5ms/step - loss: 0.5109 - accuracy: 0.7912 - precision: 0.3984 - recall: 0.0298 - val_loss: 0.4881 - val_accuracy: 0.8000 - val_precision: 0.3462 - val_recall: 0.0230\n",
            "Epoch 6/100\n",
            "32/32 [==============================] - 0s 5ms/step - loss: 0.5030 - accuracy: 0.7930 - precision: 0.3922 - recall: 0.0122 - val_loss: 0.4824 - val_accuracy: 0.8030 - val_precision: 0.4167 - val_recall: 0.0128\n",
            "Epoch 7/100\n",
            "32/32 [==============================] - 0s 5ms/step - loss: 0.4972 - accuracy: 0.7940 - precision: 0.4651 - recall: 0.0122 - val_loss: 0.4784 - val_accuracy: 0.8035 - val_precision: 0.4615 - val_recall: 0.0153\n",
            "Epoch 8/100\n",
            "32/32 [==============================] - 0s 5ms/step - loss: 0.4928 - accuracy: 0.7945 - precision: 0.5152 - recall: 0.0103 - val_loss: 0.4746 - val_accuracy: 0.8040 - val_precision: 0.5000 - val_recall: 0.0153\n",
            "Epoch 9/100\n",
            "32/32 [==============================] - 0s 5ms/step - loss: 0.4893 - accuracy: 0.7943 - precision: 0.4898 - recall: 0.0146 - val_loss: 0.4721 - val_accuracy: 0.8065 - val_precision: 0.6000 - val_recall: 0.0383\n",
            "Epoch 10/100\n",
            "32/32 [==============================] - 0s 5ms/step - loss: 0.4863 - accuracy: 0.7958 - precision: 0.5797 - recall: 0.0243 - val_loss: 0.4691 - val_accuracy: 0.8070 - val_precision: 0.6071 - val_recall: 0.0434\n",
            "Epoch 11/100\n",
            "32/32 [==============================] - 0s 5ms/step - loss: 0.4835 - accuracy: 0.7961 - precision: 0.6000 - recall: 0.0255 - val_loss: 0.4668 - val_accuracy: 0.8090 - val_precision: 0.6471 - val_recall: 0.0561\n",
            "Epoch 12/100\n",
            "32/32 [==============================] - 0s 5ms/step - loss: 0.4810 - accuracy: 0.7966 - precision: 0.5789 - recall: 0.0401 - val_loss: 0.4644 - val_accuracy: 0.8080 - val_precision: 0.6053 - val_recall: 0.0587\n",
            "Epoch 13/100\n",
            "32/32 [==============================] - 0s 5ms/step - loss: 0.4787 - accuracy: 0.7968 - precision: 0.5736 - recall: 0.0450 - val_loss: 0.4626 - val_accuracy: 0.8080 - val_precision: 0.5769 - val_recall: 0.0765\n",
            "Epoch 14/100\n",
            "32/32 [==============================] - 0s 5ms/step - loss: 0.4767 - accuracy: 0.7976 - precision: 0.5774 - recall: 0.0590 - val_loss: 0.4604 - val_accuracy: 0.8075 - val_precision: 0.5660 - val_recall: 0.0765\n",
            "Epoch 15/100\n",
            "32/32 [==============================] - 0s 5ms/step - loss: 0.4747 - accuracy: 0.7986 - precision: 0.5955 - recall: 0.0644 - val_loss: 0.4583 - val_accuracy: 0.8060 - val_precision: 0.5333 - val_recall: 0.0816\n",
            "Epoch 16/100\n",
            "32/32 [==============================] - 0s 5ms/step - loss: 0.4727 - accuracy: 0.7985 - precision: 0.5813 - recall: 0.0717 - val_loss: 0.4563 - val_accuracy: 0.8065 - val_precision: 0.5352 - val_recall: 0.0969\n",
            "Epoch 17/100\n",
            "32/32 [==============================] - 0s 5ms/step - loss: 0.4709 - accuracy: 0.7976 - precision: 0.5542 - recall: 0.0809 - val_loss: 0.4545 - val_accuracy: 0.8075 - val_precision: 0.5467 - val_recall: 0.1046\n",
            "Epoch 18/100\n",
            "32/32 [==============================] - 0s 5ms/step - loss: 0.4691 - accuracy: 0.7977 - precision: 0.5579 - recall: 0.0790 - val_loss: 0.4531 - val_accuracy: 0.8130 - val_precision: 0.6071 - val_recall: 0.1301\n",
            "Epoch 19/100\n",
            "32/32 [==============================] - 0s 5ms/step - loss: 0.4674 - accuracy: 0.7996 - precision: 0.5795 - recall: 0.0930 - val_loss: 0.4517 - val_accuracy: 0.8125 - val_precision: 0.5859 - val_recall: 0.1480\n",
            "Epoch 20/100\n",
            "27/32 [========================>.....] - ETA: 0s - loss: 0.4664 - accuracy: 0.8008 - precision: 0.6000 - recall: 0.0929\n",
            "Condition Satisfied !\n",
            "\n",
            "32/32 [==============================] - 0s 5ms/step - loss: 0.4656 - accuracy: 0.8004 - precision: 0.5902 - recall: 0.0954 - val_loss: 0.4496 - val_accuracy: 0.8130 - val_precision: 0.5882 - val_recall: 0.1531\n"
          ]
        }
      ]
    },
    {
      "cell_type": "code",
      "source": [
        "history_object_c.epoch"
      ],
      "metadata": {
        "colab": {
          "base_uri": "https://localhost:8080/"
        },
        "id": "sEZ8ii2fqly4",
        "outputId": "6f921c93-09b2-4120-cab0-7661b48c83a8"
      },
      "execution_count": 44,
      "outputs": [
        {
          "output_type": "execute_result",
          "data": {
            "text/plain": [
              "[0, 1, 2, 3, 4, 5, 6, 7, 8, 9, 10, 11, 12, 13, 14, 15, 16, 17, 18, 19]"
            ]
          },
          "metadata": {},
          "execution_count": 44
        }
      ]
    },
    {
      "cell_type": "code",
      "source": [
        "history_visualizer(history_object_c,'loss')"
      ],
      "metadata": {
        "id": "zhNy72vIql3R",
        "colab": {
          "base_uri": "https://localhost:8080/",
          "height": 483
        },
        "outputId": "ed3babb7-193c-4b71-fe97-d243125a0ce4"
      },
      "execution_count": 45,
      "outputs": [
        {
          "output_type": "display_data",
          "data": {
            "text/plain": [
              "<Figure size 1080x576 with 1 Axes>"
            ],
            "image/png": "[encoded data removed]"
          },
          "metadata": {
            "needs_background": "light"
          }
        }
      ]
    },
    {
      "cell_type": "code",
      "source": [
        "history_visualizer(history_object_c,'accuracy')"
      ],
      "metadata": {
        "id": "pi6z_ucxql71",
        "colab": {
          "base_uri": "https://localhost:8080/",
          "height": 483
        },
        "outputId": "7f4717f8-0d57-45fc-e30a-f682b48d316a"
      },
      "execution_count": 46,
      "outputs": [
        {
          "output_type": "display_data",
          "data": {
            "text/plain": [
              "<Figure size 1080x576 with 1 Axes>"
            ],
            "image/png": "[encoded data removed]"
          },
          "metadata": {
            "needs_background": "light"
          }
        }
      ]
    },
    {
      "cell_type": "code",
      "source": [
        "history_visualizer(history_object_c,'precision')"
      ],
      "metadata": {
        "id": "FY-9lrzeuAOQ",
        "colab": {
          "base_uri": "https://localhost:8080/",
          "height": 483
        },
        "outputId": "f280c2e6-399f-4003-e395-3c803620e6f3"
      },
      "execution_count": 47,
      "outputs": [
        {
          "output_type": "display_data",
          "data": {
            "text/plain": [
              "<Figure size 1080x576 with 1 Axes>"
            ],
            "image/png": "[encoded data removed]"
          },
          "metadata": {
            "needs_background": "light"
          }
        }
      ]
    },
    {
      "cell_type": "code",
      "source": [
        "history_visualizer(history_object_c,'recall')"
      ],
      "metadata": {
        "id": "cChe1sdpuEHN",
        "colab": {
          "base_uri": "https://localhost:8080/",
          "height": 483
        },
        "outputId": "40fc11c0-9d70-46d6-903f-5608a00abc53"
      },
      "execution_count": 48,
      "outputs": [
        {
          "output_type": "display_data",
          "data": {
            "text/plain": [
              "<Figure size 1080x576 with 1 Axes>"
            ],
            "image/png": "[encoded data removed]"
          },
          "metadata": {
            "needs_background": "light"
          }
        }
      ]
    },
    {
      "cell_type": "code",
      "source": [
        "# Early Stopper Callbacks\n",
        "EarlyStopper = tf.keras.callbacks.EarlyStopping(monitor = 'accuracy', patience = 5)\n",
        "\n",
        "# Conditional callback\n",
        "class MyCallbacks(tf.keras.callbacks.Callback):\n",
        "  def on_epoch_end(self, epochs, logs = {}):\n",
        "    if (logs.get('accuracy')>0.94) & (logs.get('val_accuracy')>0.94):\n",
        "      self.model.stop_training = True\n",
        "      print()\n",
        "      print('Condition Satisfied !')\n",
        "      print()\n",
        "\n",
        "cond_callback2 = MyCallbacks()"
      ],
      "metadata": {
        "id": "7NA8TWK4uGQV"
      },
      "execution_count": 49,
      "outputs": []
    },
    {
      "cell_type": "code",
      "source": [
        "# Building the model\n",
        "\n",
        "# Instantiating ELU\n",
        "elu = tf.keras.layers.ELU(alpha = 0.95)\n",
        "\n",
        "# Instantiating the Sequential model\n",
        "model_es = tf.keras.Sequential()\n",
        "\n",
        "# Adding the input layer\n",
        "model_es.add(tf.keras.layers.Input(shape = (12,)))\n",
        "\n",
        "# Adding the hidden layers\n",
        "model_es.add(tf.keras.layers.Dense(units = 6,\n",
        "                                activation = 'relu',\n",
        "                                kernel_initializer = 'he_uniform'))\n",
        "model_es.add(tf.keras.layers.Dense(units = 8,\n",
        "                                activation = elu,\n",
        "                                kernel_initializer = 'he_uniform'))\n",
        "\n",
        "# Adding the output layer\n",
        "model_es.add(tf.keras.layers.Dense(units = 1,\n",
        "                                activation = 'sigmoid',\n",
        "                                kernel_initializer = 'glorot_uniform'))\n",
        "\n",
        "\n",
        "# Compiling the model\n",
        "model_es.compile(optimizer = 'rmsprop',\n",
        "                loss = 'binary_crossentropy',\n",
        "                metrics = ['accuracy','Precision','Recall'])"
      ],
      "metadata": {
        "id": "La2cuHvyulh_"
      },
      "execution_count": 50,
      "outputs": []
    },
    {
      "cell_type": "code",
      "source": [
        "# Training the model and saving the training logs\n",
        "history_object_es = model_es.fit(x = train_x, \n",
        "                           y = train_y,\n",
        "                           batch_size = 256,\n",
        "                           epochs = 500,\n",
        "                           validation_data = (test_x, test_y),\n",
        "                           use_multiprocessing = True,\n",
        "                           workers = 20,\n",
        "                           callbacks = [EarlyStopper,cond_callback2])"
      ],
      "metadata": {
        "colab": {
          "base_uri": "https://localhost:8080/"
        },
        "id": "L9FLXkN9umg3",
        "outputId": "5aa5d284-f02b-42ee-bfd0-2c85819e168a"
      },
      "execution_count": 51,
      "outputs": [
        {
          "output_type": "stream",
          "name": "stdout",
          "text": [
            "Epoch 1/500\n",
            "32/32 [==============================] - 2s 16ms/step - loss: 0.5091 - accuracy: 0.7941 - precision: 0.0000e+00 - recall: 0.0000e+00 - val_loss: 0.4914 - val_accuracy: 0.8040 - val_precision: 0.0000e+00 - val_recall: 0.0000e+00\n",
            "Epoch 2/500\n",
            "32/32 [==============================] - 0s 6ms/step - loss: 0.5009 - accuracy: 0.7944 - precision: 0.0000e+00 - recall: 0.0000e+00 - val_loss: 0.4860 - val_accuracy: 0.8030 - val_precision: 0.0000e+00 - val_recall: 0.0000e+00\n",
            "Epoch 3/500\n",
            "32/32 [==============================] - 0s 5ms/step - loss: 0.4961 - accuracy: 0.7943 - precision: 0.0000e+00 - recall: 0.0000e+00 - val_loss: 0.4815 - val_accuracy: 0.8030 - val_precision: 0.0000e+00 - val_recall: 0.0000e+00\n",
            "Epoch 4/500\n",
            "32/32 [==============================] - 0s 5ms/step - loss: 0.4922 - accuracy: 0.7937 - precision: 0.2222 - recall: 0.0012 - val_loss: 0.4776 - val_accuracy: 0.8025 - val_precision: 0.0000e+00 - val_recall: 0.0000e+00\n",
            "Epoch 5/500\n",
            "32/32 [==============================] - 0s 5ms/step - loss: 0.4887 - accuracy: 0.7931 - precision: 0.2727 - recall: 0.0036 - val_loss: 0.4746 - val_accuracy: 0.8025 - val_precision: 0.0000e+00 - val_recall: 0.0000e+00\n",
            "Epoch 6/500\n",
            "32/32 [==============================] - 0s 5ms/step - loss: 0.4864 - accuracy: 0.7929 - precision: 0.2692 - recall: 0.0043 - val_loss: 0.4726 - val_accuracy: 0.8030 - val_precision: 0.3750 - val_recall: 0.0077\n",
            "Epoch 7/500\n",
            "32/32 [==============================] - 0s 6ms/step - loss: 0.4842 - accuracy: 0.7926 - precision: 0.3333 - recall: 0.0085 - val_loss: 0.4715 - val_accuracy: 0.8010 - val_precision: 0.3500 - val_recall: 0.0179\n"
          ]
        }
      ]
    },
    {
      "cell_type": "code",
      "source": [
        "!pip install keras-tuner"
      ],
      "metadata": {
        "id": "X319uO8iYWY2",
        "outputId": "b36867bf-8bcc-4ff7-a021-2c312e74701d",
        "colab": {
          "base_uri": "https://localhost:8080/"
        }
      },
      "execution_count": 54,
      "outputs": [
        {
          "output_type": "stream",
          "name": "stdout",
          "text": [
            "Looking in indexes: https://pypi.org/simple, https://us-python.pkg.dev/colab-wheels/public/simple/\n",
            "Collecting keras-tuner\n",
            "  Downloading keras_tuner-1.1.3-py3-none-any.whl (135 kB)\n",
            "\u001b[K     |████████████████████████████████| 135 kB 5.0 MB/s \n",
            "\u001b[?25hRequirement already satisfied: packaging in /usr/local/lib/python3.7/dist-packages (from keras-tuner) (21.3)\n",
            "Requirement already satisfied: numpy in /usr/local/lib/python3.7/dist-packages (from keras-tuner) (1.21.6)\n",
            "Requirement already satisfied: tensorboard in /usr/local/lib/python3.7/dist-packages (from keras-tuner) (2.8.0)\n",
            "Requirement already satisfied: ipython in /usr/local/lib/python3.7/dist-packages (from keras-tuner) (7.9.0)\n",
            "Collecting kt-legacy\n",
            "  Downloading kt_legacy-1.0.4-py3-none-any.whl (9.6 kB)\n",
            "Requirement already satisfied: requests in /usr/local/lib/python3.7/dist-packages (from keras-tuner) (2.23.0)\n",
            "Requirement already satisfied: setuptools>=18.5 in /usr/local/lib/python3.7/dist-packages (from ipython->keras-tuner) (57.4.0)\n",
            "Requirement already satisfied: prompt-toolkit<2.1.0,>=2.0.0 in /usr/local/lib/python3.7/dist-packages (from ipython->keras-tuner) (2.0.10)\n",
            "Requirement already satisfied: pygments in /usr/local/lib/python3.7/dist-packages (from ipython->keras-tuner) (2.6.1)\n",
            "Collecting jedi>=0.10\n",
            "  Downloading jedi-0.18.1-py2.py3-none-any.whl (1.6 MB)\n",
            "\u001b[K     |████████████████████████████████| 1.6 MB 43.2 MB/s \n",
            "\u001b[?25hRequirement already satisfied: decorator in /usr/local/lib/python3.7/dist-packages (from ipython->keras-tuner) (4.4.2)\n",
            "Requirement already satisfied: pexpect in /usr/local/lib/python3.7/dist-packages (from ipython->keras-tuner) (4.8.0)\n",
            "Requirement already satisfied: traitlets>=4.2 in /usr/local/lib/python3.7/dist-packages (from ipython->keras-tuner) (5.1.1)\n",
            "Requirement already satisfied: pickleshare in /usr/local/lib/python3.7/dist-packages (from ipython->keras-tuner) (0.7.5)\n",
            "Requirement already satisfied: backcall in /usr/local/lib/python3.7/dist-packages (from ipython->keras-tuner) (0.2.0)\n",
            "Requirement already satisfied: parso<0.9.0,>=0.8.0 in /usr/local/lib/python3.7/dist-packages (from jedi>=0.10->ipython->keras-tuner) (0.8.3)\n",
            "Requirement already satisfied: wcwidth in /usr/local/lib/python3.7/dist-packages (from prompt-toolkit<2.1.0,>=2.0.0->ipython->keras-tuner) (0.2.5)\n",
            "Requirement already satisfied: six>=1.9.0 in /usr/local/lib/python3.7/dist-packages (from prompt-toolkit<2.1.0,>=2.0.0->ipython->keras-tuner) (1.15.0)\n",
            "Requirement already satisfied: pyparsing!=3.0.5,>=2.0.2 in /usr/local/lib/python3.7/dist-packages (from packaging->keras-tuner) (3.0.9)\n",
            "Requirement already satisfied: ptyprocess>=0.5 in /usr/local/lib/python3.7/dist-packages (from pexpect->ipython->keras-tuner) (0.7.0)\n",
            "Requirement already satisfied: idna<3,>=2.5 in /usr/local/lib/python3.7/dist-packages (from requests->keras-tuner) (2.10)\n",
            "Requirement already satisfied: chardet<4,>=3.0.2 in /usr/local/lib/python3.7/dist-packages (from requests->keras-tuner) (3.0.4)\n",
            "Requirement already satisfied: certifi>=2017.4.17 in /usr/local/lib/python3.7/dist-packages (from requests->keras-tuner) (2022.6.15)\n",
            "Requirement already satisfied: urllib3!=1.25.0,!=1.25.1,<1.26,>=1.21.1 in /usr/local/lib/python3.7/dist-packages (from requests->keras-tuner) (1.24.3)\n",
            "Requirement already satisfied: google-auth-oauthlib<0.5,>=0.4.1 in /usr/local/lib/python3.7/dist-packages (from tensorboard->keras-tuner) (0.4.6)\n",
            "Requirement already satisfied: werkzeug>=0.11.15 in /usr/local/lib/python3.7/dist-packages (from tensorboard->keras-tuner) (1.0.1)\n",
            "Requirement already satisfied: protobuf>=3.6.0 in /usr/local/lib/python3.7/dist-packages (from tensorboard->keras-tuner) (3.17.3)\n",
            "Requirement already satisfied: wheel>=0.26 in /usr/local/lib/python3.7/dist-packages (from tensorboard->keras-tuner) (0.37.1)\n",
            "Requirement already satisfied: tensorboard-plugin-wit>=1.6.0 in /usr/local/lib/python3.7/dist-packages (from tensorboard->keras-tuner) (1.8.1)\n",
            "Requirement already satisfied: markdown>=2.6.8 in /usr/local/lib/python3.7/dist-packages (from tensorboard->keras-tuner) (3.4.1)\n",
            "Requirement already satisfied: grpcio>=1.24.3 in /usr/local/lib/python3.7/dist-packages (from tensorboard->keras-tuner) (1.47.0)\n",
            "Requirement already satisfied: google-auth<3,>=1.6.3 in /usr/local/lib/python3.7/dist-packages (from tensorboard->keras-tuner) (1.35.0)\n",
            "Requirement already satisfied: tensorboard-data-server<0.7.0,>=0.6.0 in /usr/local/lib/python3.7/dist-packages (from tensorboard->keras-tuner) (0.6.1)\n",
            "Requirement already satisfied: absl-py>=0.4 in /usr/local/lib/python3.7/dist-packages (from tensorboard->keras-tuner) (1.2.0)\n",
            "Requirement already satisfied: cachetools<5.0,>=2.0.0 in /usr/local/lib/python3.7/dist-packages (from google-auth<3,>=1.6.3->tensorboard->keras-tuner) (4.2.4)\n",
            "Requirement already satisfied: pyasn1-modules>=0.2.1 in /usr/local/lib/python3.7/dist-packages (from google-auth<3,>=1.6.3->tensorboard->keras-tuner) (0.2.8)\n",
            "Requirement already satisfied: rsa<5,>=3.1.4 in /usr/local/lib/python3.7/dist-packages (from google-auth<3,>=1.6.3->tensorboard->keras-tuner) (4.9)\n",
            "Requirement already satisfied: requests-oauthlib>=0.7.0 in /usr/local/lib/python3.7/dist-packages (from google-auth-oauthlib<0.5,>=0.4.1->tensorboard->keras-tuner) (1.3.1)\n",
            "Requirement already satisfied: importlib-metadata>=4.4 in /usr/local/lib/python3.7/dist-packages (from markdown>=2.6.8->tensorboard->keras-tuner) (4.12.0)\n",
            "Requirement already satisfied: zipp>=0.5 in /usr/local/lib/python3.7/dist-packages (from importlib-metadata>=4.4->markdown>=2.6.8->tensorboard->keras-tuner) (3.8.1)\n",
            "Requirement already satisfied: typing-extensions>=3.6.4 in /usr/local/lib/python3.7/dist-packages (from importlib-metadata>=4.4->markdown>=2.6.8->tensorboard->keras-tuner) (4.1.1)\n",
            "Requirement already satisfied: pyasn1<0.5.0,>=0.4.6 in /usr/local/lib/python3.7/dist-packages (from pyasn1-modules>=0.2.1->google-auth<3,>=1.6.3->tensorboard->keras-tuner) (0.4.8)\n",
            "Requirement already satisfied: oauthlib>=3.0.0 in /usr/local/lib/python3.7/dist-packages (from requests-oauthlib>=0.7.0->google-auth-oauthlib<0.5,>=0.4.1->tensorboard->keras-tuner) (3.2.0)\n",
            "Installing collected packages: jedi, kt-legacy, keras-tuner\n",
            "Successfully installed jedi-0.18.1 keras-tuner-1.1.3 kt-legacy-1.0.4\n"
          ]
        }
      ]
    },
    {
      "cell_type": "code",
      "source": [
        "from keras_tuner.tuners import RandomSearch"
      ],
      "metadata": {
        "id": "LkN6z_k4w25B"
      },
      "execution_count": 55,
      "outputs": []
    },
    {
      "cell_type": "code",
      "source": [
        "# RandomSearch -> hypermodel\n",
        "# hypermodel >> function that would be generating and compiling the entire model for us\n",
        "\n",
        "# Datatypes for hyperparameter tuning\n",
        "# Int > for tuning from a range of elements/numbers.  eg. range(5,15)\n",
        "#------------syntax : hyp_key.Int('keyword specifying the purpose of this data',min_value, max_value, step)\n",
        "# Choice > for tuning from a list of elements.     eg. [he_uniform, he_normal, glorot_unoform, glorot_normal]\n",
        "#------------syntax : hyp_key.Choice('keyword specifying the purpose of this data',[list of elements])"
      ],
      "metadata": {
        "id": "sK4TBiQTw3IE"
      },
      "execution_count": null,
      "outputs": []
    },
    {
      "cell_type": "code",
      "source": [],
      "metadata": {
        "id": "FwKh61Zo8CGS"
      },
      "execution_count": null,
      "outputs": []
    },
    {
      "cell_type": "code",
      "source": [
        "def hypermodel(hyp_key):\n",
        "  model_ = tf.keras.Sequential()\n",
        "\n",
        "  model_.add(tf.keras.layers.Input(shape = (12,)))\n",
        "  \n",
        "  for i in range(hyp_key.Int('number of hidden layers', 1,7)):\n",
        "    model_.add(tf.keras.layers.Dense(units = hyp_key.Int(f'number of neurons in hidden layer # {i}',4,13), \n",
        "                                     activation = hyp_key.Choice(f'activation function for hidden layer # {i}',['relu','elu','sigmoid']), \n",
        "                                     kernel_initializer = hyp_key.Choice(f'kernel_initializer for hidden layer # {i}',['he_normal','he_uniform','glorot_normal','glorot_uniform'])))\n",
        "  \n",
        "  model_.add(tf.keras.layers.Dense(units = 1, \n",
        "                                   activation = 'sigmoid', \n",
        "                                   kernel_initializer = hyp_key.Choice(f'kernel_initializer for output layer',['he_normal','he_uniform','glorot_normal','glorot_uniform'])))\n",
        "\n",
        "  model_.compile(optimizer = hyp_key.Choice('Optimizer function',['Adam','rmsprop']),\n",
        "                loss = 'binary_crossentropy',\n",
        "                metrics = ['accuracy', 'Precision', 'Recall'])\n",
        "  \n",
        "  return model_"
      ],
      "metadata": {
        "id": "ux1kIkxtw3NJ"
      },
      "execution_count": 56,
      "outputs": []
    },
    {
      "cell_type": "code",
      "source": [
        "# Generating the tuner object\n",
        "tuner_obj = RandomSearch(hypermodel = hypermodel,\n",
        "                         objective = 'accuracy',\n",
        "                         max_trials = 20,\n",
        "                         seed = 64)"
      ],
      "metadata": {
        "id": "OXpNu1yAwiuk"
      },
      "execution_count": 57,
      "outputs": []
    },
    {
      "cell_type": "code",
      "source": [
        "# validating the search space summary of the tuner object\n",
        "tuner_obj.search_space_summary()"
      ],
      "metadata": {
        "colab": {
          "base_uri": "https://localhost:8080/"
        },
        "id": "Jkc-eD477INH",
        "outputId": "51817164-5668-4993-de06-483cc96dd5ec"
      },
      "execution_count": 58,
      "outputs": [
        {
          "output_type": "stream",
          "name": "stdout",
          "text": [
            "Search space summary\n",
            "Default search space size: 6\n",
            "number of hidden layers (Int)\n",
            "{'default': None, 'conditions': [], 'min_value': 1, 'max_value': 7, 'step': 1, 'sampling': None}\n",
            "number of neurons in hidden layer # 0 (Int)\n",
            "{'default': None, 'conditions': [], 'min_value': 4, 'max_value': 13, 'step': 1, 'sampling': None}\n",
            "activation function for hidden layer # 0 (Choice)\n",
            "{'default': 'relu', 'conditions': [], 'values': ['relu', 'elu', 'sigmoid'], 'ordered': False}\n",
            "kernel_initializer for hidden layer # 0 (Choice)\n",
            "{'default': 'he_normal', 'conditions': [], 'values': ['he_normal', 'he_uniform', 'glorot_normal', 'glorot_uniform'], 'ordered': False}\n",
            "kernel_initializer for output layer (Choice)\n",
            "{'default': 'he_normal', 'conditions': [], 'values': ['he_normal', 'he_uniform', 'glorot_normal', 'glorot_uniform'], 'ordered': False}\n",
            "Optimizer function (Choice)\n",
            "{'default': 'Adam', 'conditions': [], 'values': ['Adam', 'rmsprop'], 'ordered': False}\n"
          ]
        }
      ]
    },
    {
      "cell_type": "code",
      "source": [
        "# Finding the best model\n",
        "tuner_obj.search(train_x,\n",
        "                 train_y,\n",
        "                 batch_size = 64)"
      ],
      "metadata": {
        "colab": {
          "base_uri": "https://localhost:8080/"
        },
        "id": "PwaLJVMl-GBO",
        "outputId": "8be3742a-b6d4-48d9-9817-9e48e8e63bb8"
      },
      "execution_count": 59,
      "outputs": [
        {
          "output_type": "stream",
          "name": "stdout",
          "text": [
            "Trial 20 Complete [00h 00m 02s]\n",
            "accuracy: 0.7731249928474426\n",
            "\n",
            "Best accuracy So Far: 0.7943750023841858\n",
            "Total elapsed time: 00h 00m 33s\n"
          ]
        }
      ]
    },
    {
      "cell_type": "code",
      "source": [
        "dir(tuner_obj)"
      ],
      "metadata": {
        "colab": {
          "base_uri": "https://localhost:8080/"
        },
        "id": "cQ36xgjz-9Qy",
        "outputId": "d17d7145-a427-429d-f61a-ac4c5d7bf2f4"
      },
      "execution_count": 60,
      "outputs": [
        {
          "output_type": "execute_result",
          "data": {
            "text/plain": [
              "['__class__',\n",
              " '__delattr__',\n",
              " '__dict__',\n",
              " '__dir__',\n",
              " '__doc__',\n",
              " '__eq__',\n",
              " '__format__',\n",
              " '__ge__',\n",
              " '__getattribute__',\n",
              " '__gt__',\n",
              " '__hash__',\n",
              " '__init__',\n",
              " '__init_subclass__',\n",
              " '__le__',\n",
              " '__lt__',\n",
              " '__module__',\n",
              " '__ne__',\n",
              " '__new__',\n",
              " '__reduce__',\n",
              " '__reduce_ex__',\n",
              " '__repr__',\n",
              " '__setattr__',\n",
              " '__sizeof__',\n",
              " '__str__',\n",
              " '__subclasshook__',\n",
              " '__weakref__',\n",
              " '_build_and_fit_model',\n",
              " '_build_hypermodel',\n",
              " '_configure_tensorboard_dir',\n",
              " '_deepcopy_callbacks',\n",
              " '_display',\n",
              " '_get_checkpoint_fname',\n",
              " '_get_tensorboard_dir',\n",
              " '_get_tuner_fname',\n",
              " '_override_compile_args',\n",
              " '_populate_initial_space',\n",
              " '_save_n_checkpoints',\n",
              " '_try_build',\n",
              " 'directory',\n",
              " 'distribution_strategy',\n",
              " 'executions_per_trial',\n",
              " 'get_best_hyperparameters',\n",
              " 'get_best_models',\n",
              " 'get_state',\n",
              " 'get_trial_dir',\n",
              " 'hypermodel',\n",
              " 'load_model',\n",
              " 'logger',\n",
              " 'loss',\n",
              " 'max_model_size',\n",
              " 'metrics',\n",
              " 'on_batch_begin',\n",
              " 'on_batch_end',\n",
              " 'on_epoch_begin',\n",
              " 'on_epoch_end',\n",
              " 'on_search_begin',\n",
              " 'on_search_end',\n",
              " 'on_trial_begin',\n",
              " 'on_trial_end',\n",
              " 'optimizer',\n",
              " 'oracle',\n",
              " 'pre_create_trial',\n",
              " 'project_dir',\n",
              " 'project_name',\n",
              " 'reload',\n",
              " 'remaining_trials',\n",
              " 'results_summary',\n",
              " 'run_trial',\n",
              " 'save',\n",
              " 'save_model',\n",
              " 'search',\n",
              " 'search_space_summary',\n",
              " 'seed',\n",
              " 'set_state',\n",
              " 'tuner_id']"
            ]
          },
          "metadata": {},
          "execution_count": 60
        }
      ]
    },
    {
      "cell_type": "code",
      "source": [
        "tuner_obj.results_summary()"
      ],
      "metadata": {
        "id": "eO0DNuoK_hgV",
        "colab": {
          "base_uri": "https://localhost:8080/"
        },
        "outputId": "bd64e003-449d-45a4-cac5-07ff61a7c04b"
      },
      "execution_count": 61,
      "outputs": [
        {
          "output_type": "stream",
          "name": "stdout",
          "text": [
            "Results summary\n",
            "Results in ./untitled_project\n",
            "Showing 10 best trials\n",
            "<keras_tuner.engine.objective.Objective object at 0x7feb149c5e50>\n",
            "Trial summary\n",
            "Hyperparameters:\n",
            "number of hidden layers: 3\n",
            "number of neurons in hidden layer # 0: 5\n",
            "activation function for hidden layer # 0: elu\n",
            "kernel_initializer for hidden layer # 0: glorot_uniform\n",
            "kernel_initializer for output layer: glorot_uniform\n",
            "Optimizer function: rmsprop\n",
            "number of neurons in hidden layer # 1: 6\n",
            "activation function for hidden layer # 1: sigmoid\n",
            "kernel_initializer for hidden layer # 1: glorot_uniform\n",
            "number of neurons in hidden layer # 2: 10\n",
            "activation function for hidden layer # 2: sigmoid\n",
            "kernel_initializer for hidden layer # 2: glorot_uniform\n",
            "number of neurons in hidden layer # 3: 5\n",
            "activation function for hidden layer # 3: sigmoid\n",
            "kernel_initializer for hidden layer # 3: he_normal\n",
            "number of neurons in hidden layer # 4: 9\n",
            "activation function for hidden layer # 4: relu\n",
            "kernel_initializer for hidden layer # 4: he_normal\n",
            "number of neurons in hidden layer # 5: 6\n",
            "activation function for hidden layer # 5: relu\n",
            "kernel_initializer for hidden layer # 5: he_normal\n",
            "Score: 0.7943750023841858\n",
            "Trial summary\n",
            "Hyperparameters:\n",
            "number of hidden layers: 4\n",
            "number of neurons in hidden layer # 0: 8\n",
            "activation function for hidden layer # 0: relu\n",
            "kernel_initializer for hidden layer # 0: glorot_normal\n",
            "kernel_initializer for output layer: he_normal\n",
            "Optimizer function: Adam\n",
            "number of neurons in hidden layer # 1: 13\n",
            "activation function for hidden layer # 1: elu\n",
            "kernel_initializer for hidden layer # 1: glorot_normal\n",
            "number of neurons in hidden layer # 2: 11\n",
            "activation function for hidden layer # 2: relu\n",
            "kernel_initializer for hidden layer # 2: he_normal\n",
            "number of neurons in hidden layer # 3: 7\n",
            "activation function for hidden layer # 3: relu\n",
            "kernel_initializer for hidden layer # 3: he_uniform\n",
            "number of neurons in hidden layer # 4: 8\n",
            "activation function for hidden layer # 4: elu\n",
            "kernel_initializer for hidden layer # 4: he_uniform\n",
            "number of neurons in hidden layer # 5: 9\n",
            "activation function for hidden layer # 5: sigmoid\n",
            "kernel_initializer for hidden layer # 5: he_normal\n",
            "Score: 0.7943750023841858\n",
            "Trial summary\n",
            "Hyperparameters:\n",
            "number of hidden layers: 6\n",
            "number of neurons in hidden layer # 0: 5\n",
            "activation function for hidden layer # 0: sigmoid\n",
            "kernel_initializer for hidden layer # 0: he_uniform\n",
            "kernel_initializer for output layer: glorot_normal\n",
            "Optimizer function: rmsprop\n",
            "number of neurons in hidden layer # 1: 8\n",
            "activation function for hidden layer # 1: sigmoid\n",
            "kernel_initializer for hidden layer # 1: he_normal\n",
            "number of neurons in hidden layer # 2: 5\n",
            "activation function for hidden layer # 2: relu\n",
            "kernel_initializer for hidden layer # 2: glorot_uniform\n",
            "number of neurons in hidden layer # 3: 10\n",
            "activation function for hidden layer # 3: relu\n",
            "kernel_initializer for hidden layer # 3: he_normal\n",
            "number of neurons in hidden layer # 4: 9\n",
            "activation function for hidden layer # 4: elu\n",
            "kernel_initializer for hidden layer # 4: he_uniform\n",
            "number of neurons in hidden layer # 5: 9\n",
            "activation function for hidden layer # 5: relu\n",
            "kernel_initializer for hidden layer # 5: glorot_uniform\n",
            "Score: 0.7943750023841858\n",
            "Trial summary\n",
            "Hyperparameters:\n",
            "number of hidden layers: 6\n",
            "number of neurons in hidden layer # 0: 5\n",
            "activation function for hidden layer # 0: relu\n",
            "kernel_initializer for hidden layer # 0: he_uniform\n",
            "kernel_initializer for output layer: glorot_normal\n",
            "Optimizer function: Adam\n",
            "number of neurons in hidden layer # 1: 11\n",
            "activation function for hidden layer # 1: sigmoid\n",
            "kernel_initializer for hidden layer # 1: he_normal\n",
            "number of neurons in hidden layer # 2: 4\n",
            "activation function for hidden layer # 2: elu\n",
            "kernel_initializer for hidden layer # 2: glorot_normal\n",
            "number of neurons in hidden layer # 3: 5\n",
            "activation function for hidden layer # 3: elu\n",
            "kernel_initializer for hidden layer # 3: he_normal\n",
            "number of neurons in hidden layer # 4: 4\n",
            "activation function for hidden layer # 4: elu\n",
            "kernel_initializer for hidden layer # 4: he_uniform\n",
            "number of neurons in hidden layer # 5: 10\n",
            "activation function for hidden layer # 5: relu\n",
            "kernel_initializer for hidden layer # 5: he_normal\n",
            "Score: 0.7943750023841858\n",
            "Trial summary\n",
            "Hyperparameters:\n",
            "number of hidden layers: 1\n",
            "number of neurons in hidden layer # 0: 12\n",
            "activation function for hidden layer # 0: sigmoid\n",
            "kernel_initializer for hidden layer # 0: glorot_uniform\n",
            "kernel_initializer for output layer: glorot_normal\n",
            "Optimizer function: rmsprop\n",
            "number of neurons in hidden layer # 1: 8\n",
            "activation function for hidden layer # 1: elu\n",
            "kernel_initializer for hidden layer # 1: glorot_normal\n",
            "number of neurons in hidden layer # 2: 9\n",
            "activation function for hidden layer # 2: relu\n",
            "kernel_initializer for hidden layer # 2: he_uniform\n",
            "number of neurons in hidden layer # 3: 4\n",
            "activation function for hidden layer # 3: relu\n",
            "kernel_initializer for hidden layer # 3: he_normal\n",
            "number of neurons in hidden layer # 4: 9\n",
            "activation function for hidden layer # 4: relu\n",
            "kernel_initializer for hidden layer # 4: glorot_uniform\n",
            "number of neurons in hidden layer # 5: 12\n",
            "activation function for hidden layer # 5: relu\n",
            "kernel_initializer for hidden layer # 5: he_uniform\n",
            "Score: 0.793874979019165\n",
            "Trial summary\n",
            "Hyperparameters:\n",
            "number of hidden layers: 1\n",
            "number of neurons in hidden layer # 0: 8\n",
            "activation function for hidden layer # 0: sigmoid\n",
            "kernel_initializer for hidden layer # 0: he_uniform\n",
            "kernel_initializer for output layer: glorot_uniform\n",
            "Optimizer function: rmsprop\n",
            "number of neurons in hidden layer # 1: 12\n",
            "activation function for hidden layer # 1: sigmoid\n",
            "kernel_initializer for hidden layer # 1: he_uniform\n",
            "number of neurons in hidden layer # 2: 9\n",
            "activation function for hidden layer # 2: relu\n",
            "kernel_initializer for hidden layer # 2: he_normal\n",
            "number of neurons in hidden layer # 3: 10\n",
            "activation function for hidden layer # 3: elu\n",
            "kernel_initializer for hidden layer # 3: he_normal\n",
            "number of neurons in hidden layer # 4: 12\n",
            "activation function for hidden layer # 4: relu\n",
            "kernel_initializer for hidden layer # 4: glorot_normal\n",
            "number of neurons in hidden layer # 5: 12\n",
            "activation function for hidden layer # 5: relu\n",
            "kernel_initializer for hidden layer # 5: he_normal\n",
            "Score: 0.7922499775886536\n",
            "Trial summary\n",
            "Hyperparameters:\n",
            "number of hidden layers: 1\n",
            "number of neurons in hidden layer # 0: 12\n",
            "activation function for hidden layer # 0: elu\n",
            "kernel_initializer for hidden layer # 0: he_normal\n",
            "kernel_initializer for output layer: glorot_uniform\n",
            "Optimizer function: rmsprop\n",
            "number of neurons in hidden layer # 1: 12\n",
            "activation function for hidden layer # 1: sigmoid\n",
            "kernel_initializer for hidden layer # 1: glorot_uniform\n",
            "number of neurons in hidden layer # 2: 11\n",
            "activation function for hidden layer # 2: sigmoid\n",
            "kernel_initializer for hidden layer # 2: he_normal\n",
            "number of neurons in hidden layer # 3: 8\n",
            "activation function for hidden layer # 3: sigmoid\n",
            "kernel_initializer for hidden layer # 3: glorot_normal\n",
            "number of neurons in hidden layer # 4: 13\n",
            "activation function for hidden layer # 4: elu\n",
            "kernel_initializer for hidden layer # 4: he_normal\n",
            "number of neurons in hidden layer # 5: 5\n",
            "activation function for hidden layer # 5: elu\n",
            "kernel_initializer for hidden layer # 5: he_normal\n",
            "Score: 0.7861250042915344\n",
            "Trial summary\n",
            "Hyperparameters:\n",
            "number of hidden layers: 3\n",
            "number of neurons in hidden layer # 0: 10\n",
            "activation function for hidden layer # 0: elu\n",
            "kernel_initializer for hidden layer # 0: glorot_normal\n",
            "kernel_initializer for output layer: glorot_normal\n",
            "Optimizer function: rmsprop\n",
            "number of neurons in hidden layer # 1: 11\n",
            "activation function for hidden layer # 1: relu\n",
            "kernel_initializer for hidden layer # 1: he_normal\n",
            "number of neurons in hidden layer # 2: 10\n",
            "activation function for hidden layer # 2: elu\n",
            "kernel_initializer for hidden layer # 2: glorot_normal\n",
            "number of neurons in hidden layer # 3: 13\n",
            "activation function for hidden layer # 3: relu\n",
            "kernel_initializer for hidden layer # 3: he_normal\n",
            "number of neurons in hidden layer # 4: 8\n",
            "activation function for hidden layer # 4: elu\n",
            "kernel_initializer for hidden layer # 4: glorot_normal\n",
            "number of neurons in hidden layer # 5: 7\n",
            "activation function for hidden layer # 5: elu\n",
            "kernel_initializer for hidden layer # 5: he_normal\n",
            "Score: 0.7836250066757202\n",
            "Trial summary\n",
            "Hyperparameters:\n",
            "number of hidden layers: 2\n",
            "number of neurons in hidden layer # 0: 11\n",
            "activation function for hidden layer # 0: relu\n",
            "kernel_initializer for hidden layer # 0: glorot_uniform\n",
            "kernel_initializer for output layer: he_normal\n",
            "Optimizer function: Adam\n",
            "number of neurons in hidden layer # 1: 5\n",
            "activation function for hidden layer # 1: elu\n",
            "kernel_initializer for hidden layer # 1: glorot_uniform\n",
            "number of neurons in hidden layer # 2: 9\n",
            "activation function for hidden layer # 2: sigmoid\n",
            "kernel_initializer for hidden layer # 2: glorot_normal\n",
            "number of neurons in hidden layer # 3: 6\n",
            "activation function for hidden layer # 3: elu\n",
            "kernel_initializer for hidden layer # 3: glorot_uniform\n",
            "number of neurons in hidden layer # 4: 5\n",
            "activation function for hidden layer # 4: sigmoid\n",
            "kernel_initializer for hidden layer # 4: he_uniform\n",
            "number of neurons in hidden layer # 5: 13\n",
            "activation function for hidden layer # 5: relu\n",
            "kernel_initializer for hidden layer # 5: glorot_normal\n",
            "Score: 0.7828750014305115\n",
            "Trial summary\n",
            "Hyperparameters:\n",
            "number of hidden layers: 2\n",
            "number of neurons in hidden layer # 0: 5\n",
            "activation function for hidden layer # 0: relu\n",
            "kernel_initializer for hidden layer # 0: glorot_uniform\n",
            "kernel_initializer for output layer: glorot_normal\n",
            "Optimizer function: Adam\n",
            "number of neurons in hidden layer # 1: 6\n",
            "activation function for hidden layer # 1: elu\n",
            "kernel_initializer for hidden layer # 1: glorot_normal\n",
            "number of neurons in hidden layer # 2: 9\n",
            "activation function for hidden layer # 2: elu\n",
            "kernel_initializer for hidden layer # 2: glorot_normal\n",
            "number of neurons in hidden layer # 3: 8\n",
            "activation function for hidden layer # 3: elu\n",
            "kernel_initializer for hidden layer # 3: glorot_normal\n",
            "number of neurons in hidden layer # 4: 12\n",
            "activation function for hidden layer # 4: relu\n",
            "kernel_initializer for hidden layer # 4: he_uniform\n",
            "number of neurons in hidden layer # 5: 5\n",
            "activation function for hidden layer # 5: sigmoid\n",
            "kernel_initializer for hidden layer # 5: he_uniform\n",
            "Score: 0.7762500047683716\n"
          ]
        }
      ]
    },
    {
      "cell_type": "code",
      "source": [
        "best_5_models = tuner_obj.get_best_models(5)"
      ],
      "metadata": {
        "id": "uBfU2BbE_0B6"
      },
      "execution_count": 62,
      "outputs": []
    },
    {
      "cell_type": "code",
      "source": [
        "model_new = best_5_models[2]"
      ],
      "metadata": {
        "id": "bosIrF8nAMOH"
      },
      "execution_count": 68,
      "outputs": []
    },
    {
      "cell_type": "code",
      "source": [
        "model_new.summary()"
      ],
      "metadata": {
        "colab": {
          "base_uri": "https://localhost:8080/"
        },
        "id": "_zAgE8ROAXyw",
        "outputId": "e8a0ef4d-d074-4bd9-bed1-eaa23abcbb27"
      },
      "execution_count": 69,
      "outputs": [
        {
          "output_type": "stream",
          "name": "stdout",
          "text": [
            "Model: \"sequential\"\n",
            "_________________________________________________________________\n",
            " Layer (type)                Output Shape              Param #   \n",
            "=================================================================\n",
            " dense (Dense)               (None, 5)                 65        \n",
            "                                                                 \n",
            " dense_1 (Dense)             (None, 8)                 48        \n",
            "                                                                 \n",
            " dense_2 (Dense)             (None, 5)                 45        \n",
            "                                                                 \n",
            " dense_3 (Dense)             (None, 10)                60        \n",
            "                                                                 \n",
            " dense_4 (Dense)             (None, 9)                 99        \n",
            "                                                                 \n",
            " dense_5 (Dense)             (None, 9)                 90        \n",
            "                                                                 \n",
            " dense_6 (Dense)             (None, 1)                 10        \n",
            "                                                                 \n",
            "=================================================================\n",
            "Total params: 417\n",
            "Trainable params: 417\n",
            "Non-trainable params: 0\n",
            "_________________________________________________________________\n"
          ]
        }
      ]
    },
    {
      "cell_type": "code",
      "source": [],
      "metadata": {
        "id": "bDK_xX1SAZzN"
      },
      "execution_count": null,
      "outputs": []
    }
  ]
}