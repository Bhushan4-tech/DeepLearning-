{
  "nbformat": 4,
  "nbformat_minor": 0,
  "metadata": {
    "colab": {
      "provenance": [],
      "include_colab_link": true
    },
    "kernelspec": {
      "name": "python3",
      "display_name": "Python 3"
    },
    "language_info": {
      "name": "python"
    },
    "accelerator": "GPU",
    "gpuClass": "standard"
  },
  "cells": [
    {
      "cell_type": "markdown",
      "metadata": {
        "id": "view-in-github",
        "colab_type": "text"
      },
      "source": [
        "<a href=\"https://colab.research.google.com/github/Bhushan4-tech/DeepLearning-/blob/main/Freiburg_groceries_Datasets_work.ipynb\" target=\"_parent\"><img src=\"https://colab.research.google.com/assets/colab-badge.svg\" alt=\"Open In Colab\"/></a>"
      ]
    },
    {
      "cell_type": "code",
      "source": [
        "from google.colab import drive\n",
        "drive.mount(\"/content/grive\")"
      ],
      "metadata": {
        "colab": {
          "base_uri": "https://localhost:8080/"
        },
        "id": "Q3eq20MtG5wy",
        "outputId": "79377f1c-e308-4a89-9a3c-44e8cb6d0932"
      },
      "execution_count": 1,
      "outputs": [
        {
          "output_type": "stream",
          "name": "stdout",
          "text": [
            "Mounted at /content/grive\n"
          ]
        }
      ]
    },
    {
      "cell_type": "markdown",
      "source": [
        "- Freiburg groceries dataset\n",
        "  - 5000 > 25 classes (256x256x3)\n",
        "\n",
        "- milk\n",
        "- snacks\n",
        "- cold drinks\n",
        "- cereal\n",
        "- water\n",
        "- oil"
      ],
      "metadata": {
        "id": "YZuqUrfYRMEx"
      }
    },
    {
      "cell_type": "markdown",
      "source": [
        "`folder structure:`\n",
        "data(main folder)\n",
        "- train(sub folder level 1)\n",
        "  - class 1(sub folder level 2)\n",
        "    - files\n",
        "  - class 2(sub folder level 2)\n",
        "    - files\n",
        "  - class 3(sub folder level 2)\n",
        "    - files\n",
        "- test(sub folder level 1)\n",
        "  - class 1(sub folder level 2)\n",
        "    - files\n",
        "  - class 2(sub folder level 2)\n",
        "    - files\n",
        "  - class 3(sub folder level 2)\n",
        "    - files"
      ],
      "metadata": {
        "id": "3uuGhScKSiOK"
      }
    },
    {
      "cell_type": "code",
      "source": [
        "import os\n",
        "import cv2\n",
        "from glob import glob\n",
        "\n",
        "import matplotlib.pyplot as plt\n",
        "\n",
        "import tensorflow as tf\n",
        "from tensorflow.keras.callbacks import EarlyStopping\n",
        "from tensorflow.keras.preprocessing.image import ImageDataGenerator\n",
        "\n",
        "%matplotlib inline"
      ],
      "metadata": {
        "id": "TpiDVGuLThJF"
      },
      "execution_count": 2,
      "outputs": []
    },
    {
      "cell_type": "code",
      "source": [
        "path_ = '/content/grive/MyDrive/DL_CNN/Data'\n",
        "os.listdir(path_)"
      ],
      "metadata": {
        "colab": {
          "base_uri": "https://localhost:8080/"
        },
        "id": "PMQKB85JTheI",
        "outputId": "b8cfc838-b879-48da-bfd4-d2c43b553bd5"
      },
      "execution_count": 3,
      "outputs": [
        {
          "output_type": "execute_result",
          "data": {
            "text/plain": [
              "['Train_', 'Test_']"
            ]
          },
          "metadata": {},
          "execution_count": 3
        }
      ]
    },
    {
      "cell_type": "code",
      "source": [
        "os.listdir(os.path.join(path_,'Train_'))"
      ],
      "metadata": {
        "colab": {
          "base_uri": "https://localhost:8080/"
        },
        "id": "UCaUN3h1UDQN",
        "outputId": "a78cefa3-2aa0-4a6d-b0ac-64f7ff7c104e"
      },
      "execution_count": 4,
      "outputs": [
        {
          "output_type": "execute_result",
          "data": {
            "text/plain": [
              "['SPICES',\n",
              " 'WATER',\n",
              " 'TEA',\n",
              " 'OIL',\n",
              " 'VINEGAR',\n",
              " 'SODA',\n",
              " 'PASTA',\n",
              " 'SUGAR',\n",
              " 'RICE',\n",
              " 'TOMATO_SAUCE',\n",
              " 'JUICE',\n",
              " 'CHOCOLATE',\n",
              " 'FISH',\n",
              " 'COFFEE',\n",
              " 'JAM',\n",
              " 'NUTS',\n",
              " 'CORN',\n",
              " 'MILK',\n",
              " 'HONEY',\n",
              " 'FLOUR',\n",
              " 'CANDY',\n",
              " 'CAKE',\n",
              " 'CHIPS',\n",
              " 'BEANS',\n",
              " 'CEREAL']"
            ]
          },
          "metadata": {},
          "execution_count": 4
        }
      ]
    },
    {
      "cell_type": "code",
      "source": [
        "os.listdir(os.path.join(path_,'Test_'))"
      ],
      "metadata": {
        "colab": {
          "base_uri": "https://localhost:8080/"
        },
        "id": "R6UcdpVqUDOU",
        "outputId": "b6d6a935-2924-4bfa-80d8-b5d8d65fe852"
      },
      "execution_count": 5,
      "outputs": [
        {
          "output_type": "execute_result",
          "data": {
            "text/plain": [
              "['PASTA',\n",
              " 'OIL',\n",
              " 'SODA',\n",
              " 'RICE',\n",
              " 'TEA',\n",
              " 'TOMATO_SAUCE',\n",
              " 'SPICES',\n",
              " 'SUGAR',\n",
              " 'VINEGAR',\n",
              " 'WATER',\n",
              " 'COFFEE',\n",
              " 'CORN',\n",
              " 'HONEY',\n",
              " 'FISH',\n",
              " 'NUTS',\n",
              " 'JUICE',\n",
              " 'MILK',\n",
              " 'CHOCOLATE',\n",
              " 'FLOUR',\n",
              " 'JAM',\n",
              " 'CHIPS',\n",
              " 'CEREAL',\n",
              " 'CAKE',\n",
              " 'BEANS',\n",
              " 'CANDY']"
            ]
          },
          "metadata": {},
          "execution_count": 5
        }
      ]
    },
    {
      "cell_type": "markdown",
      "source": [
        "# Data Augmentation"
      ],
      "metadata": {
        "id": "V5xkRqKiUDLy"
      }
    },
    {
      "cell_type": "code",
      "source": [
        "# Seting up the configurations\n",
        "\n",
        "BATCH_SIZE = 32\n",
        "TARGET_SIZE = (150,150)\n",
        "\n",
        "# amount of training data\n",
        "train_path = '/content/grive/MyDrive/DL_CNN/Data/Train_'\n",
        "val_path = '/content/grive/MyDrive/DL_CNN/Data/Test_'\n",
        "\n",
        "training_data_count = len(glob(f'{train_path}/*/*.png'))\n",
        "validation_data_count = len(glob(f'{val_path}/*/*.png'))\n",
        "\n",
        "training_steps = training_data_count//BATCH_SIZE\n",
        "validation_steps = validation_data_count//BATCH_SIZE\n",
        "\n",
        "training_data_count,validation_data_count,training_steps, validation_steps"
      ],
      "metadata": {
        "colab": {
          "base_uri": "https://localhost:8080/"
        },
        "id": "k_AEwPwKUDJZ",
        "outputId": "7e37ea9f-c912-4172-932c-f193d252428f"
      },
      "execution_count": 7,
      "outputs": [
        {
          "output_type": "execute_result",
          "data": {
            "text/plain": [
              "(4966, 1681, 155, 52)"
            ]
          },
          "metadata": {},
          "execution_count": 7
        }
      ]
    },
    {
      "cell_type": "code",
      "source": [
        "# min value for a pixel in an image > 0\n",
        "# max value for a pixel in an image > 255"
      ],
      "metadata": {
        "id": "YoNx3Y3GUC9a"
      },
      "execution_count": null,
      "outputs": []
    },
    {
      "cell_type": "code",
      "source": [
        "# Working on training data\n",
        "train_data_generator = ImageDataGenerator(rescale = 1./255.,\n",
        "                                          width_shift_range = 0.3,\n",
        "                                          height_shift_range = 0.3,\n",
        "                                          shear_range = 0.3,\n",
        "                                          zoom_range = 0.3,\n",
        "                                          fill_mode = 'nearest',\n",
        "                                          horizontal_flip = True,\n",
        "                                          vertical_flip = True)\n",
        "\n",
        "train_data = train_data_generator.flow_from_directory(directory = train_path,\n",
        "                                                      batch_size = BATCH_SIZE,\n",
        "                                                      class_mode = 'categorical',\n",
        "                                                      target_size = TARGET_SIZE)"
      ],
      "metadata": {
        "colab": {
          "base_uri": "https://localhost:8080/"
        },
        "id": "o0_0bLYbUC_r",
        "outputId": "a1335f1e-b93d-40a3-f154-6778af7a5c41"
      },
      "execution_count": 8,
      "outputs": [
        {
          "output_type": "stream",
          "name": "stdout",
          "text": [
            "Found 4966 images belonging to 25 classes.\n"
          ]
        }
      ]
    },
    {
      "cell_type": "code",
      "source": [
        "# Working on validation data\n",
        "val_data_generator = ImageDataGenerator(rescale = 1./255.,\n",
        "                                          width_shift_range = 0.3,\n",
        "                                          height_shift_range = 0.3,\n",
        "                                          shear_range = 0.3,\n",
        "                                          zoom_range = 0.3,\n",
        "                                          fill_mode = 'nearest',\n",
        "                                          horizontal_flip = True,\n",
        "                                          vertical_flip = True)\n",
        "\n",
        "val_data = val_data_generator.flow_from_directory(directory = val_path,\n",
        "                                                      batch_size = BATCH_SIZE,\n",
        "                                                      class_mode = 'categorical',\n",
        "                                                      target_size = TARGET_SIZE)"
      ],
      "metadata": {
        "colab": {
          "base_uri": "https://localhost:8080/"
        },
        "id": "7W_JRtvqUC7A",
        "outputId": "340f9af8-7f5e-434e-e6d4-cc446bf2f13a"
      },
      "execution_count": 9,
      "outputs": [
        {
          "output_type": "stream",
          "name": "stdout",
          "text": [
            "Found 1681 images belonging to 25 classes.\n"
          ]
        }
      ]
    },
    {
      "cell_type": "markdown",
      "source": [
        "# Building the CNN model"
      ],
      "metadata": {
        "id": "f-KS1WczUC4o"
      }
    },
    {
      "cell_type": "code",
      "source": [
        "# CNN model > (Convolutional + pooling layers) + flattened_layer + ANN"
      ],
      "metadata": {
        "id": "t2TJPXm6UC1_"
      },
      "execution_count": null,
      "outputs": []
    },
    {
      "cell_type": "code",
      "source": [
        "# ------------------------------------ Model building\n",
        "# Instantiating the Sequential model\n",
        "cnn = tf.keras.Sequential()\n",
        "\n",
        "# Adding the input layer\n",
        "cnn.add(tf.keras.layers.Input(shape = TARGET_SIZE.__add__((3,))))\n",
        "\n",
        "# ------------------- Conv layers\n",
        "# Adding the first ConvolutionalxPooling layer\n",
        "cnn.add(tf.keras.layers.Conv2D(filters = 100, \n",
        "                               kernel_size = (5,5), \n",
        "                               padding = 'same', \n",
        "                               activation = 'relu', \n",
        "                               kernel_initializer = 'he_uniform'))\n",
        "cnn.add(tf.keras.layers.MaxPool2D(pool_size = (5,5)))\n",
        "\n",
        "# Adding the second ConvolutionalxPooling layer\n",
        "cnn.add(tf.keras.layers.Conv2D(filters = 128, \n",
        "                               kernel_size = (5,5), \n",
        "                               padding = 'same', \n",
        "                               activation = 'relu', \n",
        "                               kernel_initializer = 'he_uniform'))\n",
        "cnn.add(tf.keras.layers.MaxPool2D(pool_size = (5,5)))\n",
        "\n",
        "# Adding the flattening layer\n",
        "cnn.add(tf.keras.layers.Flatten())\n",
        "\n",
        "# Adding the hidden layers----------------------\n",
        "\n",
        "# First hidden layer\n",
        "cnn.add(tf.keras.layers.Dense(units = 1000,\n",
        "                              activation = 'elu', \n",
        "                              kernel_initializer= 'he_uniform'))\n",
        "\n",
        "# Second hidden layer\n",
        "cnn.add(tf.keras.layers.Dense(units =1500,\n",
        "                              activation = 'elu', \n",
        "                              kernel_initializer= 'he_uniform'))\n",
        "\n",
        "# Third hidden layer\n",
        "cnn.add(tf.keras.layers.Dense(units = 512,\n",
        "                              activation = 'elu', \n",
        "                              kernel_initializer= 'he_uniform'))\n",
        "\n",
        "# Adding the final output layer\n",
        "cnn.add(tf.keras.layers.Dense(units = 25,\n",
        "                              activation = 'softmax', \n",
        "                              kernel_initializer= 'glorot_uniform'))\n",
        "# ------------------- Fully connected layer :> ANN\n",
        "# ------------------------------------ Model building\n",
        "\n",
        "# ------------------------------------ Model compilation\n",
        "cnn.compile(optimizer = 'rmsprop',\n",
        "            loss = 'categorical_crossentropy',\n",
        "            metrics = ['accuracy','Recall'])\n",
        "# ------------------------------------ Model compilation"
      ],
      "metadata": {
        "id": "UgRTDB76Thkr"
      },
      "execution_count": 10,
      "outputs": []
    },
    {
      "cell_type": "code",
      "source": [
        "# Summarizing the model. > \n",
        "cnn.summary()"
      ],
      "metadata": {
        "colab": {
          "base_uri": "https://localhost:8080/"
        },
        "id": "JGReL5mrj2jj",
        "outputId": "d5078d5c-1347-4f58-ebe7-d1a92701f95e"
      },
      "execution_count": 11,
      "outputs": [
        {
          "output_type": "stream",
          "name": "stdout",
          "text": [
            "Model: \"sequential\"\n",
            "_________________________________________________________________\n",
            " Layer (type)                Output Shape              Param #   \n",
            "=================================================================\n",
            " conv2d (Conv2D)             (None, 150, 150, 100)     7600      \n",
            "                                                                 \n",
            " max_pooling2d (MaxPooling2D  (None, 30, 30, 100)      0         \n",
            " )                                                               \n",
            "                                                                 \n",
            " conv2d_1 (Conv2D)           (None, 30, 30, 128)       320128    \n",
            "                                                                 \n",
            " max_pooling2d_1 (MaxPooling  (None, 6, 6, 128)        0         \n",
            " 2D)                                                             \n",
            "                                                                 \n",
            " flatten (Flatten)           (None, 4608)              0         \n",
            "                                                                 \n",
            " dense (Dense)               (None, 1000)              4609000   \n",
            "                                                                 \n",
            " dense_1 (Dense)             (None, 1500)              1501500   \n",
            "                                                                 \n",
            " dense_2 (Dense)             (None, 512)               768512    \n",
            "                                                                 \n",
            " dense_3 (Dense)             (None, 25)                12825     \n",
            "                                                                 \n",
            "=================================================================\n",
            "Total params: 7,219,565\n",
            "Trainable params: 7,219,565\n",
            "Non-trainable params: 0\n",
            "_________________________________________________________________\n"
          ]
        }
      ]
    },
    {
      "cell_type": "code",
      "source": [
        "# Generating the calbacks\n",
        "early_stopper = EarlyStopping(patience = 15)"
      ],
      "metadata": {
        "id": "93DPOnhAnjTN"
      },
      "execution_count": 12,
      "outputs": []
    },
    {
      "cell_type": "code",
      "source": [
        "history_object = cnn.fit(train_data,\n",
        "                         epochs = 100,\n",
        "                         batch_size = BATCH_SIZE,\n",
        "                         steps_per_epoch = training_steps,\n",
        "                         validation_data = val_data,\n",
        "                         validation_batch_size = BATCH_SIZE,\n",
        "                         validation_steps = validation_steps,\n",
        "                         use_multiprocessing = True,\n",
        "                         workers = 30,\n",
        "                         callbacks = [early_stopper])"
      ],
      "metadata": {
        "colab": {
          "base_uri": "https://localhost:8080/"
        },
        "id": "k6x5bi4dj2d_",
        "outputId": "0da4bfd4-b355-45ae-a8d8-3adc1b422b07"
      },
      "execution_count": 13,
      "outputs": [
        {
          "output_type": "stream",
          "name": "stdout",
          "text": [
            "Epoch 1/100\n",
            "155/155 [==============================] - 391s 2s/step - loss: 4.4581 - accuracy: 0.0740 - recall: 0.0032 - val_loss: 3.1649 - val_accuracy: 0.0763 - val_recall: 0.0000e+00\n",
            "Epoch 2/100\n",
            "155/155 [==============================] - 61s 372ms/step - loss: 3.2070 - accuracy: 0.0770 - recall: 0.0030 - val_loss: 3.0970 - val_accuracy: 0.1046 - val_recall: 6.0096e-04\n",
            "Epoch 3/100\n",
            "155/155 [==============================] - 61s 367ms/step - loss: 3.1647 - accuracy: 0.0912 - recall: 0.0036 - val_loss: 3.0729 - val_accuracy: 0.1082 - val_recall: 6.0096e-04\n",
            "Epoch 4/100\n",
            "155/155 [==============================] - 60s 366ms/step - loss: 3.1344 - accuracy: 0.1036 - recall: 0.0053 - val_loss: 3.0526 - val_accuracy: 0.1184 - val_recall: 0.0054\n",
            "Epoch 5/100\n",
            "155/155 [==============================] - 61s 371ms/step - loss: 3.0002 - accuracy: 0.1255 - recall: 0.0095 - val_loss: 2.8899 - val_accuracy: 0.1406 - val_recall: 0.0030\n",
            "Epoch 6/100\n",
            "155/155 [==============================] - 61s 368ms/step - loss: 2.9128 - accuracy: 0.1447 - recall: 0.0124 - val_loss: 2.8906 - val_accuracy: 0.1671 - val_recall: 0.0030\n",
            "Epoch 7/100\n",
            "155/155 [==============================] - 61s 370ms/step - loss: 2.8500 - accuracy: 0.1664 - recall: 0.0162 - val_loss: 2.8308 - val_accuracy: 0.1635 - val_recall: 0.0168\n",
            "Epoch 8/100\n",
            "155/155 [==============================] - 61s 368ms/step - loss: 2.7785 - accuracy: 0.1771 - recall: 0.0154 - val_loss: 2.9844 - val_accuracy: 0.1683 - val_recall: 0.0457\n",
            "Epoch 9/100\n",
            "155/155 [==============================] - 61s 366ms/step - loss: 2.7360 - accuracy: 0.1938 - recall: 0.0247 - val_loss: 2.6835 - val_accuracy: 0.2001 - val_recall: 0.0102\n",
            "Epoch 10/100\n",
            "155/155 [==============================] - 60s 363ms/step - loss: 2.6770 - accuracy: 0.2069 - recall: 0.0340 - val_loss: 2.7549 - val_accuracy: 0.2019 - val_recall: 0.0493\n",
            "Epoch 11/100\n",
            "155/155 [==============================] - 59s 360ms/step - loss: 2.6335 - accuracy: 0.2252 - recall: 0.0401 - val_loss: 2.5907 - val_accuracy: 0.2302 - val_recall: 0.0282\n",
            "Epoch 12/100\n",
            "155/155 [==============================] - 60s 361ms/step - loss: 2.5754 - accuracy: 0.2341 - recall: 0.0409 - val_loss: 2.5952 - val_accuracy: 0.2218 - val_recall: 0.0427\n",
            "Epoch 13/100\n",
            "155/155 [==============================] - 60s 362ms/step - loss: 2.5542 - accuracy: 0.2341 - recall: 0.0541 - val_loss: 2.5329 - val_accuracy: 0.2326 - val_recall: 0.0523\n",
            "Epoch 14/100\n",
            "155/155 [==============================] - 61s 368ms/step - loss: 2.5227 - accuracy: 0.2527 - recall: 0.0588 - val_loss: 2.5280 - val_accuracy: 0.2422 - val_recall: 0.0655\n",
            "Epoch 15/100\n",
            "155/155 [==============================] - 60s 365ms/step - loss: 2.4794 - accuracy: 0.2554 - recall: 0.0707 - val_loss: 2.3633 - val_accuracy: 0.2993 - val_recall: 0.0835\n",
            "Epoch 16/100\n",
            "155/155 [==============================] - 61s 368ms/step - loss: 2.4262 - accuracy: 0.2730 - recall: 0.0801 - val_loss: 2.3212 - val_accuracy: 0.2963 - val_recall: 0.0847\n",
            "Epoch 17/100\n",
            "155/155 [==============================] - 61s 368ms/step - loss: 2.3992 - accuracy: 0.2817 - recall: 0.0863 - val_loss: 2.3565 - val_accuracy: 0.2891 - val_recall: 0.0950\n",
            "Epoch 18/100\n",
            "155/155 [==============================] - 60s 364ms/step - loss: 2.3545 - accuracy: 0.2979 - recall: 0.1013 - val_loss: 2.3869 - val_accuracy: 0.2873 - val_recall: 0.0889\n",
            "Epoch 19/100\n",
            "155/155 [==============================] - 60s 362ms/step - loss: 2.3111 - accuracy: 0.3046 - recall: 0.1137 - val_loss: 2.2877 - val_accuracy: 0.3233 - val_recall: 0.1112\n",
            "Epoch 20/100\n",
            "155/155 [==============================] - 61s 367ms/step - loss: 2.2842 - accuracy: 0.3241 - recall: 0.1281 - val_loss: 2.1466 - val_accuracy: 0.3600 - val_recall: 0.1460\n",
            "Epoch 21/100\n",
            "155/155 [==============================] - 60s 366ms/step - loss: 2.2640 - accuracy: 0.3221 - recall: 0.1319 - val_loss: 2.4676 - val_accuracy: 0.2758 - val_recall: 0.0968\n",
            "Epoch 22/100\n",
            "155/155 [==============================] - 60s 364ms/step - loss: 2.2404 - accuracy: 0.3364 - recall: 0.1555 - val_loss: 2.1773 - val_accuracy: 0.3413 - val_recall: 0.1544\n",
            "Epoch 23/100\n",
            "155/155 [==============================] - 59s 357ms/step - loss: 2.2104 - accuracy: 0.3419 - recall: 0.1514 - val_loss: 2.3853 - val_accuracy: 0.3149 - val_recall: 0.1701\n",
            "Epoch 24/100\n",
            "155/155 [==============================] - 60s 361ms/step - loss: 2.1625 - accuracy: 0.3541 - recall: 0.1779 - val_loss: 2.1041 - val_accuracy: 0.3732 - val_recall: 0.1941\n",
            "Epoch 25/100\n",
            "155/155 [==============================] - 60s 363ms/step - loss: 2.1154 - accuracy: 0.3713 - recall: 0.1838 - val_loss: 2.3374 - val_accuracy: 0.3191 - val_recall: 0.1713\n",
            "Epoch 26/100\n",
            "155/155 [==============================] - 59s 360ms/step - loss: 2.1259 - accuracy: 0.3634 - recall: 0.1915 - val_loss: 2.0886 - val_accuracy: 0.3732 - val_recall: 0.1929\n",
            "Epoch 27/100\n",
            "155/155 [==============================] - 60s 361ms/step - loss: 2.0843 - accuracy: 0.3679 - recall: 0.1996 - val_loss: 2.0010 - val_accuracy: 0.3786 - val_recall: 0.2019\n",
            "Epoch 28/100\n",
            "155/155 [==============================] - 59s 358ms/step - loss: 2.0395 - accuracy: 0.3910 - recall: 0.2163 - val_loss: 1.9830 - val_accuracy: 0.4038 - val_recall: 0.2392\n",
            "Epoch 29/100\n",
            "155/155 [==============================] - 60s 361ms/step - loss: 2.0581 - accuracy: 0.3810 - recall: 0.2197 - val_loss: 1.8781 - val_accuracy: 0.4309 - val_recall: 0.2338\n",
            "Epoch 30/100\n",
            "155/155 [==============================] - 60s 364ms/step - loss: 2.0202 - accuracy: 0.3999 - recall: 0.2250 - val_loss: 1.9145 - val_accuracy: 0.4050 - val_recall: 0.2446\n",
            "Epoch 31/100\n",
            "155/155 [==============================] - 59s 359ms/step - loss: 1.9721 - accuracy: 0.4094 - recall: 0.2515 - val_loss: 1.8182 - val_accuracy: 0.4477 - val_recall: 0.2662\n",
            "Epoch 32/100\n",
            "155/155 [==============================] - 60s 363ms/step - loss: 1.9665 - accuracy: 0.4135 - recall: 0.2572 - val_loss: 1.8650 - val_accuracy: 0.4321 - val_recall: 0.2494\n",
            "Epoch 33/100\n",
            "155/155 [==============================] - 60s 362ms/step - loss: 1.9155 - accuracy: 0.4339 - recall: 0.2803 - val_loss: 2.0115 - val_accuracy: 0.3942 - val_recall: 0.2476\n",
            "Epoch 34/100\n",
            "155/155 [==============================] - 60s 361ms/step - loss: 1.9094 - accuracy: 0.4258 - recall: 0.2787 - val_loss: 1.8491 - val_accuracy: 0.4627 - val_recall: 0.3293\n",
            "Epoch 35/100\n",
            "155/155 [==============================] - 61s 369ms/step - loss: 1.8986 - accuracy: 0.4364 - recall: 0.2894 - val_loss: 1.7891 - val_accuracy: 0.4567 - val_recall: 0.3017\n",
            "Epoch 36/100\n",
            "155/155 [==============================] - 60s 362ms/step - loss: 1.8879 - accuracy: 0.4331 - recall: 0.2971 - val_loss: 1.9318 - val_accuracy: 0.4513 - val_recall: 0.3341\n",
            "Epoch 37/100\n",
            "155/155 [==============================] - 61s 367ms/step - loss: 1.8775 - accuracy: 0.4412 - recall: 0.2979 - val_loss: 1.9243 - val_accuracy: 0.4525 - val_recall: 0.3197\n",
            "Epoch 38/100\n",
            "155/155 [==============================] - 60s 363ms/step - loss: 1.8694 - accuracy: 0.4475 - recall: 0.3135 - val_loss: 1.7049 - val_accuracy: 0.4814 - val_recall: 0.3155\n",
            "Epoch 39/100\n",
            "155/155 [==============================] - 61s 368ms/step - loss: 1.8707 - accuracy: 0.4481 - recall: 0.3241 - val_loss: 2.0346 - val_accuracy: 0.4032 - val_recall: 0.2758\n",
            "Epoch 40/100\n",
            "155/155 [==============================] - 60s 367ms/step - loss: 1.8443 - accuracy: 0.4574 - recall: 0.3330 - val_loss: 1.9254 - val_accuracy: 0.4357 - val_recall: 0.3125\n",
            "Epoch 41/100\n",
            "155/155 [==============================] - 60s 365ms/step - loss: 1.8228 - accuracy: 0.4629 - recall: 0.3364 - val_loss: 1.4708 - val_accuracy: 0.5433 - val_recall: 0.3792\n",
            "Epoch 42/100\n",
            "155/155 [==============================] - 61s 367ms/step - loss: 1.7708 - accuracy: 0.4838 - recall: 0.3618 - val_loss: 1.7160 - val_accuracy: 0.4922 - val_recall: 0.3768\n",
            "Epoch 43/100\n",
            "155/155 [==============================] - 60s 362ms/step - loss: 1.7979 - accuracy: 0.4726 - recall: 0.3529 - val_loss: 1.5911 - val_accuracy: 0.5246 - val_recall: 0.3594\n",
            "Epoch 44/100\n",
            "155/155 [==============================] - 60s 361ms/step - loss: 1.7535 - accuracy: 0.4852 - recall: 0.3727 - val_loss: 1.8311 - val_accuracy: 0.4627 - val_recall: 0.3275\n",
            "Epoch 45/100\n",
            "155/155 [==============================] - 60s 362ms/step - loss: 1.7212 - accuracy: 0.5002 - recall: 0.3847 - val_loss: 1.8633 - val_accuracy: 0.4669 - val_recall: 0.3221\n",
            "Epoch 46/100\n",
            "155/155 [==============================] - 59s 359ms/step - loss: 1.7555 - accuracy: 0.4905 - recall: 0.3729 - val_loss: 1.6301 - val_accuracy: 0.5150 - val_recall: 0.3924\n",
            "Epoch 47/100\n",
            "155/155 [==============================] - 59s 356ms/step - loss: 1.7628 - accuracy: 0.4783 - recall: 0.3719 - val_loss: 1.9529 - val_accuracy: 0.4615 - val_recall: 0.3600\n",
            "Epoch 48/100\n",
            "155/155 [==============================] - 60s 362ms/step - loss: 1.7193 - accuracy: 0.4982 - recall: 0.3841 - val_loss: 1.6701 - val_accuracy: 0.5367 - val_recall: 0.4056\n",
            "Epoch 49/100\n",
            "155/155 [==============================] - 60s 363ms/step - loss: 1.7350 - accuracy: 0.4970 - recall: 0.3901 - val_loss: 1.9032 - val_accuracy: 0.4760 - val_recall: 0.3810\n",
            "Epoch 50/100\n",
            "155/155 [==============================] - 60s 364ms/step - loss: 1.7236 - accuracy: 0.5105 - recall: 0.4011 - val_loss: 1.9245 - val_accuracy: 0.4760 - val_recall: 0.3936\n",
            "Epoch 51/100\n",
            "155/155 [==============================] - 60s 360ms/step - loss: 1.6784 - accuracy: 0.5205 - recall: 0.4159 - val_loss: 1.5950 - val_accuracy: 0.5445 - val_recall: 0.4471\n",
            "Epoch 52/100\n",
            "155/155 [==============================] - 60s 360ms/step - loss: 1.7076 - accuracy: 0.5059 - recall: 0.4076 - val_loss: 1.5543 - val_accuracy: 0.5391 - val_recall: 0.4183\n",
            "Epoch 53/100\n",
            "155/155 [==============================] - 60s 364ms/step - loss: 1.6829 - accuracy: 0.5166 - recall: 0.4145 - val_loss: 1.4059 - val_accuracy: 0.5685 - val_recall: 0.4645\n",
            "Epoch 54/100\n",
            "155/155 [==============================] - 60s 362ms/step - loss: 1.6574 - accuracy: 0.5241 - recall: 0.4307 - val_loss: 1.4036 - val_accuracy: 0.5733 - val_recall: 0.4495\n",
            "Epoch 55/100\n",
            "155/155 [==============================] - 60s 360ms/step - loss: 1.6149 - accuracy: 0.5397 - recall: 0.4451 - val_loss: 1.5103 - val_accuracy: 0.5625 - val_recall: 0.4760\n",
            "Epoch 56/100\n",
            "155/155 [==============================] - 60s 366ms/step - loss: 1.6600 - accuracy: 0.5280 - recall: 0.4309 - val_loss: 1.8379 - val_accuracy: 0.5012 - val_recall: 0.4219\n",
            "Epoch 57/100\n",
            "155/155 [==============================] - 60s 362ms/step - loss: 1.5769 - accuracy: 0.5434 - recall: 0.4589 - val_loss: 1.5215 - val_accuracy: 0.5529 - val_recall: 0.4627\n",
            "Epoch 58/100\n",
            "155/155 [==============================] - 60s 362ms/step - loss: 1.6417 - accuracy: 0.5399 - recall: 0.4538 - val_loss: 1.4964 - val_accuracy: 0.5625 - val_recall: 0.4609\n",
            "Epoch 59/100\n",
            "155/155 [==============================] - 60s 364ms/step - loss: 1.6106 - accuracy: 0.5363 - recall: 0.4516 - val_loss: 1.6949 - val_accuracy: 0.5060 - val_recall: 0.4177\n",
            "Epoch 60/100\n",
            "155/155 [==============================] - 60s 361ms/step - loss: 1.5974 - accuracy: 0.5460 - recall: 0.4653 - val_loss: 1.5923 - val_accuracy: 0.5367 - val_recall: 0.4669\n",
            "Epoch 61/100\n",
            "155/155 [==============================] - 59s 358ms/step - loss: 1.5860 - accuracy: 0.5440 - recall: 0.4698 - val_loss: 1.5263 - val_accuracy: 0.5751 - val_recall: 0.4874\n",
            "Epoch 62/100\n",
            "155/155 [==============================] - 59s 360ms/step - loss: 1.5216 - accuracy: 0.5667 - recall: 0.4818 - val_loss: 1.4393 - val_accuracy: 0.5619 - val_recall: 0.4754\n",
            "Epoch 63/100\n",
            "155/155 [==============================] - 60s 363ms/step - loss: 1.6041 - accuracy: 0.5436 - recall: 0.4660 - val_loss: 1.4288 - val_accuracy: 0.5841 - val_recall: 0.4994\n",
            "Epoch 64/100\n",
            "155/155 [==============================] - 60s 362ms/step - loss: 1.5329 - accuracy: 0.5647 - recall: 0.4943 - val_loss: 1.5361 - val_accuracy: 0.5655 - val_recall: 0.4766\n",
            "Epoch 65/100\n",
            "155/155 [==============================] - 60s 364ms/step - loss: 1.5632 - accuracy: 0.5703 - recall: 0.4814 - val_loss: 1.4216 - val_accuracy: 0.5859 - val_recall: 0.4850\n",
            "Epoch 66/100\n",
            "155/155 [==============================] - 60s 362ms/step - loss: 1.5717 - accuracy: 0.5645 - recall: 0.4893 - val_loss: 1.2392 - val_accuracy: 0.6292 - val_recall: 0.5246\n",
            "Epoch 67/100\n",
            "155/155 [==============================] - 60s 360ms/step - loss: 1.5405 - accuracy: 0.5665 - recall: 0.4952 - val_loss: 1.6514 - val_accuracy: 0.5397 - val_recall: 0.4778\n",
            "Epoch 68/100\n",
            "155/155 [==============================] - 60s 361ms/step - loss: 1.5157 - accuracy: 0.5740 - recall: 0.5000 - val_loss: 1.2766 - val_accuracy: 0.6376 - val_recall: 0.5565\n",
            "Epoch 69/100\n",
            "155/155 [==============================] - 60s 362ms/step - loss: 1.5655 - accuracy: 0.5677 - recall: 0.4923 - val_loss: 1.3621 - val_accuracy: 0.6010 - val_recall: 0.5361\n",
            "Epoch 70/100\n",
            "155/155 [==============================] - 60s 363ms/step - loss: 1.4699 - accuracy: 0.5892 - recall: 0.5180 - val_loss: 1.5436 - val_accuracy: 0.6040 - val_recall: 0.5421\n",
            "Epoch 71/100\n",
            "155/155 [==============================] - 60s 360ms/step - loss: 1.5003 - accuracy: 0.5916 - recall: 0.5274 - val_loss: 1.6086 - val_accuracy: 0.5595 - val_recall: 0.4856\n",
            "Epoch 72/100\n",
            "155/155 [==============================] - 60s 363ms/step - loss: 1.4422 - accuracy: 0.6005 - recall: 0.5302 - val_loss: 1.5625 - val_accuracy: 0.5763 - val_recall: 0.5144\n",
            "Epoch 73/100\n",
            "155/155 [==============================] - 60s 362ms/step - loss: 1.4911 - accuracy: 0.5910 - recall: 0.5278 - val_loss: 1.3024 - val_accuracy: 0.6388 - val_recall: 0.5751\n",
            "Epoch 74/100\n",
            "155/155 [==============================] - 60s 360ms/step - loss: 1.4800 - accuracy: 0.5995 - recall: 0.5308 - val_loss: 1.5067 - val_accuracy: 0.5901 - val_recall: 0.5228\n",
            "Epoch 75/100\n",
            "155/155 [==============================] - 59s 358ms/step - loss: 1.3935 - accuracy: 0.6171 - recall: 0.5541 - val_loss: 1.3497 - val_accuracy: 0.6064 - val_recall: 0.5288\n",
            "Epoch 76/100\n",
            "155/155 [==============================] - 60s 362ms/step - loss: 1.4552 - accuracy: 0.5995 - recall: 0.5369 - val_loss: 1.5207 - val_accuracy: 0.5901 - val_recall: 0.5252\n",
            "Epoch 77/100\n",
            "155/155 [==============================] - 60s 362ms/step - loss: 1.4835 - accuracy: 0.5926 - recall: 0.5268 - val_loss: 1.2878 - val_accuracy: 0.6154 - val_recall: 0.5451\n",
            "Epoch 78/100\n",
            "155/155 [==============================] - 59s 359ms/step - loss: 1.4245 - accuracy: 0.6180 - recall: 0.5472 - val_loss: 1.6299 - val_accuracy: 0.5757 - val_recall: 0.5156\n",
            "Epoch 79/100\n",
            "155/155 [==============================] - 60s 362ms/step - loss: 1.4327 - accuracy: 0.6084 - recall: 0.5488 - val_loss: 1.2969 - val_accuracy: 0.6382 - val_recall: 0.5739\n",
            "Epoch 80/100\n",
            "155/155 [==============================] - 60s 362ms/step - loss: 1.4471 - accuracy: 0.6072 - recall: 0.5493 - val_loss: 1.2419 - val_accuracy: 0.6268 - val_recall: 0.5727\n",
            "Epoch 81/100\n",
            "155/155 [==============================] - 60s 360ms/step - loss: 1.4261 - accuracy: 0.6072 - recall: 0.5557 - val_loss: 1.3384 - val_accuracy: 0.6364 - val_recall: 0.5793\n"
          ]
        }
      ]
    },
    {
      "cell_type": "code",
      "source": [],
      "metadata": {
        "id": "HqpMjEtWnsp8"
      },
      "execution_count": null,
      "outputs": []
    }
  ]
}