{
  "nbformat": 4,
  "nbformat_minor": 0,
  "metadata": {
    "colab": {
      "provenance": [],
      "collapsed_sections": [],
      "include_colab_link": true
    },
    "kernelspec": {
      "name": "python3",
      "display_name": "Python 3"
    },
    "language_info": {
      "name": "python"
    },
    "accelerator": "GPU",
    "gpuClass": "standard"
  },
  "cells": [
    {
      "cell_type": "markdown",
      "metadata": {
        "id": "view-in-github",
        "colab_type": "text"
      },
      "source": [
        "<a href=\"https://colab.research.google.com/github/Bhushan4-tech/DeepLearning-/blob/main/Freiburg_groceries_Datasets_work.ipynb\" target=\"_parent\"><img src=\"https://colab.research.google.com/assets/colab-badge.svg\" alt=\"Open In Colab\"/></a>"
      ]
    },
    {
      "cell_type": "code",
      "source": [
        "from google.colab import drive\n",
        "drive.mount(\"/content/grive\")"
      ],
      "metadata": {
        "colab": {
          "base_uri": "https://localhost:8080/"
        },
        "id": "Q3eq20MtG5wy",
        "outputId": "adf10835-085e-4d2a-c174-f72dfb60fac1"
      },
      "execution_count": null,
      "outputs": [
        {
          "output_type": "stream",
          "name": "stdout",
          "text": [
            "Mounted at /content/grive\n"
          ]
        }
      ]
    },
    {
      "cell_type": "markdown",
      "source": [
        "- Freiburg groceries dataset\n",
        "  - 5000 > 25 classes (256x256x3)\n",
        "\n",
        "- milk\n",
        "- snacks\n",
        "- cold drinks\n",
        "- cereal\n",
        "- water\n",
        "- oil"
      ],
      "metadata": {
        "id": "YZuqUrfYRMEx"
      }
    },
    {
      "cell_type": "markdown",
      "source": [
        "`folder structure:`\n",
        "data(main folder)\n",
        "- train(sub folder level 1)\n",
        "  - class 1(sub folder level 2)\n",
        "    - files\n",
        "  - class 2(sub folder level 2)\n",
        "    - files\n",
        "  - class 3(sub folder level 2)\n",
        "    - files\n",
        "- test(sub folder level 1)\n",
        "  - class 1(sub folder level 2)\n",
        "    - files\n",
        "  - class 2(sub folder level 2)\n",
        "    - files\n",
        "  - class 3(sub folder level 2)\n",
        "    - files"
      ],
      "metadata": {
        "id": "3uuGhScKSiOK"
      }
    },
    {
      "cell_type": "code",
      "source": [
        "import os\n",
        "import cv2\n",
        "from glob import glob\n",
        "\n",
        "import matplotlib.pyplot as plt\n",
        "\n",
        "import tensorflow as tf\n",
        "from tensorflow.keras.callbacks import EarlyStopping\n",
        "from tensorflow.keras.preprocessing.image import ImageDataGenerator\n",
        "\n",
        "%matplotlib inline"
      ],
      "metadata": {
        "id": "TpiDVGuLThJF"
      },
      "execution_count": null,
      "outputs": []
    },
    {
      "cell_type": "code",
      "source": [
        "path_ = '/content/grive/MyDrive/DL_CNN/Data'\n",
        "os.listdir(path_)"
      ],
      "metadata": {
        "colab": {
          "base_uri": "https://localhost:8080/"
        },
        "id": "PMQKB85JTheI",
        "outputId": "76a50e99-b83e-4ff4-87e1-288760842129"
      },
      "execution_count": null,
      "outputs": [
        {
          "output_type": "execute_result",
          "data": {
            "text/plain": [
              "['Train_', 'Test_']"
            ]
          },
          "metadata": {},
          "execution_count": 3
        }
      ]
    },
    {
      "cell_type": "code",
      "source": [
        "os.listdir(os.path.join(path_,'Train_'))"
      ],
      "metadata": {
        "colab": {
          "base_uri": "https://localhost:8080/"
        },
        "id": "UCaUN3h1UDQN",
        "outputId": "55ca1ac4-d113-4d03-c461-f03f1d858099"
      },
      "execution_count": null,
      "outputs": [
        {
          "output_type": "execute_result",
          "data": {
            "text/plain": [
              "['SPICES',\n",
              " 'WATER',\n",
              " 'TEA',\n",
              " 'OIL',\n",
              " 'VINEGAR',\n",
              " 'SODA',\n",
              " 'PASTA',\n",
              " 'SUGAR',\n",
              " 'RICE',\n",
              " 'TOMATO_SAUCE',\n",
              " 'JUICE',\n",
              " 'CHOCOLATE',\n",
              " 'FISH',\n",
              " 'COFFEE',\n",
              " 'JAM',\n",
              " 'NUTS',\n",
              " 'CORN',\n",
              " 'MILK',\n",
              " 'HONEY',\n",
              " 'FLOUR',\n",
              " 'CANDY',\n",
              " 'CAKE',\n",
              " 'CHIPS',\n",
              " 'BEANS',\n",
              " 'CEREAL']"
            ]
          },
          "metadata": {},
          "execution_count": 5
        }
      ]
    },
    {
      "cell_type": "code",
      "source": [
        "os.listdir(os.path.join(path_,'Test_'))"
      ],
      "metadata": {
        "colab": {
          "base_uri": "https://localhost:8080/"
        },
        "id": "R6UcdpVqUDOU",
        "outputId": "e6b69bdd-9663-47a3-ae80-8ebe055b32ba"
      },
      "execution_count": null,
      "outputs": [
        {
          "output_type": "execute_result",
          "data": {
            "text/plain": [
              "['PASTA',\n",
              " 'OIL',\n",
              " 'SODA',\n",
              " 'RICE',\n",
              " 'TEA',\n",
              " 'TOMATO_SAUCE',\n",
              " 'SPICES',\n",
              " 'SUGAR',\n",
              " 'VINEGAR',\n",
              " 'WATER',\n",
              " 'COFFEE',\n",
              " 'CORN',\n",
              " 'HONEY',\n",
              " 'FISH',\n",
              " 'NUTS',\n",
              " 'JUICE',\n",
              " 'MILK',\n",
              " 'CHOCOLATE',\n",
              " 'FLOUR',\n",
              " 'JAM',\n",
              " 'CHIPS',\n",
              " 'CEREAL',\n",
              " 'CAKE',\n",
              " 'BEANS',\n",
              " 'CANDY']"
            ]
          },
          "metadata": {},
          "execution_count": 6
        }
      ]
    },
    {
      "cell_type": "markdown",
      "source": [
        "# Data Augmentation"
      ],
      "metadata": {
        "id": "V5xkRqKiUDLy"
      }
    },
    {
      "cell_type": "code",
      "source": [
        "# Seting up the configurations\n",
        "\n",
        "BATCH_SIZE = 32\n",
        "TARGET_SIZE = (150,150)\n",
        "\n",
        "# amount of training data\n",
        "train_path = '/content/grive/MyDrive/DL_CNN/Data/Train_'\n",
        "val_path = '/content/grive/MyDrive/DL_CNN/Data/Test_'\n",
        "\n",
        "training_data_count = len(glob(f'{train_path}/*/*.png'))\n",
        "validation_data_count = len(glob(f'{val_path}/*/*.png'))\n",
        "\n",
        "training_steps = training_data_count//BATCH_SIZE\n",
        "validation_steps = validation_data_count//BATCH_SIZE\n",
        "\n",
        "training_data_count,validation_data_count,training_steps, validation_steps"
      ],
      "metadata": {
        "colab": {
          "base_uri": "https://localhost:8080/"
        },
        "id": "k_AEwPwKUDJZ",
        "outputId": "f7db7a13-4e77-4a43-a155-9008221bc01f"
      },
      "execution_count": null,
      "outputs": [
        {
          "output_type": "execute_result",
          "data": {
            "text/plain": [
              "(4966, 1681, 155, 52)"
            ]
          },
          "metadata": {},
          "execution_count": 8
        }
      ]
    },
    {
      "cell_type": "code",
      "source": [
        "# min value for a pixel in an image > 0\n",
        "# max value for a pixel in an image > 255"
      ],
      "metadata": {
        "id": "YoNx3Y3GUC9a"
      },
      "execution_count": null,
      "outputs": []
    },
    {
      "cell_type": "code",
      "source": [
        "# Working on training data\n",
        "train_data_generator = ImageDataGenerator(rescale = 1./255.,\n",
        "                                          width_shift_range = 0.3,\n",
        "                                          height_shift_range = 0.3,\n",
        "                                          shear_range = 0.3,\n",
        "                                          zoom_range = 0.3,\n",
        "                                          fill_mode = 'nearest',\n",
        "                                          horizontal_flip = True,\n",
        "                                          vertical_flip = True)\n",
        "\n",
        "train_data = train_data_generator.flow_from_directory(directory = train_path,\n",
        "                                                      batch_size = BATCH_SIZE,\n",
        "                                                      class_mode = 'categorical',\n",
        "                                                      target_size = TARGET_SIZE)"
      ],
      "metadata": {
        "colab": {
          "base_uri": "https://localhost:8080/"
        },
        "id": "o0_0bLYbUC_r",
        "outputId": "db330b93-d3a8-4d73-8036-deb74283df56"
      },
      "execution_count": null,
      "outputs": [
        {
          "output_type": "stream",
          "name": "stdout",
          "text": [
            "Found 4966 images belonging to 25 classes.\n"
          ]
        }
      ]
    },
    {
      "cell_type": "code",
      "source": [
        "# Working on training data\n",
        "val_data_generator = ImageDataGenerator(rescale = 1./255.,\n",
        "                                          width_shift_range = 0.3,\n",
        "                                          height_shift_range = 0.3,\n",
        "                                          shear_range = 0.3,\n",
        "                                          zoom_range = 0.3,\n",
        "                                          fill_mode = 'nearest',\n",
        "                                          horizontal_flip = True,\n",
        "                                          vertical_flip = True)\n",
        "\n",
        "val_data = val_data_generator.flow_from_directory(directory = val_path,\n",
        "                                                      batch_size = BATCH_SIZE,\n",
        "                                                      class_mode = 'categorical',\n",
        "                                                      target_size = TARGET_SIZE)"
      ],
      "metadata": {
        "colab": {
          "base_uri": "https://localhost:8080/"
        },
        "id": "7W_JRtvqUC7A",
        "outputId": "45f418e1-5d01-40d8-9308-20b5c1f4d973"
      },
      "execution_count": null,
      "outputs": [
        {
          "output_type": "stream",
          "name": "stdout",
          "text": [
            "Found 1681 images belonging to 25 classes.\n"
          ]
        }
      ]
    },
    {
      "cell_type": "markdown",
      "source": [
        "# Building the CNN model"
      ],
      "metadata": {
        "id": "f-KS1WczUC4o"
      }
    },
    {
      "cell_type": "code",
      "source": [
        "# CNN model > (Convolutional + pooling layers) + flattened_layer + ANN"
      ],
      "metadata": {
        "id": "t2TJPXm6UC1_"
      },
      "execution_count": null,
      "outputs": []
    },
    {
      "cell_type": "markdown",
      "source": [
        "- Conv layer 1 : 5 filters\n",
        "  - 1 image : 256x256\n",
        "  - post Convolution:\n",
        "    - 5 images : 256x256\n",
        "    - 256x256x5\n",
        "\n",
        "  - post pooling:\n",
        "    - 5 images : 170x170\n",
        "    - 170x170x5\n",
        "\n",
        "- Conv layer 2 : 10 filters\n",
        "  - 5 image : 170x170\n",
        "  - post Convolution:\n",
        "    - 50 images : 170x170\n",
        "    - 170x170x50\n",
        "\n",
        "  - post pooling:\n",
        "    - 50 images : 80x80\n",
        "    - 80x80x50\n",
        "\n",
        "- Conv layer 3 : 20 filters\n",
        "  - 50 image : 80x80\n",
        "  - post Convolution:\n",
        "    - 1000 images : 80x80\n",
        "    - 80x80x1000\n",
        "\n",
        "  - post pooling:\n",
        "   - 1000 images : 30x30\n",
        "   - 30x30x1000\n",
        "\n",
        "- Conv layer 4 : 20 filters\n",
        "  - 20000 image : 30x30\n",
        "  - post Convolution:\n",
        "    - 20000 images : 30x30\n",
        "    - 30x30x1000\n",
        "\n",
        "  - post pooling:\n",
        "    - 20000 images : 6x6\n",
        "    - 6x6x20000"
      ],
      "metadata": {
        "id": "20QGkH4-ThrP"
      }
    },
    {
      "cell_type": "code",
      "source": [
        "# ------------------------------------ Model building\n",
        "# Instantiating the Sequential model\n",
        "cnn = tf.keras.Sequential()\n",
        "\n",
        "# Adding the input layer\n",
        "cnn.add(tf.keras.layers.Input(shape = TARGET_SIZE.__add__((3,))))\n",
        "\n",
        "# ------------------- Conv layers\n",
        "# Adding the first ConvolutionalxPooling layer\n",
        "cnn.add(tf.keras.layers.Conv2D(filters = 64, \n",
        "                               kernel_size = (5,5), \n",
        "                               padding = 'same', \n",
        "                               activation = 'relu', \n",
        "                               kernel_initializer = 'he_uniform'))\n",
        "cnn.add(tf.keras.layers.MaxPool2D(pool_size = (5,5)))\n",
        "\n",
        "# Adding the second ConvolutionalxPooling layer\n",
        "cnn.add(tf.keras.layers.Conv2D(filters = 128, \n",
        "                               kernel_size = (5,5), \n",
        "                               padding = 'same', \n",
        "                               activation = 'relu', \n",
        "                               kernel_initializer = 'he_uniform'))\n",
        "cnn.add(tf.keras.layers.MaxPool2D(pool_size = (5,5)))\n",
        "\n",
        "# Adding the flattening layer\n",
        "cnn.add(tf.keras.layers.Flatten())\n",
        "\n",
        "# Adding the hidden layers----------------------\n",
        "\n",
        "# First hidden layer\n",
        "cnn.add(tf.keras.layers.Dense(units = 1024,\n",
        "                              activation = 'elu', \n",
        "                              kernel_initializer= 'he_uniform'))\n",
        "\n",
        "# Second hidden layer\n",
        "cnn.add(tf.keras.layers.Dense(units = 2048,\n",
        "                              activation = 'elu', \n",
        "                              kernel_initializer= 'he_uniform'))\n",
        "\n",
        "# Third hidden layer\n",
        "cnn.add(tf.keras.layers.Dense(units = 512,\n",
        "                              activation = 'elu', \n",
        "                              kernel_initializer= 'he_uniform'))\n",
        "\n",
        "# Adding the final output layer\n",
        "cnn.add(tf.keras.layers.Dense(units = 25,\n",
        "                              activation = 'softmax', \n",
        "                              kernel_initializer= 'glorot_uniform'))\n",
        "# ------------------- Fully connected layer :> ANN\n",
        "# ------------------------------------ Model building\n",
        "\n",
        "# ------------------------------------ Model compilation\n",
        "cnn.compile(optimizer = 'rmsprop',\n",
        "            loss = 'categorical_crossentropy',\n",
        "            metrics = ['accuracy','Recall'])\n",
        "# ------------------------------------ Model compilation"
      ],
      "metadata": {
        "id": "UgRTDB76Thkr"
      },
      "execution_count": null,
      "outputs": []
    },
    {
      "cell_type": "code",
      "source": [
        "# Summarizing the model. > \n",
        "cnn.summary()"
      ],
      "metadata": {
        "colab": {
          "base_uri": "https://localhost:8080/"
        },
        "id": "JGReL5mrj2jj",
        "outputId": "7ae7fc92-4aa2-4234-d6cf-6cab6c51b2b3"
      },
      "execution_count": null,
      "outputs": [
        {
          "output_type": "stream",
          "name": "stdout",
          "text": [
            "Model: \"sequential\"\n",
            "_________________________________________________________________\n",
            " Layer (type)                Output Shape              Param #   \n",
            "=================================================================\n",
            " conv2d (Conv2D)             (None, 150, 150, 64)      4864      \n",
            "                                                                 \n",
            " max_pooling2d (MaxPooling2D  (None, 30, 30, 64)       0         \n",
            " )                                                               \n",
            "                                                                 \n",
            " conv2d_1 (Conv2D)           (None, 30, 30, 128)       204928    \n",
            "                                                                 \n",
            " max_pooling2d_1 (MaxPooling  (None, 6, 6, 128)        0         \n",
            " 2D)                                                             \n",
            "                                                                 \n",
            " flatten (Flatten)           (None, 4608)              0         \n",
            "                                                                 \n",
            " dense (Dense)               (None, 1024)              4719616   \n",
            "                                                                 \n",
            " dense_1 (Dense)             (None, 2048)              2099200   \n",
            "                                                                 \n",
            " dense_2 (Dense)             (None, 512)               1049088   \n",
            "                                                                 \n",
            " dense_3 (Dense)             (None, 25)                12825     \n",
            "                                                                 \n",
            "=================================================================\n",
            "Total params: 8,090,521\n",
            "Trainable params: 8,090,521\n",
            "Non-trainable params: 0\n",
            "_________________________________________________________________\n"
          ]
        }
      ]
    },
    {
      "cell_type": "code",
      "source": [
        "# Generating the calbacks\n",
        "early_stopper = EarlyStopping(patience = 15)"
      ],
      "metadata": {
        "id": "93DPOnhAnjTN"
      },
      "execution_count": null,
      "outputs": []
    },
    {
      "cell_type": "code",
      "source": [
        "history_object = cnn.fit(train_data,\n",
        "                         epochs = 100,\n",
        "                         batch_size = BATCH_SIZE,\n",
        "                         steps_per_epoch = training_steps,\n",
        "                         validation_data = val_data,\n",
        "                         validation_batch_size = BATCH_SIZE,\n",
        "                         validation_steps = validation_steps,\n",
        "                         use_multiprocessing = True,\n",
        "                         workers = 30,\n",
        "                         callbacks = [early_stopper])"
      ],
      "metadata": {
        "colab": {
          "base_uri": "https://localhost:8080/"
        },
        "id": "k6x5bi4dj2d_",
        "outputId": "fcc2ed56-42e1-419b-9a96-81cc605cd5a5"
      },
      "execution_count": null,
      "outputs": [
        {
          "output_type": "stream",
          "name": "stdout",
          "text": [
            "Epoch 1/100\n",
            "155/155 [==============================] - 396s 2s/step - loss: 3.9175 - accuracy: 0.0742 - recall: 0.0024 - val_loss: 3.1940 - val_accuracy: 0.0811 - val_recall: 0.0000e+00\n",
            "Epoch 2/100\n",
            "155/155 [==============================] - 54s 326ms/step - loss: 3.1714 - accuracy: 0.0922 - recall: 0.0036 - val_loss: 3.0889 - val_accuracy: 0.1046 - val_recall: 0.0102\n",
            "Epoch 3/100\n",
            "155/155 [==============================] - 55s 323ms/step - loss: 3.1646 - accuracy: 0.0993 - recall: 0.0043 - val_loss: 3.1101 - val_accuracy: 0.1064 - val_recall: 0.0138\n",
            "Epoch 4/100\n",
            "155/155 [==============================] - 56s 336ms/step - loss: 3.0834 - accuracy: 0.1007 - recall: 0.0061 - val_loss: 2.9805 - val_accuracy: 0.1238 - val_recall: 0.0102\n",
            "Epoch 5/100\n",
            "155/155 [==============================] - 54s 326ms/step - loss: 3.0402 - accuracy: 0.1184 - recall: 0.0061 - val_loss: 2.9816 - val_accuracy: 0.1394 - val_recall: 0.0078\n",
            "Epoch 6/100\n",
            "155/155 [==============================] - 56s 337ms/step - loss: 2.9447 - accuracy: 0.1429 - recall: 0.0081 - val_loss: 2.9949 - val_accuracy: 0.1346 - val_recall: 0.0325\n",
            "Epoch 7/100\n",
            "155/155 [==============================] - 55s 325ms/step - loss: 2.9005 - accuracy: 0.1575 - recall: 0.0097 - val_loss: 2.7448 - val_accuracy: 0.1923 - val_recall: 0.0126\n",
            "Epoch 8/100\n",
            "155/155 [==============================] - 55s 334ms/step - loss: 2.8214 - accuracy: 0.1680 - recall: 0.0113 - val_loss: 2.7730 - val_accuracy: 0.1929 - val_recall: 0.0144\n",
            "Epoch 9/100\n",
            "155/155 [==============================] - 55s 322ms/step - loss: 2.7317 - accuracy: 0.2029 - recall: 0.0274 - val_loss: 2.6167 - val_accuracy: 0.2200 - val_recall: 0.0138\n",
            "Epoch 10/100\n",
            "155/155 [==============================] - 55s 331ms/step - loss: 2.7009 - accuracy: 0.2049 - recall: 0.0278 - val_loss: 2.6813 - val_accuracy: 0.2085 - val_recall: 0.0294\n",
            "Epoch 11/100\n",
            "155/155 [==============================] - 53s 322ms/step - loss: 2.6473 - accuracy: 0.2156 - recall: 0.0379 - val_loss: 2.5921 - val_accuracy: 0.2350 - val_recall: 0.0300\n",
            "Epoch 12/100\n",
            "155/155 [==============================] - 56s 331ms/step - loss: 2.5872 - accuracy: 0.2331 - recall: 0.0466 - val_loss: 2.5609 - val_accuracy: 0.2368 - val_recall: 0.0505\n",
            "Epoch 13/100\n",
            "155/155 [==============================] - 53s 320ms/step - loss: 2.5461 - accuracy: 0.2469 - recall: 0.0578 - val_loss: 2.4567 - val_accuracy: 0.2536 - val_recall: 0.0445\n",
            "Epoch 14/100\n",
            "155/155 [==============================] - 55s 335ms/step - loss: 2.5067 - accuracy: 0.2617 - recall: 0.0705 - val_loss: 2.5764 - val_accuracy: 0.2398 - val_recall: 0.0787\n",
            "Epoch 15/100\n",
            "155/155 [==============================] - 54s 324ms/step - loss: 2.4676 - accuracy: 0.2629 - recall: 0.0758 - val_loss: 2.5927 - val_accuracy: 0.2356 - val_recall: 0.0553\n",
            "Epoch 16/100\n",
            "155/155 [==============================] - 55s 323ms/step - loss: 2.4363 - accuracy: 0.2671 - recall: 0.0869 - val_loss: 2.5311 - val_accuracy: 0.2476 - val_recall: 0.0931\n",
            "Epoch 17/100\n",
            "155/155 [==============================] - 55s 325ms/step - loss: 2.4222 - accuracy: 0.2783 - recall: 0.0884 - val_loss: 2.2817 - val_accuracy: 0.2963 - val_recall: 0.0763\n",
            "Epoch 18/100\n",
            "155/155 [==============================] - 56s 334ms/step - loss: 2.3942 - accuracy: 0.2898 - recall: 0.1028 - val_loss: 2.2170 - val_accuracy: 0.3257 - val_recall: 0.0950\n",
            "Epoch 19/100\n",
            "155/155 [==============================] - 55s 326ms/step - loss: 2.3229 - accuracy: 0.3062 - recall: 0.1202 - val_loss: 2.5096 - val_accuracy: 0.2843 - val_recall: 0.1076\n",
            "Epoch 20/100\n",
            "155/155 [==============================] - 55s 334ms/step - loss: 2.2965 - accuracy: 0.3052 - recall: 0.1230 - val_loss: 2.2103 - val_accuracy: 0.3233 - val_recall: 0.1448\n",
            "Epoch 21/100\n",
            "155/155 [==============================] - 55s 325ms/step - loss: 2.3050 - accuracy: 0.3135 - recall: 0.1236 - val_loss: 2.2482 - val_accuracy: 0.3654 - val_recall: 0.1683\n",
            "Epoch 22/100\n",
            "155/155 [==============================] - 62s 376ms/step - loss: 2.2737 - accuracy: 0.3208 - recall: 0.1429 - val_loss: 2.1843 - val_accuracy: 0.3287 - val_recall: 0.1538\n",
            "Epoch 23/100\n",
            "155/155 [==============================] - 54s 326ms/step - loss: 2.2292 - accuracy: 0.3427 - recall: 0.1605 - val_loss: 2.1599 - val_accuracy: 0.3516 - val_recall: 0.1508\n",
            "Epoch 24/100\n",
            "155/155 [==============================] - 55s 331ms/step - loss: 2.2118 - accuracy: 0.3403 - recall: 0.1617 - val_loss: 2.0690 - val_accuracy: 0.3714 - val_recall: 0.1496\n",
            "Epoch 25/100\n",
            "155/155 [==============================] - 54s 325ms/step - loss: 2.1657 - accuracy: 0.3522 - recall: 0.1832 - val_loss: 2.2011 - val_accuracy: 0.3522 - val_recall: 0.1803\n",
            "Epoch 26/100\n",
            "155/155 [==============================] - 55s 325ms/step - loss: 2.1405 - accuracy: 0.3575 - recall: 0.1869 - val_loss: 2.0767 - val_accuracy: 0.3660 - val_recall: 0.1743\n"
          ]
        }
      ]
    }
  ]
}